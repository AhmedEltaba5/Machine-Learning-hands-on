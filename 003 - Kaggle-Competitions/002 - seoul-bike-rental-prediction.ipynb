{
 "cells": [
  {
   "cell_type": "markdown",
   "id": "f7b9ea3f",
   "metadata": {
    "papermill": {
     "duration": 0.054341,
     "end_time": "2021-08-28T22:48:32.467584",
     "exception": false,
     "start_time": "2021-08-28T22:48:32.413243",
     "status": "completed"
    },
    "tags": []
   },
   "source": [
    "# Import The Libraries"
   ]
  },
  {
   "cell_type": "code",
   "execution_count": 1,
   "id": "82e1c0c0",
   "metadata": {
    "execution": {
     "iopub.execute_input": "2021-08-28T22:48:32.579344Z",
     "iopub.status.busy": "2021-08-28T22:48:32.578181Z",
     "iopub.status.idle": "2021-08-28T22:48:33.486300Z",
     "shell.execute_reply": "2021-08-28T22:48:33.485555Z",
     "shell.execute_reply.started": "2021-08-28T22:47:37.667282Z"
    },
    "papermill": {
     "duration": 0.966126,
     "end_time": "2021-08-28T22:48:33.486476",
     "exception": false,
     "start_time": "2021-08-28T22:48:32.520350",
     "status": "completed"
    },
    "tags": []
   },
   "outputs": [],
   "source": [
    "import pandas as pd\n",
    "import os\n",
    "import matplotlib.pyplot as plt\n",
    "import seaborn as sns\n",
    "import numpy as np"
   ]
  },
  {
   "cell_type": "markdown",
   "id": "bf70abea",
   "metadata": {
    "papermill": {
     "duration": 0.051424,
     "end_time": "2021-08-28T22:48:33.589806",
     "exception": false,
     "start_time": "2021-08-28T22:48:33.538382",
     "status": "completed"
    },
    "tags": []
   },
   "source": [
    "# Read Data"
   ]
  },
  {
   "cell_type": "code",
   "execution_count": 2,
   "id": "3c78593b",
   "metadata": {
    "execution": {
     "iopub.execute_input": "2021-08-28T22:48:33.698104Z",
     "iopub.status.busy": "2021-08-28T22:48:33.697361Z",
     "iopub.status.idle": "2021-08-28T22:48:33.753153Z",
     "shell.execute_reply": "2021-08-28T22:48:33.752538Z",
     "shell.execute_reply.started": "2021-08-28T22:47:37.675880Z"
    },
    "papermill": {
     "duration": 0.111988,
     "end_time": "2021-08-28T22:48:33.753297",
     "exception": false,
     "start_time": "2021-08-28T22:48:33.641309",
     "status": "completed"
    },
    "tags": []
   },
   "outputs": [],
   "source": [
    "dataset_path = '/kaggle/input/seoul-bike-rental-ai-pro-iti/'\n",
    "\n",
    "train_df = pd.read_csv(os.path.join(dataset_path, 'train.csv'))\n",
    "\n",
    "test_df = pd.read_csv(os.path.join(dataset_path, 'test.csv'))"
   ]
  },
  {
   "cell_type": "code",
   "execution_count": 3,
   "id": "d907e620",
   "metadata": {
    "execution": {
     "iopub.execute_input": "2021-08-28T22:48:33.864069Z",
     "iopub.status.busy": "2021-08-28T22:48:33.863079Z",
     "iopub.status.idle": "2021-08-28T22:48:33.871140Z",
     "shell.execute_reply": "2021-08-28T22:48:33.870528Z",
     "shell.execute_reply.started": "2021-08-28T22:47:37.735150Z"
    },
    "papermill": {
     "duration": 0.065688,
     "end_time": "2021-08-28T22:48:33.871313",
     "exception": false,
     "start_time": "2021-08-28T22:48:33.805625",
     "status": "completed"
    },
    "tags": []
   },
   "outputs": [
    {
     "name": "stdout",
     "output_type": "stream",
     "text": [
      "The shape of the dataset is (5760, 15).\n",
      "\n",
      "\n",
      "The shape of the dataset is (3000, 14).\n",
      "\n",
      "\n"
     ]
    }
   ],
   "source": [
    "print(\"The shape of the dataset is {}.\\n\\n\".format(train_df.shape))\n",
    "print(\"The shape of the dataset is {}.\\n\\n\".format(test_df.shape))"
   ]
  },
  {
   "cell_type": "markdown",
   "id": "a21fd392",
   "metadata": {
    "papermill": {
     "duration": 0.056242,
     "end_time": "2021-08-28T22:48:33.997480",
     "exception": false,
     "start_time": "2021-08-28T22:48:33.941238",
     "status": "completed"
    },
    "tags": []
   },
   "source": [
    "# Exploratory Data Analysis"
   ]
  },
  {
   "cell_type": "code",
   "execution_count": 4,
   "id": "1ecd22f6",
   "metadata": {
    "execution": {
     "iopub.execute_input": "2021-08-28T22:48:34.115877Z",
     "iopub.status.busy": "2021-08-28T22:48:34.114994Z",
     "iopub.status.idle": "2021-08-28T22:48:34.141058Z",
     "shell.execute_reply": "2021-08-28T22:48:34.141519Z",
     "shell.execute_reply.started": "2021-08-28T22:47:37.775737Z"
    },
    "papermill": {
     "duration": 0.090321,
     "end_time": "2021-08-28T22:48:34.141691",
     "exception": false,
     "start_time": "2021-08-28T22:48:34.051370",
     "status": "completed"
    },
    "tags": []
   },
   "outputs": [
    {
     "data": {
      "text/html": [
       "<div>\n",
       "<style scoped>\n",
       "    .dataframe tbody tr th:only-of-type {\n",
       "        vertical-align: middle;\n",
       "    }\n",
       "\n",
       "    .dataframe tbody tr th {\n",
       "        vertical-align: top;\n",
       "    }\n",
       "\n",
       "    .dataframe thead th {\n",
       "        text-align: right;\n",
       "    }\n",
       "</style>\n",
       "<table border=\"1\" class=\"dataframe\">\n",
       "  <thead>\n",
       "    <tr style=\"text-align: right;\">\n",
       "      <th></th>\n",
       "      <th>ID</th>\n",
       "      <th>Date</th>\n",
       "      <th>y</th>\n",
       "      <th>Hour</th>\n",
       "      <th>Temperature(�C)</th>\n",
       "      <th>Humidity(%)</th>\n",
       "      <th>Wind speed (m/s)</th>\n",
       "      <th>Visibility (10m)</th>\n",
       "      <th>Dew point temperature(�C)</th>\n",
       "      <th>Solar Radiation (MJ/m2)</th>\n",
       "      <th>Rainfall(mm)</th>\n",
       "      <th>Snowfall (cm)</th>\n",
       "      <th>Seasons</th>\n",
       "      <th>Holiday</th>\n",
       "      <th>Functioning Day</th>\n",
       "    </tr>\n",
       "  </thead>\n",
       "  <tbody>\n",
       "    <tr>\n",
       "      <th>0</th>\n",
       "      <td>0</td>\n",
       "      <td>01/12/2017</td>\n",
       "      <td>254</td>\n",
       "      <td>0</td>\n",
       "      <td>-5.2</td>\n",
       "      <td>37</td>\n",
       "      <td>2.2</td>\n",
       "      <td>2000</td>\n",
       "      <td>-17.6</td>\n",
       "      <td>0.0</td>\n",
       "      <td>0.0</td>\n",
       "      <td>0.0</td>\n",
       "      <td>Winter</td>\n",
       "      <td>No Holiday</td>\n",
       "      <td>Yes</td>\n",
       "    </tr>\n",
       "    <tr>\n",
       "      <th>1</th>\n",
       "      <td>1</td>\n",
       "      <td>01/12/2017</td>\n",
       "      <td>204</td>\n",
       "      <td>1</td>\n",
       "      <td>-5.5</td>\n",
       "      <td>38</td>\n",
       "      <td>0.8</td>\n",
       "      <td>2000</td>\n",
       "      <td>-17.6</td>\n",
       "      <td>0.0</td>\n",
       "      <td>0.0</td>\n",
       "      <td>0.0</td>\n",
       "      <td>Winter</td>\n",
       "      <td>No Holiday</td>\n",
       "      <td>Yes</td>\n",
       "    </tr>\n",
       "    <tr>\n",
       "      <th>2</th>\n",
       "      <td>2</td>\n",
       "      <td>01/12/2017</td>\n",
       "      <td>173</td>\n",
       "      <td>2</td>\n",
       "      <td>-6.0</td>\n",
       "      <td>39</td>\n",
       "      <td>1.0</td>\n",
       "      <td>2000</td>\n",
       "      <td>-17.7</td>\n",
       "      <td>0.0</td>\n",
       "      <td>0.0</td>\n",
       "      <td>0.0</td>\n",
       "      <td>Winter</td>\n",
       "      <td>No Holiday</td>\n",
       "      <td>Yes</td>\n",
       "    </tr>\n",
       "    <tr>\n",
       "      <th>3</th>\n",
       "      <td>3</td>\n",
       "      <td>01/12/2017</td>\n",
       "      <td>107</td>\n",
       "      <td>3</td>\n",
       "      <td>-6.2</td>\n",
       "      <td>40</td>\n",
       "      <td>0.9</td>\n",
       "      <td>2000</td>\n",
       "      <td>-17.6</td>\n",
       "      <td>0.0</td>\n",
       "      <td>0.0</td>\n",
       "      <td>0.0</td>\n",
       "      <td>Winter</td>\n",
       "      <td>No Holiday</td>\n",
       "      <td>Yes</td>\n",
       "    </tr>\n",
       "    <tr>\n",
       "      <th>4</th>\n",
       "      <td>4</td>\n",
       "      <td>01/12/2017</td>\n",
       "      <td>78</td>\n",
       "      <td>4</td>\n",
       "      <td>-6.0</td>\n",
       "      <td>36</td>\n",
       "      <td>2.3</td>\n",
       "      <td>2000</td>\n",
       "      <td>-18.6</td>\n",
       "      <td>0.0</td>\n",
       "      <td>0.0</td>\n",
       "      <td>0.0</td>\n",
       "      <td>Winter</td>\n",
       "      <td>No Holiday</td>\n",
       "      <td>Yes</td>\n",
       "    </tr>\n",
       "  </tbody>\n",
       "</table>\n",
       "</div>"
      ],
      "text/plain": [
       "   ID        Date    y  Hour  Temperature(�C)  Humidity(%)  Wind speed (m/s)  \\\n",
       "0   0  01/12/2017  254     0             -5.2           37               2.2   \n",
       "1   1  01/12/2017  204     1             -5.5           38               0.8   \n",
       "2   2  01/12/2017  173     2             -6.0           39               1.0   \n",
       "3   3  01/12/2017  107     3             -6.2           40               0.9   \n",
       "4   4  01/12/2017   78     4             -6.0           36               2.3   \n",
       "\n",
       "   Visibility (10m)  Dew point temperature(�C)  Solar Radiation (MJ/m2)  \\\n",
       "0              2000                      -17.6                      0.0   \n",
       "1              2000                      -17.6                      0.0   \n",
       "2              2000                      -17.7                      0.0   \n",
       "3              2000                      -17.6                      0.0   \n",
       "4              2000                      -18.6                      0.0   \n",
       "\n",
       "   Rainfall(mm)  Snowfall (cm) Seasons     Holiday Functioning Day  \n",
       "0           0.0            0.0  Winter  No Holiday             Yes  \n",
       "1           0.0            0.0  Winter  No Holiday             Yes  \n",
       "2           0.0            0.0  Winter  No Holiday             Yes  \n",
       "3           0.0            0.0  Winter  No Holiday             Yes  \n",
       "4           0.0            0.0  Winter  No Holiday             Yes  "
      ]
     },
     "execution_count": 4,
     "metadata": {},
     "output_type": "execute_result"
    }
   ],
   "source": [
    "train_df.head()"
   ]
  },
  {
   "cell_type": "code",
   "execution_count": 5,
   "id": "b203cfd2",
   "metadata": {
    "execution": {
     "iopub.execute_input": "2021-08-28T22:48:34.259222Z",
     "iopub.status.busy": "2021-08-28T22:48:34.258579Z",
     "iopub.status.idle": "2021-08-28T22:48:34.277764Z",
     "shell.execute_reply": "2021-08-28T22:48:34.277151Z",
     "shell.execute_reply.started": "2021-08-28T22:47:37.807954Z"
    },
    "papermill": {
     "duration": 0.081547,
     "end_time": "2021-08-28T22:48:34.277894",
     "exception": false,
     "start_time": "2021-08-28T22:48:34.196347",
     "status": "completed"
    },
    "tags": []
   },
   "outputs": [
    {
     "name": "stdout",
     "output_type": "stream",
     "text": [
      "<class 'pandas.core.frame.DataFrame'>\n",
      "RangeIndex: 5760 entries, 0 to 5759\n",
      "Data columns (total 15 columns):\n",
      " #   Column                     Non-Null Count  Dtype  \n",
      "---  ------                     --------------  -----  \n",
      " 0   ID                         5760 non-null   int64  \n",
      " 1   Date                       5760 non-null   object \n",
      " 2   y                          5760 non-null   int64  \n",
      " 3   Hour                       5760 non-null   int64  \n",
      " 4   Temperature(�C)            5760 non-null   float64\n",
      " 5   Humidity(%)                5760 non-null   int64  \n",
      " 6   Wind speed (m/s)           5760 non-null   float64\n",
      " 7   Visibility (10m)           5760 non-null   int64  \n",
      " 8   Dew point temperature(�C)  5760 non-null   float64\n",
      " 9   Solar Radiation (MJ/m2)    5760 non-null   float64\n",
      " 10  Rainfall(mm)               5760 non-null   float64\n",
      " 11  Snowfall (cm)              5760 non-null   float64\n",
      " 12  Seasons                    5760 non-null   object \n",
      " 13  Holiday                    5760 non-null   object \n",
      " 14  Functioning Day            5760 non-null   object \n",
      "dtypes: float64(6), int64(5), object(4)\n",
      "memory usage: 675.1+ KB\n"
     ]
    }
   ],
   "source": [
    "train_df.info()"
   ]
  },
  {
   "cell_type": "markdown",
   "id": "216eaf14",
   "metadata": {
    "papermill": {
     "duration": 0.053696,
     "end_time": "2021-08-28T22:48:34.385731",
     "exception": false,
     "start_time": "2021-08-28T22:48:34.332035",
     "status": "completed"
    },
    "tags": []
   },
   "source": [
    "## Rename columns"
   ]
  },
  {
   "cell_type": "code",
   "execution_count": 6,
   "id": "d136ac87",
   "metadata": {
    "execution": {
     "iopub.execute_input": "2021-08-28T22:48:34.499677Z",
     "iopub.status.busy": "2021-08-28T22:48:34.499067Z",
     "iopub.status.idle": "2021-08-28T22:48:34.500972Z",
     "shell.execute_reply": "2021-08-28T22:48:34.501463Z",
     "shell.execute_reply.started": "2021-08-28T22:47:37.829267Z"
    },
    "papermill": {
     "duration": 0.062601,
     "end_time": "2021-08-28T22:48:34.501607",
     "exception": false,
     "start_time": "2021-08-28T22:48:34.439006",
     "status": "completed"
    },
    "tags": []
   },
   "outputs": [],
   "source": [
    "cols_to_rename = {'Temperature(�C)': 'temperature',\n",
    "                   'Humidity(%)': 'humidity',\n",
    "                  'Wind speed (m/s)': 'windspeed',\n",
    "                  'Visibility (10m)': 'visibility',\n",
    "                  'Dew point temperature(�C)': 'dewpoint',\n",
    "                  'Solar Radiation (MJ/m2)': 'solarradiation',\n",
    "                  'Rainfall(mm)': 'rainfall',\n",
    "                  'Snowfall (cm)': 'snowfall',\n",
    "                  'Functioning Day': 'functioningday'}\n",
    "for df in [train_df, test_df]:\n",
    "    df.rename(columns= cols_to_rename, inplace=True)"
   ]
  },
  {
   "cell_type": "code",
   "execution_count": 7,
   "id": "96e3fc54",
   "metadata": {
    "execution": {
     "iopub.execute_input": "2021-08-28T22:48:34.612579Z",
     "iopub.status.busy": "2021-08-28T22:48:34.611974Z",
     "iopub.status.idle": "2021-08-28T22:48:34.627246Z",
     "shell.execute_reply": "2021-08-28T22:48:34.627687Z",
     "shell.execute_reply.started": "2021-08-28T22:47:37.840207Z"
    },
    "papermill": {
     "duration": 0.07227,
     "end_time": "2021-08-28T22:48:34.627839",
     "exception": false,
     "start_time": "2021-08-28T22:48:34.555569",
     "status": "completed"
    },
    "tags": []
   },
   "outputs": [
    {
     "name": "stdout",
     "output_type": "stream",
     "text": [
      "<class 'pandas.core.frame.DataFrame'>\n",
      "RangeIndex: 5760 entries, 0 to 5759\n",
      "Data columns (total 15 columns):\n",
      " #   Column          Non-Null Count  Dtype  \n",
      "---  ------          --------------  -----  \n",
      " 0   ID              5760 non-null   int64  \n",
      " 1   Date            5760 non-null   object \n",
      " 2   y               5760 non-null   int64  \n",
      " 3   Hour            5760 non-null   int64  \n",
      " 4   temperature     5760 non-null   float64\n",
      " 5   humidity        5760 non-null   int64  \n",
      " 6   windspeed       5760 non-null   float64\n",
      " 7   visibility      5760 non-null   int64  \n",
      " 8   dewpoint        5760 non-null   float64\n",
      " 9   solarradiation  5760 non-null   float64\n",
      " 10  rainfall        5760 non-null   float64\n",
      " 11  snowfall        5760 non-null   float64\n",
      " 12  Seasons         5760 non-null   object \n",
      " 13  Holiday         5760 non-null   object \n",
      " 14  functioningday  5760 non-null   object \n",
      "dtypes: float64(6), int64(5), object(4)\n",
      "memory usage: 675.1+ KB\n"
     ]
    }
   ],
   "source": [
    "train_df.info()"
   ]
  },
  {
   "cell_type": "markdown",
   "id": "c87e8367",
   "metadata": {
    "papermill": {
     "duration": 0.053575,
     "end_time": "2021-08-28T22:48:34.734482",
     "exception": false,
     "start_time": "2021-08-28T22:48:34.680907",
     "status": "completed"
    },
    "tags": []
   },
   "source": [
    "## check duplicates"
   ]
  },
  {
   "cell_type": "code",
   "execution_count": 8,
   "id": "e7725a1b",
   "metadata": {
    "execution": {
     "iopub.execute_input": "2021-08-28T22:48:34.849665Z",
     "iopub.status.busy": "2021-08-28T22:48:34.848723Z",
     "iopub.status.idle": "2021-08-28T22:48:34.859292Z",
     "shell.execute_reply": "2021-08-28T22:48:34.859767Z",
     "shell.execute_reply.started": "2021-08-28T22:47:37.871570Z"
    },
    "papermill": {
     "duration": 0.071267,
     "end_time": "2021-08-28T22:48:34.859933",
     "exception": false,
     "start_time": "2021-08-28T22:48:34.788666",
     "status": "completed"
    },
    "tags": []
   },
   "outputs": [
    {
     "data": {
      "text/plain": [
       "0"
      ]
     },
     "execution_count": 8,
     "metadata": {},
     "output_type": "execute_result"
    }
   ],
   "source": [
    "train_df.duplicated().sum()"
   ]
  },
  {
   "cell_type": "markdown",
   "id": "b2a65ad1",
   "metadata": {
    "papermill": {
     "duration": 0.05315,
     "end_time": "2021-08-28T22:48:34.967877",
     "exception": false,
     "start_time": "2021-08-28T22:48:34.914727",
     "status": "completed"
    },
    "tags": []
   },
   "source": [
    "# Convert Date to datetime "
   ]
  },
  {
   "cell_type": "code",
   "execution_count": 9,
   "id": "72249e46",
   "metadata": {
    "execution": {
     "iopub.execute_input": "2021-08-28T22:48:35.077912Z",
     "iopub.status.busy": "2021-08-28T22:48:35.077058Z",
     "iopub.status.idle": "2021-08-28T22:48:35.088441Z",
     "shell.execute_reply": "2021-08-28T22:48:35.088857Z",
     "shell.execute_reply.started": "2021-08-28T22:47:37.893985Z"
    },
    "papermill": {
     "duration": 0.067648,
     "end_time": "2021-08-28T22:48:35.089019",
     "exception": false,
     "start_time": "2021-08-28T22:48:35.021371",
     "status": "completed"
    },
    "tags": []
   },
   "outputs": [],
   "source": [
    "for df in [train_df, test_df]:\n",
    "    df['Date'] = pd.to_datetime(df['Date'], dayfirst=True)"
   ]
  },
  {
   "cell_type": "code",
   "execution_count": 10,
   "id": "df3438ec",
   "metadata": {
    "execution": {
     "iopub.execute_input": "2021-08-28T22:48:35.199859Z",
     "iopub.status.busy": "2021-08-28T22:48:35.199022Z",
     "iopub.status.idle": "2021-08-28T22:48:35.215231Z",
     "shell.execute_reply": "2021-08-28T22:48:35.214432Z",
     "shell.execute_reply.started": "2021-08-28T22:47:37.910252Z"
    },
    "papermill": {
     "duration": 0.07242,
     "end_time": "2021-08-28T22:48:35.215390",
     "exception": false,
     "start_time": "2021-08-28T22:48:35.142970",
     "status": "completed"
    },
    "tags": []
   },
   "outputs": [
    {
     "name": "stdout",
     "output_type": "stream",
     "text": [
      "<class 'pandas.core.frame.DataFrame'>\n",
      "RangeIndex: 5760 entries, 0 to 5759\n",
      "Data columns (total 15 columns):\n",
      " #   Column          Non-Null Count  Dtype         \n",
      "---  ------          --------------  -----         \n",
      " 0   ID              5760 non-null   int64         \n",
      " 1   Date            5760 non-null   datetime64[ns]\n",
      " 2   y               5760 non-null   int64         \n",
      " 3   Hour            5760 non-null   int64         \n",
      " 4   temperature     5760 non-null   float64       \n",
      " 5   humidity        5760 non-null   int64         \n",
      " 6   windspeed       5760 non-null   float64       \n",
      " 7   visibility      5760 non-null   int64         \n",
      " 8   dewpoint        5760 non-null   float64       \n",
      " 9   solarradiation  5760 non-null   float64       \n",
      " 10  rainfall        5760 non-null   float64       \n",
      " 11  snowfall        5760 non-null   float64       \n",
      " 12  Seasons         5760 non-null   object        \n",
      " 13  Holiday         5760 non-null   object        \n",
      " 14  functioningday  5760 non-null   object        \n",
      "dtypes: datetime64[ns](1), float64(6), int64(5), object(3)\n",
      "memory usage: 675.1+ KB\n"
     ]
    }
   ],
   "source": [
    "train_df.info()"
   ]
  },
  {
   "cell_type": "code",
   "execution_count": 11,
   "id": "fe604fff",
   "metadata": {
    "execution": {
     "iopub.execute_input": "2021-08-28T22:48:35.345819Z",
     "iopub.status.busy": "2021-08-28T22:48:35.345213Z",
     "iopub.status.idle": "2021-08-28T22:48:35.347917Z",
     "shell.execute_reply": "2021-08-28T22:48:35.348425Z",
     "shell.execute_reply.started": "2021-08-28T22:47:37.937145Z"
    },
    "papermill": {
     "duration": 0.077206,
     "end_time": "2021-08-28T22:48:35.348575",
     "exception": false,
     "start_time": "2021-08-28T22:48:35.271369",
     "status": "completed"
    },
    "tags": []
   },
   "outputs": [
    {
     "data": {
      "text/html": [
       "<div>\n",
       "<style scoped>\n",
       "    .dataframe tbody tr th:only-of-type {\n",
       "        vertical-align: middle;\n",
       "    }\n",
       "\n",
       "    .dataframe tbody tr th {\n",
       "        vertical-align: top;\n",
       "    }\n",
       "\n",
       "    .dataframe thead th {\n",
       "        text-align: right;\n",
       "    }\n",
       "</style>\n",
       "<table border=\"1\" class=\"dataframe\">\n",
       "  <thead>\n",
       "    <tr style=\"text-align: right;\">\n",
       "      <th></th>\n",
       "      <th>ID</th>\n",
       "      <th>Date</th>\n",
       "      <th>y</th>\n",
       "      <th>Hour</th>\n",
       "      <th>temperature</th>\n",
       "      <th>humidity</th>\n",
       "      <th>windspeed</th>\n",
       "      <th>visibility</th>\n",
       "      <th>dewpoint</th>\n",
       "      <th>solarradiation</th>\n",
       "      <th>rainfall</th>\n",
       "      <th>snowfall</th>\n",
       "      <th>Seasons</th>\n",
       "      <th>Holiday</th>\n",
       "      <th>functioningday</th>\n",
       "    </tr>\n",
       "  </thead>\n",
       "  <tbody>\n",
       "    <tr>\n",
       "      <th>0</th>\n",
       "      <td>0</td>\n",
       "      <td>2017-12-01</td>\n",
       "      <td>254</td>\n",
       "      <td>0</td>\n",
       "      <td>-5.2</td>\n",
       "      <td>37</td>\n",
       "      <td>2.2</td>\n",
       "      <td>2000</td>\n",
       "      <td>-17.6</td>\n",
       "      <td>0.0</td>\n",
       "      <td>0.0</td>\n",
       "      <td>0.0</td>\n",
       "      <td>Winter</td>\n",
       "      <td>No Holiday</td>\n",
       "      <td>Yes</td>\n",
       "    </tr>\n",
       "    <tr>\n",
       "      <th>1</th>\n",
       "      <td>1</td>\n",
       "      <td>2017-12-01</td>\n",
       "      <td>204</td>\n",
       "      <td>1</td>\n",
       "      <td>-5.5</td>\n",
       "      <td>38</td>\n",
       "      <td>0.8</td>\n",
       "      <td>2000</td>\n",
       "      <td>-17.6</td>\n",
       "      <td>0.0</td>\n",
       "      <td>0.0</td>\n",
       "      <td>0.0</td>\n",
       "      <td>Winter</td>\n",
       "      <td>No Holiday</td>\n",
       "      <td>Yes</td>\n",
       "    </tr>\n",
       "    <tr>\n",
       "      <th>2</th>\n",
       "      <td>2</td>\n",
       "      <td>2017-12-01</td>\n",
       "      <td>173</td>\n",
       "      <td>2</td>\n",
       "      <td>-6.0</td>\n",
       "      <td>39</td>\n",
       "      <td>1.0</td>\n",
       "      <td>2000</td>\n",
       "      <td>-17.7</td>\n",
       "      <td>0.0</td>\n",
       "      <td>0.0</td>\n",
       "      <td>0.0</td>\n",
       "      <td>Winter</td>\n",
       "      <td>No Holiday</td>\n",
       "      <td>Yes</td>\n",
       "    </tr>\n",
       "    <tr>\n",
       "      <th>3</th>\n",
       "      <td>3</td>\n",
       "      <td>2017-12-01</td>\n",
       "      <td>107</td>\n",
       "      <td>3</td>\n",
       "      <td>-6.2</td>\n",
       "      <td>40</td>\n",
       "      <td>0.9</td>\n",
       "      <td>2000</td>\n",
       "      <td>-17.6</td>\n",
       "      <td>0.0</td>\n",
       "      <td>0.0</td>\n",
       "      <td>0.0</td>\n",
       "      <td>Winter</td>\n",
       "      <td>No Holiday</td>\n",
       "      <td>Yes</td>\n",
       "    </tr>\n",
       "    <tr>\n",
       "      <th>4</th>\n",
       "      <td>4</td>\n",
       "      <td>2017-12-01</td>\n",
       "      <td>78</td>\n",
       "      <td>4</td>\n",
       "      <td>-6.0</td>\n",
       "      <td>36</td>\n",
       "      <td>2.3</td>\n",
       "      <td>2000</td>\n",
       "      <td>-18.6</td>\n",
       "      <td>0.0</td>\n",
       "      <td>0.0</td>\n",
       "      <td>0.0</td>\n",
       "      <td>Winter</td>\n",
       "      <td>No Holiday</td>\n",
       "      <td>Yes</td>\n",
       "    </tr>\n",
       "  </tbody>\n",
       "</table>\n",
       "</div>"
      ],
      "text/plain": [
       "   ID       Date    y  Hour  temperature  humidity  windspeed  visibility  \\\n",
       "0   0 2017-12-01  254     0         -5.2        37        2.2        2000   \n",
       "1   1 2017-12-01  204     1         -5.5        38        0.8        2000   \n",
       "2   2 2017-12-01  173     2         -6.0        39        1.0        2000   \n",
       "3   3 2017-12-01  107     3         -6.2        40        0.9        2000   \n",
       "4   4 2017-12-01   78     4         -6.0        36        2.3        2000   \n",
       "\n",
       "   dewpoint  solarradiation  rainfall  snowfall Seasons     Holiday  \\\n",
       "0     -17.6             0.0       0.0       0.0  Winter  No Holiday   \n",
       "1     -17.6             0.0       0.0       0.0  Winter  No Holiday   \n",
       "2     -17.7             0.0       0.0       0.0  Winter  No Holiday   \n",
       "3     -17.6             0.0       0.0       0.0  Winter  No Holiday   \n",
       "4     -18.6             0.0       0.0       0.0  Winter  No Holiday   \n",
       "\n",
       "  functioningday  \n",
       "0            Yes  \n",
       "1            Yes  \n",
       "2            Yes  \n",
       "3            Yes  \n",
       "4            Yes  "
      ]
     },
     "execution_count": 11,
     "metadata": {},
     "output_type": "execute_result"
    }
   ],
   "source": [
    "train_df.head()"
   ]
  },
  {
   "cell_type": "code",
   "execution_count": 12,
   "id": "c4e1b614",
   "metadata": {
    "execution": {
     "iopub.execute_input": "2021-08-28T22:48:35.463057Z",
     "iopub.status.busy": "2021-08-28T22:48:35.462427Z",
     "iopub.status.idle": "2021-08-28T22:48:35.501183Z",
     "shell.execute_reply": "2021-08-28T22:48:35.500647Z",
     "shell.execute_reply.started": "2021-08-28T22:47:38.006265Z"
    },
    "papermill": {
     "duration": 0.098826,
     "end_time": "2021-08-28T22:48:35.501307",
     "exception": false,
     "start_time": "2021-08-28T22:48:35.402481",
     "status": "completed"
    },
    "tags": []
   },
   "outputs": [
    {
     "data": {
      "text/html": [
       "<div>\n",
       "<style scoped>\n",
       "    .dataframe tbody tr th:only-of-type {\n",
       "        vertical-align: middle;\n",
       "    }\n",
       "\n",
       "    .dataframe tbody tr th {\n",
       "        vertical-align: top;\n",
       "    }\n",
       "\n",
       "    .dataframe thead th {\n",
       "        text-align: right;\n",
       "    }\n",
       "</style>\n",
       "<table border=\"1\" class=\"dataframe\">\n",
       "  <thead>\n",
       "    <tr style=\"text-align: right;\">\n",
       "      <th></th>\n",
       "      <th>ID</th>\n",
       "      <th>y</th>\n",
       "      <th>Hour</th>\n",
       "      <th>temperature</th>\n",
       "      <th>humidity</th>\n",
       "      <th>windspeed</th>\n",
       "      <th>visibility</th>\n",
       "      <th>dewpoint</th>\n",
       "      <th>solarradiation</th>\n",
       "      <th>rainfall</th>\n",
       "      <th>snowfall</th>\n",
       "    </tr>\n",
       "  </thead>\n",
       "  <tbody>\n",
       "    <tr>\n",
       "      <th>count</th>\n",
       "      <td>5760.000000</td>\n",
       "      <td>5760.000000</td>\n",
       "      <td>5760.000000</td>\n",
       "      <td>5760.000000</td>\n",
       "      <td>5760.000000</td>\n",
       "      <td>5760.000000</td>\n",
       "      <td>5760.000000</td>\n",
       "      <td>5760.000000</td>\n",
       "      <td>5760.000000</td>\n",
       "      <td>5760.000000</td>\n",
       "      <td>5760.000000</td>\n",
       "    </tr>\n",
       "    <tr>\n",
       "      <th>mean</th>\n",
       "      <td>2879.500000</td>\n",
       "      <td>703.483854</td>\n",
       "      <td>11.500000</td>\n",
       "      <td>12.803559</td>\n",
       "      <td>58.361806</td>\n",
       "      <td>1.723333</td>\n",
       "      <td>1473.711458</td>\n",
       "      <td>4.058264</td>\n",
       "      <td>0.572325</td>\n",
       "      <td>0.135122</td>\n",
       "      <td>0.046302</td>\n",
       "    </tr>\n",
       "    <tr>\n",
       "      <th>std</th>\n",
       "      <td>1662.913107</td>\n",
       "      <td>655.249491</td>\n",
       "      <td>6.922788</td>\n",
       "      <td>11.902206</td>\n",
       "      <td>19.840167</td>\n",
       "      <td>1.047898</td>\n",
       "      <td>585.879880</td>\n",
       "      <td>13.003582</td>\n",
       "      <td>0.869943</td>\n",
       "      <td>1.075320</td>\n",
       "      <td>0.323728</td>\n",
       "    </tr>\n",
       "    <tr>\n",
       "      <th>min</th>\n",
       "      <td>0.000000</td>\n",
       "      <td>0.000000</td>\n",
       "      <td>0.000000</td>\n",
       "      <td>-15.100000</td>\n",
       "      <td>0.000000</td>\n",
       "      <td>0.000000</td>\n",
       "      <td>27.000000</td>\n",
       "      <td>-26.900000</td>\n",
       "      <td>0.000000</td>\n",
       "      <td>0.000000</td>\n",
       "      <td>0.000000</td>\n",
       "    </tr>\n",
       "    <tr>\n",
       "      <th>25%</th>\n",
       "      <td>1439.750000</td>\n",
       "      <td>188.000000</td>\n",
       "      <td>5.750000</td>\n",
       "      <td>3.200000</td>\n",
       "      <td>43.000000</td>\n",
       "      <td>0.900000</td>\n",
       "      <td>1025.750000</td>\n",
       "      <td>-5.400000</td>\n",
       "      <td>0.000000</td>\n",
       "      <td>0.000000</td>\n",
       "      <td>0.000000</td>\n",
       "    </tr>\n",
       "    <tr>\n",
       "      <th>50%</th>\n",
       "      <td>2879.500000</td>\n",
       "      <td>485.500000</td>\n",
       "      <td>11.500000</td>\n",
       "      <td>13.700000</td>\n",
       "      <td>57.000000</td>\n",
       "      <td>1.500000</td>\n",
       "      <td>1732.000000</td>\n",
       "      <td>5.200000</td>\n",
       "      <td>0.010000</td>\n",
       "      <td>0.000000</td>\n",
       "      <td>0.000000</td>\n",
       "    </tr>\n",
       "    <tr>\n",
       "      <th>75%</th>\n",
       "      <td>4319.250000</td>\n",
       "      <td>1066.000000</td>\n",
       "      <td>17.250000</td>\n",
       "      <td>22.225000</td>\n",
       "      <td>73.000000</td>\n",
       "      <td>2.300000</td>\n",
       "      <td>2000.000000</td>\n",
       "      <td>14.700000</td>\n",
       "      <td>0.940000</td>\n",
       "      <td>0.000000</td>\n",
       "      <td>0.000000</td>\n",
       "    </tr>\n",
       "    <tr>\n",
       "      <th>max</th>\n",
       "      <td>5759.000000</td>\n",
       "      <td>3556.000000</td>\n",
       "      <td>23.000000</td>\n",
       "      <td>39.400000</td>\n",
       "      <td>98.000000</td>\n",
       "      <td>7.400000</td>\n",
       "      <td>2000.000000</td>\n",
       "      <td>27.200000</td>\n",
       "      <td>3.520000</td>\n",
       "      <td>35.000000</td>\n",
       "      <td>5.100000</td>\n",
       "    </tr>\n",
       "  </tbody>\n",
       "</table>\n",
       "</div>"
      ],
      "text/plain": [
       "                ID            y         Hour  temperature     humidity  \\\n",
       "count  5760.000000  5760.000000  5760.000000  5760.000000  5760.000000   \n",
       "mean   2879.500000   703.483854    11.500000    12.803559    58.361806   \n",
       "std    1662.913107   655.249491     6.922788    11.902206    19.840167   \n",
       "min       0.000000     0.000000     0.000000   -15.100000     0.000000   \n",
       "25%    1439.750000   188.000000     5.750000     3.200000    43.000000   \n",
       "50%    2879.500000   485.500000    11.500000    13.700000    57.000000   \n",
       "75%    4319.250000  1066.000000    17.250000    22.225000    73.000000   \n",
       "max    5759.000000  3556.000000    23.000000    39.400000    98.000000   \n",
       "\n",
       "         windspeed   visibility     dewpoint  solarradiation     rainfall  \\\n",
       "count  5760.000000  5760.000000  5760.000000     5760.000000  5760.000000   \n",
       "mean      1.723333  1473.711458     4.058264        0.572325     0.135122   \n",
       "std       1.047898   585.879880    13.003582        0.869943     1.075320   \n",
       "min       0.000000    27.000000   -26.900000        0.000000     0.000000   \n",
       "25%       0.900000  1025.750000    -5.400000        0.000000     0.000000   \n",
       "50%       1.500000  1732.000000     5.200000        0.010000     0.000000   \n",
       "75%       2.300000  2000.000000    14.700000        0.940000     0.000000   \n",
       "max       7.400000  2000.000000    27.200000        3.520000    35.000000   \n",
       "\n",
       "          snowfall  \n",
       "count  5760.000000  \n",
       "mean      0.046302  \n",
       "std       0.323728  \n",
       "min       0.000000  \n",
       "25%       0.000000  \n",
       "50%       0.000000  \n",
       "75%       0.000000  \n",
       "max       5.100000  "
      ]
     },
     "execution_count": 12,
     "metadata": {},
     "output_type": "execute_result"
    }
   ],
   "source": [
    "train_df.describe()"
   ]
  },
  {
   "cell_type": "markdown",
   "id": "d214e9fa",
   "metadata": {
    "papermill": {
     "duration": 0.055627,
     "end_time": "2021-08-28T22:48:35.613261",
     "exception": false,
     "start_time": "2021-08-28T22:48:35.557634",
     "status": "completed"
    },
    "tags": []
   },
   "source": [
    "# working with Date column"
   ]
  },
  {
   "cell_type": "code",
   "execution_count": 13,
   "id": "05a23bfd",
   "metadata": {
    "execution": {
     "iopub.execute_input": "2021-08-28T22:48:35.728858Z",
     "iopub.status.busy": "2021-08-28T22:48:35.728021Z",
     "iopub.status.idle": "2021-08-28T22:48:35.737244Z",
     "shell.execute_reply": "2021-08-28T22:48:35.737680Z",
     "shell.execute_reply.started": "2021-08-28T22:47:38.072136Z"
    },
    "papermill": {
     "duration": 0.069654,
     "end_time": "2021-08-28T22:48:35.737831",
     "exception": false,
     "start_time": "2021-08-28T22:48:35.668177",
     "status": "completed"
    },
    "tags": []
   },
   "outputs": [],
   "source": [
    "#add month , day, year columns\n",
    "for df in [train_df, test_df]:\n",
    "    df['month'] = df['Date'].dt.month\n",
    "    df['year'] = df['Date'].dt.year\n",
    "    df['day'] = df['Date'].dt.day"
   ]
  },
  {
   "cell_type": "code",
   "execution_count": 14,
   "id": "ef77a359",
   "metadata": {
    "execution": {
     "iopub.execute_input": "2021-08-28T22:48:35.852615Z",
     "iopub.status.busy": "2021-08-28T22:48:35.851802Z",
     "iopub.status.idle": "2021-08-28T22:48:35.855703Z",
     "shell.execute_reply": "2021-08-28T22:48:35.855193Z",
     "shell.execute_reply.started": "2021-08-28T22:47:38.090826Z"
    },
    "papermill": {
     "duration": 0.062722,
     "end_time": "2021-08-28T22:48:35.855825",
     "exception": false,
     "start_time": "2021-08-28T22:48:35.793103",
     "status": "completed"
    },
    "tags": []
   },
   "outputs": [],
   "source": [
    "train_df_copy = train_df.copy() #contains main columns without feature processing"
   ]
  },
  {
   "cell_type": "markdown",
   "id": "2c1cd92a",
   "metadata": {
    "papermill": {
     "duration": 0.053991,
     "end_time": "2021-08-28T22:48:35.964600",
     "exception": false,
     "start_time": "2021-08-28T22:48:35.910609",
     "status": "completed"
    },
    "tags": []
   },
   "source": [
    "# add day of week"
   ]
  },
  {
   "cell_type": "code",
   "execution_count": 15,
   "id": "df4ca3f4",
   "metadata": {
    "execution": {
     "iopub.execute_input": "2021-08-28T22:48:36.081091Z",
     "iopub.status.busy": "2021-08-28T22:48:36.080234Z",
     "iopub.status.idle": "2021-08-28T22:48:36.084314Z",
     "shell.execute_reply": "2021-08-28T22:48:36.083769Z",
     "shell.execute_reply.started": "2021-08-28T22:47:38.101603Z"
    },
    "papermill": {
     "duration": 0.065681,
     "end_time": "2021-08-28T22:48:36.084454",
     "exception": false,
     "start_time": "2021-08-28T22:48:36.018773",
     "status": "completed"
    },
    "tags": []
   },
   "outputs": [],
   "source": [
    "for df in [train_df, test_df]:\n",
    "    df['dayofweek'] = df['Date'].dt.dayofweek"
   ]
  },
  {
   "cell_type": "markdown",
   "id": "d881020b",
   "metadata": {
    "execution": {
     "iopub.execute_input": "2021-08-23T17:30:53.323674Z",
     "iopub.status.busy": "2021-08-23T17:30:53.323158Z",
     "iopub.status.idle": "2021-08-23T17:30:53.331136Z",
     "shell.execute_reply": "2021-08-23T17:30:53.330173Z",
     "shell.execute_reply.started": "2021-08-23T17:30:53.323643Z"
    },
    "papermill": {
     "duration": 0.056642,
     "end_time": "2021-08-28T22:48:36.197321",
     "exception": false,
     "start_time": "2021-08-28T22:48:36.140679",
     "status": "completed"
    },
    "tags": []
   },
   "source": [
    "# add weekend"
   ]
  },
  {
   "cell_type": "code",
   "execution_count": 16,
   "id": "7b4db1a7",
   "metadata": {
    "execution": {
     "iopub.execute_input": "2021-08-28T22:48:36.314056Z",
     "iopub.status.busy": "2021-08-28T22:48:36.313383Z",
     "iopub.status.idle": "2021-08-28T22:48:36.331640Z",
     "shell.execute_reply": "2021-08-28T22:48:36.331064Z",
     "shell.execute_reply.started": "2021-08-28T22:47:38.117644Z"
    },
    "papermill": {
     "duration": 0.078349,
     "end_time": "2021-08-28T22:48:36.331765",
     "exception": false,
     "start_time": "2021-08-28T22:48:36.253416",
     "status": "completed"
    },
    "tags": []
   },
   "outputs": [],
   "source": [
    "for df in [train_df, test_df]:\n",
    "    df['weekend'] = (df['dayofweek'] >= 5 )*1"
   ]
  },
  {
   "cell_type": "code",
   "execution_count": 17,
   "id": "a71136d6",
   "metadata": {
    "execution": {
     "iopub.execute_input": "2021-08-28T22:48:36.464538Z",
     "iopub.status.busy": "2021-08-28T22:48:36.463861Z",
     "iopub.status.idle": "2021-08-28T22:48:36.466963Z",
     "shell.execute_reply": "2021-08-28T22:48:36.467522Z",
     "shell.execute_reply.started": "2021-08-28T22:47:38.130221Z"
    },
    "papermill": {
     "duration": 0.080009,
     "end_time": "2021-08-28T22:48:36.467660",
     "exception": false,
     "start_time": "2021-08-28T22:48:36.387651",
     "status": "completed"
    },
    "tags": []
   },
   "outputs": [
    {
     "data": {
      "text/html": [
       "<div>\n",
       "<style scoped>\n",
       "    .dataframe tbody tr th:only-of-type {\n",
       "        vertical-align: middle;\n",
       "    }\n",
       "\n",
       "    .dataframe tbody tr th {\n",
       "        vertical-align: top;\n",
       "    }\n",
       "\n",
       "    .dataframe thead th {\n",
       "        text-align: right;\n",
       "    }\n",
       "</style>\n",
       "<table border=\"1\" class=\"dataframe\">\n",
       "  <thead>\n",
       "    <tr style=\"text-align: right;\">\n",
       "      <th></th>\n",
       "      <th>ID</th>\n",
       "      <th>Date</th>\n",
       "      <th>y</th>\n",
       "      <th>Hour</th>\n",
       "      <th>temperature</th>\n",
       "      <th>humidity</th>\n",
       "      <th>windspeed</th>\n",
       "      <th>visibility</th>\n",
       "      <th>dewpoint</th>\n",
       "      <th>solarradiation</th>\n",
       "      <th>rainfall</th>\n",
       "      <th>snowfall</th>\n",
       "      <th>Seasons</th>\n",
       "      <th>Holiday</th>\n",
       "      <th>functioningday</th>\n",
       "      <th>month</th>\n",
       "      <th>year</th>\n",
       "      <th>day</th>\n",
       "      <th>dayofweek</th>\n",
       "      <th>weekend</th>\n",
       "    </tr>\n",
       "  </thead>\n",
       "  <tbody>\n",
       "    <tr>\n",
       "      <th>0</th>\n",
       "      <td>0</td>\n",
       "      <td>2017-12-01</td>\n",
       "      <td>254</td>\n",
       "      <td>0</td>\n",
       "      <td>-5.2</td>\n",
       "      <td>37</td>\n",
       "      <td>2.2</td>\n",
       "      <td>2000</td>\n",
       "      <td>-17.6</td>\n",
       "      <td>0.0</td>\n",
       "      <td>0.0</td>\n",
       "      <td>0.0</td>\n",
       "      <td>Winter</td>\n",
       "      <td>No Holiday</td>\n",
       "      <td>Yes</td>\n",
       "      <td>12</td>\n",
       "      <td>2017</td>\n",
       "      <td>1</td>\n",
       "      <td>4</td>\n",
       "      <td>0</td>\n",
       "    </tr>\n",
       "    <tr>\n",
       "      <th>1</th>\n",
       "      <td>1</td>\n",
       "      <td>2017-12-01</td>\n",
       "      <td>204</td>\n",
       "      <td>1</td>\n",
       "      <td>-5.5</td>\n",
       "      <td>38</td>\n",
       "      <td>0.8</td>\n",
       "      <td>2000</td>\n",
       "      <td>-17.6</td>\n",
       "      <td>0.0</td>\n",
       "      <td>0.0</td>\n",
       "      <td>0.0</td>\n",
       "      <td>Winter</td>\n",
       "      <td>No Holiday</td>\n",
       "      <td>Yes</td>\n",
       "      <td>12</td>\n",
       "      <td>2017</td>\n",
       "      <td>1</td>\n",
       "      <td>4</td>\n",
       "      <td>0</td>\n",
       "    </tr>\n",
       "    <tr>\n",
       "      <th>2</th>\n",
       "      <td>2</td>\n",
       "      <td>2017-12-01</td>\n",
       "      <td>173</td>\n",
       "      <td>2</td>\n",
       "      <td>-6.0</td>\n",
       "      <td>39</td>\n",
       "      <td>1.0</td>\n",
       "      <td>2000</td>\n",
       "      <td>-17.7</td>\n",
       "      <td>0.0</td>\n",
       "      <td>0.0</td>\n",
       "      <td>0.0</td>\n",
       "      <td>Winter</td>\n",
       "      <td>No Holiday</td>\n",
       "      <td>Yes</td>\n",
       "      <td>12</td>\n",
       "      <td>2017</td>\n",
       "      <td>1</td>\n",
       "      <td>4</td>\n",
       "      <td>0</td>\n",
       "    </tr>\n",
       "    <tr>\n",
       "      <th>3</th>\n",
       "      <td>3</td>\n",
       "      <td>2017-12-01</td>\n",
       "      <td>107</td>\n",
       "      <td>3</td>\n",
       "      <td>-6.2</td>\n",
       "      <td>40</td>\n",
       "      <td>0.9</td>\n",
       "      <td>2000</td>\n",
       "      <td>-17.6</td>\n",
       "      <td>0.0</td>\n",
       "      <td>0.0</td>\n",
       "      <td>0.0</td>\n",
       "      <td>Winter</td>\n",
       "      <td>No Holiday</td>\n",
       "      <td>Yes</td>\n",
       "      <td>12</td>\n",
       "      <td>2017</td>\n",
       "      <td>1</td>\n",
       "      <td>4</td>\n",
       "      <td>0</td>\n",
       "    </tr>\n",
       "    <tr>\n",
       "      <th>4</th>\n",
       "      <td>4</td>\n",
       "      <td>2017-12-01</td>\n",
       "      <td>78</td>\n",
       "      <td>4</td>\n",
       "      <td>-6.0</td>\n",
       "      <td>36</td>\n",
       "      <td>2.3</td>\n",
       "      <td>2000</td>\n",
       "      <td>-18.6</td>\n",
       "      <td>0.0</td>\n",
       "      <td>0.0</td>\n",
       "      <td>0.0</td>\n",
       "      <td>Winter</td>\n",
       "      <td>No Holiday</td>\n",
       "      <td>Yes</td>\n",
       "      <td>12</td>\n",
       "      <td>2017</td>\n",
       "      <td>1</td>\n",
       "      <td>4</td>\n",
       "      <td>0</td>\n",
       "    </tr>\n",
       "  </tbody>\n",
       "</table>\n",
       "</div>"
      ],
      "text/plain": [
       "   ID       Date    y  Hour  temperature  humidity  windspeed  visibility  \\\n",
       "0   0 2017-12-01  254     0         -5.2        37        2.2        2000   \n",
       "1   1 2017-12-01  204     1         -5.5        38        0.8        2000   \n",
       "2   2 2017-12-01  173     2         -6.0        39        1.0        2000   \n",
       "3   3 2017-12-01  107     3         -6.2        40        0.9        2000   \n",
       "4   4 2017-12-01   78     4         -6.0        36        2.3        2000   \n",
       "\n",
       "   dewpoint  solarradiation  rainfall  snowfall Seasons     Holiday  \\\n",
       "0     -17.6             0.0       0.0       0.0  Winter  No Holiday   \n",
       "1     -17.6             0.0       0.0       0.0  Winter  No Holiday   \n",
       "2     -17.7             0.0       0.0       0.0  Winter  No Holiday   \n",
       "3     -17.6             0.0       0.0       0.0  Winter  No Holiday   \n",
       "4     -18.6             0.0       0.0       0.0  Winter  No Holiday   \n",
       "\n",
       "  functioningday  month  year  day  dayofweek  weekend  \n",
       "0            Yes     12  2017    1          4        0  \n",
       "1            Yes     12  2017    1          4        0  \n",
       "2            Yes     12  2017    1          4        0  \n",
       "3            Yes     12  2017    1          4        0  \n",
       "4            Yes     12  2017    1          4        0  "
      ]
     },
     "execution_count": 17,
     "metadata": {},
     "output_type": "execute_result"
    }
   ],
   "source": [
    "train_df.head()"
   ]
  },
  {
   "cell_type": "code",
   "execution_count": 18,
   "id": "114140e9",
   "metadata": {
    "execution": {
     "iopub.execute_input": "2021-08-28T22:48:36.580861Z",
     "iopub.status.busy": "2021-08-28T22:48:36.580313Z",
     "iopub.status.idle": "2021-08-28T22:48:36.600989Z",
     "shell.execute_reply": "2021-08-28T22:48:36.601474Z",
     "shell.execute_reply.started": "2021-08-28T22:47:38.167298Z"
    },
    "papermill": {
     "duration": 0.07902,
     "end_time": "2021-08-28T22:48:36.601615",
     "exception": false,
     "start_time": "2021-08-28T22:48:36.522595",
     "status": "completed"
    },
    "tags": []
   },
   "outputs": [
    {
     "data": {
      "text/html": [
       "<div>\n",
       "<style scoped>\n",
       "    .dataframe tbody tr th:only-of-type {\n",
       "        vertical-align: middle;\n",
       "    }\n",
       "\n",
       "    .dataframe tbody tr th {\n",
       "        vertical-align: top;\n",
       "    }\n",
       "\n",
       "    .dataframe thead th {\n",
       "        text-align: right;\n",
       "    }\n",
       "</style>\n",
       "<table border=\"1\" class=\"dataframe\">\n",
       "  <thead>\n",
       "    <tr style=\"text-align: right;\">\n",
       "      <th></th>\n",
       "      <th>ID</th>\n",
       "      <th>Date</th>\n",
       "      <th>y</th>\n",
       "      <th>Hour</th>\n",
       "      <th>temperature</th>\n",
       "      <th>humidity</th>\n",
       "      <th>windspeed</th>\n",
       "      <th>visibility</th>\n",
       "      <th>dewpoint</th>\n",
       "      <th>solarradiation</th>\n",
       "      <th>rainfall</th>\n",
       "      <th>snowfall</th>\n",
       "      <th>Seasons</th>\n",
       "      <th>Holiday</th>\n",
       "      <th>functioningday</th>\n",
       "      <th>month</th>\n",
       "      <th>year</th>\n",
       "      <th>day</th>\n",
       "      <th>dayofweek</th>\n",
       "      <th>weekend</th>\n",
       "    </tr>\n",
       "  </thead>\n",
       "  <tbody>\n",
       "    <tr>\n",
       "      <th>0</th>\n",
       "      <td>0</td>\n",
       "      <td>2017-12-01</td>\n",
       "      <td>254</td>\n",
       "      <td>0</td>\n",
       "      <td>-5.2</td>\n",
       "      <td>37</td>\n",
       "      <td>2.2</td>\n",
       "      <td>2000</td>\n",
       "      <td>-17.6</td>\n",
       "      <td>0.0</td>\n",
       "      <td>0.0</td>\n",
       "      <td>0.0</td>\n",
       "      <td>Winter</td>\n",
       "      <td>No Holiday</td>\n",
       "      <td>Yes</td>\n",
       "      <td>12</td>\n",
       "      <td>2017</td>\n",
       "      <td>1</td>\n",
       "      <td>4</td>\n",
       "      <td>0</td>\n",
       "    </tr>\n",
       "    <tr>\n",
       "      <th>1</th>\n",
       "      <td>1</td>\n",
       "      <td>2017-12-01</td>\n",
       "      <td>204</td>\n",
       "      <td>1</td>\n",
       "      <td>-5.5</td>\n",
       "      <td>38</td>\n",
       "      <td>0.8</td>\n",
       "      <td>2000</td>\n",
       "      <td>-17.6</td>\n",
       "      <td>0.0</td>\n",
       "      <td>0.0</td>\n",
       "      <td>0.0</td>\n",
       "      <td>Winter</td>\n",
       "      <td>No Holiday</td>\n",
       "      <td>Yes</td>\n",
       "      <td>12</td>\n",
       "      <td>2017</td>\n",
       "      <td>1</td>\n",
       "      <td>4</td>\n",
       "      <td>0</td>\n",
       "    </tr>\n",
       "    <tr>\n",
       "      <th>2</th>\n",
       "      <td>2</td>\n",
       "      <td>2017-12-01</td>\n",
       "      <td>173</td>\n",
       "      <td>2</td>\n",
       "      <td>-6.0</td>\n",
       "      <td>39</td>\n",
       "      <td>1.0</td>\n",
       "      <td>2000</td>\n",
       "      <td>-17.7</td>\n",
       "      <td>0.0</td>\n",
       "      <td>0.0</td>\n",
       "      <td>0.0</td>\n",
       "      <td>Winter</td>\n",
       "      <td>No Holiday</td>\n",
       "      <td>Yes</td>\n",
       "      <td>12</td>\n",
       "      <td>2017</td>\n",
       "      <td>1</td>\n",
       "      <td>4</td>\n",
       "      <td>0</td>\n",
       "    </tr>\n",
       "    <tr>\n",
       "      <th>3</th>\n",
       "      <td>3</td>\n",
       "      <td>2017-12-01</td>\n",
       "      <td>107</td>\n",
       "      <td>3</td>\n",
       "      <td>-6.2</td>\n",
       "      <td>40</td>\n",
       "      <td>0.9</td>\n",
       "      <td>2000</td>\n",
       "      <td>-17.6</td>\n",
       "      <td>0.0</td>\n",
       "      <td>0.0</td>\n",
       "      <td>0.0</td>\n",
       "      <td>Winter</td>\n",
       "      <td>No Holiday</td>\n",
       "      <td>Yes</td>\n",
       "      <td>12</td>\n",
       "      <td>2017</td>\n",
       "      <td>1</td>\n",
       "      <td>4</td>\n",
       "      <td>0</td>\n",
       "    </tr>\n",
       "    <tr>\n",
       "      <th>4</th>\n",
       "      <td>4</td>\n",
       "      <td>2017-12-01</td>\n",
       "      <td>78</td>\n",
       "      <td>4</td>\n",
       "      <td>-6.0</td>\n",
       "      <td>36</td>\n",
       "      <td>2.3</td>\n",
       "      <td>2000</td>\n",
       "      <td>-18.6</td>\n",
       "      <td>0.0</td>\n",
       "      <td>0.0</td>\n",
       "      <td>0.0</td>\n",
       "      <td>Winter</td>\n",
       "      <td>No Holiday</td>\n",
       "      <td>Yes</td>\n",
       "      <td>12</td>\n",
       "      <td>2017</td>\n",
       "      <td>1</td>\n",
       "      <td>4</td>\n",
       "      <td>0</td>\n",
       "    </tr>\n",
       "  </tbody>\n",
       "</table>\n",
       "</div>"
      ],
      "text/plain": [
       "   ID       Date    y  Hour  temperature  humidity  windspeed  visibility  \\\n",
       "0   0 2017-12-01  254     0         -5.2        37        2.2        2000   \n",
       "1   1 2017-12-01  204     1         -5.5        38        0.8        2000   \n",
       "2   2 2017-12-01  173     2         -6.0        39        1.0        2000   \n",
       "3   3 2017-12-01  107     3         -6.2        40        0.9        2000   \n",
       "4   4 2017-12-01   78     4         -6.0        36        2.3        2000   \n",
       "\n",
       "   dewpoint  solarradiation  rainfall  snowfall Seasons     Holiday  \\\n",
       "0     -17.6             0.0       0.0       0.0  Winter  No Holiday   \n",
       "1     -17.6             0.0       0.0       0.0  Winter  No Holiday   \n",
       "2     -17.7             0.0       0.0       0.0  Winter  No Holiday   \n",
       "3     -17.6             0.0       0.0       0.0  Winter  No Holiday   \n",
       "4     -18.6             0.0       0.0       0.0  Winter  No Holiday   \n",
       "\n",
       "  functioningday  month  year  day  dayofweek  weekend  \n",
       "0            Yes     12  2017    1          4        0  \n",
       "1            Yes     12  2017    1          4        0  \n",
       "2            Yes     12  2017    1          4        0  \n",
       "3            Yes     12  2017    1          4        0  \n",
       "4            Yes     12  2017    1          4        0  "
      ]
     },
     "execution_count": 18,
     "metadata": {},
     "output_type": "execute_result"
    }
   ],
   "source": [
    "train_df.head()"
   ]
  },
  {
   "cell_type": "markdown",
   "id": "b7052dc1",
   "metadata": {
    "execution": {
     "iopub.execute_input": "2021-08-23T17:52:00.097803Z",
     "iopub.status.busy": "2021-08-23T17:52:00.097495Z",
     "iopub.status.idle": "2021-08-23T17:52:00.118669Z",
     "shell.execute_reply": "2021-08-23T17:52:00.117523Z",
     "shell.execute_reply.started": "2021-08-23T17:52:00.097773Z"
    },
    "papermill": {
     "duration": 0.055866,
     "end_time": "2021-08-28T22:48:36.713946",
     "exception": false,
     "start_time": "2021-08-28T22:48:36.658080",
     "status": "completed"
    },
    "tags": []
   },
   "source": [
    "## transform functioning day, holiday to 0,1"
   ]
  },
  {
   "cell_type": "code",
   "execution_count": 19,
   "id": "35cefcff",
   "metadata": {
    "execution": {
     "iopub.execute_input": "2021-08-28T22:48:36.829345Z",
     "iopub.status.busy": "2021-08-28T22:48:36.828693Z",
     "iopub.status.idle": "2021-08-28T22:48:36.838743Z",
     "shell.execute_reply": "2021-08-28T22:48:36.839339Z",
     "shell.execute_reply.started": "2021-08-28T22:47:38.196463Z"
    },
    "papermill": {
     "duration": 0.069682,
     "end_time": "2021-08-28T22:48:36.839503",
     "exception": false,
     "start_time": "2021-08-28T22:48:36.769821",
     "status": "completed"
    },
    "tags": []
   },
   "outputs": [],
   "source": [
    "for df in [train_df, test_df]:\n",
    "    df['Holiday'] = df['Holiday'].map({'Holiday': 1, 'No Holiday':0})\n",
    "    df['functioningday'] = df['functioningday'].map({'Yes': 1, 'No':0})"
   ]
  },
  {
   "cell_type": "markdown",
   "id": "23126086",
   "metadata": {
    "papermill": {
     "duration": 0.055853,
     "end_time": "2021-08-28T22:48:36.953274",
     "exception": false,
     "start_time": "2021-08-28T22:48:36.897421",
     "status": "completed"
    },
    "tags": []
   },
   "source": [
    "# working with Hour column"
   ]
  },
  {
   "cell_type": "code",
   "execution_count": 20,
   "id": "89a52aa7",
   "metadata": {
    "execution": {
     "iopub.execute_input": "2021-08-28T22:48:37.069620Z",
     "iopub.status.busy": "2021-08-28T22:48:37.069041Z",
     "iopub.status.idle": "2021-08-28T22:48:37.257894Z",
     "shell.execute_reply": "2021-08-28T22:48:37.258902Z",
     "shell.execute_reply.started": "2021-08-28T22:47:38.210866Z"
    },
    "papermill": {
     "duration": 0.249301,
     "end_time": "2021-08-28T22:48:37.259158",
     "exception": false,
     "start_time": "2021-08-28T22:48:37.009857",
     "status": "completed"
    },
    "tags": []
   },
   "outputs": [
    {
     "name": "stdout",
     "output_type": "stream",
     "text": [
      "count    5760.000000\n",
      "mean       11.500000\n",
      "std         6.922788\n",
      "min         0.000000\n",
      "25%         5.750000\n",
      "50%        11.500000\n",
      "75%        17.250000\n",
      "max        23.000000\n",
      "Name: Hour, dtype: float64\n"
     ]
    },
    {
     "data": {
      "image/png": "[encoded data removed]",
      "text/plain": [
       "<Figure size 432x288 with 1 Axes>"
      ]
     },
     "metadata": {
      "needs_background": "light"
     },
     "output_type": "display_data"
    }
   ],
   "source": [
    "print(train_df.Hour.describe())\n",
    "_ = plt.scatter(train_df['Hour'] ,train_df['y'])\n",
    "_ = plt.xlabel('Hours')\n",
    "_ = plt.ylabel('y Rental Prediction')\n",
    "plt.show()"
   ]
  },
  {
   "cell_type": "markdown",
   "id": "60ba0eb6",
   "metadata": {
    "papermill": {
     "duration": 0.058003,
     "end_time": "2021-08-28T22:48:37.377061",
     "exception": false,
     "start_time": "2021-08-28T22:48:37.319058",
     "status": "completed"
    },
    "tags": []
   },
   "source": [
    "## bining hours"
   ]
  },
  {
   "cell_type": "code",
   "execution_count": 21,
   "id": "833098b4",
   "metadata": {
    "execution": {
     "iopub.execute_input": "2021-08-28T22:48:37.499555Z",
     "iopub.status.busy": "2021-08-28T22:48:37.498890Z",
     "iopub.status.idle": "2021-08-28T22:48:37.510469Z",
     "shell.execute_reply": "2021-08-28T22:48:37.510887Z",
     "shell.execute_reply.started": "2021-08-28T22:47:38.377849Z"
    },
    "papermill": {
     "duration": 0.076843,
     "end_time": "2021-08-28T22:48:37.511076",
     "exception": false,
     "start_time": "2021-08-28T22:48:37.434233",
     "status": "completed"
    },
    "tags": []
   },
   "outputs": [],
   "source": [
    "# ranges bins\n",
    "bins = [-1, 6, 12, 18, 24]\n",
    "#categorized hour\n",
    "categorized_hour = pd.cut(train_df['Hour'], bins)\n",
    "train_df['categorized_hour'] = categorized_hour\n",
    "\n",
    "#test_df\n",
    "categorized_hour = pd.cut(test_df['Hour'], bins)\n",
    "test_df['categorized_hour'] = categorized_hour"
   ]
  },
  {
   "cell_type": "markdown",
   "id": "3ebc82ee",
   "metadata": {
    "execution": {
     "iopub.execute_input": "2021-08-23T18:29:36.3828Z",
     "iopub.status.busy": "2021-08-23T18:29:36.382441Z",
     "iopub.status.idle": "2021-08-23T18:29:36.388568Z",
     "shell.execute_reply": "2021-08-23T18:29:36.387889Z",
     "shell.execute_reply.started": "2021-08-23T18:29:36.382768Z"
    },
    "papermill": {
     "duration": 0.057785,
     "end_time": "2021-08-28T22:48:37.626955",
     "exception": false,
     "start_time": "2021-08-28T22:48:37.569170",
     "status": "completed"
    },
    "tags": []
   },
   "source": [
    "# working with temperature column"
   ]
  },
  {
   "cell_type": "code",
   "execution_count": 22,
   "id": "d4aaab41",
   "metadata": {
    "execution": {
     "iopub.execute_input": "2021-08-28T22:48:37.767231Z",
     "iopub.status.busy": "2021-08-28T22:48:37.747006Z",
     "iopub.status.idle": "2021-08-28T22:48:37.878664Z",
     "shell.execute_reply": "2021-08-28T22:48:37.879261Z",
     "shell.execute_reply.started": "2021-08-28T22:47:38.393462Z"
    },
    "papermill": {
     "duration": 0.195268,
     "end_time": "2021-08-28T22:48:37.879449",
     "exception": false,
     "start_time": "2021-08-28T22:48:37.684181",
     "status": "completed"
    },
    "tags": []
   },
   "outputs": [
    {
     "name": "stdout",
     "output_type": "stream",
     "text": [
      "-15.1\n",
      "39.4\n"
     ]
    },
    {
     "data": {
      "image/png": "[encoded data removed]",
      "text/plain": [
       "<Figure size 432x288 with 1 Axes>"
      ]
     },
     "metadata": {
      "needs_background": "light"
     },
     "output_type": "display_data"
    }
   ],
   "source": [
    "print(train_df.temperature.min())\n",
    "print(train_df.temperature.max())\n",
    "plt.hist(train_df.temperature)\n",
    "plt.show()"
   ]
  },
  {
   "cell_type": "markdown",
   "id": "54a05b28",
   "metadata": {
    "execution": {
     "iopub.execute_input": "2021-08-23T18:31:55.92021Z",
     "iopub.status.busy": "2021-08-23T18:31:55.91985Z",
     "iopub.status.idle": "2021-08-23T18:31:55.926639Z",
     "shell.execute_reply": "2021-08-23T18:31:55.925595Z",
     "shell.execute_reply.started": "2021-08-23T18:31:55.920177Z"
    },
    "papermill": {
     "duration": 0.056961,
     "end_time": "2021-08-28T22:48:37.995665",
     "exception": false,
     "start_time": "2021-08-28T22:48:37.938704",
     "status": "completed"
    },
    "tags": []
   },
   "source": [
    "## bining temperature into ranges"
   ]
  },
  {
   "cell_type": "code",
   "execution_count": 23,
   "id": "e5b844e2",
   "metadata": {
    "execution": {
     "iopub.execute_input": "2021-08-28T22:48:38.123655Z",
     "iopub.status.busy": "2021-08-28T22:48:38.123026Z",
     "iopub.status.idle": "2021-08-28T22:48:38.135358Z",
     "shell.execute_reply": "2021-08-28T22:48:38.135870Z",
     "shell.execute_reply.started": "2021-08-28T22:47:38.544012Z"
    },
    "papermill": {
     "duration": 0.081465,
     "end_time": "2021-08-28T22:48:38.136037",
     "exception": false,
     "start_time": "2021-08-28T22:48:38.054572",
     "status": "completed"
    },
    "tags": []
   },
   "outputs": [
    {
     "data": {
      "text/plain": [
       "0       (-10, 0]\n",
       "1       (-10, 0]\n",
       "2       (-10, 0]\n",
       "3       (-10, 0]\n",
       "4       (-10, 0]\n",
       "          ...   \n",
       "2995     (0, 10]\n",
       "2996     (0, 10]\n",
       "2997     (0, 10]\n",
       "2998     (0, 10]\n",
       "2999     (0, 10]\n",
       "Name: categorized_temp, Length: 3000, dtype: category\n",
       "Categories (6, interval[int64]): [(-20, -10] < (-10, 0] < (0, 10] < (10, 20] < (20, 30] < (30, 40]]"
      ]
     },
     "execution_count": 23,
     "metadata": {},
     "output_type": "execute_result"
    }
   ],
   "source": [
    "# ranges bins\n",
    "bins = [-20, -10, 0, 10, 20, 30, 40]\n",
    "#categorized temperature\n",
    "categorized_temp = pd.cut(train_df['temperature'], bins)\n",
    "train_df['categorized_temp'] = categorized_temp\n",
    "train_df.categorized_temp\n",
    "\n",
    "#test_df\n",
    "categorized_temp = pd.cut(test_df['temperature'], bins)\n",
    "test_df['categorized_temp'] = categorized_temp\n",
    "test_df.categorized_temp"
   ]
  },
  {
   "cell_type": "markdown",
   "id": "0c975402",
   "metadata": {
    "papermill": {
     "duration": 0.059252,
     "end_time": "2021-08-28T22:48:38.254698",
     "exception": false,
     "start_time": "2021-08-28T22:48:38.195446",
     "status": "completed"
    },
    "tags": []
   },
   "source": [
    "# working with dewpoint"
   ]
  },
  {
   "cell_type": "code",
   "execution_count": 24,
   "id": "60f735bf",
   "metadata": {
    "execution": {
     "iopub.execute_input": "2021-08-28T22:48:38.376424Z",
     "iopub.status.busy": "2021-08-28T22:48:38.375801Z",
     "iopub.status.idle": "2021-08-28T22:48:38.505728Z",
     "shell.execute_reply": "2021-08-28T22:48:38.505236Z",
     "shell.execute_reply.started": "2021-08-28T22:47:38.566831Z"
    },
    "papermill": {
     "duration": 0.192228,
     "end_time": "2021-08-28T22:48:38.505864",
     "exception": false,
     "start_time": "2021-08-28T22:48:38.313636",
     "status": "completed"
    },
    "tags": []
   },
   "outputs": [
    {
     "name": "stdout",
     "output_type": "stream",
     "text": [
      "-26.9\n",
      "27.2\n"
     ]
    },
    {
     "data": {
      "image/png": "[encoded data removed]",
      "text/plain": [
       "<Figure size 432x288 with 1 Axes>"
      ]
     },
     "metadata": {
      "needs_background": "light"
     },
     "output_type": "display_data"
    }
   ],
   "source": [
    "print(train_df.dewpoint.min())\n",
    "print(train_df.dewpoint.max())\n",
    "plt.hist(train_df.dewpoint)\n",
    "plt.show()"
   ]
  },
  {
   "cell_type": "markdown",
   "id": "ddc2d55b",
   "metadata": {
    "papermill": {
     "duration": 0.059943,
     "end_time": "2021-08-28T22:48:38.626496",
     "exception": false,
     "start_time": "2021-08-28T22:48:38.566553",
     "status": "completed"
    },
    "tags": []
   },
   "source": [
    "## bining dewpoint"
   ]
  },
  {
   "cell_type": "code",
   "execution_count": 25,
   "id": "dcf6d183",
   "metadata": {
    "execution": {
     "iopub.execute_input": "2021-08-28T22:48:38.751472Z",
     "iopub.status.busy": "2021-08-28T22:48:38.750785Z",
     "iopub.status.idle": "2021-08-28T22:48:38.759180Z",
     "shell.execute_reply": "2021-08-28T22:48:38.758585Z",
     "shell.execute_reply.started": "2021-08-28T22:47:38.720883Z"
    },
    "papermill": {
     "duration": 0.073462,
     "end_time": "2021-08-28T22:48:38.759305",
     "exception": false,
     "start_time": "2021-08-28T22:48:38.685843",
     "status": "completed"
    },
    "tags": []
   },
   "outputs": [],
   "source": [
    "# ranges bins\n",
    "bins = [-35, -20, -10, 0, 10, 20, 28]\n",
    "#categorized temperature\n",
    "categorized_dewpoint = pd.cut(train_df['dewpoint'], bins)\n",
    "train_df['categorized_dewpoint'] = categorized_dewpoint\n",
    "\n",
    "#test_df\n",
    "categorized_dewpoint = pd.cut(test_df['dewpoint'], bins)\n",
    "test_df['categorized_dewpoint'] = categorized_dewpoint"
   ]
  },
  {
   "cell_type": "code",
   "execution_count": 26,
   "id": "71e6baaa",
   "metadata": {
    "execution": {
     "iopub.execute_input": "2021-08-28T22:48:38.884599Z",
     "iopub.status.busy": "2021-08-28T22:48:38.883695Z",
     "iopub.status.idle": "2021-08-28T22:48:38.887642Z",
     "shell.execute_reply": "2021-08-28T22:48:38.887097Z",
     "shell.execute_reply.started": "2021-08-28T22:47:38.736896Z"
    },
    "papermill": {
     "duration": 0.068667,
     "end_time": "2021-08-28T22:48:38.887767",
     "exception": false,
     "start_time": "2021-08-28T22:48:38.819100",
     "status": "completed"
    },
    "tags": []
   },
   "outputs": [
    {
     "data": {
      "text/plain": [
       "Index(['ID', 'Date', 'y', 'Hour', 'temperature', 'humidity', 'windspeed',\n",
       "       'visibility', 'dewpoint', 'solarradiation', 'rainfall', 'snowfall',\n",
       "       'Seasons', 'Holiday', 'functioningday', 'month', 'year', 'day',\n",
       "       'dayofweek', 'weekend', 'categorized_hour', 'categorized_temp',\n",
       "       'categorized_dewpoint'],\n",
       "      dtype='object')"
      ]
     },
     "execution_count": 26,
     "metadata": {},
     "output_type": "execute_result"
    }
   ],
   "source": [
    "train_df.columns"
   ]
  },
  {
   "cell_type": "code",
   "execution_count": 27,
   "id": "8b35f929",
   "metadata": {
    "execution": {
     "iopub.execute_input": "2021-08-28T22:48:39.012043Z",
     "iopub.status.busy": "2021-08-28T22:48:39.011335Z",
     "iopub.status.idle": "2021-08-28T22:48:39.037548Z",
     "shell.execute_reply": "2021-08-28T22:48:39.036529Z",
     "shell.execute_reply.started": "2021-08-28T22:47:38.746017Z"
    },
    "papermill": {
     "duration": 0.089627,
     "end_time": "2021-08-28T22:48:39.037802",
     "exception": false,
     "start_time": "2021-08-28T22:48:38.948175",
     "status": "completed"
    },
    "tags": []
   },
   "outputs": [
    {
     "name": "stdout",
     "output_type": "stream",
     "text": [
      "<class 'pandas.core.frame.DataFrame'>\n",
      "RangeIndex: 5760 entries, 0 to 5759\n",
      "Data columns (total 23 columns):\n",
      " #   Column                Non-Null Count  Dtype         \n",
      "---  ------                --------------  -----         \n",
      " 0   ID                    5760 non-null   int64         \n",
      " 1   Date                  5760 non-null   datetime64[ns]\n",
      " 2   y                     5760 non-null   int64         \n",
      " 3   Hour                  5760 non-null   int64         \n",
      " 4   temperature           5760 non-null   float64       \n",
      " 5   humidity              5760 non-null   int64         \n",
      " 6   windspeed             5760 non-null   float64       \n",
      " 7   visibility            5760 non-null   int64         \n",
      " 8   dewpoint              5760 non-null   float64       \n",
      " 9   solarradiation        5760 non-null   float64       \n",
      " 10  rainfall              5760 non-null   float64       \n",
      " 11  snowfall              5760 non-null   float64       \n",
      " 12  Seasons               5760 non-null   object        \n",
      " 13  Holiday               5760 non-null   int64         \n",
      " 14  functioningday        5760 non-null   int64         \n",
      " 15  month                 5760 non-null   int64         \n",
      " 16  year                  5760 non-null   int64         \n",
      " 17  day                   5760 non-null   int64         \n",
      " 18  dayofweek             5760 non-null   int64         \n",
      " 19  weekend               5760 non-null   int64         \n",
      " 20  categorized_hour      5760 non-null   category      \n",
      " 21  categorized_temp      5760 non-null   category      \n",
      " 22  categorized_dewpoint  5760 non-null   category      \n",
      "dtypes: category(3), datetime64[ns](1), float64(6), int64(12), object(1)\n",
      "memory usage: 917.8+ KB\n"
     ]
    }
   ],
   "source": [
    "train_df.info()"
   ]
  },
  {
   "cell_type": "markdown",
   "id": "032f515b",
   "metadata": {
    "papermill": {
     "duration": 0.060333,
     "end_time": "2021-08-28T22:48:39.158665",
     "exception": false,
     "start_time": "2021-08-28T22:48:39.098332",
     "status": "completed"
    },
    "tags": []
   },
   "source": [
    "## Try label encoding for year, month, dayofweek, Seasons, categorized_temp, categorized_dewpoint, categorized_hour"
   ]
  },
  {
   "cell_type": "code",
   "execution_count": 28,
   "id": "6ffb3826",
   "metadata": {
    "execution": {
     "iopub.execute_input": "2021-08-28T22:48:39.283298Z",
     "iopub.status.busy": "2021-08-28T22:48:39.282661Z",
     "iopub.status.idle": "2021-08-28T22:48:39.305460Z",
     "shell.execute_reply": "2021-08-28T22:48:39.305913Z",
     "shell.execute_reply.started": "2021-08-28T22:47:38.779387Z"
    },
    "papermill": {
     "duration": 0.086263,
     "end_time": "2021-08-28T22:48:39.306101",
     "exception": false,
     "start_time": "2021-08-28T22:48:39.219838",
     "status": "completed"
    },
    "tags": []
   },
   "outputs": [
    {
     "data": {
      "text/plain": [
       "5    839\n",
       "3    785\n",
       "4    740\n",
       "2    336\n",
       "6    184\n",
       "1    116\n",
       "Name: categorized_temp, dtype: int64"
      ]
     },
     "execution_count": 28,
     "metadata": {},
     "output_type": "execute_result"
    }
   ],
   "source": [
    "train_df['categorized_temp'] = train_df['temperature'].apply(lambda x: 1 if (x <= -10)\n",
    "                                         else( 2 if x>-10 and x<=0   \n",
    "                                             else( 3  if x>0 and x<=10\n",
    "                                                 else( 4  if x>10 and x<=20\n",
    "                                                      else (5 if x>20 and x<=30 else 6)) )))\n",
    "\n",
    "train_df['categorized_temp'].value_counts()\n",
    "\n",
    "test_df['categorized_temp'] = test_df['temperature'].apply(lambda x: 1 if (x <= -10)\n",
    "                                         else( 2 if x>-10 and x<=0   \n",
    "                                             else( 3  if x>0 and x<=10\n",
    "                                                 else( 4  if x>10 and x<=20\n",
    "                                                      else (5 if x>20 and x<=30 else 6)) )))\n",
    "\n",
    "test_df['categorized_temp'].value_counts()"
   ]
  },
  {
   "cell_type": "code",
   "execution_count": 29,
   "id": "8b2eccdd",
   "metadata": {
    "execution": {
     "iopub.execute_input": "2021-08-28T22:48:39.432009Z",
     "iopub.status.busy": "2021-08-28T22:48:39.431407Z",
     "iopub.status.idle": "2021-08-28T22:48:39.452524Z",
     "shell.execute_reply": "2021-08-28T22:48:39.453023Z",
     "shell.execute_reply.started": "2021-08-28T22:47:38.806687Z"
    },
    "papermill": {
     "duration": 0.08519,
     "end_time": "2021-08-28T22:48:39.453171",
     "exception": false,
     "start_time": "2021-08-28T22:48:39.367981",
     "status": "completed"
    },
    "tags": []
   },
   "outputs": [
    {
     "data": {
      "text/plain": [
       "4    975\n",
       "5    593\n",
       "3    563\n",
       "6    399\n",
       "2    294\n",
       "1    176\n",
       "Name: categorized_dewpoint, dtype: int64"
      ]
     },
     "execution_count": 29,
     "metadata": {},
     "output_type": "execute_result"
    }
   ],
   "source": [
    "train_df['categorized_dewpoint'] = train_df['dewpoint'].apply(lambda x: 1 if (x <= -20)\n",
    "                                         else( 2 if x>-20 and x<=-10   \n",
    "                                             else( 3  if x>-10 and x<=0\n",
    "                                                 else( 4  if x>0 and x<=10\n",
    "                                                      else (5 if x>10 and x<=20 else 6)) )))\n",
    "\n",
    "train_df['categorized_dewpoint'].value_counts()\n",
    "\n",
    "test_df['categorized_dewpoint'] = test_df['dewpoint'].apply(lambda x: 1 if (x <= -20)\n",
    "                                         else( 2 if x>-20 and x<=-10   \n",
    "                                             else( 3  if x>-10 and x<=0\n",
    "                                                 else( 4  if x>0 and x<=10\n",
    "                                                      else (5 if x>10 and x<=20 else 6)) )))\n",
    "\n",
    "test_df['categorized_dewpoint'].value_counts()"
   ]
  },
  {
   "cell_type": "code",
   "execution_count": 30,
   "id": "add79f39",
   "metadata": {
    "execution": {
     "iopub.execute_input": "2021-08-28T22:48:39.577923Z",
     "iopub.status.busy": "2021-08-28T22:48:39.577377Z",
     "iopub.status.idle": "2021-08-28T22:48:39.595015Z",
     "shell.execute_reply": "2021-08-28T22:48:39.595466Z",
     "shell.execute_reply.started": "2021-08-28T22:47:38.834967Z"
    },
    "papermill": {
     "duration": 0.081197,
     "end_time": "2021-08-28T22:48:39.595624",
     "exception": false,
     "start_time": "2021-08-28T22:48:39.514427",
     "status": "completed"
    },
    "tags": []
   },
   "outputs": [
    {
     "data": {
      "text/plain": [
       "1    875\n",
       "2    750\n",
       "3    750\n",
       "4    625\n",
       "Name: categorized_hour, dtype: int64"
      ]
     },
     "execution_count": 30,
     "metadata": {},
     "output_type": "execute_result"
    }
   ],
   "source": [
    "train_df['categorized_hour'] = train_df['Hour'].apply(lambda x: 1 if (x <= 6)\n",
    "                                         else( 2 if x>6 and x<=12   \n",
    "                                             else( 3  if x>12 and x<=18\n",
    "                                                 else( 4  if x>18 and x<= 24 else 5)) ))\n",
    "\n",
    "train_df['categorized_hour'].value_counts()\n",
    "\n",
    "test_df['categorized_hour'] = test_df['Hour'].apply(lambda x: 1 if (x <= 6)\n",
    "                                         else( 2 if x>6 and x<=12   \n",
    "                                             else( 3  if x>12 and x<=18\n",
    "                                                 else( 4  if x>18 and x<= 24 else 5)) ))\n",
    "\n",
    "test_df['categorized_hour'].value_counts()"
   ]
  },
  {
   "cell_type": "code",
   "execution_count": 31,
   "id": "d9c40713",
   "metadata": {
    "execution": {
     "iopub.execute_input": "2021-08-28T22:48:39.723433Z",
     "iopub.status.busy": "2021-08-28T22:48:39.722800Z",
     "iopub.status.idle": "2021-08-28T22:48:39.728869Z",
     "shell.execute_reply": "2021-08-28T22:48:39.729341Z",
     "shell.execute_reply.started": "2021-08-28T22:47:38.858723Z"
    },
    "papermill": {
     "duration": 0.071197,
     "end_time": "2021-08-28T22:48:39.729509",
     "exception": false,
     "start_time": "2021-08-28T22:48:39.658312",
     "status": "completed"
    },
    "tags": []
   },
   "outputs": [
    {
     "data": {
      "text/plain": [
       "5    1548\n",
       "4    1524\n",
       "3    1358\n",
       "2     890\n",
       "6     328\n",
       "1     112\n",
       "Name: categorized_temp, dtype: int64"
      ]
     },
     "execution_count": 31,
     "metadata": {},
     "output_type": "execute_result"
    }
   ],
   "source": [
    "train_df['categorized_temp'].value_counts()"
   ]
  },
  {
   "cell_type": "code",
   "execution_count": 32,
   "id": "9af02de1",
   "metadata": {
    "execution": {
     "iopub.execute_input": "2021-08-28T22:48:39.857109Z",
     "iopub.status.busy": "2021-08-28T22:48:39.856505Z",
     "iopub.status.idle": "2021-08-28T22:48:39.890794Z",
     "shell.execute_reply": "2021-08-28T22:48:39.890294Z",
     "shell.execute_reply.started": "2021-08-28T22:47:38.868526Z"
    },
    "papermill": {
     "duration": 0.09915,
     "end_time": "2021-08-28T22:48:39.890923",
     "exception": false,
     "start_time": "2021-08-28T22:48:39.791773",
     "status": "completed"
    },
    "tags": []
   },
   "outputs": [
    {
     "data": {
      "text/html": [
       "<div>\n",
       "<style scoped>\n",
       "    .dataframe tbody tr th:only-of-type {\n",
       "        vertical-align: middle;\n",
       "    }\n",
       "\n",
       "    .dataframe tbody tr th {\n",
       "        vertical-align: top;\n",
       "    }\n",
       "\n",
       "    .dataframe thead th {\n",
       "        text-align: right;\n",
       "    }\n",
       "</style>\n",
       "<table border=\"1\" class=\"dataframe\">\n",
       "  <thead>\n",
       "    <tr style=\"text-align: right;\">\n",
       "      <th></th>\n",
       "      <th>ID</th>\n",
       "      <th>Date</th>\n",
       "      <th>y</th>\n",
       "      <th>Hour</th>\n",
       "      <th>temperature</th>\n",
       "      <th>humidity</th>\n",
       "      <th>windspeed</th>\n",
       "      <th>visibility</th>\n",
       "      <th>dewpoint</th>\n",
       "      <th>solarradiation</th>\n",
       "      <th>...</th>\n",
       "      <th>Holiday</th>\n",
       "      <th>functioningday</th>\n",
       "      <th>month</th>\n",
       "      <th>year</th>\n",
       "      <th>day</th>\n",
       "      <th>dayofweek</th>\n",
       "      <th>weekend</th>\n",
       "      <th>categorized_hour</th>\n",
       "      <th>categorized_temp</th>\n",
       "      <th>categorized_dewpoint</th>\n",
       "    </tr>\n",
       "  </thead>\n",
       "  <tbody>\n",
       "    <tr>\n",
       "      <th>0</th>\n",
       "      <td>0</td>\n",
       "      <td>2017-12-01</td>\n",
       "      <td>254</td>\n",
       "      <td>0</td>\n",
       "      <td>-5.2</td>\n",
       "      <td>37</td>\n",
       "      <td>2.2</td>\n",
       "      <td>2000</td>\n",
       "      <td>-17.6</td>\n",
       "      <td>0.0</td>\n",
       "      <td>...</td>\n",
       "      <td>0</td>\n",
       "      <td>1</td>\n",
       "      <td>12</td>\n",
       "      <td>1</td>\n",
       "      <td>1</td>\n",
       "      <td>4</td>\n",
       "      <td>0</td>\n",
       "      <td>1</td>\n",
       "      <td>2</td>\n",
       "      <td>2</td>\n",
       "    </tr>\n",
       "    <tr>\n",
       "      <th>1</th>\n",
       "      <td>1</td>\n",
       "      <td>2017-12-01</td>\n",
       "      <td>204</td>\n",
       "      <td>1</td>\n",
       "      <td>-5.5</td>\n",
       "      <td>38</td>\n",
       "      <td>0.8</td>\n",
       "      <td>2000</td>\n",
       "      <td>-17.6</td>\n",
       "      <td>0.0</td>\n",
       "      <td>...</td>\n",
       "      <td>0</td>\n",
       "      <td>1</td>\n",
       "      <td>12</td>\n",
       "      <td>1</td>\n",
       "      <td>1</td>\n",
       "      <td>4</td>\n",
       "      <td>0</td>\n",
       "      <td>1</td>\n",
       "      <td>2</td>\n",
       "      <td>2</td>\n",
       "    </tr>\n",
       "    <tr>\n",
       "      <th>2</th>\n",
       "      <td>2</td>\n",
       "      <td>2017-12-01</td>\n",
       "      <td>173</td>\n",
       "      <td>2</td>\n",
       "      <td>-6.0</td>\n",
       "      <td>39</td>\n",
       "      <td>1.0</td>\n",
       "      <td>2000</td>\n",
       "      <td>-17.7</td>\n",
       "      <td>0.0</td>\n",
       "      <td>...</td>\n",
       "      <td>0</td>\n",
       "      <td>1</td>\n",
       "      <td>12</td>\n",
       "      <td>1</td>\n",
       "      <td>1</td>\n",
       "      <td>4</td>\n",
       "      <td>0</td>\n",
       "      <td>1</td>\n",
       "      <td>2</td>\n",
       "      <td>2</td>\n",
       "    </tr>\n",
       "    <tr>\n",
       "      <th>3</th>\n",
       "      <td>3</td>\n",
       "      <td>2017-12-01</td>\n",
       "      <td>107</td>\n",
       "      <td>3</td>\n",
       "      <td>-6.2</td>\n",
       "      <td>40</td>\n",
       "      <td>0.9</td>\n",
       "      <td>2000</td>\n",
       "      <td>-17.6</td>\n",
       "      <td>0.0</td>\n",
       "      <td>...</td>\n",
       "      <td>0</td>\n",
       "      <td>1</td>\n",
       "      <td>12</td>\n",
       "      <td>1</td>\n",
       "      <td>1</td>\n",
       "      <td>4</td>\n",
       "      <td>0</td>\n",
       "      <td>1</td>\n",
       "      <td>2</td>\n",
       "      <td>2</td>\n",
       "    </tr>\n",
       "    <tr>\n",
       "      <th>4</th>\n",
       "      <td>4</td>\n",
       "      <td>2017-12-01</td>\n",
       "      <td>78</td>\n",
       "      <td>4</td>\n",
       "      <td>-6.0</td>\n",
       "      <td>36</td>\n",
       "      <td>2.3</td>\n",
       "      <td>2000</td>\n",
       "      <td>-18.6</td>\n",
       "      <td>0.0</td>\n",
       "      <td>...</td>\n",
       "      <td>0</td>\n",
       "      <td>1</td>\n",
       "      <td>12</td>\n",
       "      <td>1</td>\n",
       "      <td>1</td>\n",
       "      <td>4</td>\n",
       "      <td>0</td>\n",
       "      <td>1</td>\n",
       "      <td>2</td>\n",
       "      <td>2</td>\n",
       "    </tr>\n",
       "  </tbody>\n",
       "</table>\n",
       "<p>5 rows × 23 columns</p>\n",
       "</div>"
      ],
      "text/plain": [
       "   ID       Date    y  Hour  temperature  humidity  windspeed  visibility  \\\n",
       "0   0 2017-12-01  254     0         -5.2        37        2.2        2000   \n",
       "1   1 2017-12-01  204     1         -5.5        38        0.8        2000   \n",
       "2   2 2017-12-01  173     2         -6.0        39        1.0        2000   \n",
       "3   3 2017-12-01  107     3         -6.2        40        0.9        2000   \n",
       "4   4 2017-12-01   78     4         -6.0        36        2.3        2000   \n",
       "\n",
       "   dewpoint  solarradiation  ...  Holiday  functioningday  month  year  day  \\\n",
       "0     -17.6             0.0  ...        0               1     12     1    1   \n",
       "1     -17.6             0.0  ...        0               1     12     1    1   \n",
       "2     -17.7             0.0  ...        0               1     12     1    1   \n",
       "3     -17.6             0.0  ...        0               1     12     1    1   \n",
       "4     -18.6             0.0  ...        0               1     12     1    1   \n",
       "\n",
       "   dayofweek  weekend  categorized_hour  categorized_temp  \\\n",
       "0          4        0                 1                 2   \n",
       "1          4        0                 1                 2   \n",
       "2          4        0                 1                 2   \n",
       "3          4        0                 1                 2   \n",
       "4          4        0                 1                 2   \n",
       "\n",
       "   categorized_dewpoint  \n",
       "0                     2  \n",
       "1                     2  \n",
       "2                     2  \n",
       "3                     2  \n",
       "4                     2  \n",
       "\n",
       "[5 rows x 23 columns]"
      ]
     },
     "execution_count": 32,
     "metadata": {},
     "output_type": "execute_result"
    }
   ],
   "source": [
    "train_df['year'] = train_df['year'].map({2017: 1, 2018:2})\n",
    "train_df['Seasons'] = train_df['Seasons'].map({'Summer': 1, 'Autumn': 2, 'Winter': 3, 'Spring': 4})\n",
    "\n",
    "test_df['year'] = test_df['year'].map({2017: 1, 2018:2})\n",
    "test_df['Seasons'] = test_df['Seasons'].map({'Summer': 1, 'Autumn': 2, 'Winter': 3, 'Spring': 4})\n",
    "\n",
    "train_df.head()"
   ]
  },
  {
   "cell_type": "markdown",
   "id": "ee7eec7a",
   "metadata": {
    "papermill": {
     "duration": 0.062742,
     "end_time": "2021-08-28T22:48:40.017289",
     "exception": false,
     "start_time": "2021-08-28T22:48:39.954547",
     "status": "completed"
    },
    "tags": []
   },
   "source": [
    "## month "
   ]
  },
  {
   "cell_type": "code",
   "execution_count": 33,
   "id": "98e20c8c",
   "metadata": {
    "execution": {
     "iopub.execute_input": "2021-08-28T22:48:40.148401Z",
     "iopub.status.busy": "2021-08-28T22:48:40.147731Z",
     "iopub.status.idle": "2021-08-28T22:48:40.154050Z",
     "shell.execute_reply": "2021-08-28T22:48:40.153481Z",
     "shell.execute_reply.started": "2021-08-28T22:47:38.906746Z"
    },
    "papermill": {
     "duration": 0.074904,
     "end_time": "2021-08-28T22:48:40.154181",
     "exception": false,
     "start_time": "2021-08-28T22:48:40.079277",
     "status": "completed"
    },
    "tags": []
   },
   "outputs": [
    {
     "data": {
      "text/plain": [
       "4     480\n",
       "8     480\n",
       "12    480\n",
       "1     480\n",
       "5     480\n",
       "9     480\n",
       "2     480\n",
       "6     480\n",
       "10    480\n",
       "3     480\n",
       "7     480\n",
       "11    480\n",
       "Name: month, dtype: int64"
      ]
     },
     "execution_count": 33,
     "metadata": {},
     "output_type": "execute_result"
    }
   ],
   "source": [
    "train_df['month'].value_counts()"
   ]
  },
  {
   "cell_type": "code",
   "execution_count": 34,
   "id": "0f9477d6",
   "metadata": {
    "execution": {
     "iopub.execute_input": "2021-08-28T22:48:40.285539Z",
     "iopub.status.busy": "2021-08-28T22:48:40.284843Z",
     "iopub.status.idle": "2021-08-28T22:48:40.303627Z",
     "shell.execute_reply": "2021-08-28T22:48:40.304180Z",
     "shell.execute_reply.started": "2021-08-28T22:47:38.918826Z"
    },
    "papermill": {
     "duration": 0.085731,
     "end_time": "2021-08-28T22:48:40.304333",
     "exception": false,
     "start_time": "2021-08-28T22:48:40.218602",
     "status": "completed"
    },
    "tags": []
   },
   "outputs": [
    {
     "data": {
      "text/plain": [
       "2    768\n",
       "3    768\n",
       "4    744\n",
       "1    720\n",
       "Name: month_categorized, dtype: int64"
      ]
     },
     "execution_count": 34,
     "metadata": {},
     "output_type": "execute_result"
    }
   ],
   "source": [
    "train_df['month_categorized'] = train_df['month'].apply(lambda x: 1 if (x <= 2)\n",
    "                                         else( 2 if x>2 and x<=5   \n",
    "                                             else( 3  if x>5 and x<=8\n",
    "                                                 else( 4  if x>8 and x<= 11 else 1)) ))\n",
    "\n",
    "train_df['month_categorized'].value_counts()\n",
    "\n",
    "test_df['month_categorized'] = test_df['month'].apply(lambda x: 1 if (x <= 2)\n",
    "                                         else( 2 if x>2 and x<=5   \n",
    "                                             else( 3  if x>5 and x<=8\n",
    "                                                 else( 4  if x>8 and x<= 11 else 1)) ))\n",
    "\n",
    "test_df['month_categorized'].value_counts()"
   ]
  },
  {
   "cell_type": "markdown",
   "id": "771a5b75",
   "metadata": {
    "papermill": {
     "duration": 0.06329,
     "end_time": "2021-08-28T22:48:40.431274",
     "exception": false,
     "start_time": "2021-08-28T22:48:40.367984",
     "status": "completed"
    },
    "tags": []
   },
   "source": [
    "## onehot encoding year, month, dayofweek, Seasons, categorized_temp, categorized_dewpoint, categorized_hour"
   ]
  },
  {
   "cell_type": "code",
   "execution_count": 35,
   "id": "5a77b1b9",
   "metadata": {
    "execution": {
     "iopub.execute_input": "2021-08-28T22:48:40.559007Z",
     "iopub.status.busy": "2021-08-28T22:48:40.558415Z",
     "iopub.status.idle": "2021-08-28T22:48:40.561771Z",
     "shell.execute_reply": "2021-08-28T22:48:40.562373Z",
     "shell.execute_reply.started": "2021-08-28T22:47:38.941035Z"
    },
    "papermill": {
     "duration": 0.069938,
     "end_time": "2021-08-28T22:48:40.562523",
     "exception": false,
     "start_time": "2021-08-28T22:48:40.492585",
     "status": "completed"
    },
    "tags": []
   },
   "outputs": [],
   "source": [
    "# #transform to object to make getdummies\n",
    "# train_df['year'] = train_df['year'].astype('object')\n",
    "# train_df['month'] = train_df['month'].astype('object')\n",
    "# train_df['dayofweek'] = train_df['dayofweek'].astype('object')\n",
    "\n",
    "# cols_to_onehot = ['year','month','dayofweek','Seasons',\n",
    "#                   'categorized_temp', 'categorized_dewpoint', 'categorized_hour']\n",
    "\n",
    "# onehot_columns = pd.get_dummies(train_df[cols_to_onehot])\n",
    "# train_df = pd.concat([train_df, onehot_columns], axis=1)\n",
    "# # drop columns\n",
    "# train_df.drop(cols_to_onehot, axis=1, inplace=True)\n",
    "\n",
    "# #onhot encoding for test_df\n",
    "# test_df['year'] = test_df['year'].astype('object')\n",
    "# test_df['month'] = test_df['month'].astype('object')\n",
    "# test_df['dayofweek'] = test_df['dayofweek'].astype('object')\n",
    "\n",
    "# onehot_columns = pd.get_dummies(test_df[cols_to_onehot])\n",
    "# test_df = pd.concat([test_df, onehot_columns], axis=1)\n",
    "# # drop columns\n",
    "# test_df.drop(cols_to_onehot, axis=1, inplace=True)"
   ]
  },
  {
   "cell_type": "code",
   "execution_count": 36,
   "id": "a2ec148d",
   "metadata": {
    "execution": {
     "iopub.execute_input": "2021-08-28T22:48:40.693151Z",
     "iopub.status.busy": "2021-08-28T22:48:40.692449Z",
     "iopub.status.idle": "2021-08-28T22:48:40.707560Z",
     "shell.execute_reply": "2021-08-28T22:48:40.708040Z",
     "shell.execute_reply.started": "2021-08-28T22:47:38.947528Z"
    },
    "papermill": {
     "duration": 0.08192,
     "end_time": "2021-08-28T22:48:40.708184",
     "exception": false,
     "start_time": "2021-08-28T22:48:40.626264",
     "status": "completed"
    },
    "tags": []
   },
   "outputs": [
    {
     "name": "stdout",
     "output_type": "stream",
     "text": [
      "<class 'pandas.core.frame.DataFrame'>\n",
      "RangeIndex: 5760 entries, 0 to 5759\n",
      "Data columns (total 24 columns):\n",
      " #   Column                Non-Null Count  Dtype         \n",
      "---  ------                --------------  -----         \n",
      " 0   ID                    5760 non-null   int64         \n",
      " 1   Date                  5760 non-null   datetime64[ns]\n",
      " 2   y                     5760 non-null   int64         \n",
      " 3   Hour                  5760 non-null   int64         \n",
      " 4   temperature           5760 non-null   float64       \n",
      " 5   humidity              5760 non-null   int64         \n",
      " 6   windspeed             5760 non-null   float64       \n",
      " 7   visibility            5760 non-null   int64         \n",
      " 8   dewpoint              5760 non-null   float64       \n",
      " 9   solarradiation        5760 non-null   float64       \n",
      " 10  rainfall              5760 non-null   float64       \n",
      " 11  snowfall              5760 non-null   float64       \n",
      " 12  Seasons               5760 non-null   int64         \n",
      " 13  Holiday               5760 non-null   int64         \n",
      " 14  functioningday        5760 non-null   int64         \n",
      " 15  month                 5760 non-null   int64         \n",
      " 16  year                  5760 non-null   int64         \n",
      " 17  day                   5760 non-null   int64         \n",
      " 18  dayofweek             5760 non-null   int64         \n",
      " 19  weekend               5760 non-null   int64         \n",
      " 20  categorized_hour      5760 non-null   int64         \n",
      " 21  categorized_temp      5760 non-null   int64         \n",
      " 22  categorized_dewpoint  5760 non-null   int64         \n",
      " 23  month_categorized     5760 non-null   int64         \n",
      "dtypes: datetime64[ns](1), float64(6), int64(17)\n",
      "memory usage: 1.1 MB\n"
     ]
    }
   ],
   "source": [
    "train_df.info()"
   ]
  },
  {
   "cell_type": "markdown",
   "id": "72362f02",
   "metadata": {
    "papermill": {
     "duration": 0.06155,
     "end_time": "2021-08-28T22:48:40.835367",
     "exception": false,
     "start_time": "2021-08-28T22:48:40.773817",
     "status": "completed"
    },
    "tags": []
   },
   "source": [
    "# Correlation matrix"
   ]
  },
  {
   "cell_type": "code",
   "execution_count": 37,
   "id": "fc29693d",
   "metadata": {
    "execution": {
     "iopub.execute_input": "2021-08-28T22:48:40.967204Z",
     "iopub.status.busy": "2021-08-28T22:48:40.966591Z",
     "iopub.status.idle": "2021-08-28T22:48:43.811566Z",
     "shell.execute_reply": "2021-08-28T22:48:43.812051Z",
     "shell.execute_reply.started": "2021-08-28T22:47:38.976918Z"
    },
    "papermill": {
     "duration": 2.911781,
     "end_time": "2021-08-28T22:48:43.812213",
     "exception": false,
     "start_time": "2021-08-28T22:48:40.900432",
     "status": "completed"
    },
    "tags": []
   },
   "outputs": [
    {
     "data": {
      "text/plain": [
       "<AxesSubplot:>"
      ]
     },
     "execution_count": 37,
     "metadata": {},
     "output_type": "execute_result"
    },
    {
     "data": {
      "image/png": "[encoded data removed]",
      "text/plain": [
       "<Figure size 720x720 with 2 Axes>"
      ]
     },
     "metadata": {
      "needs_background": "light"
     },
     "output_type": "display_data"
    }
   ],
   "source": [
    "cor_mx=train_df.corr()\n",
    "plt.figure(figsize=(10,10))\n",
    "sns.heatmap(cor_mx,fmt='0.01f',annot=True)"
   ]
  },
  {
   "cell_type": "code",
   "execution_count": 38,
   "id": "5f920e91",
   "metadata": {
    "execution": {
     "iopub.execute_input": "2021-08-28T22:48:43.954843Z",
     "iopub.status.busy": "2021-08-28T22:48:43.954239Z",
     "iopub.status.idle": "2021-08-28T22:48:43.960953Z",
     "shell.execute_reply": "2021-08-28T22:48:43.961380Z",
     "shell.execute_reply.started": "2021-08-28T22:47:42.043731Z"
    },
    "papermill": {
     "duration": 0.078001,
     "end_time": "2021-08-28T22:48:43.961523",
     "exception": false,
     "start_time": "2021-08-28T22:48:43.883522",
     "status": "completed"
    },
    "tags": []
   },
   "outputs": [
    {
     "data": {
      "text/plain": [
       "y                       1.000000\n",
       "temperature             0.544281\n",
       "categorized_temp        0.521838\n",
       "categorized_hour        0.420785\n",
       "Hour                    0.407180\n",
       "dewpoint                0.392454\n",
       "month_categorized       0.387001\n",
       "categorized_dewpoint    0.382102\n",
       "ID                      0.365359\n",
       "solarradiation          0.250601\n",
       "functioningday          0.227269\n",
       "visibility              0.214777\n",
       "year                    0.201837\n",
       "month                   0.167181\n",
       "windspeed               0.116380\n",
       "day                     0.045897\n",
       "dayofweek              -0.025528\n",
       "weekend                -0.031387\n",
       "Holiday                -0.058329\n",
       "rainfall               -0.117711\n",
       "snowfall               -0.120836\n",
       "humidity               -0.191603\n",
       "Seasons                -0.325915\n",
       "Name: y, dtype: float64"
      ]
     },
     "execution_count": 38,
     "metadata": {},
     "output_type": "execute_result"
    }
   ],
   "source": [
    "cor_mx['y'].sort_values(ascending=False)"
   ]
  },
  {
   "cell_type": "code",
   "execution_count": 39,
   "id": "007a5045",
   "metadata": {
    "execution": {
     "iopub.execute_input": "2021-08-28T22:48:44.103799Z",
     "iopub.status.busy": "2021-08-28T22:48:44.103221Z",
     "iopub.status.idle": "2021-08-28T22:48:44.120297Z",
     "shell.execute_reply": "2021-08-28T22:48:44.119621Z",
     "shell.execute_reply.started": "2021-08-28T22:47:42.053918Z"
    },
    "papermill": {
     "duration": 0.089107,
     "end_time": "2021-08-28T22:48:44.120471",
     "exception": false,
     "start_time": "2021-08-28T22:48:44.031364",
     "status": "completed"
    },
    "tags": []
   },
   "outputs": [
    {
     "name": "stdout",
     "output_type": "stream",
     "text": [
      "<class 'pandas.core.frame.DataFrame'>\n",
      "RangeIndex: 5760 entries, 0 to 5759\n",
      "Data columns (total 24 columns):\n",
      " #   Column                Non-Null Count  Dtype         \n",
      "---  ------                --------------  -----         \n",
      " 0   ID                    5760 non-null   int64         \n",
      " 1   Date                  5760 non-null   datetime64[ns]\n",
      " 2   y                     5760 non-null   int64         \n",
      " 3   Hour                  5760 non-null   int64         \n",
      " 4   temperature           5760 non-null   float64       \n",
      " 5   humidity              5760 non-null   int64         \n",
      " 6   windspeed             5760 non-null   float64       \n",
      " 7   visibility            5760 non-null   int64         \n",
      " 8   dewpoint              5760 non-null   float64       \n",
      " 9   solarradiation        5760 non-null   float64       \n",
      " 10  rainfall              5760 non-null   float64       \n",
      " 11  snowfall              5760 non-null   float64       \n",
      " 12  Seasons               5760 non-null   int64         \n",
      " 13  Holiday               5760 non-null   int64         \n",
      " 14  functioningday        5760 non-null   int64         \n",
      " 15  month                 5760 non-null   int64         \n",
      " 16  year                  5760 non-null   int64         \n",
      " 17  day                   5760 non-null   int64         \n",
      " 18  dayofweek             5760 non-null   int64         \n",
      " 19  weekend               5760 non-null   int64         \n",
      " 20  categorized_hour      5760 non-null   int64         \n",
      " 21  categorized_temp      5760 non-null   int64         \n",
      " 22  categorized_dewpoint  5760 non-null   int64         \n",
      " 23  month_categorized     5760 non-null   int64         \n",
      "dtypes: datetime64[ns](1), float64(6), int64(17)\n",
      "memory usage: 1.1 MB\n"
     ]
    }
   ],
   "source": [
    "train_df.info()"
   ]
  },
  {
   "cell_type": "markdown",
   "id": "a783cd17",
   "metadata": {
    "papermill": {
     "duration": 0.070487,
     "end_time": "2021-08-28T22:48:44.264402",
     "exception": false,
     "start_time": "2021-08-28T22:48:44.193915",
     "status": "completed"
    },
    "tags": []
   },
   "source": [
    "# Data Splitting"
   ]
  },
  {
   "cell_type": "code",
   "execution_count": 40,
   "id": "fab6d87e",
   "metadata": {
    "execution": {
     "iopub.execute_input": "2021-08-28T22:48:44.411623Z",
     "iopub.status.busy": "2021-08-28T22:48:44.410866Z",
     "iopub.status.idle": "2021-08-28T22:48:44.413950Z",
     "shell.execute_reply": "2021-08-28T22:48:44.414527Z",
     "shell.execute_reply.started": "2021-08-28T22:47:42.071568Z"
    },
    "papermill": {
     "duration": 0.079725,
     "end_time": "2021-08-28T22:48:44.414674",
     "exception": false,
     "start_time": "2021-08-28T22:48:44.334949",
     "status": "completed"
    },
    "tags": []
   },
   "outputs": [
    {
     "data": {
      "text/plain": [
       "Index(['ID', 'Date', 'y', 'Hour', 'temperature', 'humidity', 'windspeed',\n",
       "       'visibility', 'dewpoint', 'solarradiation', 'rainfall', 'snowfall',\n",
       "       'Seasons', 'Holiday', 'functioningday', 'month', 'year', 'day',\n",
       "       'dayofweek', 'weekend', 'categorized_hour', 'categorized_temp',\n",
       "       'categorized_dewpoint', 'month_categorized'],\n",
       "      dtype='object')"
      ]
     },
     "execution_count": 40,
     "metadata": {},
     "output_type": "execute_result"
    }
   ],
   "source": [
    "train_df.columns"
   ]
  },
  {
   "cell_type": "code",
   "execution_count": 41,
   "id": "fb84700a",
   "metadata": {
    "execution": {
     "iopub.execute_input": "2021-08-28T22:48:44.560360Z",
     "iopub.status.busy": "2021-08-28T22:48:44.559496Z",
     "iopub.status.idle": "2021-08-28T22:48:44.566118Z",
     "shell.execute_reply": "2021-08-28T22:48:44.566568Z",
     "shell.execute_reply.started": "2021-08-28T22:47:42.080976Z"
    },
    "papermill": {
     "duration": 0.081053,
     "end_time": "2021-08-28T22:48:44.566731",
     "exception": false,
     "start_time": "2021-08-28T22:48:44.485678",
     "status": "completed"
    },
    "tags": []
   },
   "outputs": [
    {
     "data": {
      "text/plain": [
       "4    1440\n",
       "1    1440\n",
       "2    1440\n",
       "3    1440\n",
       "Name: Seasons, dtype: int64"
      ]
     },
     "execution_count": 41,
     "metadata": {},
     "output_type": "execute_result"
    }
   ],
   "source": [
    "train_df['Seasons'].value_counts()"
   ]
  },
  {
   "cell_type": "code",
   "execution_count": 42,
   "id": "45552c3e",
   "metadata": {
    "execution": {
     "iopub.execute_input": "2021-08-28T22:48:44.709512Z",
     "iopub.status.busy": "2021-08-28T22:48:44.708625Z",
     "iopub.status.idle": "2021-08-28T22:48:44.733458Z",
     "shell.execute_reply": "2021-08-28T22:48:44.733876Z",
     "shell.execute_reply.started": "2021-08-28T22:47:42.091191Z"
    },
    "papermill": {
     "duration": 0.098678,
     "end_time": "2021-08-28T22:48:44.734051",
     "exception": false,
     "start_time": "2021-08-28T22:48:44.635373",
     "status": "completed"
    },
    "tags": []
   },
   "outputs": [
    {
     "data": {
      "text/html": [
       "<div>\n",
       "<style scoped>\n",
       "    .dataframe tbody tr th:only-of-type {\n",
       "        vertical-align: middle;\n",
       "    }\n",
       "\n",
       "    .dataframe tbody tr th {\n",
       "        vertical-align: top;\n",
       "    }\n",
       "\n",
       "    .dataframe thead th {\n",
       "        text-align: right;\n",
       "    }\n",
       "</style>\n",
       "<table border=\"1\" class=\"dataframe\">\n",
       "  <thead>\n",
       "    <tr style=\"text-align: right;\">\n",
       "      <th></th>\n",
       "      <th>ID</th>\n",
       "      <th>Date</th>\n",
       "      <th>y</th>\n",
       "      <th>Hour</th>\n",
       "      <th>temperature</th>\n",
       "      <th>humidity</th>\n",
       "      <th>windspeed</th>\n",
       "      <th>visibility</th>\n",
       "      <th>dewpoint</th>\n",
       "      <th>solarradiation</th>\n",
       "      <th>...</th>\n",
       "      <th>functioningday</th>\n",
       "      <th>month</th>\n",
       "      <th>year</th>\n",
       "      <th>day</th>\n",
       "      <th>dayofweek</th>\n",
       "      <th>weekend</th>\n",
       "      <th>categorized_hour</th>\n",
       "      <th>categorized_temp</th>\n",
       "      <th>categorized_dewpoint</th>\n",
       "      <th>month_categorized</th>\n",
       "    </tr>\n",
       "  </thead>\n",
       "  <tbody>\n",
       "    <tr>\n",
       "      <th>0</th>\n",
       "      <td>0</td>\n",
       "      <td>2017-12-01</td>\n",
       "      <td>254</td>\n",
       "      <td>0</td>\n",
       "      <td>-5.2</td>\n",
       "      <td>37</td>\n",
       "      <td>2.2</td>\n",
       "      <td>2000</td>\n",
       "      <td>-17.6</td>\n",
       "      <td>0.0</td>\n",
       "      <td>...</td>\n",
       "      <td>1</td>\n",
       "      <td>12</td>\n",
       "      <td>1</td>\n",
       "      <td>1</td>\n",
       "      <td>4</td>\n",
       "      <td>0</td>\n",
       "      <td>1</td>\n",
       "      <td>2</td>\n",
       "      <td>2</td>\n",
       "      <td>1</td>\n",
       "    </tr>\n",
       "    <tr>\n",
       "      <th>1</th>\n",
       "      <td>1</td>\n",
       "      <td>2017-12-01</td>\n",
       "      <td>204</td>\n",
       "      <td>1</td>\n",
       "      <td>-5.5</td>\n",
       "      <td>38</td>\n",
       "      <td>0.8</td>\n",
       "      <td>2000</td>\n",
       "      <td>-17.6</td>\n",
       "      <td>0.0</td>\n",
       "      <td>...</td>\n",
       "      <td>1</td>\n",
       "      <td>12</td>\n",
       "      <td>1</td>\n",
       "      <td>1</td>\n",
       "      <td>4</td>\n",
       "      <td>0</td>\n",
       "      <td>1</td>\n",
       "      <td>2</td>\n",
       "      <td>2</td>\n",
       "      <td>1</td>\n",
       "    </tr>\n",
       "    <tr>\n",
       "      <th>2</th>\n",
       "      <td>2</td>\n",
       "      <td>2017-12-01</td>\n",
       "      <td>173</td>\n",
       "      <td>2</td>\n",
       "      <td>-6.0</td>\n",
       "      <td>39</td>\n",
       "      <td>1.0</td>\n",
       "      <td>2000</td>\n",
       "      <td>-17.7</td>\n",
       "      <td>0.0</td>\n",
       "      <td>...</td>\n",
       "      <td>1</td>\n",
       "      <td>12</td>\n",
       "      <td>1</td>\n",
       "      <td>1</td>\n",
       "      <td>4</td>\n",
       "      <td>0</td>\n",
       "      <td>1</td>\n",
       "      <td>2</td>\n",
       "      <td>2</td>\n",
       "      <td>1</td>\n",
       "    </tr>\n",
       "    <tr>\n",
       "      <th>3</th>\n",
       "      <td>3</td>\n",
       "      <td>2017-12-01</td>\n",
       "      <td>107</td>\n",
       "      <td>3</td>\n",
       "      <td>-6.2</td>\n",
       "      <td>40</td>\n",
       "      <td>0.9</td>\n",
       "      <td>2000</td>\n",
       "      <td>-17.6</td>\n",
       "      <td>0.0</td>\n",
       "      <td>...</td>\n",
       "      <td>1</td>\n",
       "      <td>12</td>\n",
       "      <td>1</td>\n",
       "      <td>1</td>\n",
       "      <td>4</td>\n",
       "      <td>0</td>\n",
       "      <td>1</td>\n",
       "      <td>2</td>\n",
       "      <td>2</td>\n",
       "      <td>1</td>\n",
       "    </tr>\n",
       "    <tr>\n",
       "      <th>4</th>\n",
       "      <td>4</td>\n",
       "      <td>2017-12-01</td>\n",
       "      <td>78</td>\n",
       "      <td>4</td>\n",
       "      <td>-6.0</td>\n",
       "      <td>36</td>\n",
       "      <td>2.3</td>\n",
       "      <td>2000</td>\n",
       "      <td>-18.6</td>\n",
       "      <td>0.0</td>\n",
       "      <td>...</td>\n",
       "      <td>1</td>\n",
       "      <td>12</td>\n",
       "      <td>1</td>\n",
       "      <td>1</td>\n",
       "      <td>4</td>\n",
       "      <td>0</td>\n",
       "      <td>1</td>\n",
       "      <td>2</td>\n",
       "      <td>2</td>\n",
       "      <td>1</td>\n",
       "    </tr>\n",
       "  </tbody>\n",
       "</table>\n",
       "<p>5 rows × 24 columns</p>\n",
       "</div>"
      ],
      "text/plain": [
       "   ID       Date    y  Hour  temperature  humidity  windspeed  visibility  \\\n",
       "0   0 2017-12-01  254     0         -5.2        37        2.2        2000   \n",
       "1   1 2017-12-01  204     1         -5.5        38        0.8        2000   \n",
       "2   2 2017-12-01  173     2         -6.0        39        1.0        2000   \n",
       "3   3 2017-12-01  107     3         -6.2        40        0.9        2000   \n",
       "4   4 2017-12-01   78     4         -6.0        36        2.3        2000   \n",
       "\n",
       "   dewpoint  solarradiation  ...  functioningday  month  year  day  dayofweek  \\\n",
       "0     -17.6             0.0  ...               1     12     1    1          4   \n",
       "1     -17.6             0.0  ...               1     12     1    1          4   \n",
       "2     -17.7             0.0  ...               1     12     1    1          4   \n",
       "3     -17.6             0.0  ...               1     12     1    1          4   \n",
       "4     -18.6             0.0  ...               1     12     1    1          4   \n",
       "\n",
       "   weekend  categorized_hour  categorized_temp  categorized_dewpoint  \\\n",
       "0        0                 1                 2                     2   \n",
       "1        0                 1                 2                     2   \n",
       "2        0                 1                 2                     2   \n",
       "3        0                 1                 2                     2   \n",
       "4        0                 1                 2                     2   \n",
       "\n",
       "   month_categorized  \n",
       "0                  1  \n",
       "1                  1  \n",
       "2                  1  \n",
       "3                  1  \n",
       "4                  1  \n",
       "\n",
       "[5 rows x 24 columns]"
      ]
     },
     "execution_count": 42,
     "metadata": {},
     "output_type": "execute_result"
    }
   ],
   "source": [
    "train_df.head()"
   ]
  },
  {
   "cell_type": "markdown",
   "id": "940f4f3a",
   "metadata": {
    "papermill": {
     "duration": 0.077174,
     "end_time": "2021-08-28T22:48:44.882858",
     "exception": false,
     "start_time": "2021-08-28T22:48:44.805684",
     "status": "completed"
    },
    "tags": []
   },
   "source": [
    "## split according to days"
   ]
  },
  {
   "cell_type": "code",
   "execution_count": 43,
   "id": "1c5b0eac",
   "metadata": {
    "execution": {
     "iopub.execute_input": "2021-08-28T22:48:45.046424Z",
     "iopub.status.busy": "2021-08-28T22:48:45.045327Z",
     "iopub.status.idle": "2021-08-28T22:48:45.079327Z",
     "shell.execute_reply": "2021-08-28T22:48:45.078782Z",
     "shell.execute_reply.started": "2021-08-28T22:47:42.125576Z"
    },
    "papermill": {
     "duration": 0.109698,
     "end_time": "2021-08-28T22:48:45.079459",
     "exception": false,
     "start_time": "2021-08-28T22:48:44.969761",
     "status": "completed"
    },
    "tags": []
   },
   "outputs": [
    {
     "name": "stdout",
     "output_type": "stream",
     "text": [
      "4320\n",
      "1440\n"
     ]
    },
    {
     "data": {
      "text/html": [
       "<div>\n",
       "<style scoped>\n",
       "    .dataframe tbody tr th:only-of-type {\n",
       "        vertical-align: middle;\n",
       "    }\n",
       "\n",
       "    .dataframe tbody tr th {\n",
       "        vertical-align: top;\n",
       "    }\n",
       "\n",
       "    .dataframe thead th {\n",
       "        text-align: right;\n",
       "    }\n",
       "</style>\n",
       "<table border=\"1\" class=\"dataframe\">\n",
       "  <thead>\n",
       "    <tr style=\"text-align: right;\">\n",
       "      <th></th>\n",
       "      <th>Hour</th>\n",
       "      <th>temperature</th>\n",
       "      <th>humidity</th>\n",
       "      <th>windspeed</th>\n",
       "      <th>visibility</th>\n",
       "      <th>dewpoint</th>\n",
       "      <th>solarradiation</th>\n",
       "      <th>rainfall</th>\n",
       "      <th>snowfall</th>\n",
       "      <th>Holiday</th>\n",
       "      <th>functioningday</th>\n",
       "      <th>month</th>\n",
       "      <th>year</th>\n",
       "      <th>weekend</th>\n",
       "      <th>categorized_hour</th>\n",
       "      <th>categorized_temp</th>\n",
       "      <th>categorized_dewpoint</th>\n",
       "      <th>month_categorized</th>\n",
       "    </tr>\n",
       "  </thead>\n",
       "  <tbody>\n",
       "    <tr>\n",
       "      <th>1</th>\n",
       "      <td>23</td>\n",
       "      <td>10.3</td>\n",
       "      <td>84</td>\n",
       "      <td>1.3</td>\n",
       "      <td>250</td>\n",
       "      <td>7.7</td>\n",
       "      <td>0.00</td>\n",
       "      <td>0.0</td>\n",
       "      <td>0.0</td>\n",
       "      <td>0</td>\n",
       "      <td>1</td>\n",
       "      <td>11</td>\n",
       "      <td>2</td>\n",
       "      <td>1</td>\n",
       "      <td>4</td>\n",
       "      <td>4</td>\n",
       "      <td>4</td>\n",
       "      <td>4</td>\n",
       "    </tr>\n",
       "    <tr>\n",
       "      <th>3</th>\n",
       "      <td>23</td>\n",
       "      <td>25.1</td>\n",
       "      <td>65</td>\n",
       "      <td>2.2</td>\n",
       "      <td>2000</td>\n",
       "      <td>18.0</td>\n",
       "      <td>0.00</td>\n",
       "      <td>0.0</td>\n",
       "      <td>0.0</td>\n",
       "      <td>0</td>\n",
       "      <td>1</td>\n",
       "      <td>9</td>\n",
       "      <td>2</td>\n",
       "      <td>1</td>\n",
       "      <td>4</td>\n",
       "      <td>5</td>\n",
       "      <td>5</td>\n",
       "      <td>4</td>\n",
       "    </tr>\n",
       "    <tr>\n",
       "      <th>4</th>\n",
       "      <td>19</td>\n",
       "      <td>28.2</td>\n",
       "      <td>64</td>\n",
       "      <td>2.8</td>\n",
       "      <td>1978</td>\n",
       "      <td>20.7</td>\n",
       "      <td>0.50</td>\n",
       "      <td>0.0</td>\n",
       "      <td>0.0</td>\n",
       "      <td>0</td>\n",
       "      <td>1</td>\n",
       "      <td>7</td>\n",
       "      <td>2</td>\n",
       "      <td>0</td>\n",
       "      <td>4</td>\n",
       "      <td>5</td>\n",
       "      <td>6</td>\n",
       "      <td>3</td>\n",
       "    </tr>\n",
       "    <tr>\n",
       "      <th>5</th>\n",
       "      <td>9</td>\n",
       "      <td>29.1</td>\n",
       "      <td>76</td>\n",
       "      <td>2.2</td>\n",
       "      <td>1041</td>\n",
       "      <td>24.4</td>\n",
       "      <td>1.38</td>\n",
       "      <td>0.0</td>\n",
       "      <td>0.0</td>\n",
       "      <td>0</td>\n",
       "      <td>1</td>\n",
       "      <td>8</td>\n",
       "      <td>2</td>\n",
       "      <td>1</td>\n",
       "      <td>2</td>\n",
       "      <td>5</td>\n",
       "      <td>6</td>\n",
       "      <td>3</td>\n",
       "    </tr>\n",
       "    <tr>\n",
       "      <th>6</th>\n",
       "      <td>4</td>\n",
       "      <td>-0.5</td>\n",
       "      <td>75</td>\n",
       "      <td>0.6</td>\n",
       "      <td>1967</td>\n",
       "      <td>-4.3</td>\n",
       "      <td>0.00</td>\n",
       "      <td>0.0</td>\n",
       "      <td>0.0</td>\n",
       "      <td>0</td>\n",
       "      <td>1</td>\n",
       "      <td>3</td>\n",
       "      <td>2</td>\n",
       "      <td>0</td>\n",
       "      <td>1</td>\n",
       "      <td>2</td>\n",
       "      <td>3</td>\n",
       "      <td>2</td>\n",
       "    </tr>\n",
       "  </tbody>\n",
       "</table>\n",
       "</div>"
      ],
      "text/plain": [
       "   Hour  temperature  humidity  windspeed  visibility  dewpoint  \\\n",
       "1    23         10.3        84        1.3         250       7.7   \n",
       "3    23         25.1        65        2.2        2000      18.0   \n",
       "4    19         28.2        64        2.8        1978      20.7   \n",
       "5     9         29.1        76        2.2        1041      24.4   \n",
       "6     4         -0.5        75        0.6        1967      -4.3   \n",
       "\n",
       "   solarradiation  rainfall  snowfall  Holiday  functioningday  month  year  \\\n",
       "1            0.00       0.0       0.0        0               1     11     2   \n",
       "3            0.00       0.0       0.0        0               1      9     2   \n",
       "4            0.50       0.0       0.0        0               1      7     2   \n",
       "5            1.38       0.0       0.0        0               1      8     2   \n",
       "6            0.00       0.0       0.0        0               1      3     2   \n",
       "\n",
       "   weekend  categorized_hour  categorized_temp  categorized_dewpoint  \\\n",
       "1        1                 4                 4                     4   \n",
       "3        1                 4                 5                     5   \n",
       "4        0                 4                 5                     6   \n",
       "5        1                 2                 5                     6   \n",
       "6        0                 1                 2                     3   \n",
       "\n",
       "   month_categorized  \n",
       "1                  4  \n",
       "3                  4  \n",
       "4                  3  \n",
       "5                  3  \n",
       "6                  2  "
      ]
     },
     "execution_count": 43,
     "metadata": {},
     "output_type": "execute_result"
    }
   ],
   "source": [
    "full_train_df = train_df.copy() #to be used for trainig with all data\n",
    "\n",
    "full_train_df = full_train_df.sample(frac=1, random_state=1).reset_index(drop=True)\n",
    "                                                                        \n",
    "train_df = full_train_df[full_train_df['day'] <= 15]\n",
    "val_df = full_train_df[full_train_df['day'] >= 16]\n",
    "\n",
    "X_train = train_df.drop(columns=['y','ID', 'Date', 'Seasons', 'day', 'dayofweek'])\n",
    "\n",
    "y_train = np.log(train_df['y']+1)\n",
    "\n",
    "X_val = val_df.drop(columns=['y','ID', 'Date', 'Seasons', 'day', 'dayofweek'])\n",
    "y_val = np.log(val_df['y']+1)\n",
    "\n",
    "print(len(train_df))\n",
    "print(len(val_df))\n",
    "\n",
    "X_train.head()"
   ]
  },
  {
   "cell_type": "code",
   "execution_count": 44,
   "id": "07c4f0da",
   "metadata": {
    "execution": {
     "iopub.execute_input": "2021-08-28T22:48:45.231111Z",
     "iopub.status.busy": "2021-08-28T22:48:45.230124Z",
     "iopub.status.idle": "2021-08-28T22:48:45.233003Z",
     "shell.execute_reply": "2021-08-28T22:48:45.232474Z",
     "shell.execute_reply.started": "2021-08-28T22:47:42.165482Z"
    },
    "papermill": {
     "duration": 0.080764,
     "end_time": "2021-08-28T22:48:45.233126",
     "exception": false,
     "start_time": "2021-08-28T22:48:45.152362",
     "status": "completed"
    },
    "tags": []
   },
   "outputs": [],
   "source": [
    "# from sklearn.model_selection import train_test_split\n",
    "\n",
    "# full_train_df = train_df.copy() #to be used for trainig with all data\n",
    "\n",
    "# train_df, val_df = train_test_split(train_df, test_size=0.2, random_state=42)\n",
    "\n",
    "# X_train = train_df.drop(columns=['y','ID', 'Date', 'categorized_hour', 'categorized_temp',\n",
    "#                                  'categorized_dewpoint', 'Seasons', 'day', 'dayofweek'])\n",
    "# y_train = train_df['y']\n",
    "\n",
    "# X_val = val_df.drop(columns=['y','ID', 'Date', 'categorized_hour', 'categorized_temp',\n",
    "#                                  'categorized_dewpoint', 'Seasons', 'day', 'dayofweek'])\n",
    "# y_val = val_df['y']"
   ]
  },
  {
   "cell_type": "markdown",
   "id": "726bb031",
   "metadata": {
    "papermill": {
     "duration": 0.072523,
     "end_time": "2021-08-28T22:48:45.378899",
     "exception": false,
     "start_time": "2021-08-28T22:48:45.306376",
     "status": "completed"
    },
    "tags": []
   },
   "source": [
    "# Model Training"
   ]
  },
  {
   "cell_type": "markdown",
   "id": "9d016fd5",
   "metadata": {
    "papermill": {
     "duration": 0.072327,
     "end_time": "2021-08-28T22:48:45.524033",
     "exception": false,
     "start_time": "2021-08-28T22:48:45.451706",
     "status": "completed"
    },
    "tags": []
   },
   "source": [
    "## RMSLE Root mean squared logarithmic error"
   ]
  },
  {
   "cell_type": "code",
   "execution_count": 45,
   "id": "c8d2bc10",
   "metadata": {
    "execution": {
     "iopub.execute_input": "2021-08-28T22:48:45.673349Z",
     "iopub.status.busy": "2021-08-28T22:48:45.672759Z",
     "iopub.status.idle": "2021-08-28T22:48:45.674597Z",
     "shell.execute_reply": "2021-08-28T22:48:45.675099Z",
     "shell.execute_reply.started": "2021-08-28T22:47:42.172335Z"
    },
    "papermill": {
     "duration": 0.080341,
     "end_time": "2021-08-28T22:48:45.675245",
     "exception": false,
     "start_time": "2021-08-28T22:48:45.594904",
     "status": "completed"
    },
    "tags": []
   },
   "outputs": [],
   "source": [
    "import math\n",
    "import numpy as np\n",
    "def RMSLE(predict, target):\n",
    "    total = 0 \n",
    "    for k in range(len(predict)):\n",
    "        LPred= np.log1p(predict[k]+1)\n",
    "        LTarg = np.log1p(target[k] + 1)\n",
    "        if not (math.isnan(LPred)) and  not (math.isnan(LTarg)): \n",
    "            total = total + ((LPred-LTarg) **2)\n",
    "        \n",
    "    total = total / len(predict)        \n",
    "    return np.sqrt(total)"
   ]
  },
  {
   "cell_type": "markdown",
   "id": "518312ff",
   "metadata": {
    "papermill": {
     "duration": 0.071789,
     "end_time": "2021-08-28T22:48:45.819189",
     "exception": false,
     "start_time": "2021-08-28T22:48:45.747400",
     "status": "completed"
    },
    "tags": []
   },
   "source": [
    "# CatBoost"
   ]
  },
  {
   "cell_type": "code",
   "execution_count": 46,
   "id": "f4b6eddf",
   "metadata": {
    "execution": {
     "iopub.execute_input": "2021-08-28T22:48:45.966805Z",
     "iopub.status.busy": "2021-08-28T22:48:45.966167Z",
     "iopub.status.idle": "2021-08-28T22:48:52.250126Z",
     "shell.execute_reply": "2021-08-28T22:48:52.249491Z",
     "shell.execute_reply.started": "2021-08-28T22:47:42.186708Z"
    },
    "papermill": {
     "duration": 6.359052,
     "end_time": "2021-08-28T22:48:52.250262",
     "exception": false,
     "start_time": "2021-08-28T22:48:45.891210",
     "status": "completed"
    },
    "tags": []
   },
   "outputs": [
    {
     "name": "stdout",
     "output_type": "stream",
     "text": [
      "0:\tlearn: 15.9862583\ttest: 16.6036918\tbest: 16.6036918 (0)\ttotal: 52ms\tremaining: 2m 35s\n",
      "200:\tlearn: 0.0433250\ttest: 0.0676105\tbest: 0.0675264 (199)\ttotal: 414ms\tremaining: 5.77s\n",
      "400:\tlearn: 0.0250782\ttest: 0.0642196\tbest: 0.0641588 (392)\ttotal: 777ms\tremaining: 5.03s\n",
      "600:\tlearn: 0.0176477\ttest: 0.0636077\tbest: 0.0635676 (595)\ttotal: 1.13s\tremaining: 4.52s\n",
      "800:\tlearn: 0.0135855\ttest: 0.0634362\tbest: 0.0634113 (781)\ttotal: 1.5s\tremaining: 4.1s\n",
      "1000:\tlearn: 0.0108590\ttest: 0.0630960\tbest: 0.0630960 (1000)\ttotal: 1.86s\tremaining: 3.72s\n",
      "1200:\tlearn: 0.0088400\ttest: 0.0630813\tbest: 0.0630136 (1020)\ttotal: 2.23s\tremaining: 3.34s\n",
      "1400:\tlearn: 0.0074135\ttest: 0.0629542\tbest: 0.0629423 (1268)\ttotal: 2.58s\tremaining: 2.95s\n",
      "1600:\tlearn: 0.0062965\ttest: 0.0629553\tbest: 0.0628672 (1474)\ttotal: 2.96s\tremaining: 2.59s\n",
      "1800:\tlearn: 0.0053143\ttest: 0.0630604\tbest: 0.0628672 (1474)\ttotal: 3.33s\tremaining: 2.22s\n",
      "2000:\tlearn: 0.0045855\ttest: 0.0630632\tbest: 0.0628672 (1474)\ttotal: 3.69s\tremaining: 1.84s\n",
      "2200:\tlearn: 0.0040303\ttest: 0.0631290\tbest: 0.0628672 (1474)\ttotal: 4.06s\tremaining: 1.47s\n",
      "2400:\tlearn: 0.0035411\ttest: 0.0632298\tbest: 0.0628672 (1474)\ttotal: 4.43s\tremaining: 1.11s\n",
      "2600:\tlearn: 0.0031427\ttest: 0.0632794\tbest: 0.0628672 (1474)\ttotal: 4.79s\tremaining: 735ms\n",
      "2800:\tlearn: 0.0028042\ttest: 0.0632907\tbest: 0.0628672 (1474)\ttotal: 5.17s\tremaining: 367ms\n",
      "2999:\tlearn: 0.0025129\ttest: 0.0632542\tbest: 0.0628672 (1474)\ttotal: 5.54s\tremaining: 0us\n",
      "\n",
      "bestTest = 0.06286717295\n",
      "bestIteration = 1474\n",
      "\n",
      "Shrink model to first 1475 iterations.\n",
      "Training score:  0.9952758463368553\n",
      "Validation score:  0.9466279701247524\n",
      "My RMSLE for vald: 0.3503643012318587\n",
      "My RMSLE for train: 0.11605078063133549\n"
     ]
    }
   ],
   "source": [
    "from catboost import CatBoostRegressor\n",
    "from sklearn.model_selection import cross_val_score\n",
    "from sklearn.model_selection import RepeatedStratifiedKFold\n",
    "\n",
    "cat  = CatBoostRegressor(iterations=3000, learning_rate=0.07, random_seed=45\n",
    "                         ,verbose=200,loss_function=\"Huber:delta=200\")\n",
    "\n",
    "\n",
    "cat.fit(X_train,y_train,eval_set=(X_val, y_val),use_best_model=True)\n",
    "\n",
    "score = cat.score(X_train, y_train)  \n",
    "print(\"Training score: \", score)\n",
    "vald_score = cat.score(X_val, y_val) \n",
    "print(\"Validation score: \", vald_score)\n",
    "\n",
    "y_predicted = np.exp(cat.predict(X_val))-1\n",
    "\n",
    "print ('My RMSLE for vald: ' + str(RMSLE(np.exp(cat.predict(X_val))-1,np.exp(np.array(y_val))-1) ))\n",
    "print ('My RMSLE for train: ' + str(RMSLE(np.exp(cat.predict(X_train))-1,np.exp(np.array(y_train))-1) ))"
   ]
  },
  {
   "cell_type": "markdown",
   "id": "5904fa3c",
   "metadata": {
    "papermill": {
     "duration": 0.077489,
     "end_time": "2021-08-28T22:48:52.406953",
     "exception": false,
     "start_time": "2021-08-28T22:48:52.329464",
     "status": "completed"
    },
    "tags": []
   },
   "source": [
    "Shrink model to first 968 iterations.\n",
    "Training score:  0.9939923069812867\n",
    "Validation score:  0.945884782664018\n",
    "My RMSLE for vald: 0.3541770271032328\n",
    "My RMSLE for train: 0.13163407051825646"
   ]
  },
  {
   "cell_type": "markdown",
   "id": "4a5d1997",
   "metadata": {
    "papermill": {
     "duration": 0.076595,
     "end_time": "2021-08-28T22:48:52.560240",
     "exception": false,
     "start_time": "2021-08-28T22:48:52.483645",
     "status": "completed"
    },
    "tags": []
   },
   "source": [
    "# Submission File Generation"
   ]
  },
  {
   "cell_type": "code",
   "execution_count": 47,
   "id": "f3dce752",
   "metadata": {
    "execution": {
     "iopub.execute_input": "2021-08-28T22:48:52.721552Z",
     "iopub.status.busy": "2021-08-28T22:48:52.720874Z",
     "iopub.status.idle": "2021-08-28T22:48:52.757439Z",
     "shell.execute_reply": "2021-08-28T22:48:52.756745Z",
     "shell.execute_reply.started": "2021-08-28T22:47:48.384923Z"
    },
    "papermill": {
     "duration": 0.119547,
     "end_time": "2021-08-28T22:48:52.757576",
     "exception": false,
     "start_time": "2021-08-28T22:48:52.638029",
     "status": "completed"
    },
    "tags": []
   },
   "outputs": [
    {
     "data": {
      "text/html": [
       "<div>\n",
       "<style scoped>\n",
       "    .dataframe tbody tr th:only-of-type {\n",
       "        vertical-align: middle;\n",
       "    }\n",
       "\n",
       "    .dataframe tbody tr th {\n",
       "        vertical-align: top;\n",
       "    }\n",
       "\n",
       "    .dataframe thead th {\n",
       "        text-align: right;\n",
       "    }\n",
       "</style>\n",
       "<table border=\"1\" class=\"dataframe\">\n",
       "  <thead>\n",
       "    <tr style=\"text-align: right;\">\n",
       "      <th></th>\n",
       "      <th>ID</th>\n",
       "      <th>Date</th>\n",
       "      <th>Hour</th>\n",
       "      <th>temperature</th>\n",
       "      <th>humidity</th>\n",
       "      <th>windspeed</th>\n",
       "      <th>visibility</th>\n",
       "      <th>dewpoint</th>\n",
       "      <th>solarradiation</th>\n",
       "      <th>rainfall</th>\n",
       "      <th>...</th>\n",
       "      <th>month</th>\n",
       "      <th>year</th>\n",
       "      <th>day</th>\n",
       "      <th>dayofweek</th>\n",
       "      <th>weekend</th>\n",
       "      <th>categorized_hour</th>\n",
       "      <th>categorized_temp</th>\n",
       "      <th>categorized_dewpoint</th>\n",
       "      <th>month_categorized</th>\n",
       "      <th>y</th>\n",
       "    </tr>\n",
       "  </thead>\n",
       "  <tbody>\n",
       "    <tr>\n",
       "      <th>0</th>\n",
       "      <td>5760</td>\n",
       "      <td>2017-12-21</td>\n",
       "      <td>0</td>\n",
       "      <td>-1.3</td>\n",
       "      <td>90</td>\n",
       "      <td>2.0</td>\n",
       "      <td>259</td>\n",
       "      <td>-2.7</td>\n",
       "      <td>0.0</td>\n",
       "      <td>0.0</td>\n",
       "      <td>...</td>\n",
       "      <td>12</td>\n",
       "      <td>1</td>\n",
       "      <td>21</td>\n",
       "      <td>3</td>\n",
       "      <td>0</td>\n",
       "      <td>1</td>\n",
       "      <td>2</td>\n",
       "      <td>3</td>\n",
       "      <td>1</td>\n",
       "      <td>81</td>\n",
       "    </tr>\n",
       "    <tr>\n",
       "      <th>1</th>\n",
       "      <td>5761</td>\n",
       "      <td>2017-12-21</td>\n",
       "      <td>1</td>\n",
       "      <td>-1.8</td>\n",
       "      <td>90</td>\n",
       "      <td>1.6</td>\n",
       "      <td>263</td>\n",
       "      <td>-3.2</td>\n",
       "      <td>0.0</td>\n",
       "      <td>0.0</td>\n",
       "      <td>...</td>\n",
       "      <td>12</td>\n",
       "      <td>1</td>\n",
       "      <td>21</td>\n",
       "      <td>3</td>\n",
       "      <td>0</td>\n",
       "      <td>1</td>\n",
       "      <td>2</td>\n",
       "      <td>3</td>\n",
       "      <td>1</td>\n",
       "      <td>82</td>\n",
       "    </tr>\n",
       "    <tr>\n",
       "      <th>2</th>\n",
       "      <td>5762</td>\n",
       "      <td>2017-12-21</td>\n",
       "      <td>2</td>\n",
       "      <td>-2.2</td>\n",
       "      <td>88</td>\n",
       "      <td>1.4</td>\n",
       "      <td>348</td>\n",
       "      <td>-3.9</td>\n",
       "      <td>0.0</td>\n",
       "      <td>0.0</td>\n",
       "      <td>...</td>\n",
       "      <td>12</td>\n",
       "      <td>1</td>\n",
       "      <td>21</td>\n",
       "      <td>3</td>\n",
       "      <td>0</td>\n",
       "      <td>1</td>\n",
       "      <td>2</td>\n",
       "      <td>3</td>\n",
       "      <td>1</td>\n",
       "      <td>63</td>\n",
       "    </tr>\n",
       "    <tr>\n",
       "      <th>3</th>\n",
       "      <td>5763</td>\n",
       "      <td>2017-12-21</td>\n",
       "      <td>3</td>\n",
       "      <td>-2.9</td>\n",
       "      <td>89</td>\n",
       "      <td>1.3</td>\n",
       "      <td>288</td>\n",
       "      <td>-4.4</td>\n",
       "      <td>0.0</td>\n",
       "      <td>0.0</td>\n",
       "      <td>...</td>\n",
       "      <td>12</td>\n",
       "      <td>1</td>\n",
       "      <td>21</td>\n",
       "      <td>3</td>\n",
       "      <td>0</td>\n",
       "      <td>1</td>\n",
       "      <td>2</td>\n",
       "      <td>3</td>\n",
       "      <td>1</td>\n",
       "      <td>46</td>\n",
       "    </tr>\n",
       "    <tr>\n",
       "      <th>4</th>\n",
       "      <td>5764</td>\n",
       "      <td>2017-12-21</td>\n",
       "      <td>4</td>\n",
       "      <td>-3.6</td>\n",
       "      <td>91</td>\n",
       "      <td>1.2</td>\n",
       "      <td>241</td>\n",
       "      <td>-4.8</td>\n",
       "      <td>0.0</td>\n",
       "      <td>0.0</td>\n",
       "      <td>...</td>\n",
       "      <td>12</td>\n",
       "      <td>1</td>\n",
       "      <td>21</td>\n",
       "      <td>3</td>\n",
       "      <td>0</td>\n",
       "      <td>1</td>\n",
       "      <td>2</td>\n",
       "      <td>3</td>\n",
       "      <td>1</td>\n",
       "      <td>39</td>\n",
       "    </tr>\n",
       "  </tbody>\n",
       "</table>\n",
       "<p>5 rows × 24 columns</p>\n",
       "</div>"
      ],
      "text/plain": [
       "     ID       Date  Hour  temperature  humidity  windspeed  visibility  \\\n",
       "0  5760 2017-12-21     0         -1.3        90        2.0         259   \n",
       "1  5761 2017-12-21     1         -1.8        90        1.6         263   \n",
       "2  5762 2017-12-21     2         -2.2        88        1.4         348   \n",
       "3  5763 2017-12-21     3         -2.9        89        1.3         288   \n",
       "4  5764 2017-12-21     4         -3.6        91        1.2         241   \n",
       "\n",
       "   dewpoint  solarradiation  rainfall  ...  month  year  day  dayofweek  \\\n",
       "0      -2.7             0.0       0.0  ...     12     1   21          3   \n",
       "1      -3.2             0.0       0.0  ...     12     1   21          3   \n",
       "2      -3.9             0.0       0.0  ...     12     1   21          3   \n",
       "3      -4.4             0.0       0.0  ...     12     1   21          3   \n",
       "4      -4.8             0.0       0.0  ...     12     1   21          3   \n",
       "\n",
       "   weekend  categorized_hour  categorized_temp  categorized_dewpoint  \\\n",
       "0        0                 1                 2                     3   \n",
       "1        0                 1                 2                     3   \n",
       "2        0                 1                 2                     3   \n",
       "3        0                 1                 2                     3   \n",
       "4        0                 1                 2                     3   \n",
       "\n",
       "   month_categorized   y  \n",
       "0                  1  81  \n",
       "1                  1  82  \n",
       "2                  1  63  \n",
       "3                  1  46  \n",
       "4                  1  39  \n",
       "\n",
       "[5 rows x 24 columns]"
      ]
     },
     "execution_count": 47,
     "metadata": {},
     "output_type": "execute_result"
    }
   ],
   "source": [
    "X_test = test_df.copy()\n",
    "\n",
    "# You should update/remove the next line once you change the features used for training\n",
    "X_test = X_test.drop(columns=['ID', 'Date', 'Seasons', 'day', 'dayofweek'])\n",
    "\n",
    "y_test_predicted = np.exp(cat.predict(X_test))-1\n",
    "\n",
    "test_df['y'] = y_test_predicted.astype(int)\n",
    "\n",
    "test_df.head()"
   ]
  },
  {
   "cell_type": "code",
   "execution_count": 48,
   "id": "f5c8740d",
   "metadata": {
    "execution": {
     "iopub.execute_input": "2021-08-28T22:48:52.917979Z",
     "iopub.status.busy": "2021-08-28T22:48:52.917169Z",
     "iopub.status.idle": "2021-08-28T22:48:52.929641Z",
     "shell.execute_reply": "2021-08-28T22:48:52.929050Z",
     "shell.execute_reply.started": "2021-08-28T22:47:48.428387Z"
    },
    "papermill": {
     "duration": 0.095366,
     "end_time": "2021-08-28T22:48:52.929767",
     "exception": false,
     "start_time": "2021-08-28T22:48:52.834401",
     "status": "completed"
    },
    "tags": []
   },
   "outputs": [],
   "source": [
    "test_df[['ID', 'y']].to_csv('/kaggle/working/submission.csv', index=False)"
   ]
  },
  {
   "cell_type": "code",
   "execution_count": null,
   "id": "19f4436b",
   "metadata": {
    "papermill": {
     "duration": 0.079071,
     "end_time": "2021-08-28T22:48:53.087154",
     "exception": false,
     "start_time": "2021-08-28T22:48:53.008083",
     "status": "completed"
    },
    "tags": []
   },
   "outputs": [],
   "source": []
  },
  {
   "cell_type": "code",
   "execution_count": null,
   "id": "1546f5d2",
   "metadata": {
    "papermill": {
     "duration": 0.078399,
     "end_time": "2021-08-28T22:48:53.244666",
     "exception": false,
     "start_time": "2021-08-28T22:48:53.166267",
     "status": "completed"
    },
    "tags": []
   },
   "outputs": [],
   "source": []
  },
  {
   "cell_type": "code",
   "execution_count": null,
   "id": "dec9d2f8",
   "metadata": {
    "papermill": {
     "duration": 0.078864,
     "end_time": "2021-08-28T22:48:53.403049",
     "exception": false,
     "start_time": "2021-08-28T22:48:53.324185",
     "status": "completed"
    },
    "tags": []
   },
   "outputs": [],
   "source": []
  },
  {
   "cell_type": "code",
   "execution_count": null,
   "id": "dcacbf7c",
   "metadata": {
    "papermill": {
     "duration": 0.076477,
     "end_time": "2021-08-28T22:48:53.557421",
     "exception": false,
     "start_time": "2021-08-28T22:48:53.480944",
     "status": "completed"
    },
    "tags": []
   },
   "outputs": [],
   "source": []
  },
  {
   "cell_type": "code",
   "execution_count": null,
   "id": "3d550fc0",
   "metadata": {
    "papermill": {
     "duration": 0.077255,
     "end_time": "2021-08-28T22:48:53.713090",
     "exception": false,
     "start_time": "2021-08-28T22:48:53.635835",
     "status": "completed"
    },
    "tags": []
   },
   "outputs": [],
   "source": []
  },
  {
   "cell_type": "code",
   "execution_count": null,
   "id": "c4a53e5e",
   "metadata": {
    "papermill": {
     "duration": 0.076651,
     "end_time": "2021-08-28T22:48:53.867120",
     "exception": false,
     "start_time": "2021-08-28T22:48:53.790469",
     "status": "completed"
    },
    "tags": []
   },
   "outputs": [],
   "source": []
  }
 ],
 "metadata": {
  "kernelspec": {
   "display_name": "Python 3",
   "language": "python",
   "name": "python3"
  },
  "language_info": {
   "codemirror_mode": {
    "name": "ipython",
    "version": 3
   },
   "file_extension": ".py",
   "mimetype": "text/x-python",
   "name": "python",
   "nbconvert_exporter": "python",
   "pygments_lexer": "ipython3",
   "version": "3.7.10"
  },
  "papermill": {
   "default_parameters": {},
   "duration": 29.854885,
   "end_time": "2021-08-28T22:48:54.652980",
   "environment_variables": {},
   "exception": null,
   "input_path": "__notebook__.ipynb",
   "output_path": "__notebook__.ipynb",
   "parameters": {},
   "start_time": "2021-08-28T22:48:24.798095",
   "version": "2.3.3"
  }
 },
 "nbformat": 4,
 "nbformat_minor": 5
}
