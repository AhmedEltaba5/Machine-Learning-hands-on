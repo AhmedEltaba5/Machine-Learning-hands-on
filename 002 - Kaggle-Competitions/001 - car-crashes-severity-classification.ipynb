{
 "cells": [
  {
   "cell_type": "markdown",
   "id": "f0079c44",
   "metadata": {
    "_cell_guid": "b1076dfc-b9ad-4769-8c92-a6c4dae69d19",
    "_uuid": "8f2839f25d086af736a60e9eeb907d3b93b6e0e5",
    "execution": {
     "iopub.execute_input": "2021-07-27T02:30:49.266177Z",
     "iopub.status.busy": "2021-07-27T02:30:49.265811Z",
     "iopub.status.idle": "2021-07-27T02:30:49.273708Z",
     "shell.execute_reply": "2021-07-27T02:30:49.272605Z",
     "shell.execute_reply.started": "2021-07-27T02:30:49.266143Z"
    },
    "papermill": {
     "duration": 0.058423,
     "end_time": "2021-08-01T23:51:37.468724",
     "exception": false,
     "start_time": "2021-08-01T23:51:37.410301",
     "status": "completed"
    },
    "tags": []
   },
   "source": [
    "# import libraries"
   ]
  },
  {
   "cell_type": "code",
   "execution_count": 1,
   "id": "6f4c6195",
   "metadata": {
    "execution": {
     "iopub.execute_input": "2021-08-01T23:51:37.597074Z",
     "iopub.status.busy": "2021-08-01T23:51:37.596024Z",
     "iopub.status.idle": "2021-08-01T23:51:38.685841Z",
     "shell.execute_reply": "2021-08-01T23:51:38.685054Z",
     "shell.execute_reply.started": "2021-08-01T23:50:39.238229Z"
    },
    "papermill": {
     "duration": 1.161916,
     "end_time": "2021-08-01T23:51:38.686062",
     "exception": false,
     "start_time": "2021-08-01T23:51:37.524146",
     "status": "completed"
    },
    "tags": []
   },
   "outputs": [],
   "source": [
    "import pandas as pd\n",
    "import numpy as np\n",
    "import matplotlib.pyplot as plt\n",
    "%matplotlib inline\n",
    "import seaborn as sns\n",
    "\n",
    "import os"
   ]
  },
  {
   "cell_type": "markdown",
   "id": "01f70f35",
   "metadata": {
    "papermill": {
     "duration": 0.055147,
     "end_time": "2021-08-01T23:51:38.797138",
     "exception": false,
     "start_time": "2021-08-01T23:51:38.741991",
     "status": "completed"
    },
    "tags": []
   },
   "source": [
    "# Get The Data"
   ]
  },
  {
   "cell_type": "code",
   "execution_count": 2,
   "id": "d6fc2aa0",
   "metadata": {
    "execution": {
     "iopub.execute_input": "2021-08-01T23:51:38.916341Z",
     "iopub.status.busy": "2021-08-01T23:51:38.915356Z",
     "iopub.status.idle": "2021-08-01T23:51:38.987651Z",
     "shell.execute_reply": "2021-08-01T23:51:38.986792Z",
     "shell.execute_reply.started": "2021-08-01T23:50:40.321652Z"
    },
    "papermill": {
     "duration": 0.135133,
     "end_time": "2021-08-01T23:51:38.987853",
     "exception": false,
     "start_time": "2021-08-01T23:51:38.852720",
     "status": "completed"
    },
    "tags": []
   },
   "outputs": [],
   "source": [
    "train_df = pd.read_csv('../input/car-crashes-severity-prediction/train.csv')\n",
    "test_df = pd.read_csv('../input/car-crashes-severity-prediction/test.csv')\n",
    "weather_df = pd.read_csv('../input/car-crashes-severity-prediction/weather-sfcsv.csv')"
   ]
  },
  {
   "cell_type": "markdown",
   "id": "c8592711",
   "metadata": {
    "papermill": {
     "duration": 0.057941,
     "end_time": "2021-08-01T23:51:39.105035",
     "exception": false,
     "start_time": "2021-08-01T23:51:39.047094",
     "status": "completed"
    },
    "tags": []
   },
   "source": [
    "# Exploring data"
   ]
  },
  {
   "cell_type": "code",
   "execution_count": 3,
   "id": "daa72a6f",
   "metadata": {
    "execution": {
     "iopub.execute_input": "2021-08-01T23:51:39.233208Z",
     "iopub.status.busy": "2021-08-01T23:51:39.232514Z",
     "iopub.status.idle": "2021-08-01T23:51:39.261772Z",
     "shell.execute_reply": "2021-08-01T23:51:39.262493Z",
     "shell.execute_reply.started": "2021-08-01T23:50:40.413590Z"
    },
    "papermill": {
     "duration": 0.099222,
     "end_time": "2021-08-01T23:51:39.262767",
     "exception": false,
     "start_time": "2021-08-01T23:51:39.163545",
     "status": "completed"
    },
    "tags": []
   },
   "outputs": [
    {
     "name": "stdout",
     "output_type": "stream",
     "text": [
      "The shape of the train dataset is (6407, 16).\n",
      "\n",
      "\n"
     ]
    },
    {
     "data": {
      "text/html": [
       "<div>\n",
       "<style scoped>\n",
       "    .dataframe tbody tr th:only-of-type {\n",
       "        vertical-align: middle;\n",
       "    }\n",
       "\n",
       "    .dataframe tbody tr th {\n",
       "        vertical-align: top;\n",
       "    }\n",
       "\n",
       "    .dataframe thead th {\n",
       "        text-align: right;\n",
       "    }\n",
       "</style>\n",
       "<table border=\"1\" class=\"dataframe\">\n",
       "  <thead>\n",
       "    <tr style=\"text-align: right;\">\n",
       "      <th></th>\n",
       "      <th>ID</th>\n",
       "      <th>Lat</th>\n",
       "      <th>Lng</th>\n",
       "      <th>Bump</th>\n",
       "      <th>Distance(mi)</th>\n",
       "      <th>Crossing</th>\n",
       "      <th>Give_Way</th>\n",
       "      <th>Junction</th>\n",
       "      <th>No_Exit</th>\n",
       "      <th>Railway</th>\n",
       "      <th>Roundabout</th>\n",
       "      <th>Stop</th>\n",
       "      <th>Amenity</th>\n",
       "      <th>Side</th>\n",
       "      <th>Severity</th>\n",
       "      <th>timestamp</th>\n",
       "    </tr>\n",
       "  </thead>\n",
       "  <tbody>\n",
       "    <tr>\n",
       "      <th>0</th>\n",
       "      <td>0</td>\n",
       "      <td>37.762150</td>\n",
       "      <td>-122.405660</td>\n",
       "      <td>False</td>\n",
       "      <td>0.044</td>\n",
       "      <td>False</td>\n",
       "      <td>False</td>\n",
       "      <td>False</td>\n",
       "      <td>False</td>\n",
       "      <td>False</td>\n",
       "      <td>False</td>\n",
       "      <td>False</td>\n",
       "      <td>True</td>\n",
       "      <td>R</td>\n",
       "      <td>2</td>\n",
       "      <td>2016-03-25 15:13:02</td>\n",
       "    </tr>\n",
       "    <tr>\n",
       "      <th>1</th>\n",
       "      <td>1</td>\n",
       "      <td>37.719157</td>\n",
       "      <td>-122.448254</td>\n",
       "      <td>False</td>\n",
       "      <td>0.000</td>\n",
       "      <td>False</td>\n",
       "      <td>False</td>\n",
       "      <td>False</td>\n",
       "      <td>False</td>\n",
       "      <td>False</td>\n",
       "      <td>False</td>\n",
       "      <td>False</td>\n",
       "      <td>False</td>\n",
       "      <td>R</td>\n",
       "      <td>2</td>\n",
       "      <td>2020-05-05 19:23:00</td>\n",
       "    </tr>\n",
       "    <tr>\n",
       "      <th>2</th>\n",
       "      <td>2</td>\n",
       "      <td>37.808498</td>\n",
       "      <td>-122.366852</td>\n",
       "      <td>False</td>\n",
       "      <td>0.000</td>\n",
       "      <td>False</td>\n",
       "      <td>False</td>\n",
       "      <td>False</td>\n",
       "      <td>False</td>\n",
       "      <td>False</td>\n",
       "      <td>False</td>\n",
       "      <td>True</td>\n",
       "      <td>False</td>\n",
       "      <td>R</td>\n",
       "      <td>3</td>\n",
       "      <td>2016-09-16 19:57:16</td>\n",
       "    </tr>\n",
       "    <tr>\n",
       "      <th>3</th>\n",
       "      <td>3</td>\n",
       "      <td>37.785930</td>\n",
       "      <td>-122.391080</td>\n",
       "      <td>False</td>\n",
       "      <td>0.009</td>\n",
       "      <td>False</td>\n",
       "      <td>False</td>\n",
       "      <td>True</td>\n",
       "      <td>False</td>\n",
       "      <td>False</td>\n",
       "      <td>False</td>\n",
       "      <td>False</td>\n",
       "      <td>False</td>\n",
       "      <td>R</td>\n",
       "      <td>1</td>\n",
       "      <td>2020-03-29 19:48:43</td>\n",
       "    </tr>\n",
       "    <tr>\n",
       "      <th>4</th>\n",
       "      <td>4</td>\n",
       "      <td>37.719141</td>\n",
       "      <td>-122.448457</td>\n",
       "      <td>False</td>\n",
       "      <td>0.000</td>\n",
       "      <td>False</td>\n",
       "      <td>False</td>\n",
       "      <td>False</td>\n",
       "      <td>False</td>\n",
       "      <td>False</td>\n",
       "      <td>False</td>\n",
       "      <td>False</td>\n",
       "      <td>False</td>\n",
       "      <td>R</td>\n",
       "      <td>2</td>\n",
       "      <td>2019-10-09 08:47:00</td>\n",
       "    </tr>\n",
       "  </tbody>\n",
       "</table>\n",
       "</div>"
      ],
      "text/plain": [
       "   ID        Lat         Lng   Bump  Distance(mi)  Crossing  Give_Way  \\\n",
       "0   0  37.762150 -122.405660  False         0.044     False     False   \n",
       "1   1  37.719157 -122.448254  False         0.000     False     False   \n",
       "2   2  37.808498 -122.366852  False         0.000     False     False   \n",
       "3   3  37.785930 -122.391080  False         0.009     False     False   \n",
       "4   4  37.719141 -122.448457  False         0.000     False     False   \n",
       "\n",
       "   Junction  No_Exit  Railway  Roundabout   Stop  Amenity Side  Severity  \\\n",
       "0     False    False    False       False  False     True    R         2   \n",
       "1     False    False    False       False  False    False    R         2   \n",
       "2     False    False    False       False   True    False    R         3   \n",
       "3      True    False    False       False  False    False    R         1   \n",
       "4     False    False    False       False  False    False    R         2   \n",
       "\n",
       "             timestamp  \n",
       "0  2016-03-25 15:13:02  \n",
       "1  2020-05-05 19:23:00  \n",
       "2  2016-09-16 19:57:16  \n",
       "3  2020-03-29 19:48:43  \n",
       "4  2019-10-09 08:47:00  "
      ]
     },
     "execution_count": 3,
     "metadata": {},
     "output_type": "execute_result"
    }
   ],
   "source": [
    "pd.set_option('display.max_column', 100)\n",
    "# train data\n",
    "print(\"The shape of the train dataset is {}.\\n\\n\".format(train_df.shape))\n",
    "train_df.head()"
   ]
  },
  {
   "cell_type": "code",
   "execution_count": 4,
   "id": "6d195411",
   "metadata": {
    "execution": {
     "iopub.execute_input": "2021-08-01T23:51:39.379464Z",
     "iopub.status.busy": "2021-08-01T23:51:39.378787Z",
     "iopub.status.idle": "2021-08-01T23:51:39.401640Z",
     "shell.execute_reply": "2021-08-01T23:51:39.402125Z",
     "shell.execute_reply.started": "2021-08-01T23:50:40.456382Z"
    },
    "papermill": {
     "duration": 0.082518,
     "end_time": "2021-08-01T23:51:39.402304",
     "exception": false,
     "start_time": "2021-08-01T23:51:39.319786",
     "status": "completed"
    },
    "tags": []
   },
   "outputs": [
    {
     "name": "stdout",
     "output_type": "stream",
     "text": [
      "The shape of the test dataset is (1601, 15).\n",
      "\n",
      "\n"
     ]
    },
    {
     "data": {
      "text/html": [
       "<div>\n",
       "<style scoped>\n",
       "    .dataframe tbody tr th:only-of-type {\n",
       "        vertical-align: middle;\n",
       "    }\n",
       "\n",
       "    .dataframe tbody tr th {\n",
       "        vertical-align: top;\n",
       "    }\n",
       "\n",
       "    .dataframe thead th {\n",
       "        text-align: right;\n",
       "    }\n",
       "</style>\n",
       "<table border=\"1\" class=\"dataframe\">\n",
       "  <thead>\n",
       "    <tr style=\"text-align: right;\">\n",
       "      <th></th>\n",
       "      <th>ID</th>\n",
       "      <th>Lat</th>\n",
       "      <th>Lng</th>\n",
       "      <th>Bump</th>\n",
       "      <th>Distance(mi)</th>\n",
       "      <th>Crossing</th>\n",
       "      <th>Give_Way</th>\n",
       "      <th>Junction</th>\n",
       "      <th>No_Exit</th>\n",
       "      <th>Railway</th>\n",
       "      <th>Roundabout</th>\n",
       "      <th>Stop</th>\n",
       "      <th>Amenity</th>\n",
       "      <th>Side</th>\n",
       "      <th>timestamp</th>\n",
       "    </tr>\n",
       "  </thead>\n",
       "  <tbody>\n",
       "    <tr>\n",
       "      <th>0</th>\n",
       "      <td>6407</td>\n",
       "      <td>37.786060</td>\n",
       "      <td>-122.390900</td>\n",
       "      <td>False</td>\n",
       "      <td>0.039</td>\n",
       "      <td>False</td>\n",
       "      <td>False</td>\n",
       "      <td>True</td>\n",
       "      <td>False</td>\n",
       "      <td>False</td>\n",
       "      <td>False</td>\n",
       "      <td>False</td>\n",
       "      <td>False</td>\n",
       "      <td>R</td>\n",
       "      <td>2016-04-04 19:20:31</td>\n",
       "    </tr>\n",
       "    <tr>\n",
       "      <th>1</th>\n",
       "      <td>6408</td>\n",
       "      <td>37.769609</td>\n",
       "      <td>-122.415057</td>\n",
       "      <td>False</td>\n",
       "      <td>0.202</td>\n",
       "      <td>False</td>\n",
       "      <td>False</td>\n",
       "      <td>False</td>\n",
       "      <td>False</td>\n",
       "      <td>False</td>\n",
       "      <td>False</td>\n",
       "      <td>False</td>\n",
       "      <td>False</td>\n",
       "      <td>R</td>\n",
       "      <td>2020-10-28 11:51:00</td>\n",
       "    </tr>\n",
       "    <tr>\n",
       "      <th>2</th>\n",
       "      <td>6409</td>\n",
       "      <td>37.807495</td>\n",
       "      <td>-122.476021</td>\n",
       "      <td>False</td>\n",
       "      <td>0.000</td>\n",
       "      <td>False</td>\n",
       "      <td>False</td>\n",
       "      <td>False</td>\n",
       "      <td>False</td>\n",
       "      <td>False</td>\n",
       "      <td>False</td>\n",
       "      <td>False</td>\n",
       "      <td>False</td>\n",
       "      <td>R</td>\n",
       "      <td>2019-09-09 07:36:45</td>\n",
       "    </tr>\n",
       "    <tr>\n",
       "      <th>3</th>\n",
       "      <td>6410</td>\n",
       "      <td>37.761818</td>\n",
       "      <td>-122.405869</td>\n",
       "      <td>False</td>\n",
       "      <td>0.000</td>\n",
       "      <td>False</td>\n",
       "      <td>False</td>\n",
       "      <td>True</td>\n",
       "      <td>False</td>\n",
       "      <td>False</td>\n",
       "      <td>False</td>\n",
       "      <td>False</td>\n",
       "      <td>False</td>\n",
       "      <td>R</td>\n",
       "      <td>2019-08-06 15:46:25</td>\n",
       "    </tr>\n",
       "    <tr>\n",
       "      <th>4</th>\n",
       "      <td>6411</td>\n",
       "      <td>37.732350</td>\n",
       "      <td>-122.414100</td>\n",
       "      <td>False</td>\n",
       "      <td>0.670</td>\n",
       "      <td>False</td>\n",
       "      <td>False</td>\n",
       "      <td>False</td>\n",
       "      <td>False</td>\n",
       "      <td>False</td>\n",
       "      <td>False</td>\n",
       "      <td>False</td>\n",
       "      <td>False</td>\n",
       "      <td>R</td>\n",
       "      <td>2018-10-17 09:54:58</td>\n",
       "    </tr>\n",
       "  </tbody>\n",
       "</table>\n",
       "</div>"
      ],
      "text/plain": [
       "     ID        Lat         Lng   Bump  Distance(mi)  Crossing  Give_Way  \\\n",
       "0  6407  37.786060 -122.390900  False         0.039     False     False   \n",
       "1  6408  37.769609 -122.415057  False         0.202     False     False   \n",
       "2  6409  37.807495 -122.476021  False         0.000     False     False   \n",
       "3  6410  37.761818 -122.405869  False         0.000     False     False   \n",
       "4  6411  37.732350 -122.414100  False         0.670     False     False   \n",
       "\n",
       "   Junction  No_Exit  Railway  Roundabout   Stop  Amenity Side  \\\n",
       "0      True    False    False       False  False    False    R   \n",
       "1     False    False    False       False  False    False    R   \n",
       "2     False    False    False       False  False    False    R   \n",
       "3      True    False    False       False  False    False    R   \n",
       "4     False    False    False       False  False    False    R   \n",
       "\n",
       "             timestamp  \n",
       "0  2016-04-04 19:20:31  \n",
       "1  2020-10-28 11:51:00  \n",
       "2  2019-09-09 07:36:45  \n",
       "3  2019-08-06 15:46:25  \n",
       "4  2018-10-17 09:54:58  "
      ]
     },
     "execution_count": 4,
     "metadata": {},
     "output_type": "execute_result"
    }
   ],
   "source": [
    "#test data\n",
    "print(\"The shape of the test dataset is {}.\\n\\n\".format(test_df.shape))\n",
    "test_df.head()"
   ]
  },
  {
   "cell_type": "code",
   "execution_count": 5,
   "id": "799723a9",
   "metadata": {
    "execution": {
     "iopub.execute_input": "2021-08-01T23:51:39.541294Z",
     "iopub.status.busy": "2021-08-01T23:51:39.540386Z",
     "iopub.status.idle": "2021-08-01T23:51:39.546397Z",
     "shell.execute_reply": "2021-08-01T23:51:39.546898Z",
     "shell.execute_reply.started": "2021-08-01T23:50:40.483269Z"
    },
    "papermill": {
     "duration": 0.087569,
     "end_time": "2021-08-01T23:51:39.547068",
     "exception": false,
     "start_time": "2021-08-01T23:51:39.459499",
     "status": "completed"
    },
    "tags": []
   },
   "outputs": [
    {
     "name": "stdout",
     "output_type": "stream",
     "text": [
      "The shape of the weather dataset is (6901, 12).\n",
      "\n",
      "\n"
     ]
    },
    {
     "data": {
      "text/html": [
       "<div>\n",
       "<style scoped>\n",
       "    .dataframe tbody tr th:only-of-type {\n",
       "        vertical-align: middle;\n",
       "    }\n",
       "\n",
       "    .dataframe tbody tr th {\n",
       "        vertical-align: top;\n",
       "    }\n",
       "\n",
       "    .dataframe thead th {\n",
       "        text-align: right;\n",
       "    }\n",
       "</style>\n",
       "<table border=\"1\" class=\"dataframe\">\n",
       "  <thead>\n",
       "    <tr style=\"text-align: right;\">\n",
       "      <th></th>\n",
       "      <th>Year</th>\n",
       "      <th>Day</th>\n",
       "      <th>Month</th>\n",
       "      <th>Hour</th>\n",
       "      <th>Weather_Condition</th>\n",
       "      <th>Wind_Chill(F)</th>\n",
       "      <th>Precipitation(in)</th>\n",
       "      <th>Temperature(F)</th>\n",
       "      <th>Humidity(%)</th>\n",
       "      <th>Wind_Speed(mph)</th>\n",
       "      <th>Visibility(mi)</th>\n",
       "      <th>Selected</th>\n",
       "    </tr>\n",
       "  </thead>\n",
       "  <tbody>\n",
       "    <tr>\n",
       "      <th>0</th>\n",
       "      <td>2020</td>\n",
       "      <td>27</td>\n",
       "      <td>7</td>\n",
       "      <td>18</td>\n",
       "      <td>Fair</td>\n",
       "      <td>64.0</td>\n",
       "      <td>0.0</td>\n",
       "      <td>64.0</td>\n",
       "      <td>70.0</td>\n",
       "      <td>20.0</td>\n",
       "      <td>10.0</td>\n",
       "      <td>No</td>\n",
       "    </tr>\n",
       "    <tr>\n",
       "      <th>1</th>\n",
       "      <td>2017</td>\n",
       "      <td>30</td>\n",
       "      <td>9</td>\n",
       "      <td>17</td>\n",
       "      <td>Partly Cloudy</td>\n",
       "      <td>NaN</td>\n",
       "      <td>NaN</td>\n",
       "      <td>71.1</td>\n",
       "      <td>57.0</td>\n",
       "      <td>9.2</td>\n",
       "      <td>10.0</td>\n",
       "      <td>No</td>\n",
       "    </tr>\n",
       "    <tr>\n",
       "      <th>2</th>\n",
       "      <td>2017</td>\n",
       "      <td>27</td>\n",
       "      <td>6</td>\n",
       "      <td>5</td>\n",
       "      <td>Overcast</td>\n",
       "      <td>NaN</td>\n",
       "      <td>NaN</td>\n",
       "      <td>57.9</td>\n",
       "      <td>87.0</td>\n",
       "      <td>15.0</td>\n",
       "      <td>9.0</td>\n",
       "      <td>No</td>\n",
       "    </tr>\n",
       "    <tr>\n",
       "      <th>3</th>\n",
       "      <td>2016</td>\n",
       "      <td>7</td>\n",
       "      <td>9</td>\n",
       "      <td>9</td>\n",
       "      <td>Clear</td>\n",
       "      <td>NaN</td>\n",
       "      <td>NaN</td>\n",
       "      <td>66.9</td>\n",
       "      <td>73.0</td>\n",
       "      <td>4.6</td>\n",
       "      <td>10.0</td>\n",
       "      <td>No</td>\n",
       "    </tr>\n",
       "    <tr>\n",
       "      <th>4</th>\n",
       "      <td>2019</td>\n",
       "      <td>19</td>\n",
       "      <td>10</td>\n",
       "      <td>2</td>\n",
       "      <td>Fair</td>\n",
       "      <td>52.0</td>\n",
       "      <td>0.0</td>\n",
       "      <td>52.0</td>\n",
       "      <td>89.0</td>\n",
       "      <td>0.0</td>\n",
       "      <td>9.0</td>\n",
       "      <td>No</td>\n",
       "    </tr>\n",
       "  </tbody>\n",
       "</table>\n",
       "</div>"
      ],
      "text/plain": [
       "   Year  Day  Month  Hour Weather_Condition  Wind_Chill(F)  Precipitation(in)  \\\n",
       "0  2020   27      7    18              Fair           64.0                0.0   \n",
       "1  2017   30      9    17     Partly Cloudy            NaN                NaN   \n",
       "2  2017   27      6     5          Overcast            NaN                NaN   \n",
       "3  2016    7      9     9             Clear            NaN                NaN   \n",
       "4  2019   19     10     2              Fair           52.0                0.0   \n",
       "\n",
       "   Temperature(F)  Humidity(%)  Wind_Speed(mph)  Visibility(mi) Selected  \n",
       "0            64.0         70.0             20.0            10.0       No  \n",
       "1            71.1         57.0              9.2            10.0       No  \n",
       "2            57.9         87.0             15.0             9.0       No  \n",
       "3            66.9         73.0              4.6            10.0       No  \n",
       "4            52.0         89.0              0.0             9.0       No  "
      ]
     },
     "execution_count": 5,
     "metadata": {},
     "output_type": "execute_result"
    }
   ],
   "source": [
    "# weather data\n",
    "print(\"The shape of the weather dataset is {}.\\n\\n\".format(weather_df.shape))\n",
    "weather_df.head()"
   ]
  },
  {
   "cell_type": "code",
   "execution_count": 6,
   "id": "1d1bc74f",
   "metadata": {
    "execution": {
     "iopub.execute_input": "2021-08-01T23:51:39.671655Z",
     "iopub.status.busy": "2021-08-01T23:51:39.670681Z",
     "iopub.status.idle": "2021-08-01T23:51:39.692193Z",
     "shell.execute_reply": "2021-08-01T23:51:39.691306Z",
     "shell.execute_reply.started": "2021-08-01T23:50:40.506037Z"
    },
    "papermill": {
     "duration": 0.087744,
     "end_time": "2021-08-01T23:51:39.692383",
     "exception": false,
     "start_time": "2021-08-01T23:51:39.604639",
     "status": "completed"
    },
    "tags": []
   },
   "outputs": [
    {
     "name": "stdout",
     "output_type": "stream",
     "text": [
      "<class 'pandas.core.frame.DataFrame'>\n",
      "RangeIndex: 6407 entries, 0 to 6406\n",
      "Data columns (total 16 columns):\n",
      " #   Column        Non-Null Count  Dtype  \n",
      "---  ------        --------------  -----  \n",
      " 0   ID            6407 non-null   int64  \n",
      " 1   Lat           6407 non-null   float64\n",
      " 2   Lng           6407 non-null   float64\n",
      " 3   Bump          6407 non-null   bool   \n",
      " 4   Distance(mi)  6407 non-null   float64\n",
      " 5   Crossing      6407 non-null   bool   \n",
      " 6   Give_Way      6407 non-null   bool   \n",
      " 7   Junction      6407 non-null   bool   \n",
      " 8   No_Exit       6407 non-null   bool   \n",
      " 9   Railway       6407 non-null   bool   \n",
      " 10  Roundabout    6407 non-null   bool   \n",
      " 11  Stop          6407 non-null   bool   \n",
      " 12  Amenity       6407 non-null   bool   \n",
      " 13  Side          6407 non-null   object \n",
      " 14  Severity      6407 non-null   int64  \n",
      " 15  timestamp     6407 non-null   object \n",
      "dtypes: bool(9), float64(3), int64(2), object(2)\n",
      "memory usage: 406.8+ KB\n"
     ]
    }
   ],
   "source": [
    "train_df.info()"
   ]
  },
  {
   "cell_type": "code",
   "execution_count": 7,
   "id": "1d904d18",
   "metadata": {
    "execution": {
     "iopub.execute_input": "2021-08-01T23:51:39.826753Z",
     "iopub.status.busy": "2021-08-01T23:51:39.825946Z",
     "iopub.status.idle": "2021-08-01T23:51:39.830240Z",
     "shell.execute_reply": "2021-08-01T23:51:39.830799Z",
     "shell.execute_reply.started": "2021-08-01T23:50:40.534443Z"
    },
    "papermill": {
     "duration": 0.07964,
     "end_time": "2021-08-01T23:51:39.831011",
     "exception": false,
     "start_time": "2021-08-01T23:51:39.751371",
     "status": "completed"
    },
    "tags": []
   },
   "outputs": [
    {
     "name": "stdout",
     "output_type": "stream",
     "text": [
      "<class 'pandas.core.frame.DataFrame'>\n",
      "RangeIndex: 1601 entries, 0 to 1600\n",
      "Data columns (total 15 columns):\n",
      " #   Column        Non-Null Count  Dtype  \n",
      "---  ------        --------------  -----  \n",
      " 0   ID            1601 non-null   int64  \n",
      " 1   Lat           1601 non-null   float64\n",
      " 2   Lng           1601 non-null   float64\n",
      " 3   Bump          1601 non-null   bool   \n",
      " 4   Distance(mi)  1601 non-null   float64\n",
      " 5   Crossing      1601 non-null   bool   \n",
      " 6   Give_Way      1601 non-null   bool   \n",
      " 7   Junction      1601 non-null   bool   \n",
      " 8   No_Exit       1601 non-null   bool   \n",
      " 9   Railway       1601 non-null   bool   \n",
      " 10  Roundabout    1601 non-null   bool   \n",
      " 11  Stop          1601 non-null   bool   \n",
      " 12  Amenity       1601 non-null   bool   \n",
      " 13  Side          1601 non-null   object \n",
      " 14  timestamp     1601 non-null   object \n",
      "dtypes: bool(9), float64(3), int64(1), object(2)\n",
      "memory usage: 89.2+ KB\n"
     ]
    }
   ],
   "source": [
    "test_df.info()"
   ]
  },
  {
   "cell_type": "code",
   "execution_count": 8,
   "id": "7f9119c9",
   "metadata": {
    "execution": {
     "iopub.execute_input": "2021-08-01T23:51:39.967393Z",
     "iopub.status.busy": "2021-08-01T23:51:39.958930Z",
     "iopub.status.idle": "2021-08-01T23:51:39.972370Z",
     "shell.execute_reply": "2021-08-01T23:51:39.971394Z",
     "shell.execute_reply.started": "2021-08-01T23:50:40.557350Z"
    },
    "papermill": {
     "duration": 0.081738,
     "end_time": "2021-08-01T23:51:39.972566",
     "exception": false,
     "start_time": "2021-08-01T23:51:39.890828",
     "status": "completed"
    },
    "tags": []
   },
   "outputs": [
    {
     "name": "stdout",
     "output_type": "stream",
     "text": [
      "<class 'pandas.core.frame.DataFrame'>\n",
      "RangeIndex: 6901 entries, 0 to 6900\n",
      "Data columns (total 12 columns):\n",
      " #   Column             Non-Null Count  Dtype  \n",
      "---  ------             --------------  -----  \n",
      " 0   Year               6901 non-null   int64  \n",
      " 1   Day                6901 non-null   int64  \n",
      " 2   Month              6901 non-null   int64  \n",
      " 3   Hour               6901 non-null   int64  \n",
      " 4   Weather_Condition  6900 non-null   object \n",
      " 5   Wind_Chill(F)      3292 non-null   float64\n",
      " 6   Precipitation(in)  3574 non-null   float64\n",
      " 7   Temperature(F)     6899 non-null   float64\n",
      " 8   Humidity(%)        6899 non-null   float64\n",
      " 9   Wind_Speed(mph)    6556 non-null   float64\n",
      " 10  Visibility(mi)     6900 non-null   float64\n",
      " 11  Selected           6901 non-null   object \n",
      "dtypes: float64(6), int64(4), object(2)\n",
      "memory usage: 647.1+ KB\n"
     ]
    }
   ],
   "source": [
    "weather_df.info()"
   ]
  },
  {
   "cell_type": "markdown",
   "id": "0441d015",
   "metadata": {
    "papermill": {
     "duration": 0.060117,
     "end_time": "2021-08-01T23:51:40.093427",
     "exception": false,
     "start_time": "2021-08-01T23:51:40.033310",
     "status": "completed"
    },
    "tags": []
   },
   "source": [
    "> no nulls in train and test data but there is many nulls in weather data"
   ]
  },
  {
   "cell_type": "markdown",
   "id": "e4b21bba",
   "metadata": {
    "papermill": {
     "duration": 0.058779,
     "end_time": "2021-08-01T23:51:40.211034",
     "exception": false,
     "start_time": "2021-08-01T23:51:40.152255",
     "status": "completed"
    },
    "tags": []
   },
   "source": [
    "## Dropping duplicates in weather dataset"
   ]
  },
  {
   "cell_type": "code",
   "execution_count": 9,
   "id": "8adb3c17",
   "metadata": {
    "execution": {
     "iopub.execute_input": "2021-08-01T23:51:40.337042Z",
     "iopub.status.busy": "2021-08-01T23:51:40.335945Z",
     "iopub.status.idle": "2021-08-01T23:51:40.344595Z",
     "shell.execute_reply": "2021-08-01T23:51:40.345467Z",
     "shell.execute_reply.started": "2021-08-01T23:50:40.576031Z"
    },
    "papermill": {
     "duration": 0.075871,
     "end_time": "2021-08-01T23:51:40.345735",
     "exception": false,
     "start_time": "2021-08-01T23:51:40.269864",
     "status": "completed"
    },
    "tags": []
   },
   "outputs": [
    {
     "name": "stdout",
     "output_type": "stream",
     "text": [
      "the shape of weather data before dropping duplicates :  (6901, 12)\n",
      "the shape of weather data after dropping duplicates :  (5972, 12)\n"
     ]
    }
   ],
   "source": [
    "print('the shape of weather data before dropping duplicates : ', weather_df.shape)\n",
    "weather_df = weather_df.drop_duplicates(['Year','Month','Day', 'Hour'], keep='last')\n",
    "print('the shape of weather data after dropping duplicates : ', weather_df.shape)"
   ]
  },
  {
   "cell_type": "markdown",
   "id": "b77c5a21",
   "metadata": {
    "papermill": {
     "duration": 0.058537,
     "end_time": "2021-08-01T23:51:40.464440",
     "exception": false,
     "start_time": "2021-08-01T23:51:40.405903",
     "status": "completed"
    },
    "tags": []
   },
   "source": [
    "## Fixing data type of timestamp"
   ]
  },
  {
   "cell_type": "code",
   "execution_count": 10,
   "id": "00cbbb96",
   "metadata": {
    "execution": {
     "iopub.execute_input": "2021-08-01T23:51:40.597028Z",
     "iopub.status.busy": "2021-08-01T23:51:40.596074Z",
     "iopub.status.idle": "2021-08-01T23:51:40.599549Z",
     "shell.execute_reply": "2021-08-01T23:51:40.599032Z",
     "shell.execute_reply.started": "2021-08-01T23:50:40.591099Z"
    },
    "papermill": {
     "duration": 0.076052,
     "end_time": "2021-08-01T23:51:40.599702",
     "exception": false,
     "start_time": "2021-08-01T23:51:40.523650",
     "status": "completed"
    },
    "tags": []
   },
   "outputs": [],
   "source": [
    "for df in [train_df, test_df] :\n",
    "    df['timestamp'] = pd.to_datetime(df['timestamp'])\n"
   ]
  },
  {
   "cell_type": "markdown",
   "id": "33089eed",
   "metadata": {
    "papermill": {
     "duration": 0.060128,
     "end_time": "2021-08-01T23:51:40.718742",
     "exception": false,
     "start_time": "2021-08-01T23:51:40.658614",
     "status": "completed"
    },
    "tags": []
   },
   "source": [
    "## expand timestamp "
   ]
  },
  {
   "cell_type": "code",
   "execution_count": 11,
   "id": "1959f6ba",
   "metadata": {
    "execution": {
     "iopub.execute_input": "2021-08-01T23:51:40.843613Z",
     "iopub.status.busy": "2021-08-01T23:51:40.842977Z",
     "iopub.status.idle": "2021-08-01T23:51:41.161335Z",
     "shell.execute_reply": "2021-08-01T23:51:41.161858Z",
     "shell.execute_reply.started": "2021-08-01T23:50:40.605617Z"
    },
    "papermill": {
     "duration": 0.384589,
     "end_time": "2021-08-01T23:51:41.162061",
     "exception": false,
     "start_time": "2021-08-01T23:51:40.777472",
     "status": "completed"
    },
    "tags": []
   },
   "outputs": [],
   "source": [
    "for df in [train_df, test_df] :\n",
    "    df['Year'] = df['timestamp'].dt.strftime('%Y').astype(int)\n",
    "    df['Month'] = df['timestamp'].dt.strftime('%m').astype(int)\n",
    "    df['Day'] = df['timestamp'].dt.strftime('%d').astype(int)\n",
    "    df['Hour'] = df['timestamp'].dt.strftime('%H').astype(int)\n",
    "    df['time'] = df['timestamp'].dt.strftime('%Y-%m-%d')\n"
   ]
  },
  {
   "cell_type": "markdown",
   "id": "fc85b885",
   "metadata": {
    "papermill": {
     "duration": 0.059385,
     "end_time": "2021-08-01T23:51:41.281441",
     "exception": false,
     "start_time": "2021-08-01T23:51:41.222056",
     "status": "completed"
    },
    "tags": []
   },
   "source": [
    "# Get holidays date as dataframe from hoidays xml"
   ]
  },
  {
   "cell_type": "code",
   "execution_count": 12,
   "id": "87002b25",
   "metadata": {
    "execution": {
     "iopub.execute_input": "2021-08-01T23:51:41.407916Z",
     "iopub.status.busy": "2021-08-01T23:51:41.407252Z",
     "iopub.status.idle": "2021-08-01T23:51:41.422387Z",
     "shell.execute_reply": "2021-08-01T23:51:41.421864Z",
     "shell.execute_reply.started": "2021-08-01T23:50:40.937258Z"
    },
    "papermill": {
     "duration": 0.081408,
     "end_time": "2021-08-01T23:51:41.422526",
     "exception": false,
     "start_time": "2021-08-01T23:51:41.341118",
     "status": "completed"
    },
    "tags": []
   },
   "outputs": [
    {
     "data": {
      "text/html": [
       "<div>\n",
       "<style scoped>\n",
       "    .dataframe tbody tr th:only-of-type {\n",
       "        vertical-align: middle;\n",
       "    }\n",
       "\n",
       "    .dataframe tbody tr th {\n",
       "        vertical-align: top;\n",
       "    }\n",
       "\n",
       "    .dataframe thead th {\n",
       "        text-align: right;\n",
       "    }\n",
       "</style>\n",
       "<table border=\"1\" class=\"dataframe\">\n",
       "  <thead>\n",
       "    <tr style=\"text-align: right;\">\n",
       "      <th></th>\n",
       "      <th>date</th>\n",
       "    </tr>\n",
       "  </thead>\n",
       "  <tbody>\n",
       "    <tr>\n",
       "      <th>0</th>\n",
       "      <td>2012-01-02</td>\n",
       "    </tr>\n",
       "    <tr>\n",
       "      <th>1</th>\n",
       "      <td>2012-01-16</td>\n",
       "    </tr>\n",
       "    <tr>\n",
       "      <th>2</th>\n",
       "      <td>2012-02-20</td>\n",
       "    </tr>\n",
       "    <tr>\n",
       "      <th>3</th>\n",
       "      <td>2012-05-28</td>\n",
       "    </tr>\n",
       "    <tr>\n",
       "      <th>4</th>\n",
       "      <td>2012-07-04</td>\n",
       "    </tr>\n",
       "  </tbody>\n",
       "</table>\n",
       "</div>"
      ],
      "text/plain": [
       "         date\n",
       "0  2012-01-02\n",
       "1  2012-01-16\n",
       "2  2012-02-20\n",
       "3  2012-05-28\n",
       "4  2012-07-04"
      ]
     },
     "execution_count": 12,
     "metadata": {},
     "output_type": "execute_result"
    }
   ],
   "source": [
    "import xml.etree.ElementTree as Xet\n",
    "  \n",
    "cols = [\"date\"]\n",
    "rows = []\n",
    "  \n",
    "# Parsing the XML file\n",
    "xmlparse = Xet.parse('/kaggle/input/car-crashes-severity-prediction/holidays.xml')\n",
    "root = xmlparse.getroot()\n",
    "for i in root:\n",
    "    date = i.find(\"date\").text\n",
    "    rows.append({\"date\": date })\n",
    "    \n",
    "    \n",
    "holidays_df = pd.DataFrame(rows, columns=cols)\n",
    "holidays_df.head()"
   ]
  },
  {
   "cell_type": "markdown",
   "id": "10fa684f",
   "metadata": {
    "papermill": {
     "duration": 0.059167,
     "end_time": "2021-08-01T23:51:41.541269",
     "exception": false,
     "start_time": "2021-08-01T23:51:41.482102",
     "status": "completed"
    },
    "tags": []
   },
   "source": [
    "# Adding holiday feature to train and test data"
   ]
  },
  {
   "cell_type": "code",
   "execution_count": 13,
   "id": "6b7db7d5",
   "metadata": {
    "execution": {
     "iopub.execute_input": "2021-08-01T23:51:41.671057Z",
     "iopub.status.busy": "2021-08-01T23:51:41.669071Z",
     "iopub.status.idle": "2021-08-01T23:51:41.673219Z",
     "shell.execute_reply": "2021-08-01T23:51:41.673835Z",
     "shell.execute_reply.started": "2021-08-01T23:50:40.961312Z"
    },
    "papermill": {
     "duration": 0.072922,
     "end_time": "2021-08-01T23:51:41.674013",
     "exception": false,
     "start_time": "2021-08-01T23:51:41.601091",
     "status": "completed"
    },
    "tags": []
   },
   "outputs": [],
   "source": [
    "holiday_set = set(holidays_df['date'])\n",
    "for df in [train_df, test_df] :    \n",
    "    df['is_holiday'] = df['time'].isin(holiday_set).astype(int)\n",
    "    "
   ]
  },
  {
   "cell_type": "markdown",
   "id": "d9106102",
   "metadata": {
    "papermill": {
     "duration": 0.059417,
     "end_time": "2021-08-01T23:51:41.793471",
     "exception": false,
     "start_time": "2021-08-01T23:51:41.734054",
     "status": "completed"
    },
    "tags": []
   },
   "source": [
    "# Merging wheather data with test and train data"
   ]
  },
  {
   "cell_type": "code",
   "execution_count": 14,
   "id": "0fa67cee",
   "metadata": {
    "execution": {
     "iopub.execute_input": "2021-08-01T23:51:41.920717Z",
     "iopub.status.busy": "2021-08-01T23:51:41.920019Z",
     "iopub.status.idle": "2021-08-01T23:51:41.953506Z",
     "shell.execute_reply": "2021-08-01T23:51:41.952191Z",
     "shell.execute_reply.started": "2021-08-01T23:50:40.975561Z"
    },
    "papermill": {
     "duration": 0.100403,
     "end_time": "2021-08-01T23:51:41.953681",
     "exception": false,
     "start_time": "2021-08-01T23:51:41.853278",
     "status": "completed"
    },
    "tags": []
   },
   "outputs": [],
   "source": [
    "train_df = pd.merge(train_df, weather_df, left_on = ['Year', 'Month', 'Day', 'Hour'], right_on = ['Year', 'Month', 'Day', 'Hour'])\n",
    "test_df = pd.merge(test_df, weather_df, left_on = ['Year', 'Month', 'Day', 'Hour'], right_on = ['Year', 'Month', 'Day', 'Hour'])"
   ]
  },
  {
   "cell_type": "code",
   "execution_count": null,
   "id": "05983671",
   "metadata": {
    "papermill": {
     "duration": 0.061046,
     "end_time": "2021-08-01T23:51:42.076153",
     "exception": false,
     "start_time": "2021-08-01T23:51:42.015107",
     "status": "completed"
    },
    "tags": []
   },
   "outputs": [],
   "source": []
  },
  {
   "cell_type": "markdown",
   "id": "f6988946",
   "metadata": {
    "papermill": {
     "duration": 0.060098,
     "end_time": "2021-08-01T23:51:42.197859",
     "exception": false,
     "start_time": "2021-08-01T23:51:42.137761",
     "status": "completed"
    },
    "tags": []
   },
   "source": [
    "## showing the merged data"
   ]
  },
  {
   "cell_type": "code",
   "execution_count": 15,
   "id": "07114e3c",
   "metadata": {
    "execution": {
     "iopub.execute_input": "2021-08-01T23:51:42.349931Z",
     "iopub.status.busy": "2021-08-01T23:51:42.349173Z",
     "iopub.status.idle": "2021-08-01T23:51:42.352738Z",
     "shell.execute_reply": "2021-08-01T23:51:42.353192Z",
     "shell.execute_reply.started": "2021-08-01T23:50:41.016514Z"
    },
    "papermill": {
     "duration": 0.09549,
     "end_time": "2021-08-01T23:51:42.353366",
     "exception": false,
     "start_time": "2021-08-01T23:51:42.257876",
     "status": "completed"
    },
    "tags": []
   },
   "outputs": [
    {
     "data": {
      "text/html": [
       "<div>\n",
       "<style scoped>\n",
       "    .dataframe tbody tr th:only-of-type {\n",
       "        vertical-align: middle;\n",
       "    }\n",
       "\n",
       "    .dataframe tbody tr th {\n",
       "        vertical-align: top;\n",
       "    }\n",
       "\n",
       "    .dataframe thead th {\n",
       "        text-align: right;\n",
       "    }\n",
       "</style>\n",
       "<table border=\"1\" class=\"dataframe\">\n",
       "  <thead>\n",
       "    <tr style=\"text-align: right;\">\n",
       "      <th></th>\n",
       "      <th>ID</th>\n",
       "      <th>Lat</th>\n",
       "      <th>Lng</th>\n",
       "      <th>Bump</th>\n",
       "      <th>Distance(mi)</th>\n",
       "      <th>Crossing</th>\n",
       "      <th>Give_Way</th>\n",
       "      <th>Junction</th>\n",
       "      <th>No_Exit</th>\n",
       "      <th>Railway</th>\n",
       "      <th>Roundabout</th>\n",
       "      <th>Stop</th>\n",
       "      <th>Amenity</th>\n",
       "      <th>Side</th>\n",
       "      <th>Severity</th>\n",
       "      <th>timestamp</th>\n",
       "      <th>Year</th>\n",
       "      <th>Month</th>\n",
       "      <th>Day</th>\n",
       "      <th>Hour</th>\n",
       "      <th>time</th>\n",
       "      <th>is_holiday</th>\n",
       "      <th>Weather_Condition</th>\n",
       "      <th>Wind_Chill(F)</th>\n",
       "      <th>Precipitation(in)</th>\n",
       "      <th>Temperature(F)</th>\n",
       "      <th>Humidity(%)</th>\n",
       "      <th>Wind_Speed(mph)</th>\n",
       "      <th>Visibility(mi)</th>\n",
       "      <th>Selected</th>\n",
       "    </tr>\n",
       "  </thead>\n",
       "  <tbody>\n",
       "    <tr>\n",
       "      <th>0</th>\n",
       "      <td>0</td>\n",
       "      <td>37.762150</td>\n",
       "      <td>-122.405660</td>\n",
       "      <td>False</td>\n",
       "      <td>0.044</td>\n",
       "      <td>False</td>\n",
       "      <td>False</td>\n",
       "      <td>False</td>\n",
       "      <td>False</td>\n",
       "      <td>False</td>\n",
       "      <td>False</td>\n",
       "      <td>False</td>\n",
       "      <td>True</td>\n",
       "      <td>R</td>\n",
       "      <td>2</td>\n",
       "      <td>2016-03-25 15:13:02</td>\n",
       "      <td>2016</td>\n",
       "      <td>3</td>\n",
       "      <td>25</td>\n",
       "      <td>15</td>\n",
       "      <td>2016-03-25</td>\n",
       "      <td>0</td>\n",
       "      <td>Partly Cloudy</td>\n",
       "      <td>NaN</td>\n",
       "      <td>NaN</td>\n",
       "      <td>66.0</td>\n",
       "      <td>54.0</td>\n",
       "      <td>17.3</td>\n",
       "      <td>10.0</td>\n",
       "      <td>No</td>\n",
       "    </tr>\n",
       "    <tr>\n",
       "      <th>1</th>\n",
       "      <td>803</td>\n",
       "      <td>37.762150</td>\n",
       "      <td>-122.405660</td>\n",
       "      <td>False</td>\n",
       "      <td>0.044</td>\n",
       "      <td>False</td>\n",
       "      <td>False</td>\n",
       "      <td>False</td>\n",
       "      <td>False</td>\n",
       "      <td>False</td>\n",
       "      <td>False</td>\n",
       "      <td>False</td>\n",
       "      <td>True</td>\n",
       "      <td>R</td>\n",
       "      <td>2</td>\n",
       "      <td>2016-03-25 15:04:17</td>\n",
       "      <td>2016</td>\n",
       "      <td>3</td>\n",
       "      <td>25</td>\n",
       "      <td>15</td>\n",
       "      <td>2016-03-25</td>\n",
       "      <td>0</td>\n",
       "      <td>Partly Cloudy</td>\n",
       "      <td>NaN</td>\n",
       "      <td>NaN</td>\n",
       "      <td>66.0</td>\n",
       "      <td>54.0</td>\n",
       "      <td>17.3</td>\n",
       "      <td>10.0</td>\n",
       "      <td>No</td>\n",
       "    </tr>\n",
       "    <tr>\n",
       "      <th>2</th>\n",
       "      <td>4522</td>\n",
       "      <td>37.752320</td>\n",
       "      <td>-122.403030</td>\n",
       "      <td>False</td>\n",
       "      <td>0.306</td>\n",
       "      <td>False</td>\n",
       "      <td>False</td>\n",
       "      <td>False</td>\n",
       "      <td>False</td>\n",
       "      <td>False</td>\n",
       "      <td>False</td>\n",
       "      <td>False</td>\n",
       "      <td>False</td>\n",
       "      <td>R</td>\n",
       "      <td>2</td>\n",
       "      <td>2016-03-25 15:50:50</td>\n",
       "      <td>2016</td>\n",
       "      <td>3</td>\n",
       "      <td>25</td>\n",
       "      <td>15</td>\n",
       "      <td>2016-03-25</td>\n",
       "      <td>0</td>\n",
       "      <td>Partly Cloudy</td>\n",
       "      <td>NaN</td>\n",
       "      <td>NaN</td>\n",
       "      <td>66.0</td>\n",
       "      <td>54.0</td>\n",
       "      <td>17.3</td>\n",
       "      <td>10.0</td>\n",
       "      <td>No</td>\n",
       "    </tr>\n",
       "    <tr>\n",
       "      <th>3</th>\n",
       "      <td>1</td>\n",
       "      <td>37.719157</td>\n",
       "      <td>-122.448254</td>\n",
       "      <td>False</td>\n",
       "      <td>0.000</td>\n",
       "      <td>False</td>\n",
       "      <td>False</td>\n",
       "      <td>False</td>\n",
       "      <td>False</td>\n",
       "      <td>False</td>\n",
       "      <td>False</td>\n",
       "      <td>False</td>\n",
       "      <td>False</td>\n",
       "      <td>R</td>\n",
       "      <td>2</td>\n",
       "      <td>2020-05-05 19:23:00</td>\n",
       "      <td>2020</td>\n",
       "      <td>5</td>\n",
       "      <td>5</td>\n",
       "      <td>19</td>\n",
       "      <td>2020-05-05</td>\n",
       "      <td>0</td>\n",
       "      <td>Mostly Cloudy</td>\n",
       "      <td>59.0</td>\n",
       "      <td>0.0</td>\n",
       "      <td>59.0</td>\n",
       "      <td>78.0</td>\n",
       "      <td>20.0</td>\n",
       "      <td>10.0</td>\n",
       "      <td>No</td>\n",
       "    </tr>\n",
       "    <tr>\n",
       "      <th>4</th>\n",
       "      <td>3174</td>\n",
       "      <td>37.719150</td>\n",
       "      <td>-122.448260</td>\n",
       "      <td>False</td>\n",
       "      <td>0.025</td>\n",
       "      <td>False</td>\n",
       "      <td>False</td>\n",
       "      <td>False</td>\n",
       "      <td>False</td>\n",
       "      <td>False</td>\n",
       "      <td>False</td>\n",
       "      <td>False</td>\n",
       "      <td>False</td>\n",
       "      <td>R</td>\n",
       "      <td>3</td>\n",
       "      <td>2020-05-05 19:32:12</td>\n",
       "      <td>2020</td>\n",
       "      <td>5</td>\n",
       "      <td>5</td>\n",
       "      <td>19</td>\n",
       "      <td>2020-05-05</td>\n",
       "      <td>0</td>\n",
       "      <td>Mostly Cloudy</td>\n",
       "      <td>59.0</td>\n",
       "      <td>0.0</td>\n",
       "      <td>59.0</td>\n",
       "      <td>78.0</td>\n",
       "      <td>20.0</td>\n",
       "      <td>10.0</td>\n",
       "      <td>No</td>\n",
       "    </tr>\n",
       "  </tbody>\n",
       "</table>\n",
       "</div>"
      ],
      "text/plain": [
       "     ID        Lat         Lng   Bump  Distance(mi)  Crossing  Give_Way  \\\n",
       "0     0  37.762150 -122.405660  False         0.044     False     False   \n",
       "1   803  37.762150 -122.405660  False         0.044     False     False   \n",
       "2  4522  37.752320 -122.403030  False         0.306     False     False   \n",
       "3     1  37.719157 -122.448254  False         0.000     False     False   \n",
       "4  3174  37.719150 -122.448260  False         0.025     False     False   \n",
       "\n",
       "   Junction  No_Exit  Railway  Roundabout   Stop  Amenity Side  Severity  \\\n",
       "0     False    False    False       False  False     True    R         2   \n",
       "1     False    False    False       False  False     True    R         2   \n",
       "2     False    False    False       False  False    False    R         2   \n",
       "3     False    False    False       False  False    False    R         2   \n",
       "4     False    False    False       False  False    False    R         3   \n",
       "\n",
       "            timestamp  Year  Month  Day  Hour        time  is_holiday  \\\n",
       "0 2016-03-25 15:13:02  2016      3   25    15  2016-03-25           0   \n",
       "1 2016-03-25 15:04:17  2016      3   25    15  2016-03-25           0   \n",
       "2 2016-03-25 15:50:50  2016      3   25    15  2016-03-25           0   \n",
       "3 2020-05-05 19:23:00  2020      5    5    19  2020-05-05           0   \n",
       "4 2020-05-05 19:32:12  2020      5    5    19  2020-05-05           0   \n",
       "\n",
       "  Weather_Condition  Wind_Chill(F)  Precipitation(in)  Temperature(F)  \\\n",
       "0     Partly Cloudy            NaN                NaN            66.0   \n",
       "1     Partly Cloudy            NaN                NaN            66.0   \n",
       "2     Partly Cloudy            NaN                NaN            66.0   \n",
       "3     Mostly Cloudy           59.0                0.0            59.0   \n",
       "4     Mostly Cloudy           59.0                0.0            59.0   \n",
       "\n",
       "   Humidity(%)  Wind_Speed(mph)  Visibility(mi) Selected  \n",
       "0         54.0             17.3            10.0       No  \n",
       "1         54.0             17.3            10.0       No  \n",
       "2         54.0             17.3            10.0       No  \n",
       "3         78.0             20.0            10.0       No  \n",
       "4         78.0             20.0            10.0       No  "
      ]
     },
     "execution_count": 15,
     "metadata": {},
     "output_type": "execute_result"
    }
   ],
   "source": [
    "train_df.head()"
   ]
  },
  {
   "cell_type": "code",
   "execution_count": 16,
   "id": "4a1a944a",
   "metadata": {
    "execution": {
     "iopub.execute_input": "2021-08-01T23:51:42.494123Z",
     "iopub.status.busy": "2021-08-01T23:51:42.493413Z",
     "iopub.status.idle": "2021-08-01T23:51:42.514453Z",
     "shell.execute_reply": "2021-08-01T23:51:42.513821Z",
     "shell.execute_reply.started": "2021-08-01T23:50:41.056735Z"
    },
    "papermill": {
     "duration": 0.100478,
     "end_time": "2021-08-01T23:51:42.514606",
     "exception": false,
     "start_time": "2021-08-01T23:51:42.414128",
     "status": "completed"
    },
    "tags": []
   },
   "outputs": [
    {
     "data": {
      "text/html": [
       "<div>\n",
       "<style scoped>\n",
       "    .dataframe tbody tr th:only-of-type {\n",
       "        vertical-align: middle;\n",
       "    }\n",
       "\n",
       "    .dataframe tbody tr th {\n",
       "        vertical-align: top;\n",
       "    }\n",
       "\n",
       "    .dataframe thead th {\n",
       "        text-align: right;\n",
       "    }\n",
       "</style>\n",
       "<table border=\"1\" class=\"dataframe\">\n",
       "  <thead>\n",
       "    <tr style=\"text-align: right;\">\n",
       "      <th></th>\n",
       "      <th>ID</th>\n",
       "      <th>Lat</th>\n",
       "      <th>Lng</th>\n",
       "      <th>Bump</th>\n",
       "      <th>Distance(mi)</th>\n",
       "      <th>Crossing</th>\n",
       "      <th>Give_Way</th>\n",
       "      <th>Junction</th>\n",
       "      <th>No_Exit</th>\n",
       "      <th>Railway</th>\n",
       "      <th>Roundabout</th>\n",
       "      <th>Stop</th>\n",
       "      <th>Amenity</th>\n",
       "      <th>Side</th>\n",
       "      <th>timestamp</th>\n",
       "      <th>Year</th>\n",
       "      <th>Month</th>\n",
       "      <th>Day</th>\n",
       "      <th>Hour</th>\n",
       "      <th>time</th>\n",
       "      <th>is_holiday</th>\n",
       "      <th>Weather_Condition</th>\n",
       "      <th>Wind_Chill(F)</th>\n",
       "      <th>Precipitation(in)</th>\n",
       "      <th>Temperature(F)</th>\n",
       "      <th>Humidity(%)</th>\n",
       "      <th>Wind_Speed(mph)</th>\n",
       "      <th>Visibility(mi)</th>\n",
       "      <th>Selected</th>\n",
       "    </tr>\n",
       "  </thead>\n",
       "  <tbody>\n",
       "    <tr>\n",
       "      <th>0</th>\n",
       "      <td>6407</td>\n",
       "      <td>37.786060</td>\n",
       "      <td>-122.390900</td>\n",
       "      <td>False</td>\n",
       "      <td>0.039</td>\n",
       "      <td>False</td>\n",
       "      <td>False</td>\n",
       "      <td>True</td>\n",
       "      <td>False</td>\n",
       "      <td>False</td>\n",
       "      <td>False</td>\n",
       "      <td>False</td>\n",
       "      <td>False</td>\n",
       "      <td>R</td>\n",
       "      <td>2016-04-04 19:20:31</td>\n",
       "      <td>2016</td>\n",
       "      <td>4</td>\n",
       "      <td>4</td>\n",
       "      <td>19</td>\n",
       "      <td>2016-04-04</td>\n",
       "      <td>0</td>\n",
       "      <td>Partly Cloudy</td>\n",
       "      <td>NaN</td>\n",
       "      <td>NaN</td>\n",
       "      <td>63.0</td>\n",
       "      <td>60.0</td>\n",
       "      <td>10.4</td>\n",
       "      <td>10.0</td>\n",
       "      <td>No</td>\n",
       "    </tr>\n",
       "    <tr>\n",
       "      <th>1</th>\n",
       "      <td>6408</td>\n",
       "      <td>37.769609</td>\n",
       "      <td>-122.415057</td>\n",
       "      <td>False</td>\n",
       "      <td>0.202</td>\n",
       "      <td>False</td>\n",
       "      <td>False</td>\n",
       "      <td>False</td>\n",
       "      <td>False</td>\n",
       "      <td>False</td>\n",
       "      <td>False</td>\n",
       "      <td>False</td>\n",
       "      <td>False</td>\n",
       "      <td>R</td>\n",
       "      <td>2020-10-28 11:51:00</td>\n",
       "      <td>2020</td>\n",
       "      <td>10</td>\n",
       "      <td>28</td>\n",
       "      <td>11</td>\n",
       "      <td>2020-10-28</td>\n",
       "      <td>0</td>\n",
       "      <td>Fair</td>\n",
       "      <td>65.0</td>\n",
       "      <td>0.0</td>\n",
       "      <td>65.0</td>\n",
       "      <td>56.0</td>\n",
       "      <td>5.0</td>\n",
       "      <td>9.0</td>\n",
       "      <td>No</td>\n",
       "    </tr>\n",
       "    <tr>\n",
       "      <th>2</th>\n",
       "      <td>6693</td>\n",
       "      <td>37.769585</td>\n",
       "      <td>-122.414182</td>\n",
       "      <td>False</td>\n",
       "      <td>0.316</td>\n",
       "      <td>False</td>\n",
       "      <td>False</td>\n",
       "      <td>False</td>\n",
       "      <td>False</td>\n",
       "      <td>False</td>\n",
       "      <td>False</td>\n",
       "      <td>False</td>\n",
       "      <td>False</td>\n",
       "      <td>R</td>\n",
       "      <td>2020-10-28 11:51:00</td>\n",
       "      <td>2020</td>\n",
       "      <td>10</td>\n",
       "      <td>28</td>\n",
       "      <td>11</td>\n",
       "      <td>2020-10-28</td>\n",
       "      <td>0</td>\n",
       "      <td>Fair</td>\n",
       "      <td>65.0</td>\n",
       "      <td>0.0</td>\n",
       "      <td>65.0</td>\n",
       "      <td>56.0</td>\n",
       "      <td>5.0</td>\n",
       "      <td>9.0</td>\n",
       "      <td>No</td>\n",
       "    </tr>\n",
       "    <tr>\n",
       "      <th>3</th>\n",
       "      <td>7194</td>\n",
       "      <td>37.769669</td>\n",
       "      <td>-122.416109</td>\n",
       "      <td>False</td>\n",
       "      <td>0.214</td>\n",
       "      <td>False</td>\n",
       "      <td>False</td>\n",
       "      <td>False</td>\n",
       "      <td>False</td>\n",
       "      <td>False</td>\n",
       "      <td>False</td>\n",
       "      <td>False</td>\n",
       "      <td>False</td>\n",
       "      <td>R</td>\n",
       "      <td>2020-10-28 11:51:00</td>\n",
       "      <td>2020</td>\n",
       "      <td>10</td>\n",
       "      <td>28</td>\n",
       "      <td>11</td>\n",
       "      <td>2020-10-28</td>\n",
       "      <td>0</td>\n",
       "      <td>Fair</td>\n",
       "      <td>65.0</td>\n",
       "      <td>0.0</td>\n",
       "      <td>65.0</td>\n",
       "      <td>56.0</td>\n",
       "      <td>5.0</td>\n",
       "      <td>9.0</td>\n",
       "      <td>No</td>\n",
       "    </tr>\n",
       "    <tr>\n",
       "      <th>4</th>\n",
       "      <td>6409</td>\n",
       "      <td>37.807495</td>\n",
       "      <td>-122.476021</td>\n",
       "      <td>False</td>\n",
       "      <td>0.000</td>\n",
       "      <td>False</td>\n",
       "      <td>False</td>\n",
       "      <td>False</td>\n",
       "      <td>False</td>\n",
       "      <td>False</td>\n",
       "      <td>False</td>\n",
       "      <td>False</td>\n",
       "      <td>False</td>\n",
       "      <td>R</td>\n",
       "      <td>2019-09-09 07:36:45</td>\n",
       "      <td>2019</td>\n",
       "      <td>9</td>\n",
       "      <td>9</td>\n",
       "      <td>7</td>\n",
       "      <td>2019-09-09</td>\n",
       "      <td>0</td>\n",
       "      <td>Mostly Cloudy</td>\n",
       "      <td>59.0</td>\n",
       "      <td>0.0</td>\n",
       "      <td>59.0</td>\n",
       "      <td>87.0</td>\n",
       "      <td>14.0</td>\n",
       "      <td>10.0</td>\n",
       "      <td>No</td>\n",
       "    </tr>\n",
       "  </tbody>\n",
       "</table>\n",
       "</div>"
      ],
      "text/plain": [
       "     ID        Lat         Lng   Bump  Distance(mi)  Crossing  Give_Way  \\\n",
       "0  6407  37.786060 -122.390900  False         0.039     False     False   \n",
       "1  6408  37.769609 -122.415057  False         0.202     False     False   \n",
       "2  6693  37.769585 -122.414182  False         0.316     False     False   \n",
       "3  7194  37.769669 -122.416109  False         0.214     False     False   \n",
       "4  6409  37.807495 -122.476021  False         0.000     False     False   \n",
       "\n",
       "   Junction  No_Exit  Railway  Roundabout   Stop  Amenity Side  \\\n",
       "0      True    False    False       False  False    False    R   \n",
       "1     False    False    False       False  False    False    R   \n",
       "2     False    False    False       False  False    False    R   \n",
       "3     False    False    False       False  False    False    R   \n",
       "4     False    False    False       False  False    False    R   \n",
       "\n",
       "            timestamp  Year  Month  Day  Hour        time  is_holiday  \\\n",
       "0 2016-04-04 19:20:31  2016      4    4    19  2016-04-04           0   \n",
       "1 2020-10-28 11:51:00  2020     10   28    11  2020-10-28           0   \n",
       "2 2020-10-28 11:51:00  2020     10   28    11  2020-10-28           0   \n",
       "3 2020-10-28 11:51:00  2020     10   28    11  2020-10-28           0   \n",
       "4 2019-09-09 07:36:45  2019      9    9     7  2019-09-09           0   \n",
       "\n",
       "  Weather_Condition  Wind_Chill(F)  Precipitation(in)  Temperature(F)  \\\n",
       "0     Partly Cloudy            NaN                NaN            63.0   \n",
       "1              Fair           65.0                0.0            65.0   \n",
       "2              Fair           65.0                0.0            65.0   \n",
       "3              Fair           65.0                0.0            65.0   \n",
       "4     Mostly Cloudy           59.0                0.0            59.0   \n",
       "\n",
       "   Humidity(%)  Wind_Speed(mph)  Visibility(mi) Selected  \n",
       "0         60.0             10.4            10.0       No  \n",
       "1         56.0              5.0             9.0       No  \n",
       "2         56.0              5.0             9.0       No  \n",
       "3         56.0              5.0             9.0       No  \n",
       "4         87.0             14.0            10.0       No  "
      ]
     },
     "execution_count": 16,
     "metadata": {},
     "output_type": "execute_result"
    }
   ],
   "source": [
    "test_df.head()"
   ]
  },
  {
   "cell_type": "markdown",
   "id": "0cd394b6",
   "metadata": {
    "papermill": {
     "duration": 0.061273,
     "end_time": "2021-08-01T23:51:42.638359",
     "exception": false,
     "start_time": "2021-08-01T23:51:42.577086",
     "status": "completed"
    },
    "tags": []
   },
   "source": [
    "## Further Investigating New Data"
   ]
  },
  {
   "cell_type": "code",
   "execution_count": 17,
   "id": "33b72f2f",
   "metadata": {
    "execution": {
     "iopub.execute_input": "2021-08-01T23:51:42.768223Z",
     "iopub.status.busy": "2021-08-01T23:51:42.767543Z",
     "iopub.status.idle": "2021-08-01T23:51:42.836603Z",
     "shell.execute_reply": "2021-08-01T23:51:42.836067Z",
     "shell.execute_reply.started": "2021-08-01T23:50:41.090345Z"
    },
    "papermill": {
     "duration": 0.137076,
     "end_time": "2021-08-01T23:51:42.836750",
     "exception": false,
     "start_time": "2021-08-01T23:51:42.699674",
     "status": "completed"
    },
    "tags": []
   },
   "outputs": [
    {
     "data": {
      "text/html": [
       "<div>\n",
       "<style scoped>\n",
       "    .dataframe tbody tr th:only-of-type {\n",
       "        vertical-align: middle;\n",
       "    }\n",
       "\n",
       "    .dataframe tbody tr th {\n",
       "        vertical-align: top;\n",
       "    }\n",
       "\n",
       "    .dataframe thead th {\n",
       "        text-align: right;\n",
       "    }\n",
       "</style>\n",
       "<table border=\"1\" class=\"dataframe\">\n",
       "  <thead>\n",
       "    <tr style=\"text-align: right;\">\n",
       "      <th></th>\n",
       "      <th>count</th>\n",
       "      <th>mean</th>\n",
       "      <th>std</th>\n",
       "      <th>min</th>\n",
       "      <th>25%</th>\n",
       "      <th>50%</th>\n",
       "      <th>75%</th>\n",
       "      <th>max</th>\n",
       "    </tr>\n",
       "  </thead>\n",
       "  <tbody>\n",
       "    <tr>\n",
       "      <th>ID</th>\n",
       "      <td>6407.0</td>\n",
       "      <td>3203.000000</td>\n",
       "      <td>1849.685919</td>\n",
       "      <td>0.000000</td>\n",
       "      <td>1601.500000</td>\n",
       "      <td>3203.000000</td>\n",
       "      <td>4804.500000</td>\n",
       "      <td>6406.000000</td>\n",
       "    </tr>\n",
       "    <tr>\n",
       "      <th>Lat</th>\n",
       "      <td>6407.0</td>\n",
       "      <td>37.765653</td>\n",
       "      <td>0.032555</td>\n",
       "      <td>37.609619</td>\n",
       "      <td>37.737096</td>\n",
       "      <td>37.768238</td>\n",
       "      <td>37.787813</td>\n",
       "      <td>37.825626</td>\n",
       "    </tr>\n",
       "    <tr>\n",
       "      <th>Lng</th>\n",
       "      <td>6407.0</td>\n",
       "      <td>-122.405990</td>\n",
       "      <td>0.028275</td>\n",
       "      <td>-122.510440</td>\n",
       "      <td>-122.412210</td>\n",
       "      <td>-122.404835</td>\n",
       "      <td>-122.392477</td>\n",
       "      <td>-122.349734</td>\n",
       "    </tr>\n",
       "    <tr>\n",
       "      <th>Distance(mi)</th>\n",
       "      <td>6407.0</td>\n",
       "      <td>0.135189</td>\n",
       "      <td>0.396360</td>\n",
       "      <td>0.000000</td>\n",
       "      <td>0.000000</td>\n",
       "      <td>0.000000</td>\n",
       "      <td>0.041000</td>\n",
       "      <td>6.820000</td>\n",
       "    </tr>\n",
       "    <tr>\n",
       "      <th>Severity</th>\n",
       "      <td>6407.0</td>\n",
       "      <td>2.293429</td>\n",
       "      <td>0.521225</td>\n",
       "      <td>1.000000</td>\n",
       "      <td>2.000000</td>\n",
       "      <td>2.000000</td>\n",
       "      <td>3.000000</td>\n",
       "      <td>4.000000</td>\n",
       "    </tr>\n",
       "    <tr>\n",
       "      <th>Year</th>\n",
       "      <td>6407.0</td>\n",
       "      <td>2018.407835</td>\n",
       "      <td>1.375794</td>\n",
       "      <td>2016.000000</td>\n",
       "      <td>2017.000000</td>\n",
       "      <td>2019.000000</td>\n",
       "      <td>2020.000000</td>\n",
       "      <td>2020.000000</td>\n",
       "    </tr>\n",
       "    <tr>\n",
       "      <th>Month</th>\n",
       "      <td>6407.0</td>\n",
       "      <td>6.744498</td>\n",
       "      <td>3.568445</td>\n",
       "      <td>1.000000</td>\n",
       "      <td>4.000000</td>\n",
       "      <td>7.000000</td>\n",
       "      <td>10.000000</td>\n",
       "      <td>12.000000</td>\n",
       "    </tr>\n",
       "    <tr>\n",
       "      <th>Day</th>\n",
       "      <td>6407.0</td>\n",
       "      <td>15.656626</td>\n",
       "      <td>8.750849</td>\n",
       "      <td>1.000000</td>\n",
       "      <td>8.000000</td>\n",
       "      <td>16.000000</td>\n",
       "      <td>23.000000</td>\n",
       "      <td>31.000000</td>\n",
       "    </tr>\n",
       "    <tr>\n",
       "      <th>Hour</th>\n",
       "      <td>6407.0</td>\n",
       "      <td>12.873888</td>\n",
       "      <td>5.824203</td>\n",
       "      <td>0.000000</td>\n",
       "      <td>8.000000</td>\n",
       "      <td>14.000000</td>\n",
       "      <td>17.000000</td>\n",
       "      <td>23.000000</td>\n",
       "    </tr>\n",
       "    <tr>\n",
       "      <th>is_holiday</th>\n",
       "      <td>6407.0</td>\n",
       "      <td>0.023100</td>\n",
       "      <td>0.150232</td>\n",
       "      <td>0.000000</td>\n",
       "      <td>0.000000</td>\n",
       "      <td>0.000000</td>\n",
       "      <td>0.000000</td>\n",
       "      <td>1.000000</td>\n",
       "    </tr>\n",
       "    <tr>\n",
       "      <th>Wind_Chill(F)</th>\n",
       "      <td>3274.0</td>\n",
       "      <td>59.891448</td>\n",
       "      <td>9.239575</td>\n",
       "      <td>31.100000</td>\n",
       "      <td>54.000000</td>\n",
       "      <td>59.000000</td>\n",
       "      <td>66.000000</td>\n",
       "      <td>98.000000</td>\n",
       "    </tr>\n",
       "    <tr>\n",
       "      <th>Precipitation(in)</th>\n",
       "      <td>3524.0</td>\n",
       "      <td>0.006504</td>\n",
       "      <td>0.029076</td>\n",
       "      <td>0.000000</td>\n",
       "      <td>0.000000</td>\n",
       "      <td>0.000000</td>\n",
       "      <td>0.000000</td>\n",
       "      <td>0.490000</td>\n",
       "    </tr>\n",
       "    <tr>\n",
       "      <th>Temperature(F)</th>\n",
       "      <td>6405.0</td>\n",
       "      <td>59.929149</td>\n",
       "      <td>7.992331</td>\n",
       "      <td>36.000000</td>\n",
       "      <td>54.000000</td>\n",
       "      <td>59.000000</td>\n",
       "      <td>64.900000</td>\n",
       "      <td>98.000000</td>\n",
       "    </tr>\n",
       "    <tr>\n",
       "      <th>Humidity(%)</th>\n",
       "      <td>6405.0</td>\n",
       "      <td>68.150507</td>\n",
       "      <td>16.227242</td>\n",
       "      <td>10.000000</td>\n",
       "      <td>59.000000</td>\n",
       "      <td>70.000000</td>\n",
       "      <td>80.000000</td>\n",
       "      <td>100.000000</td>\n",
       "    </tr>\n",
       "    <tr>\n",
       "      <th>Wind_Speed(mph)</th>\n",
       "      <td>6101.0</td>\n",
       "      <td>10.867759</td>\n",
       "      <td>6.538428</td>\n",
       "      <td>0.000000</td>\n",
       "      <td>5.800000</td>\n",
       "      <td>10.000000</td>\n",
       "      <td>15.000000</td>\n",
       "      <td>40.300000</td>\n",
       "    </tr>\n",
       "    <tr>\n",
       "      <th>Visibility(mi)</th>\n",
       "      <td>6406.0</td>\n",
       "      <td>9.435603</td>\n",
       "      <td>1.660939</td>\n",
       "      <td>0.120000</td>\n",
       "      <td>10.000000</td>\n",
       "      <td>10.000000</td>\n",
       "      <td>10.000000</td>\n",
       "      <td>10.000000</td>\n",
       "    </tr>\n",
       "  </tbody>\n",
       "</table>\n",
       "</div>"
      ],
      "text/plain": [
       "                    count         mean          std          min          25%  \\\n",
       "ID                 6407.0  3203.000000  1849.685919     0.000000  1601.500000   \n",
       "Lat                6407.0    37.765653     0.032555    37.609619    37.737096   \n",
       "Lng                6407.0  -122.405990     0.028275  -122.510440  -122.412210   \n",
       "Distance(mi)       6407.0     0.135189     0.396360     0.000000     0.000000   \n",
       "Severity           6407.0     2.293429     0.521225     1.000000     2.000000   \n",
       "Year               6407.0  2018.407835     1.375794  2016.000000  2017.000000   \n",
       "Month              6407.0     6.744498     3.568445     1.000000     4.000000   \n",
       "Day                6407.0    15.656626     8.750849     1.000000     8.000000   \n",
       "Hour               6407.0    12.873888     5.824203     0.000000     8.000000   \n",
       "is_holiday         6407.0     0.023100     0.150232     0.000000     0.000000   \n",
       "Wind_Chill(F)      3274.0    59.891448     9.239575    31.100000    54.000000   \n",
       "Precipitation(in)  3524.0     0.006504     0.029076     0.000000     0.000000   \n",
       "Temperature(F)     6405.0    59.929149     7.992331    36.000000    54.000000   \n",
       "Humidity(%)        6405.0    68.150507    16.227242    10.000000    59.000000   \n",
       "Wind_Speed(mph)    6101.0    10.867759     6.538428     0.000000     5.800000   \n",
       "Visibility(mi)     6406.0     9.435603     1.660939     0.120000    10.000000   \n",
       "\n",
       "                           50%          75%          max  \n",
       "ID                 3203.000000  4804.500000  6406.000000  \n",
       "Lat                  37.768238    37.787813    37.825626  \n",
       "Lng                -122.404835  -122.392477  -122.349734  \n",
       "Distance(mi)          0.000000     0.041000     6.820000  \n",
       "Severity              2.000000     3.000000     4.000000  \n",
       "Year               2019.000000  2020.000000  2020.000000  \n",
       "Month                 7.000000    10.000000    12.000000  \n",
       "Day                  16.000000    23.000000    31.000000  \n",
       "Hour                 14.000000    17.000000    23.000000  \n",
       "is_holiday            0.000000     0.000000     1.000000  \n",
       "Wind_Chill(F)        59.000000    66.000000    98.000000  \n",
       "Precipitation(in)     0.000000     0.000000     0.490000  \n",
       "Temperature(F)       59.000000    64.900000    98.000000  \n",
       "Humidity(%)          70.000000    80.000000   100.000000  \n",
       "Wind_Speed(mph)      10.000000    15.000000    40.300000  \n",
       "Visibility(mi)       10.000000    10.000000    10.000000  "
      ]
     },
     "execution_count": 17,
     "metadata": {},
     "output_type": "execute_result"
    }
   ],
   "source": [
    "train_df.describe().T"
   ]
  },
  {
   "cell_type": "code",
   "execution_count": 18,
   "id": "b215cf7c",
   "metadata": {
    "execution": {
     "iopub.execute_input": "2021-08-01T23:51:42.967909Z",
     "iopub.status.busy": "2021-08-01T23:51:42.967197Z",
     "iopub.status.idle": "2021-08-01T23:51:42.997278Z",
     "shell.execute_reply": "2021-08-01T23:51:42.996412Z",
     "shell.execute_reply.started": "2021-08-01T23:50:41.163410Z"
    },
    "papermill": {
     "duration": 0.098579,
     "end_time": "2021-08-01T23:51:42.997472",
     "exception": false,
     "start_time": "2021-08-01T23:51:42.898893",
     "status": "completed"
    },
    "tags": []
   },
   "outputs": [
    {
     "name": "stdout",
     "output_type": "stream",
     "text": [
      "Column Name :  Bump\n",
      "False    6407\n",
      "Name: Bump, dtype: int64\n",
      "====================\n",
      "Column Name :  Crossing\n",
      "False    5879\n",
      "True      528\n",
      "Name: Crossing, dtype: int64\n",
      "====================\n",
      "Column Name :  Give_Way\n",
      "False    6404\n",
      "True        3\n",
      "Name: Give_Way, dtype: int64\n",
      "====================\n",
      "Column Name :  Junction\n",
      "False    4828\n",
      "True     1579\n",
      "Name: Junction, dtype: int64\n",
      "====================\n",
      "Column Name :  No_Exit\n",
      "False    6406\n",
      "True        1\n",
      "Name: No_Exit, dtype: int64\n",
      "====================\n",
      "Column Name :  Railway\n",
      "False    6237\n",
      "True      170\n",
      "Name: Railway, dtype: int64\n",
      "====================\n",
      "Column Name :  Roundabout\n",
      "False    6407\n",
      "Name: Roundabout, dtype: int64\n",
      "====================\n",
      "Column Name :  Stop\n",
      "False    5781\n",
      "True      626\n",
      "Name: Stop, dtype: int64\n",
      "====================\n",
      "Column Name :  Amenity\n",
      "False    6169\n",
      "True      238\n",
      "Name: Amenity, dtype: int64\n",
      "====================\n",
      "Column Name :  Side\n",
      "R    6082\n",
      "L     325\n",
      "Name: Side, dtype: int64\n",
      "====================\n",
      "Column Name :  Selected\n",
      "No     6405\n",
      "Yes       2\n",
      "Name: Selected, dtype: int64\n",
      "====================\n"
     ]
    }
   ],
   "source": [
    "boolean_columns = ['Bump', 'Crossing', 'Give_Way', 'Junction', 'No_Exit', 'Railway', 'Roundabout', 'Stop', 'Amenity', 'Side', 'Selected']\n",
    "def col_values(data, col) :    \n",
    "    return data[col].value_counts()\n",
    "for col in boolean_columns :\n",
    "    print('Column Name : ', col)\n",
    "    print(col_values(train_df, col))\n",
    "    print(\"====================\")       "
   ]
  },
  {
   "cell_type": "markdown",
   "id": "0a9bff26",
   "metadata": {
    "papermill": {
     "duration": 0.063577,
     "end_time": "2021-08-01T23:51:43.127493",
     "exception": false,
     "start_time": "2021-08-01T23:51:43.063916",
     "status": "completed"
    },
    "tags": []
   },
   "source": [
    "> columns [Bump, Give_Way, No_Exit, Roundabout, Selected] should be dropped as it has one unique value"
   ]
  },
  {
   "cell_type": "code",
   "execution_count": 19,
   "id": "0acd67f3",
   "metadata": {
    "execution": {
     "iopub.execute_input": "2021-08-01T23:51:43.263148Z",
     "iopub.status.busy": "2021-08-01T23:51:43.259656Z",
     "iopub.status.idle": "2021-08-01T23:51:43.271970Z",
     "shell.execute_reply": "2021-08-01T23:51:43.271374Z",
     "shell.execute_reply.started": "2021-08-01T23:50:41.199886Z"
    },
    "papermill": {
     "duration": 0.080401,
     "end_time": "2021-08-01T23:51:43.272137",
     "exception": false,
     "start_time": "2021-08-01T23:51:43.191736",
     "status": "completed"
    },
    "tags": []
   },
   "outputs": [
    {
     "data": {
      "text/plain": [
       "ID                      0\n",
       "Lat                     0\n",
       "Lng                     0\n",
       "Bump                    0\n",
       "Distance(mi)            0\n",
       "Crossing                0\n",
       "Give_Way                0\n",
       "Junction                0\n",
       "No_Exit                 0\n",
       "Railway                 0\n",
       "Roundabout              0\n",
       "Stop                    0\n",
       "Amenity                 0\n",
       "Side                    0\n",
       "Severity                0\n",
       "timestamp               0\n",
       "Year                    0\n",
       "Month                   0\n",
       "Day                     0\n",
       "Hour                    0\n",
       "time                    0\n",
       "is_holiday              0\n",
       "Weather_Condition       1\n",
       "Wind_Chill(F)        3133\n",
       "Precipitation(in)    2883\n",
       "Temperature(F)          2\n",
       "Humidity(%)             2\n",
       "Wind_Speed(mph)       306\n",
       "Visibility(mi)          1\n",
       "Selected                0\n",
       "dtype: int64"
      ]
     },
     "execution_count": 19,
     "metadata": {},
     "output_type": "execute_result"
    }
   ],
   "source": [
    "train_df.isnull().sum()"
   ]
  },
  {
   "cell_type": "code",
   "execution_count": 20,
   "id": "b0933061",
   "metadata": {
    "execution": {
     "iopub.execute_input": "2021-08-01T23:51:43.408459Z",
     "iopub.status.busy": "2021-08-01T23:51:43.406772Z",
     "iopub.status.idle": "2021-08-01T23:51:43.417635Z",
     "shell.execute_reply": "2021-08-01T23:51:43.416972Z",
     "shell.execute_reply.started": "2021-08-01T23:50:41.219258Z"
    },
    "papermill": {
     "duration": 0.081232,
     "end_time": "2021-08-01T23:51:43.417803",
     "exception": false,
     "start_time": "2021-08-01T23:51:43.336571",
     "status": "completed"
    },
    "tags": []
   },
   "outputs": [
    {
     "data": {
      "text/plain": [
       "ID                     0\n",
       "Lat                    0\n",
       "Lng                    0\n",
       "Bump                   0\n",
       "Distance(mi)           0\n",
       "Crossing               0\n",
       "Give_Way               0\n",
       "Junction               0\n",
       "No_Exit                0\n",
       "Railway                0\n",
       "Roundabout             0\n",
       "Stop                   0\n",
       "Amenity                0\n",
       "Side                   0\n",
       "timestamp              0\n",
       "Year                   0\n",
       "Month                  0\n",
       "Day                    0\n",
       "Hour                   0\n",
       "time                   0\n",
       "is_holiday             0\n",
       "Weather_Condition      0\n",
       "Wind_Chill(F)        783\n",
       "Precipitation(in)    720\n",
       "Temperature(F)         0\n",
       "Humidity(%)            0\n",
       "Wind_Speed(mph)       78\n",
       "Visibility(mi)         0\n",
       "Selected               0\n",
       "dtype: int64"
      ]
     },
     "execution_count": 20,
     "metadata": {},
     "output_type": "execute_result"
    }
   ],
   "source": [
    "test_df.isnull().sum()"
   ]
  },
  {
   "cell_type": "markdown",
   "id": "4d31fcfc",
   "metadata": {
    "papermill": {
     "duration": 0.064458,
     "end_time": "2021-08-01T23:51:43.545867",
     "exception": false,
     "start_time": "2021-08-01T23:51:43.481409",
     "status": "completed"
    },
    "tags": []
   },
   "source": [
    "there is huge number of nulls in [Wind_Chill(F), Precipitation(in)] features so they will be dropped also"
   ]
  },
  {
   "cell_type": "markdown",
   "id": "8565290b",
   "metadata": {
    "papermill": {
     "duration": 0.062925,
     "end_time": "2021-08-01T23:51:43.672742",
     "exception": false,
     "start_time": "2021-08-01T23:51:43.609817",
     "status": "completed"
    },
    "tags": []
   },
   "source": [
    "## Dropping some features"
   ]
  },
  {
   "cell_type": "code",
   "execution_count": 21,
   "id": "714228ba",
   "metadata": {
    "execution": {
     "iopub.execute_input": "2021-08-01T23:51:43.808045Z",
     "iopub.status.busy": "2021-08-01T23:51:43.807018Z",
     "iopub.status.idle": "2021-08-01T23:51:43.813718Z",
     "shell.execute_reply": "2021-08-01T23:51:43.813083Z",
     "shell.execute_reply.started": "2021-08-01T23:50:41.236892Z"
    },
    "papermill": {
     "duration": 0.077093,
     "end_time": "2021-08-01T23:51:43.813859",
     "exception": false,
     "start_time": "2021-08-01T23:51:43.736766",
     "status": "completed"
    },
    "tags": []
   },
   "outputs": [],
   "source": [
    "columns_2_drop = ['Bump', 'Give_Way', 'No_Exit', 'Roundabout', 'Wind_Chill(F)', 'Precipitation(in)', 'Selected', 'time', 'timestamp']\n",
    "for df in [train_df, test_df] :\n",
    "    df.drop(columns = columns_2_drop, axis = 1, inplace = True)"
   ]
  },
  {
   "cell_type": "code",
   "execution_count": 22,
   "id": "406bbe67",
   "metadata": {
    "execution": {
     "iopub.execute_input": "2021-08-01T23:51:43.948100Z",
     "iopub.status.busy": "2021-08-01T23:51:43.947295Z",
     "iopub.status.idle": "2021-08-01T23:51:43.950556Z",
     "shell.execute_reply": "2021-08-01T23:51:43.951169Z",
     "shell.execute_reply.started": "2021-08-01T23:50:41.250214Z"
    },
    "papermill": {
     "duration": 0.074117,
     "end_time": "2021-08-01T23:51:43.951332",
     "exception": false,
     "start_time": "2021-08-01T23:51:43.877215",
     "status": "completed"
    },
    "tags": []
   },
   "outputs": [
    {
     "data": {
      "text/plain": [
       "0"
      ]
     },
     "execution_count": 22,
     "metadata": {},
     "output_type": "execute_result"
    }
   ],
   "source": [
    "train_df['ID'].duplicated().sum()"
   ]
  },
  {
   "cell_type": "markdown",
   "id": "66c97ccb",
   "metadata": {
    "papermill": {
     "duration": 0.064613,
     "end_time": "2021-08-01T23:51:44.080035",
     "exception": false,
     "start_time": "2021-08-01T23:51:44.015422",
     "status": "completed"
    },
    "tags": []
   },
   "source": [
    "## Correlation Matrix"
   ]
  },
  {
   "cell_type": "code",
   "execution_count": 23,
   "id": "5b01bfd5",
   "metadata": {
    "execution": {
     "iopub.execute_input": "2021-08-01T23:51:44.213914Z",
     "iopub.status.busy": "2021-08-01T23:51:44.213025Z",
     "iopub.status.idle": "2021-08-01T23:51:45.546727Z",
     "shell.execute_reply": "2021-08-01T23:51:45.547259Z",
     "shell.execute_reply.started": "2021-08-01T23:50:41.266511Z"
    },
    "papermill": {
     "duration": 1.403755,
     "end_time": "2021-08-01T23:51:45.547460",
     "exception": false,
     "start_time": "2021-08-01T23:51:44.143705",
     "status": "completed"
    },
    "tags": []
   },
   "outputs": [
    {
     "data": {
      "image/png": "[encoded data removed]",
      "text/plain": [
       "<Figure size 1440x720 with 2 Axes>"
      ]
     },
     "metadata": {
      "needs_background": "light"
     },
     "output_type": "display_data"
    }
   ],
   "source": [
    "# correlation matrix and heatmap to stand on important features\n",
    "corr_matrix = train_df.corr()\n",
    "mask = np.triu(np.ones_like(corr_matrix,dtype = bool))\n",
    "plt.figure(figsize = (20,10))\n",
    "sns.heatmap(corr_matrix, fmt = '0.1f', cmap = 'Blues', mask = mask, annot = True)\n",
    "plt.title(\"Correlation Analysis\");"
   ]
  },
  {
   "cell_type": "code",
   "execution_count": 24,
   "id": "08d7c649",
   "metadata": {
    "execution": {
     "iopub.execute_input": "2021-08-01T23:51:45.696348Z",
     "iopub.status.busy": "2021-08-01T23:51:45.695605Z",
     "iopub.status.idle": "2021-08-01T23:51:45.700657Z",
     "shell.execute_reply": "2021-08-01T23:51:45.701142Z",
     "shell.execute_reply.started": "2021-08-01T23:50:42.663440Z"
    },
    "papermill": {
     "duration": 0.080588,
     "end_time": "2021-08-01T23:51:45.701325",
     "exception": false,
     "start_time": "2021-08-01T23:51:45.620737",
     "status": "completed"
    },
    "tags": []
   },
   "outputs": [
    {
     "data": {
      "text/plain": [
       "ID                 0.020703\n",
       "Lat                0.099581\n",
       "Lng                0.145313\n",
       "Distance(mi)      -0.013141\n",
       "Crossing          -0.090314\n",
       "Junction          -0.068328\n",
       "Railway           -0.033322\n",
       "Stop               0.229269\n",
       "Amenity           -0.078915\n",
       "Severity           1.000000\n",
       "Year              -0.171479\n",
       "Month             -0.049405\n",
       "Day               -0.000495\n",
       "Hour              -0.019022\n",
       "is_holiday         0.003135\n",
       "Temperature(F)    -0.019623\n",
       "Humidity(%)        0.079902\n",
       "Wind_Speed(mph)    0.021660\n",
       "Visibility(mi)    -0.006691\n",
       "Name: Severity, dtype: float64"
      ]
     },
     "execution_count": 24,
     "metadata": {},
     "output_type": "execute_result"
    }
   ],
   "source": [
    "corr_matrix['Severity']"
   ]
  },
  {
   "cell_type": "code",
   "execution_count": 25,
   "id": "eee9e681",
   "metadata": {
    "execution": {
     "iopub.execute_input": "2021-08-01T23:51:45.841070Z",
     "iopub.status.busy": "2021-08-01T23:51:45.840085Z",
     "iopub.status.idle": "2021-08-01T23:51:45.844650Z",
     "shell.execute_reply": "2021-08-01T23:51:45.844075Z",
     "shell.execute_reply.started": "2021-08-01T23:50:42.673888Z"
    },
    "papermill": {
     "duration": 0.077267,
     "end_time": "2021-08-01T23:51:45.844798",
     "exception": false,
     "start_time": "2021-08-01T23:51:45.767531",
     "status": "completed"
    },
    "tags": []
   },
   "outputs": [
    {
     "data": {
      "text/plain": [
       "\"plt.scatter(data = train_df, x = 'Temperature(F)', y = 'Humidity(%)')\\nplt.xlabel('Temperature(F)')\\nplt.ylabel('Humidity(%)')\\nplt.title('Temp VS Humidity');\""
      ]
     },
     "execution_count": 25,
     "metadata": {},
     "output_type": "execute_result"
    }
   ],
   "source": [
    "'''plt.scatter(data = train_df, x = 'Temperature(F)', y = 'Humidity(%)')\n",
    "plt.xlabel('Temperature(F)')\n",
    "plt.ylabel('Humidity(%)')\n",
    "plt.title('Temp VS Humidity');'''"
   ]
  },
  {
   "cell_type": "markdown",
   "id": "0cd76f6e",
   "metadata": {
    "papermill": {
     "duration": 0.06797,
     "end_time": "2021-08-01T23:51:45.979469",
     "exception": false,
     "start_time": "2021-08-01T23:51:45.911499",
     "status": "completed"
    },
    "tags": []
   },
   "source": [
    "## Handling Missing Values"
   ]
  },
  {
   "cell_type": "code",
   "execution_count": 26,
   "id": "011de539",
   "metadata": {
    "execution": {
     "iopub.execute_input": "2021-08-01T23:51:46.123943Z",
     "iopub.status.busy": "2021-08-01T23:51:46.123023Z",
     "iopub.status.idle": "2021-08-01T23:51:46.128107Z",
     "shell.execute_reply": "2021-08-01T23:51:46.127464Z",
     "shell.execute_reply.started": "2021-08-01T23:50:42.689644Z"
    },
    "papermill": {
     "duration": 0.080755,
     "end_time": "2021-08-01T23:51:46.128247",
     "exception": false,
     "start_time": "2021-08-01T23:51:46.047492",
     "status": "completed"
    },
    "tags": []
   },
   "outputs": [],
   "source": [
    "# imputing nan in Wind_Speed(mph) by a random sample\n",
    "'''for df in [train_df, test_df] :  \n",
    "    random_sample = df['Wind_Speed(mph)'].dropna().sample(df['Wind_Speed(mph)'].isnull().sum())\n",
    "    random_sample.index = df[df['Wind_Speed(mph)'].isnull()].index\n",
    "    df.loc[df['Wind_Speed(mph)'].isnull(), 'Wind_Speed(mph)'] = random_sample'''\n",
    "for df in [train_df,test_df]:\n",
    "    df['Wind_Speed(mph)'].fillna(df['Wind_Speed(mph)'].dropna().mean(), inplace = True)\n",
    "    \n",
    "#train_df['Wind_Speed(mph)'].fillna(train_df['Wind_Speed(mph)'].dropna().mean(), inplace = True)\n",
    "       "
   ]
  },
  {
   "cell_type": "code",
   "execution_count": 27,
   "id": "15e916ca",
   "metadata": {
    "execution": {
     "iopub.execute_input": "2021-08-01T23:51:46.269694Z",
     "iopub.status.busy": "2021-08-01T23:51:46.268749Z",
     "iopub.status.idle": "2021-08-01T23:51:46.277809Z",
     "shell.execute_reply": "2021-08-01T23:51:46.277161Z",
     "shell.execute_reply.started": "2021-08-01T23:50:42.703460Z"
    },
    "papermill": {
     "duration": 0.082713,
     "end_time": "2021-08-01T23:51:46.277950",
     "exception": false,
     "start_time": "2021-08-01T23:51:46.195237",
     "status": "completed"
    },
    "tags": []
   },
   "outputs": [
    {
     "data": {
      "text/plain": [
       "ID                   0\n",
       "Lat                  0\n",
       "Lng                  0\n",
       "Distance(mi)         0\n",
       "Crossing             0\n",
       "Junction             0\n",
       "Railway              0\n",
       "Stop                 0\n",
       "Amenity              0\n",
       "Side                 0\n",
       "Severity             0\n",
       "Year                 0\n",
       "Month                0\n",
       "Day                  0\n",
       "Hour                 0\n",
       "is_holiday           0\n",
       "Weather_Condition    1\n",
       "Temperature(F)       2\n",
       "Humidity(%)          2\n",
       "Wind_Speed(mph)      0\n",
       "Visibility(mi)       1\n",
       "dtype: int64"
      ]
     },
     "execution_count": 27,
     "metadata": {},
     "output_type": "execute_result"
    }
   ],
   "source": [
    "train_df.isnull().sum()"
   ]
  },
  {
   "cell_type": "code",
   "execution_count": 28,
   "id": "d827a581",
   "metadata": {
    "execution": {
     "iopub.execute_input": "2021-08-01T23:51:46.420650Z",
     "iopub.status.busy": "2021-08-01T23:51:46.419941Z",
     "iopub.status.idle": "2021-08-01T23:51:46.449519Z",
     "shell.execute_reply": "2021-08-01T23:51:46.448854Z",
     "shell.execute_reply.started": "2021-08-01T23:50:42.726295Z"
    },
    "papermill": {
     "duration": 0.104731,
     "end_time": "2021-08-01T23:51:46.449707",
     "exception": false,
     "start_time": "2021-08-01T23:51:46.344976",
     "status": "completed"
    },
    "tags": []
   },
   "outputs": [
    {
     "data": {
      "text/plain": [
       "ID                   0\n",
       "Lat                  0\n",
       "Lng                  0\n",
       "Distance(mi)         0\n",
       "Crossing             0\n",
       "Junction             0\n",
       "Railway              0\n",
       "Stop                 0\n",
       "Amenity              0\n",
       "Side                 0\n",
       "Severity             0\n",
       "Year                 0\n",
       "Month                0\n",
       "Day                  0\n",
       "Hour                 0\n",
       "is_holiday           0\n",
       "Weather_Condition    0\n",
       "Temperature(F)       0\n",
       "Humidity(%)          0\n",
       "Wind_Speed(mph)      0\n",
       "Visibility(mi)       0\n",
       "dtype: int64"
      ]
     },
     "execution_count": 28,
     "metadata": {},
     "output_type": "execute_result"
    }
   ],
   "source": [
    "# dropping some records with nulls\n",
    "train_df.dropna(inplace = True)\n",
    "train_df.isnull().sum()"
   ]
  },
  {
   "cell_type": "markdown",
   "id": "102ac6cd",
   "metadata": {
    "papermill": {
     "duration": 0.067867,
     "end_time": "2021-08-01T23:51:46.587352",
     "exception": false,
     "start_time": "2021-08-01T23:51:46.519485",
     "status": "completed"
    },
    "tags": []
   },
   "source": [
    "## Severity investigating"
   ]
  },
  {
   "cell_type": "code",
   "execution_count": 29,
   "id": "7e9cdfca",
   "metadata": {
    "execution": {
     "iopub.execute_input": "2021-08-01T23:51:46.731514Z",
     "iopub.status.busy": "2021-08-01T23:51:46.730637Z",
     "iopub.status.idle": "2021-08-01T23:51:46.735005Z",
     "shell.execute_reply": "2021-08-01T23:51:46.734494Z",
     "shell.execute_reply.started": "2021-08-01T23:50:42.761470Z"
    },
    "papermill": {
     "duration": 0.07916,
     "end_time": "2021-08-01T23:51:46.735148",
     "exception": false,
     "start_time": "2021-08-01T23:51:46.655988",
     "status": "completed"
    },
    "tags": []
   },
   "outputs": [
    {
     "data": {
      "text/plain": [
       "2    4346\n",
       "3    1853\n",
       "1     129\n",
       "4      77\n",
       "Name: Severity, dtype: int64"
      ]
     },
     "execution_count": 29,
     "metadata": {},
     "output_type": "execute_result"
    }
   ],
   "source": [
    "train_df['Severity'].value_counts()"
   ]
  },
  {
   "cell_type": "code",
   "execution_count": 30,
   "id": "509e75b3",
   "metadata": {
    "execution": {
     "iopub.execute_input": "2021-08-01T23:51:46.880660Z",
     "iopub.status.busy": "2021-08-01T23:51:46.876112Z",
     "iopub.status.idle": "2021-08-01T23:51:47.019562Z",
     "shell.execute_reply": "2021-08-01T23:51:47.020104Z",
     "shell.execute_reply.started": "2021-08-01T23:50:42.771837Z"
    },
    "papermill": {
     "duration": 0.217299,
     "end_time": "2021-08-01T23:51:47.020296",
     "exception": false,
     "start_time": "2021-08-01T23:51:46.802997",
     "status": "completed"
    },
    "tags": []
   },
   "outputs": [
    {
     "data": {
      "image/png": "[encoded data removed]",
      "text/plain": [
       "<Figure size 432x288 with 1 Axes>"
      ]
     },
     "metadata": {
      "needs_background": "light"
     },
     "output_type": "display_data"
    }
   ],
   "source": [
    "sns.countplot(data = train_df, x = 'Severity');"
   ]
  },
  {
   "cell_type": "markdown",
   "id": "c8949b23",
   "metadata": {
    "papermill": {
     "duration": 0.06889,
     "end_time": "2021-08-01T23:51:47.159103",
     "exception": false,
     "start_time": "2021-08-01T23:51:47.090213",
     "status": "completed"
    },
    "tags": []
   },
   "source": [
    "> so car crashes of severity 2 and 3 are the most common"
   ]
  },
  {
   "cell_type": "markdown",
   "id": "39aabe87",
   "metadata": {
    "papermill": {
     "duration": 0.068066,
     "end_time": "2021-08-01T23:51:47.297334",
     "exception": false,
     "start_time": "2021-08-01T23:51:47.229268",
     "status": "completed"
    },
    "tags": []
   },
   "source": [
    "## Location of car crashes"
   ]
  },
  {
   "cell_type": "code",
   "execution_count": 31,
   "id": "3a474ca1",
   "metadata": {
    "execution": {
     "iopub.execute_input": "2021-08-01T23:51:47.438083Z",
     "iopub.status.busy": "2021-08-01T23:51:47.437430Z",
     "iopub.status.idle": "2021-08-01T23:51:47.842165Z",
     "shell.execute_reply": "2021-08-01T23:51:47.842685Z",
     "shell.execute_reply.started": "2021-08-01T23:50:42.914274Z"
    },
    "papermill": {
     "duration": 0.477421,
     "end_time": "2021-08-01T23:51:47.842881",
     "exception": false,
     "start_time": "2021-08-01T23:51:47.365460",
     "status": "completed"
    },
    "tags": []
   },
   "outputs": [
    {
     "data": {
      "image/png": "[encoded data removed]",
      "text/plain": [
       "<Figure size 432x288 with 1 Axes>"
      ]
     },
     "metadata": {
      "needs_background": "light"
     },
     "output_type": "display_data"
    }
   ],
   "source": [
    "plt.scatter(data = train_df, x = 'Lat', y = 'Lng')\n",
    "plt.xlabel('Latitude')\n",
    "plt.ylabel('Longitude')\n",
    "plt.title('Locations of car crashes');"
   ]
  },
  {
   "cell_type": "markdown",
   "id": "81fe3435",
   "metadata": {
    "papermill": {
     "duration": 0.075053,
     "end_time": "2021-08-01T23:51:47.990159",
     "exception": false,
     "start_time": "2021-08-01T23:51:47.915106",
     "status": "completed"
    },
    "tags": []
   },
   "source": [
    "## Handling Outliers"
   ]
  },
  {
   "cell_type": "code",
   "execution_count": 32,
   "id": "43c426f7",
   "metadata": {
    "execution": {
     "iopub.execute_input": "2021-08-01T23:51:48.141671Z",
     "iopub.status.busy": "2021-08-01T23:51:48.140899Z",
     "iopub.status.idle": "2021-08-01T23:51:48.146711Z",
     "shell.execute_reply": "2021-08-01T23:51:48.147209Z",
     "shell.execute_reply.started": "2021-08-01T23:50:43.274621Z"
    },
    "papermill": {
     "duration": 0.083593,
     "end_time": "2021-08-01T23:51:48.147423",
     "exception": false,
     "start_time": "2021-08-01T23:51:48.063830",
     "status": "completed"
    },
    "tags": []
   },
   "outputs": [
    {
     "data": {
      "text/plain": [
       "84"
      ]
     },
     "execution_count": 32,
     "metadata": {},
     "output_type": "execute_result"
    }
   ],
   "source": [
    "#sns.boxplot(train_df['Distance(mi)'])\n",
    "np.sum(train_df['Distance(mi)'] > 2)"
   ]
  },
  {
   "cell_type": "code",
   "execution_count": 33,
   "id": "9f206232",
   "metadata": {
    "execution": {
     "iopub.execute_input": "2021-08-01T23:51:48.299131Z",
     "iopub.status.busy": "2021-08-01T23:51:48.297989Z",
     "iopub.status.idle": "2021-08-01T23:51:48.475601Z",
     "shell.execute_reply": "2021-08-01T23:51:48.476165Z",
     "shell.execute_reply.started": "2021-08-01T23:50:43.283452Z"
    },
    "papermill": {
     "duration": 0.255763,
     "end_time": "2021-08-01T23:51:48.476372",
     "exception": false,
     "start_time": "2021-08-01T23:51:48.220609",
     "status": "completed"
    },
    "tags": []
   },
   "outputs": [
    {
     "data": {
      "text/plain": [
       "(array([5290.,  439.,  298.,  128.,   37.,   36.,   11.,   28.,   28.,\n",
       "          26.]),\n",
       " array([0.   , 0.199, 0.398, 0.597, 0.796, 0.995, 1.194, 1.393, 1.592,\n",
       "        1.791, 1.99 ]),\n",
       " <BarContainer object of 10 artists>)"
      ]
     },
     "execution_count": 33,
     "metadata": {},
     "output_type": "execute_result"
    },
    {
     "data": {
      "image/png": "[encoded data removed]",
      "text/plain": [
       "<Figure size 432x288 with 1 Axes>"
      ]
     },
     "metadata": {
      "needs_background": "light"
     },
     "output_type": "display_data"
    }
   ],
   "source": [
    "train_df = train_df[train_df['Distance(mi)'] < 2]\n",
    "plt.hist(train_df['Distance(mi)'])"
   ]
  },
  {
   "cell_type": "code",
   "execution_count": 34,
   "id": "597b504c",
   "metadata": {
    "execution": {
     "iopub.execute_input": "2021-08-01T23:51:48.636217Z",
     "iopub.status.busy": "2021-08-01T23:51:48.635250Z",
     "iopub.status.idle": "2021-08-01T23:51:48.823038Z",
     "shell.execute_reply": "2021-08-01T23:51:48.823550Z",
     "shell.execute_reply.started": "2021-08-01T23:50:43.494998Z"
    },
    "papermill": {
     "duration": 0.274269,
     "end_time": "2021-08-01T23:51:48.823770",
     "exception": false,
     "start_time": "2021-08-01T23:51:48.549501",
     "status": "completed"
    },
    "tags": []
   },
   "outputs": [
    {
     "data": {
      "text/plain": [
       "(array([   8.,   32.,    0.,    0.,  289., 1335.,  936., 1705.,  704.,\n",
       "        1312.]),\n",
       " array([37.609619 , 37.6312197, 37.6528204, 37.6744211, 37.6960218,\n",
       "        37.7176225, 37.7392232, 37.7608239, 37.7824246, 37.8040253,\n",
       "        37.825626 ]),\n",
       " <BarContainer object of 10 artists>)"
      ]
     },
     "execution_count": 34,
     "metadata": {},
     "output_type": "execute_result"
    },
    {
     "data": {
      "image/png": "[encoded data removed]",
      "text/plain": [
       "<Figure size 432x288 with 1 Axes>"
      ]
     },
     "metadata": {
      "needs_background": "light"
     },
     "output_type": "display_data"
    }
   ],
   "source": [
    "plt.hist(train_df['Lat'])"
   ]
  },
  {
   "cell_type": "code",
   "execution_count": 35,
   "id": "37830b88",
   "metadata": {
    "execution": {
     "iopub.execute_input": "2021-08-01T23:51:48.975354Z",
     "iopub.status.busy": "2021-08-01T23:51:48.974645Z",
     "iopub.status.idle": "2021-08-01T23:51:48.981420Z",
     "shell.execute_reply": "2021-08-01T23:51:48.981979Z",
     "shell.execute_reply.started": "2021-08-01T23:50:43.689266Z"
    },
    "papermill": {
     "duration": 0.085037,
     "end_time": "2021-08-01T23:51:48.982187",
     "exception": false,
     "start_time": "2021-08-01T23:51:48.897150",
     "status": "completed"
    },
    "tags": []
   },
   "outputs": [
    {
     "data": {
      "text/plain": [
       "40"
      ]
     },
     "execution_count": 35,
     "metadata": {},
     "output_type": "execute_result"
    }
   ],
   "source": [
    "np.sum(train_df['Lat'] < 37.7)"
   ]
  },
  {
   "cell_type": "code",
   "execution_count": 36,
   "id": "11ea49e4",
   "metadata": {
    "execution": {
     "iopub.execute_input": "2021-08-01T23:51:49.135434Z",
     "iopub.status.busy": "2021-08-01T23:51:49.134801Z",
     "iopub.status.idle": "2021-08-01T23:51:49.140195Z",
     "shell.execute_reply": "2021-08-01T23:51:49.140754Z",
     "shell.execute_reply.started": "2021-08-01T23:50:43.698581Z"
    },
    "papermill": {
     "duration": 0.085226,
     "end_time": "2021-08-01T23:51:49.140955",
     "exception": false,
     "start_time": "2021-08-01T23:51:49.055729",
     "status": "completed"
    },
    "tags": []
   },
   "outputs": [],
   "source": [
    "train_df = train_df[train_df['Lat'] > 37.7]"
   ]
  },
  {
   "cell_type": "code",
   "execution_count": 37,
   "id": "1faa176e",
   "metadata": {
    "execution": {
     "iopub.execute_input": "2021-08-01T23:51:49.313107Z",
     "iopub.status.busy": "2021-08-01T23:51:49.305501Z",
     "iopub.status.idle": "2021-08-01T23:51:49.479570Z",
     "shell.execute_reply": "2021-08-01T23:51:49.479007Z",
     "shell.execute_reply.started": "2021-08-01T23:50:43.712428Z"
    },
    "papermill": {
     "duration": 0.264925,
     "end_time": "2021-08-01T23:51:49.479773",
     "exception": false,
     "start_time": "2021-08-01T23:51:49.214848",
     "status": "completed"
    },
    "tags": []
   },
   "outputs": [
    {
     "data": {
      "image/png": "[encoded data removed]",
      "text/plain": [
       "<Figure size 432x288 with 1 Axes>"
      ]
     },
     "metadata": {
      "needs_background": "light"
     },
     "output_type": "display_data"
    }
   ],
   "source": [
    "plt.hist(train_df['Lng']);"
   ]
  },
  {
   "cell_type": "code",
   "execution_count": 38,
   "id": "7a5463ec",
   "metadata": {
    "execution": {
     "iopub.execute_input": "2021-08-01T23:51:49.650346Z",
     "iopub.status.busy": "2021-08-01T23:51:49.649638Z",
     "iopub.status.idle": "2021-08-01T23:51:49.814876Z",
     "shell.execute_reply": "2021-08-01T23:51:49.815420Z",
     "shell.execute_reply.started": "2021-08-01T23:50:43.909313Z"
    },
    "papermill": {
     "duration": 0.260226,
     "end_time": "2021-08-01T23:51:49.815715",
     "exception": false,
     "start_time": "2021-08-01T23:51:49.555489",
     "status": "completed"
    },
    "tags": []
   },
   "outputs": [
    {
     "data": {
      "text/plain": [
       "(array([  68.,  246., 1269., 1959., 1575.,  857.,  200.,   66.,   33.,\n",
       "           8.]),\n",
       " array([36. , 42.2, 48.4, 54.6, 60.8, 67. , 73.2, 79.4, 85.6, 91.8, 98. ]),\n",
       " <BarContainer object of 10 artists>)"
      ]
     },
     "execution_count": 38,
     "metadata": {},
     "output_type": "execute_result"
    },
    {
     "data": {
      "image/png": "[encoded data removed]",
      "text/plain": [
       "<Figure size 432x288 with 1 Axes>"
      ]
     },
     "metadata": {
      "needs_background": "light"
     },
     "output_type": "display_data"
    }
   ],
   "source": [
    "plt.hist(train_df['Temperature(F)'])"
   ]
  },
  {
   "cell_type": "code",
   "execution_count": 39,
   "id": "d4031e3a",
   "metadata": {
    "execution": {
     "iopub.execute_input": "2021-08-01T23:51:49.974011Z",
     "iopub.status.busy": "2021-08-01T23:51:49.972939Z",
     "iopub.status.idle": "2021-08-01T23:51:50.146146Z",
     "shell.execute_reply": "2021-08-01T23:51:50.146775Z",
     "shell.execute_reply.started": "2021-08-01T23:50:44.099496Z"
    },
    "papermill": {
     "duration": 0.254246,
     "end_time": "2021-08-01T23:51:50.146989",
     "exception": false,
     "start_time": "2021-08-01T23:51:49.892743",
     "status": "completed"
    },
    "tags": []
   },
   "outputs": [
    {
     "data": {
      "text/plain": [
       "(array([  45.,   86.,  178.,  250.,  576., 1092., 1358., 1349., 1069.,\n",
       "         278.]),\n",
       " array([ 10.,  19.,  28.,  37.,  46.,  55.,  64.,  73.,  82.,  91., 100.]),\n",
       " <BarContainer object of 10 artists>)"
      ]
     },
     "execution_count": 39,
     "metadata": {},
     "output_type": "execute_result"
    },
    {
     "data": {
      "image/png": "[encoded data removed]",
      "text/plain": [
       "<Figure size 432x288 with 1 Axes>"
      ]
     },
     "metadata": {
      "needs_background": "light"
     },
     "output_type": "display_data"
    }
   ],
   "source": [
    "plt.hist(train_df['Humidity(%)'])"
   ]
  },
  {
   "cell_type": "code",
   "execution_count": 40,
   "id": "be5d42ed",
   "metadata": {
    "execution": {
     "iopub.execute_input": "2021-08-01T23:51:50.305454Z",
     "iopub.status.busy": "2021-08-01T23:51:50.304794Z",
     "iopub.status.idle": "2021-08-01T23:51:50.489694Z",
     "shell.execute_reply": "2021-08-01T23:51:50.490287Z",
     "shell.execute_reply.started": "2021-08-01T23:50:44.269516Z"
    },
    "papermill": {
     "duration": 0.2651,
     "end_time": "2021-08-01T23:51:50.490497",
     "exception": false,
     "start_time": "2021-08-01T23:51:50.225397",
     "status": "completed"
    },
    "tags": []
   },
   "outputs": [
    {
     "data": {
      "image/png": "[encoded data removed]",
      "text/plain": [
       "<Figure size 432x288 with 1 Axes>"
      ]
     },
     "metadata": {
      "needs_background": "light"
     },
     "output_type": "display_data"
    }
   ],
   "source": [
    "plt.hist(train_df['Wind_Speed(mph)']);"
   ]
  },
  {
   "cell_type": "code",
   "execution_count": null,
   "id": "fb81ae39",
   "metadata": {
    "papermill": {
     "duration": 0.076842,
     "end_time": "2021-08-01T23:51:50.647483",
     "exception": false,
     "start_time": "2021-08-01T23:51:50.570641",
     "status": "completed"
    },
    "tags": []
   },
   "outputs": [],
   "source": []
  },
  {
   "cell_type": "code",
   "execution_count": null,
   "id": "5cad9ab1",
   "metadata": {
    "papermill": {
     "duration": 0.080105,
     "end_time": "2021-08-01T23:51:50.808241",
     "exception": false,
     "start_time": "2021-08-01T23:51:50.728136",
     "status": "completed"
    },
    "tags": []
   },
   "outputs": [],
   "source": []
  },
  {
   "cell_type": "code",
   "execution_count": 41,
   "id": "52c28970",
   "metadata": {
    "execution": {
     "iopub.execute_input": "2021-08-01T23:51:50.965727Z",
     "iopub.status.busy": "2021-08-01T23:51:50.965083Z",
     "iopub.status.idle": "2021-08-01T23:51:50.991660Z",
     "shell.execute_reply": "2021-08-01T23:51:50.992165Z",
     "shell.execute_reply.started": "2021-08-01T23:50:44.462629Z"
    },
    "papermill": {
     "duration": 0.106715,
     "end_time": "2021-08-01T23:51:50.992344",
     "exception": false,
     "start_time": "2021-08-01T23:51:50.885629",
     "status": "completed"
    },
    "tags": []
   },
   "outputs": [
    {
     "data": {
      "text/html": [
       "<div>\n",
       "<style scoped>\n",
       "    .dataframe tbody tr th:only-of-type {\n",
       "        vertical-align: middle;\n",
       "    }\n",
       "\n",
       "    .dataframe tbody tr th {\n",
       "        vertical-align: top;\n",
       "    }\n",
       "\n",
       "    .dataframe thead th {\n",
       "        text-align: right;\n",
       "    }\n",
       "</style>\n",
       "<table border=\"1\" class=\"dataframe\">\n",
       "  <thead>\n",
       "    <tr style=\"text-align: right;\">\n",
       "      <th></th>\n",
       "      <th>ID</th>\n",
       "      <th>Lat</th>\n",
       "      <th>Lng</th>\n",
       "      <th>Distance(mi)</th>\n",
       "      <th>Crossing</th>\n",
       "      <th>Junction</th>\n",
       "      <th>Railway</th>\n",
       "      <th>Stop</th>\n",
       "      <th>Amenity</th>\n",
       "      <th>Side</th>\n",
       "      <th>Severity</th>\n",
       "      <th>Year</th>\n",
       "      <th>Month</th>\n",
       "      <th>Day</th>\n",
       "      <th>Hour</th>\n",
       "      <th>is_holiday</th>\n",
       "      <th>Weather_Condition</th>\n",
       "      <th>Temperature(F)</th>\n",
       "      <th>Humidity(%)</th>\n",
       "      <th>Wind_Speed(mph)</th>\n",
       "      <th>Visibility(mi)</th>\n",
       "    </tr>\n",
       "  </thead>\n",
       "  <tbody>\n",
       "    <tr>\n",
       "      <th>0</th>\n",
       "      <td>0</td>\n",
       "      <td>37.762150</td>\n",
       "      <td>-122.405660</td>\n",
       "      <td>0.044</td>\n",
       "      <td>False</td>\n",
       "      <td>False</td>\n",
       "      <td>False</td>\n",
       "      <td>False</td>\n",
       "      <td>True</td>\n",
       "      <td>R</td>\n",
       "      <td>2</td>\n",
       "      <td>2016</td>\n",
       "      <td>3</td>\n",
       "      <td>25</td>\n",
       "      <td>15</td>\n",
       "      <td>0</td>\n",
       "      <td>Partly Cloudy</td>\n",
       "      <td>66.0</td>\n",
       "      <td>54.0</td>\n",
       "      <td>17.3</td>\n",
       "      <td>10.0</td>\n",
       "    </tr>\n",
       "    <tr>\n",
       "      <th>1</th>\n",
       "      <td>803</td>\n",
       "      <td>37.762150</td>\n",
       "      <td>-122.405660</td>\n",
       "      <td>0.044</td>\n",
       "      <td>False</td>\n",
       "      <td>False</td>\n",
       "      <td>False</td>\n",
       "      <td>False</td>\n",
       "      <td>True</td>\n",
       "      <td>R</td>\n",
       "      <td>2</td>\n",
       "      <td>2016</td>\n",
       "      <td>3</td>\n",
       "      <td>25</td>\n",
       "      <td>15</td>\n",
       "      <td>0</td>\n",
       "      <td>Partly Cloudy</td>\n",
       "      <td>66.0</td>\n",
       "      <td>54.0</td>\n",
       "      <td>17.3</td>\n",
       "      <td>10.0</td>\n",
       "    </tr>\n",
       "    <tr>\n",
       "      <th>2</th>\n",
       "      <td>4522</td>\n",
       "      <td>37.752320</td>\n",
       "      <td>-122.403030</td>\n",
       "      <td>0.306</td>\n",
       "      <td>False</td>\n",
       "      <td>False</td>\n",
       "      <td>False</td>\n",
       "      <td>False</td>\n",
       "      <td>False</td>\n",
       "      <td>R</td>\n",
       "      <td>2</td>\n",
       "      <td>2016</td>\n",
       "      <td>3</td>\n",
       "      <td>25</td>\n",
       "      <td>15</td>\n",
       "      <td>0</td>\n",
       "      <td>Partly Cloudy</td>\n",
       "      <td>66.0</td>\n",
       "      <td>54.0</td>\n",
       "      <td>17.3</td>\n",
       "      <td>10.0</td>\n",
       "    </tr>\n",
       "    <tr>\n",
       "      <th>3</th>\n",
       "      <td>1</td>\n",
       "      <td>37.719157</td>\n",
       "      <td>-122.448254</td>\n",
       "      <td>0.000</td>\n",
       "      <td>False</td>\n",
       "      <td>False</td>\n",
       "      <td>False</td>\n",
       "      <td>False</td>\n",
       "      <td>False</td>\n",
       "      <td>R</td>\n",
       "      <td>2</td>\n",
       "      <td>2020</td>\n",
       "      <td>5</td>\n",
       "      <td>5</td>\n",
       "      <td>19</td>\n",
       "      <td>0</td>\n",
       "      <td>Mostly Cloudy</td>\n",
       "      <td>59.0</td>\n",
       "      <td>78.0</td>\n",
       "      <td>20.0</td>\n",
       "      <td>10.0</td>\n",
       "    </tr>\n",
       "    <tr>\n",
       "      <th>4</th>\n",
       "      <td>3174</td>\n",
       "      <td>37.719150</td>\n",
       "      <td>-122.448260</td>\n",
       "      <td>0.025</td>\n",
       "      <td>False</td>\n",
       "      <td>False</td>\n",
       "      <td>False</td>\n",
       "      <td>False</td>\n",
       "      <td>False</td>\n",
       "      <td>R</td>\n",
       "      <td>3</td>\n",
       "      <td>2020</td>\n",
       "      <td>5</td>\n",
       "      <td>5</td>\n",
       "      <td>19</td>\n",
       "      <td>0</td>\n",
       "      <td>Mostly Cloudy</td>\n",
       "      <td>59.0</td>\n",
       "      <td>78.0</td>\n",
       "      <td>20.0</td>\n",
       "      <td>10.0</td>\n",
       "    </tr>\n",
       "  </tbody>\n",
       "</table>\n",
       "</div>"
      ],
      "text/plain": [
       "     ID        Lat         Lng  Distance(mi)  Crossing  Junction  Railway  \\\n",
       "0     0  37.762150 -122.405660         0.044     False     False    False   \n",
       "1   803  37.762150 -122.405660         0.044     False     False    False   \n",
       "2  4522  37.752320 -122.403030         0.306     False     False    False   \n",
       "3     1  37.719157 -122.448254         0.000     False     False    False   \n",
       "4  3174  37.719150 -122.448260         0.025     False     False    False   \n",
       "\n",
       "    Stop  Amenity Side  Severity  Year  Month  Day  Hour  is_holiday  \\\n",
       "0  False     True    R         2  2016      3   25    15           0   \n",
       "1  False     True    R         2  2016      3   25    15           0   \n",
       "2  False    False    R         2  2016      3   25    15           0   \n",
       "3  False    False    R         2  2020      5    5    19           0   \n",
       "4  False    False    R         3  2020      5    5    19           0   \n",
       "\n",
       "  Weather_Condition  Temperature(F)  Humidity(%)  Wind_Speed(mph)  \\\n",
       "0     Partly Cloudy            66.0         54.0             17.3   \n",
       "1     Partly Cloudy            66.0         54.0             17.3   \n",
       "2     Partly Cloudy            66.0         54.0             17.3   \n",
       "3     Mostly Cloudy            59.0         78.0             20.0   \n",
       "4     Mostly Cloudy            59.0         78.0             20.0   \n",
       "\n",
       "   Visibility(mi)  \n",
       "0            10.0  \n",
       "1            10.0  \n",
       "2            10.0  \n",
       "3            10.0  \n",
       "4            10.0  "
      ]
     },
     "execution_count": 41,
     "metadata": {},
     "output_type": "execute_result"
    }
   ],
   "source": [
    "train_df.head()"
   ]
  },
  {
   "cell_type": "markdown",
   "id": "f64b3c1c",
   "metadata": {
    "papermill": {
     "duration": 0.077432,
     "end_time": "2021-08-01T23:51:51.146748",
     "exception": false,
     "start_time": "2021-08-01T23:51:51.069316",
     "status": "completed"
    },
    "tags": []
   },
   "source": [
    "## Encoding Categorical Variables"
   ]
  },
  {
   "cell_type": "code",
   "execution_count": 42,
   "id": "fc3dec2d",
   "metadata": {
    "execution": {
     "iopub.execute_input": "2021-08-01T23:51:51.302853Z",
     "iopub.status.busy": "2021-08-01T23:51:51.302171Z",
     "iopub.status.idle": "2021-08-01T23:51:51.444519Z",
     "shell.execute_reply": "2021-08-01T23:51:51.443838Z",
     "shell.execute_reply.started": "2021-08-01T23:50:44.488651Z"
    },
    "papermill": {
     "duration": 0.221797,
     "end_time": "2021-08-01T23:51:51.444702",
     "exception": false,
     "start_time": "2021-08-01T23:51:51.222905",
     "status": "completed"
    },
    "tags": []
   },
   "outputs": [],
   "source": [
    "'''weather_dict = {'Clear' : 1,'Fair':2,'Fair / Windy':2,'Mist':3,'Patches of Fog':4, 'Shallow Fog':5, 'Fog':6,'Fog / Windy':6, 'Scattered Clouds':7,'Smoke':8, 'Haze':8\n",
    "      , 'Overcast':9, 'Cloudy':10, 'Cloudy / Windy':10, 'Partly Cloudy':11, 'Partly Cloudy / Windy':11,'Mostly Cloudy':12\n",
    "      , 'Mostly Cloudy / Windy':12, 'Light Drizzle':13, 'Light Rain / Windy':14, 'Light Rain':14, 'Rain':15, 'Rain / Windy':15\n",
    "      ,'Heavy Rain':16, 'Squalls':17, 'Light Thunderstorms and Rain':17}\n",
    "for df in [train_df, test_df] :\n",
    "    df['Weather_Condition'] = df['Weather_Condition'].map(weather_dict) \n",
    "   '''\n",
    "from sklearn.preprocessing import LabelEncoder\n",
    "label_encoder = LabelEncoder()\n",
    "for df in [train_df, test_df] :\n",
    "    df['Weather_Condition'] = label_encoder.fit_transform(df['Weather_Condition'])\n"
   ]
  },
  {
   "cell_type": "code",
   "execution_count": 43,
   "id": "bc64b48b",
   "metadata": {
    "execution": {
     "iopub.execute_input": "2021-08-01T23:51:51.602976Z",
     "iopub.status.busy": "2021-08-01T23:51:51.602348Z",
     "iopub.status.idle": "2021-08-01T23:51:51.608760Z",
     "shell.execute_reply": "2021-08-01T23:51:51.609313Z",
     "shell.execute_reply.started": "2021-08-01T23:50:44.633462Z"
    },
    "papermill": {
     "duration": 0.088212,
     "end_time": "2021-08-01T23:51:51.609529",
     "exception": false,
     "start_time": "2021-08-01T23:51:51.521317",
     "status": "completed"
    },
    "tags": []
   },
   "outputs": [
    {
     "data": {
      "text/plain": [
       "Int64Index([25,  6, 12, 19, 13,  9, 21,  2, 11, 24, 23,  5,  8, 18, 15,  7, 20,\n",
       "             4, 10, 22,  1,  0, 16,  3, 14, 17],\n",
       "           dtype='int64')"
      ]
     },
     "execution_count": 43,
     "metadata": {},
     "output_type": "execute_result"
    }
   ],
   "source": [
    "idx = train_df['Weather_Condition'].value_counts().sort_values(ascending = True).index\n",
    "idx"
   ]
  },
  {
   "cell_type": "code",
   "execution_count": 44,
   "id": "18ba68f2",
   "metadata": {
    "execution": {
     "iopub.execute_input": "2021-08-01T23:51:51.768115Z",
     "iopub.status.busy": "2021-08-01T23:51:51.767425Z",
     "iopub.status.idle": "2021-08-01T23:51:51.788412Z",
     "shell.execute_reply": "2021-08-01T23:51:51.788974Z",
     "shell.execute_reply.started": "2021-08-01T23:50:44.644090Z"
    },
    "papermill": {
     "duration": 0.101924,
     "end_time": "2021-08-01T23:51:51.789158",
     "exception": false,
     "start_time": "2021-08-01T23:51:51.687234",
     "status": "completed"
    },
    "tags": []
   },
   "outputs": [],
   "source": [
    "train_df = pd.get_dummies(train_df)\n",
    "test_df = pd.get_dummies(test_df)\n"
   ]
  },
  {
   "cell_type": "markdown",
   "id": "a5c26bde",
   "metadata": {
    "papermill": {
     "duration": 0.077028,
     "end_time": "2021-08-01T23:51:51.943662",
     "exception": false,
     "start_time": "2021-08-01T23:51:51.866634",
     "status": "completed"
    },
    "tags": []
   },
   "source": [
    "## Polynomial Features"
   ]
  },
  {
   "cell_type": "code",
   "execution_count": 45,
   "id": "b001ef2b",
   "metadata": {
    "execution": {
     "iopub.execute_input": "2021-08-01T23:51:52.104257Z",
     "iopub.status.busy": "2021-08-01T23:51:52.103634Z",
     "iopub.status.idle": "2021-08-01T23:51:52.148507Z",
     "shell.execute_reply": "2021-08-01T23:51:52.147867Z",
     "shell.execute_reply.started": "2021-08-01T23:50:44.665461Z"
    },
    "papermill": {
     "duration": 0.126708,
     "end_time": "2021-08-01T23:51:52.148663",
     "exception": false,
     "start_time": "2021-08-01T23:51:52.021955",
     "status": "completed"
    },
    "tags": []
   },
   "outputs": [
    {
     "data": {
      "text/html": [
       "<div>\n",
       "<style scoped>\n",
       "    .dataframe tbody tr th:only-of-type {\n",
       "        vertical-align: middle;\n",
       "    }\n",
       "\n",
       "    .dataframe tbody tr th {\n",
       "        vertical-align: top;\n",
       "    }\n",
       "\n",
       "    .dataframe thead th {\n",
       "        text-align: right;\n",
       "    }\n",
       "</style>\n",
       "<table border=\"1\" class=\"dataframe\">\n",
       "  <thead>\n",
       "    <tr style=\"text-align: right;\">\n",
       "      <th></th>\n",
       "      <th>ID</th>\n",
       "      <th>Lat</th>\n",
       "      <th>Lng</th>\n",
       "      <th>Distance(mi)</th>\n",
       "      <th>Crossing</th>\n",
       "      <th>Junction</th>\n",
       "      <th>Railway</th>\n",
       "      <th>Stop</th>\n",
       "      <th>Amenity</th>\n",
       "      <th>Year</th>\n",
       "      <th>Month</th>\n",
       "      <th>Day</th>\n",
       "      <th>Hour</th>\n",
       "      <th>is_holiday</th>\n",
       "      <th>Weather_Condition</th>\n",
       "      <th>Temperature(F)</th>\n",
       "      <th>Humidity(%)</th>\n",
       "      <th>Wind_Speed(mph)</th>\n",
       "      <th>Visibility(mi)</th>\n",
       "      <th>Side_L</th>\n",
       "      <th>Side_R</th>\n",
       "      <th>new_Lng</th>\n",
       "      <th>Lng_Lat</th>\n",
       "      <th>new_Lat</th>\n",
       "    </tr>\n",
       "  </thead>\n",
       "  <tbody>\n",
       "    <tr>\n",
       "      <th>0</th>\n",
       "      <td>6407</td>\n",
       "      <td>37.786060</td>\n",
       "      <td>-122.390900</td>\n",
       "      <td>0.039</td>\n",
       "      <td>False</td>\n",
       "      <td>True</td>\n",
       "      <td>False</td>\n",
       "      <td>False</td>\n",
       "      <td>False</td>\n",
       "      <td>2016</td>\n",
       "      <td>4</td>\n",
       "      <td>4</td>\n",
       "      <td>19</td>\n",
       "      <td>0</td>\n",
       "      <td>14</td>\n",
       "      <td>63.0</td>\n",
       "      <td>60.0</td>\n",
       "      <td>10.4</td>\n",
       "      <td>10.0</td>\n",
       "      <td>0</td>\n",
       "      <td>1</td>\n",
       "      <td>14979.532403</td>\n",
       "      <td>-4624.669891</td>\n",
       "      <td>1427.786330</td>\n",
       "    </tr>\n",
       "    <tr>\n",
       "      <th>1</th>\n",
       "      <td>6408</td>\n",
       "      <td>37.769609</td>\n",
       "      <td>-122.415057</td>\n",
       "      <td>0.202</td>\n",
       "      <td>False</td>\n",
       "      <td>False</td>\n",
       "      <td>False</td>\n",
       "      <td>False</td>\n",
       "      <td>False</td>\n",
       "      <td>2020</td>\n",
       "      <td>10</td>\n",
       "      <td>28</td>\n",
       "      <td>11</td>\n",
       "      <td>0</td>\n",
       "      <td>3</td>\n",
       "      <td>65.0</td>\n",
       "      <td>56.0</td>\n",
       "      <td>5.0</td>\n",
       "      <td>9.0</td>\n",
       "      <td>0</td>\n",
       "      <td>1</td>\n",
       "      <td>14985.446180</td>\n",
       "      <td>-4623.568839</td>\n",
       "      <td>1426.543364</td>\n",
       "    </tr>\n",
       "    <tr>\n",
       "      <th>2</th>\n",
       "      <td>6693</td>\n",
       "      <td>37.769585</td>\n",
       "      <td>-122.414182</td>\n",
       "      <td>0.316</td>\n",
       "      <td>False</td>\n",
       "      <td>False</td>\n",
       "      <td>False</td>\n",
       "      <td>False</td>\n",
       "      <td>False</td>\n",
       "      <td>2020</td>\n",
       "      <td>10</td>\n",
       "      <td>28</td>\n",
       "      <td>11</td>\n",
       "      <td>0</td>\n",
       "      <td>3</td>\n",
       "      <td>65.0</td>\n",
       "      <td>56.0</td>\n",
       "      <td>5.0</td>\n",
       "      <td>9.0</td>\n",
       "      <td>0</td>\n",
       "      <td>1</td>\n",
       "      <td>14985.231955</td>\n",
       "      <td>-4623.532852</td>\n",
       "      <td>1426.541551</td>\n",
       "    </tr>\n",
       "    <tr>\n",
       "      <th>3</th>\n",
       "      <td>7194</td>\n",
       "      <td>37.769669</td>\n",
       "      <td>-122.416109</td>\n",
       "      <td>0.214</td>\n",
       "      <td>False</td>\n",
       "      <td>False</td>\n",
       "      <td>False</td>\n",
       "      <td>False</td>\n",
       "      <td>False</td>\n",
       "      <td>2020</td>\n",
       "      <td>10</td>\n",
       "      <td>28</td>\n",
       "      <td>11</td>\n",
       "      <td>0</td>\n",
       "      <td>3</td>\n",
       "      <td>65.0</td>\n",
       "      <td>56.0</td>\n",
       "      <td>5.0</td>\n",
       "      <td>9.0</td>\n",
       "      <td>0</td>\n",
       "      <td>1</td>\n",
       "      <td>14985.703743</td>\n",
       "      <td>-4623.615917</td>\n",
       "      <td>1426.547896</td>\n",
       "    </tr>\n",
       "    <tr>\n",
       "      <th>4</th>\n",
       "      <td>6409</td>\n",
       "      <td>37.807495</td>\n",
       "      <td>-122.476021</td>\n",
       "      <td>0.000</td>\n",
       "      <td>False</td>\n",
       "      <td>False</td>\n",
       "      <td>False</td>\n",
       "      <td>False</td>\n",
       "      <td>False</td>\n",
       "      <td>2019</td>\n",
       "      <td>9</td>\n",
       "      <td>9</td>\n",
       "      <td>7</td>\n",
       "      <td>0</td>\n",
       "      <td>11</td>\n",
       "      <td>59.0</td>\n",
       "      <td>87.0</td>\n",
       "      <td>14.0</td>\n",
       "      <td>10.0</td>\n",
       "      <td>0</td>\n",
       "      <td>1</td>\n",
       "      <td>15000.375720</td>\n",
       "      <td>-4630.511552</td>\n",
       "      <td>1429.406678</td>\n",
       "    </tr>\n",
       "  </tbody>\n",
       "</table>\n",
       "</div>"
      ],
      "text/plain": [
       "     ID        Lat         Lng  Distance(mi)  Crossing  Junction  Railway  \\\n",
       "0  6407  37.786060 -122.390900         0.039     False      True    False   \n",
       "1  6408  37.769609 -122.415057         0.202     False     False    False   \n",
       "2  6693  37.769585 -122.414182         0.316     False     False    False   \n",
       "3  7194  37.769669 -122.416109         0.214     False     False    False   \n",
       "4  6409  37.807495 -122.476021         0.000     False     False    False   \n",
       "\n",
       "    Stop  Amenity  Year  Month  Day  Hour  is_holiday  Weather_Condition  \\\n",
       "0  False    False  2016      4    4    19           0                 14   \n",
       "1  False    False  2020     10   28    11           0                  3   \n",
       "2  False    False  2020     10   28    11           0                  3   \n",
       "3  False    False  2020     10   28    11           0                  3   \n",
       "4  False    False  2019      9    9     7           0                 11   \n",
       "\n",
       "   Temperature(F)  Humidity(%)  Wind_Speed(mph)  Visibility(mi)  Side_L  \\\n",
       "0            63.0         60.0             10.4            10.0       0   \n",
       "1            65.0         56.0              5.0             9.0       0   \n",
       "2            65.0         56.0              5.0             9.0       0   \n",
       "3            65.0         56.0              5.0             9.0       0   \n",
       "4            59.0         87.0             14.0            10.0       0   \n",
       "\n",
       "   Side_R       new_Lng      Lng_Lat      new_Lat  \n",
       "0       1  14979.532403 -4624.669891  1427.786330  \n",
       "1       1  14985.446180 -4623.568839  1426.543364  \n",
       "2       1  14985.231955 -4623.532852  1426.541551  \n",
       "3       1  14985.703743 -4623.615917  1426.547896  \n",
       "4       1  15000.375720 -4630.511552  1429.406678  "
      ]
     },
     "execution_count": 45,
     "metadata": {},
     "output_type": "execute_result"
    }
   ],
   "source": [
    "from sklearn.preprocessing import PolynomialFeatures\n",
    "poly_feat = PolynomialFeatures(degree = 2, include_bias = False)\n",
    "for df in [train_df, test_df] :\n",
    "    location_data = df[['Lng', 'Lat']]\n",
    "    train_poly = poly_feat.fit_transform(location_data)\n",
    "    df['new_Lng'] = train_poly[:, 2]\n",
    "    df['Lng_Lat'] = train_poly[:, 3]\n",
    "    df['new_Lat'] = train_poly[:, 4]\n",
    "test_df.head()"
   ]
  },
  {
   "cell_type": "code",
   "execution_count": null,
   "id": "f6aa795f",
   "metadata": {
    "papermill": {
     "duration": 0.07745,
     "end_time": "2021-08-01T23:51:52.304275",
     "exception": false,
     "start_time": "2021-08-01T23:51:52.226825",
     "status": "completed"
    },
    "tags": []
   },
   "outputs": [],
   "source": []
  },
  {
   "cell_type": "code",
   "execution_count": null,
   "id": "ef8590ca",
   "metadata": {
    "papermill": {
     "duration": 0.077136,
     "end_time": "2021-08-01T23:51:52.458954",
     "exception": false,
     "start_time": "2021-08-01T23:51:52.381818",
     "status": "completed"
    },
    "tags": []
   },
   "outputs": [],
   "source": []
  },
  {
   "cell_type": "markdown",
   "id": "f1e85dae",
   "metadata": {
    "papermill": {
     "duration": 0.077414,
     "end_time": "2021-08-01T23:51:52.614697",
     "exception": false,
     "start_time": "2021-08-01T23:51:52.537283",
     "status": "completed"
    },
    "tags": []
   },
   "source": [
    "## Splitting Data"
   ]
  },
  {
   "cell_type": "code",
   "execution_count": 46,
   "id": "74516c5d",
   "metadata": {
    "execution": {
     "iopub.execute_input": "2021-08-01T23:51:52.775382Z",
     "iopub.status.busy": "2021-08-01T23:51:52.774703Z",
     "iopub.status.idle": "2021-08-01T23:51:52.840514Z",
     "shell.execute_reply": "2021-08-01T23:51:52.841047Z",
     "shell.execute_reply.started": "2021-08-01T23:50:44.710055Z"
    },
    "papermill": {
     "duration": 0.149354,
     "end_time": "2021-08-01T23:51:52.841272",
     "exception": false,
     "start_time": "2021-08-01T23:51:52.691918",
     "status": "completed"
    },
    "tags": []
   },
   "outputs": [],
   "source": [
    "from sklearn.model_selection import train_test_split\n",
    "\n",
    "train_data, val_data = train_test_split(train_df, test_size=0.2, random_state=42) # Try adding `stratify` here\n",
    "\n",
    "X_train = train_data.drop(columns=['ID','Severity'])\n",
    "y_train = train_data['Severity']\n",
    "\n",
    "X_val = val_data.drop(columns=['ID','Severity'])\n",
    "y_val = val_data['Severity']"
   ]
  },
  {
   "cell_type": "markdown",
   "id": "70e8320a",
   "metadata": {
    "papermill": {
     "duration": 0.083271,
     "end_time": "2021-08-01T23:51:53.004812",
     "exception": false,
     "start_time": "2021-08-01T23:51:52.921541",
     "status": "completed"
    },
    "tags": []
   },
   "source": [
    "## Data Is Ready For The Model"
   ]
  },
  {
   "cell_type": "markdown",
   "id": "3711334f",
   "metadata": {
    "papermill": {
     "duration": 0.080881,
     "end_time": "2021-08-01T23:51:53.169441",
     "exception": false,
     "start_time": "2021-08-01T23:51:53.088560",
     "status": "completed"
    },
    "tags": []
   },
   "source": [
    "## Random Forest Classifier"
   ]
  },
  {
   "cell_type": "code",
   "execution_count": 47,
   "id": "c02f7d02",
   "metadata": {
    "execution": {
     "iopub.execute_input": "2021-08-01T23:51:53.336094Z",
     "iopub.status.busy": "2021-08-01T23:51:53.335347Z",
     "iopub.status.idle": "2021-08-01T23:51:53.890184Z",
     "shell.execute_reply": "2021-08-01T23:51:53.889529Z",
     "shell.execute_reply.started": "2021-08-01T23:50:44.775362Z"
    },
    "papermill": {
     "duration": 0.64214,
     "end_time": "2021-08-01T23:51:53.890350",
     "exception": false,
     "start_time": "2021-08-01T23:51:53.248210",
     "status": "completed"
    },
    "tags": []
   },
   "outputs": [],
   "source": [
    "from sklearn.ensemble import RandomForestClassifier\n",
    "\n",
    "# Create an instance of the classifier\n",
    "classifier = RandomForestClassifier(max_depth=2,random_state=0)\n",
    "\n",
    "# Train the classifier\n",
    "classifier = classifier.fit(X_train, y_train)"
   ]
  },
  {
   "cell_type": "code",
   "execution_count": 48,
   "id": "a0bcf5a2",
   "metadata": {
    "execution": {
     "iopub.execute_input": "2021-08-01T23:51:54.064071Z",
     "iopub.status.busy": "2021-08-01T23:51:54.063257Z",
     "iopub.status.idle": "2021-08-01T23:51:54.086515Z",
     "shell.execute_reply": "2021-08-01T23:51:54.085769Z",
     "shell.execute_reply.started": "2021-08-01T23:50:45.331840Z"
    },
    "papermill": {
     "duration": 0.116325,
     "end_time": "2021-08-01T23:51:54.086708",
     "exception": false,
     "start_time": "2021-08-01T23:51:53.970383",
     "status": "completed"
    },
    "tags": []
   },
   "outputs": [
    {
     "name": "stdout",
     "output_type": "stream",
     "text": [
      "The accuracy of the classifier on the validation set is  0.7390612569610183\n"
     ]
    }
   ],
   "source": [
    "#print(\"The accuracy of the classifier on the training set is \", (classifier.score(X_train, y_train)))\n",
    "print(\"The accuracy of the classifier on the validation set is \", (classifier.score(X_val, y_val)))"
   ]
  },
  {
   "cell_type": "markdown",
   "id": "e78cd128",
   "metadata": {
    "execution": {
     "iopub.execute_input": "2021-07-27T07:37:43.344881Z",
     "iopub.status.busy": "2021-07-27T07:37:43.344403Z",
     "iopub.status.idle": "2021-07-27T07:37:43.349245Z",
     "shell.execute_reply": "2021-07-27T07:37:43.348213Z",
     "shell.execute_reply.started": "2021-07-27T07:37:43.344843Z"
    },
    "papermill": {
     "duration": 0.07928,
     "end_time": "2021-08-01T23:51:54.249929",
     "exception": false,
     "start_time": "2021-08-01T23:51:54.170649",
     "status": "completed"
    },
    "tags": []
   },
   "source": [
    "## Submission File Generation"
   ]
  },
  {
   "cell_type": "code",
   "execution_count": 49,
   "id": "b7b5811a",
   "metadata": {
    "execution": {
     "iopub.execute_input": "2021-08-01T23:51:54.428419Z",
     "iopub.status.busy": "2021-08-01T23:51:54.423141Z",
     "iopub.status.idle": "2021-08-01T23:51:54.474419Z",
     "shell.execute_reply": "2021-08-01T23:51:54.473821Z",
     "shell.execute_reply.started": "2021-08-01T23:50:45.367367Z"
    },
    "papermill": {
     "duration": 0.141642,
     "end_time": "2021-08-01T23:51:54.474611",
     "exception": false,
     "start_time": "2021-08-01T23:51:54.332969",
     "status": "completed"
    },
    "tags": []
   },
   "outputs": [
    {
     "data": {
      "text/html": [
       "<div>\n",
       "<style scoped>\n",
       "    .dataframe tbody tr th:only-of-type {\n",
       "        vertical-align: middle;\n",
       "    }\n",
       "\n",
       "    .dataframe tbody tr th {\n",
       "        vertical-align: top;\n",
       "    }\n",
       "\n",
       "    .dataframe thead th {\n",
       "        text-align: right;\n",
       "    }\n",
       "</style>\n",
       "<table border=\"1\" class=\"dataframe\">\n",
       "  <thead>\n",
       "    <tr style=\"text-align: right;\">\n",
       "      <th></th>\n",
       "      <th>ID</th>\n",
       "      <th>Lat</th>\n",
       "      <th>Lng</th>\n",
       "      <th>Distance(mi)</th>\n",
       "      <th>Crossing</th>\n",
       "      <th>Junction</th>\n",
       "      <th>Railway</th>\n",
       "      <th>Stop</th>\n",
       "      <th>Amenity</th>\n",
       "      <th>Year</th>\n",
       "      <th>Month</th>\n",
       "      <th>Day</th>\n",
       "      <th>Hour</th>\n",
       "      <th>is_holiday</th>\n",
       "      <th>Weather_Condition</th>\n",
       "      <th>Temperature(F)</th>\n",
       "      <th>Humidity(%)</th>\n",
       "      <th>Wind_Speed(mph)</th>\n",
       "      <th>Visibility(mi)</th>\n",
       "      <th>Side_L</th>\n",
       "      <th>Side_R</th>\n",
       "      <th>new_Lng</th>\n",
       "      <th>Lng_Lat</th>\n",
       "      <th>new_Lat</th>\n",
       "      <th>Severity</th>\n",
       "    </tr>\n",
       "  </thead>\n",
       "  <tbody>\n",
       "    <tr>\n",
       "      <th>0</th>\n",
       "      <td>6407</td>\n",
       "      <td>37.786060</td>\n",
       "      <td>-122.390900</td>\n",
       "      <td>0.039</td>\n",
       "      <td>False</td>\n",
       "      <td>True</td>\n",
       "      <td>False</td>\n",
       "      <td>False</td>\n",
       "      <td>False</td>\n",
       "      <td>2016</td>\n",
       "      <td>4</td>\n",
       "      <td>4</td>\n",
       "      <td>19</td>\n",
       "      <td>0</td>\n",
       "      <td>14</td>\n",
       "      <td>63.0</td>\n",
       "      <td>60.0</td>\n",
       "      <td>10.4</td>\n",
       "      <td>10.0</td>\n",
       "      <td>0</td>\n",
       "      <td>1</td>\n",
       "      <td>14979.532403</td>\n",
       "      <td>-4624.669891</td>\n",
       "      <td>1427.786330</td>\n",
       "      <td>2</td>\n",
       "    </tr>\n",
       "    <tr>\n",
       "      <th>1</th>\n",
       "      <td>6408</td>\n",
       "      <td>37.769609</td>\n",
       "      <td>-122.415057</td>\n",
       "      <td>0.202</td>\n",
       "      <td>False</td>\n",
       "      <td>False</td>\n",
       "      <td>False</td>\n",
       "      <td>False</td>\n",
       "      <td>False</td>\n",
       "      <td>2020</td>\n",
       "      <td>10</td>\n",
       "      <td>28</td>\n",
       "      <td>11</td>\n",
       "      <td>0</td>\n",
       "      <td>3</td>\n",
       "      <td>65.0</td>\n",
       "      <td>56.0</td>\n",
       "      <td>5.0</td>\n",
       "      <td>9.0</td>\n",
       "      <td>0</td>\n",
       "      <td>1</td>\n",
       "      <td>14985.446180</td>\n",
       "      <td>-4623.568839</td>\n",
       "      <td>1426.543364</td>\n",
       "      <td>2</td>\n",
       "    </tr>\n",
       "    <tr>\n",
       "      <th>2</th>\n",
       "      <td>6693</td>\n",
       "      <td>37.769585</td>\n",
       "      <td>-122.414182</td>\n",
       "      <td>0.316</td>\n",
       "      <td>False</td>\n",
       "      <td>False</td>\n",
       "      <td>False</td>\n",
       "      <td>False</td>\n",
       "      <td>False</td>\n",
       "      <td>2020</td>\n",
       "      <td>10</td>\n",
       "      <td>28</td>\n",
       "      <td>11</td>\n",
       "      <td>0</td>\n",
       "      <td>3</td>\n",
       "      <td>65.0</td>\n",
       "      <td>56.0</td>\n",
       "      <td>5.0</td>\n",
       "      <td>9.0</td>\n",
       "      <td>0</td>\n",
       "      <td>1</td>\n",
       "      <td>14985.231955</td>\n",
       "      <td>-4623.532852</td>\n",
       "      <td>1426.541551</td>\n",
       "      <td>2</td>\n",
       "    </tr>\n",
       "    <tr>\n",
       "      <th>3</th>\n",
       "      <td>7194</td>\n",
       "      <td>37.769669</td>\n",
       "      <td>-122.416109</td>\n",
       "      <td>0.214</td>\n",
       "      <td>False</td>\n",
       "      <td>False</td>\n",
       "      <td>False</td>\n",
       "      <td>False</td>\n",
       "      <td>False</td>\n",
       "      <td>2020</td>\n",
       "      <td>10</td>\n",
       "      <td>28</td>\n",
       "      <td>11</td>\n",
       "      <td>0</td>\n",
       "      <td>3</td>\n",
       "      <td>65.0</td>\n",
       "      <td>56.0</td>\n",
       "      <td>5.0</td>\n",
       "      <td>9.0</td>\n",
       "      <td>0</td>\n",
       "      <td>1</td>\n",
       "      <td>14985.703743</td>\n",
       "      <td>-4623.615917</td>\n",
       "      <td>1426.547896</td>\n",
       "      <td>2</td>\n",
       "    </tr>\n",
       "    <tr>\n",
       "      <th>4</th>\n",
       "      <td>6409</td>\n",
       "      <td>37.807495</td>\n",
       "      <td>-122.476021</td>\n",
       "      <td>0.000</td>\n",
       "      <td>False</td>\n",
       "      <td>False</td>\n",
       "      <td>False</td>\n",
       "      <td>False</td>\n",
       "      <td>False</td>\n",
       "      <td>2019</td>\n",
       "      <td>9</td>\n",
       "      <td>9</td>\n",
       "      <td>7</td>\n",
       "      <td>0</td>\n",
       "      <td>11</td>\n",
       "      <td>59.0</td>\n",
       "      <td>87.0</td>\n",
       "      <td>14.0</td>\n",
       "      <td>10.0</td>\n",
       "      <td>0</td>\n",
       "      <td>1</td>\n",
       "      <td>15000.375720</td>\n",
       "      <td>-4630.511552</td>\n",
       "      <td>1429.406678</td>\n",
       "      <td>2</td>\n",
       "    </tr>\n",
       "  </tbody>\n",
       "</table>\n",
       "</div>"
      ],
      "text/plain": [
       "     ID        Lat         Lng  Distance(mi)  Crossing  Junction  Railway  \\\n",
       "0  6407  37.786060 -122.390900         0.039     False      True    False   \n",
       "1  6408  37.769609 -122.415057         0.202     False     False    False   \n",
       "2  6693  37.769585 -122.414182         0.316     False     False    False   \n",
       "3  7194  37.769669 -122.416109         0.214     False     False    False   \n",
       "4  6409  37.807495 -122.476021         0.000     False     False    False   \n",
       "\n",
       "    Stop  Amenity  Year  Month  Day  Hour  is_holiday  Weather_Condition  \\\n",
       "0  False    False  2016      4    4    19           0                 14   \n",
       "1  False    False  2020     10   28    11           0                  3   \n",
       "2  False    False  2020     10   28    11           0                  3   \n",
       "3  False    False  2020     10   28    11           0                  3   \n",
       "4  False    False  2019      9    9     7           0                 11   \n",
       "\n",
       "   Temperature(F)  Humidity(%)  Wind_Speed(mph)  Visibility(mi)  Side_L  \\\n",
       "0            63.0         60.0             10.4            10.0       0   \n",
       "1            65.0         56.0              5.0             9.0       0   \n",
       "2            65.0         56.0              5.0             9.0       0   \n",
       "3            65.0         56.0              5.0             9.0       0   \n",
       "4            59.0         87.0             14.0            10.0       0   \n",
       "\n",
       "   Side_R       new_Lng      Lng_Lat      new_Lat  Severity  \n",
       "0       1  14979.532403 -4624.669891  1427.786330         2  \n",
       "1       1  14985.446180 -4623.568839  1426.543364         2  \n",
       "2       1  14985.231955 -4623.532852  1426.541551         2  \n",
       "3       1  14985.703743 -4623.615917  1426.547896         2  \n",
       "4       1  15000.375720 -4630.511552  1429.406678         2  "
      ]
     },
     "execution_count": 49,
     "metadata": {},
     "output_type": "execute_result"
    }
   ],
   "source": [
    "X_test = test_df.drop(columns=['ID'])\n",
    "\n",
    "y_test_predicted = classifier.predict(X_test)\n",
    "\n",
    "test_df['Severity'] = y_test_predicted\n",
    "\n",
    "test_df.head()"
   ]
  },
  {
   "cell_type": "code",
   "execution_count": 50,
   "id": "98ba60e8",
   "metadata": {
    "execution": {
     "iopub.execute_input": "2021-08-01T23:51:54.645274Z",
     "iopub.status.busy": "2021-08-01T23:51:54.644510Z",
     "iopub.status.idle": "2021-08-01T23:51:54.653670Z",
     "shell.execute_reply": "2021-08-01T23:51:54.654226Z",
     "shell.execute_reply.started": "2021-08-01T23:50:45.426266Z"
    },
    "papermill": {
     "duration": 0.09868,
     "end_time": "2021-08-01T23:51:54.654432",
     "exception": false,
     "start_time": "2021-08-01T23:51:54.555752",
     "status": "completed"
    },
    "tags": []
   },
   "outputs": [],
   "source": [
    "test_df[['ID', 'Severity']].to_csv('/kaggle/working/submission.csv', index=False)"
   ]
  },
  {
   "cell_type": "code",
   "execution_count": null,
   "id": "b92eb9dd",
   "metadata": {
    "papermill": {
     "duration": 0.080928,
     "end_time": "2021-08-01T23:51:54.818185",
     "exception": false,
     "start_time": "2021-08-01T23:51:54.737257",
     "status": "completed"
    },
    "tags": []
   },
   "outputs": [],
   "source": []
  }
 ],
 "metadata": {
  "kernelspec": {
   "display_name": "Python 3",
   "language": "python",
   "name": "python3"
  },
  "language_info": {
   "codemirror_mode": {
    "name": "ipython",
    "version": 3
   },
   "file_extension": ".py",
   "mimetype": "text/x-python",
   "name": "python",
   "nbconvert_exporter": "python",
   "pygments_lexer": "ipython3",
   "version": "3.7.10"
  },
  "papermill": {
   "default_parameters": {},
   "duration": 26.884073,
   "end_time": "2021-08-01T23:51:56.011972",
   "environment_variables": {},
   "exception": null,
   "input_path": "__notebook__.ipynb",
   "output_path": "__notebook__.ipynb",
   "parameters": {},
   "start_time": "2021-08-01T23:51:29.127899",
   "version": "2.3.3"
  }
 },
 "nbformat": 4,
 "nbformat_minor": 5
}
