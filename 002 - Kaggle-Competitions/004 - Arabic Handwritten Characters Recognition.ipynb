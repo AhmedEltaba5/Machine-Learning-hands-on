{
 "cells": [
  {
   "cell_type": "code",
   "execution_count": 1,
   "id": "ca60e24c",
   "metadata": {
    "execution": {
     "iopub.execute_input": "2021-11-07T11:57:51.487341Z",
     "iopub.status.busy": "2021-11-07T11:57:51.485825Z",
     "iopub.status.idle": "2021-11-07T11:57:56.389807Z",
     "shell.execute_reply": "2021-11-07T11:57:56.389195Z",
     "shell.execute_reply.started": "2021-11-07T11:35:21.834707Z"
    },
    "papermill": {
     "duration": 4.928697,
     "end_time": "2021-11-07T11:57:56.389994",
     "exception": false,
     "start_time": "2021-11-07T11:57:51.461297",
     "status": "completed"
    },
    "tags": []
   },
   "outputs": [],
   "source": [
    "## Most Important\n",
    "import numpy as np\n",
    "import pandas as pd\n",
    "import matplotlib.pyplot as plt\n",
    "%matplotlib inline\n",
    "import seaborn as sns\n",
    "from pathlib import Path\n",
    "from PIL import Image\n",
    "\n",
    "## less Important\n",
    "from functools import partial\n",
    "import os\n",
    "from scipy import stats\n",
    "import missingno as msno\n",
    "import joblib\n",
    "import tarfile\n",
    "import shutil\n",
    "import urllib\n",
    "\n",
    "## Sklearn\n",
    "from sklearn import datasets\n",
    "## Preprocessing\n",
    "from sklearn.preprocessing import StandardScaler\n",
    "from sklearn.model_selection import train_test_split\n",
    "## Metrics\n",
    "from sklearn.metrics import accuracy_score\n",
    "\n",
    "## tensorflow & Keras\n",
    "import tensorflow as tf    ## i will use tf for every thing and for keras using tf.keras"
   ]
  },
  {
   "cell_type": "markdown",
   "id": "9609558e",
   "metadata": {
    "papermill": {
     "duration": 0.019784,
     "end_time": "2021-11-07T11:57:56.431872",
     "exception": false,
     "start_time": "2021-11-07T11:57:56.412088",
     "status": "completed"
    },
    "tags": []
   },
   "source": [
    "## Loading the Data and Look at the Big Picture"
   ]
  },
  {
   "cell_type": "markdown",
   "id": "8a00d7ba",
   "metadata": {
    "papermill": {
     "duration": 0.019813,
     "end_time": "2021-11-07T11:57:56.471307",
     "exception": false,
     "start_time": "2021-11-07T11:57:56.451494",
     "status": "completed"
    },
    "tags": []
   },
   "source": [
    "`Only for training here`"
   ]
  },
  {
   "cell_type": "code",
   "execution_count": 2,
   "id": "a7cea293",
   "metadata": {
    "execution": {
     "iopub.execute_input": "2021-11-07T11:57:56.515493Z",
     "iopub.status.busy": "2021-11-07T11:57:56.514938Z",
     "iopub.status.idle": "2021-11-07T11:57:57.065343Z",
     "shell.execute_reply": "2021-11-07T11:57:57.065752Z",
     "shell.execute_reply.started": "2021-11-07T11:35:26.356068Z"
    },
    "papermill": {
     "duration": 0.574981,
     "end_time": "2021-11-07T11:57:57.065909",
     "exception": false,
     "start_time": "2021-11-07T11:57:56.490928",
     "status": "completed"
    },
    "tags": []
   },
   "outputs": [
    {
     "data": {
      "text/plain": [
       "0    ../input/arabic-hwr-ai-pro-intake1/train/00000...\n",
       "1    ../input/arabic-hwr-ai-pro-intake1/train/00001...\n",
       "2    ../input/arabic-hwr-ai-pro-intake1/train/00002...\n",
       "3    ../input/arabic-hwr-ai-pro-intake1/train/00003...\n",
       "4    ../input/arabic-hwr-ai-pro-intake1/train/00004...\n",
       "Name: Filepath, dtype: object"
      ]
     },
     "execution_count": 2,
     "metadata": {},
     "output_type": "execute_result"
    }
   ],
   "source": [
    "train_labels = pd.read_csv('../input/arabic-hwr-ai-pro-intake1/train.csv')\n",
    "train_images = Path(r'../input/arabic-hwr-ai-pro-intake1/train')\n",
    "\n",
    "## read these all training images paths as Series\n",
    "train_images_paths = pd.Series(sorted(list(train_images.glob(r'*.png'))), name='Filepath').astype(str)\n",
    "\n",
    "train_images_paths.head()"
   ]
  },
  {
   "cell_type": "code",
   "execution_count": 3,
   "id": "ab0c8ca9",
   "metadata": {
    "execution": {
     "iopub.execute_input": "2021-11-07T11:57:57.119716Z",
     "iopub.status.busy": "2021-11-07T11:57:57.114229Z",
     "iopub.status.idle": "2021-11-07T11:57:57.122334Z",
     "shell.execute_reply": "2021-11-07T11:57:57.122736Z",
     "shell.execute_reply.started": "2021-11-07T11:35:26.903360Z"
    },
    "papermill": {
     "duration": 0.036901,
     "end_time": "2021-11-07T11:57:57.122884",
     "exception": false,
     "start_time": "2021-11-07T11:57:57.085983",
     "status": "completed"
    },
    "tags": []
   },
   "outputs": [
    {
     "data": {
      "text/plain": [
       "array([24,  2, 17, 14, 19, 10, 23, 28, 18, 21, 11, 13, 15,  8, 16, 26,  4,\n",
       "       12, 25,  1,  9,  5,  7,  6,  3, 20, 22, 27])"
      ]
     },
     "execution_count": 3,
     "metadata": {},
     "output_type": "execute_result"
    }
   ],
   "source": [
    "train_labels['label'].unique()"
   ]
  },
  {
   "cell_type": "code",
   "execution_count": 4,
   "id": "2c3d507f",
   "metadata": {
    "execution": {
     "iopub.execute_input": "2021-11-07T11:57:57.184898Z",
     "iopub.status.busy": "2021-11-07T11:57:57.184365Z",
     "iopub.status.idle": "2021-11-07T11:57:57.190707Z",
     "shell.execute_reply": "2021-11-07T11:57:57.190294Z",
     "shell.execute_reply.started": "2021-11-07T11:35:26.919468Z"
    },
    "papermill": {
     "duration": 0.041493,
     "end_time": "2021-11-07T11:57:57.190820",
     "exception": false,
     "start_time": "2021-11-07T11:57:57.149327",
     "status": "completed"
    },
    "tags": []
   },
   "outputs": [
    {
     "data": {
      "text/plain": [
       "array([23,  1, 16, 13, 18,  9, 22, 27, 17, 20, 10, 12, 14,  7, 15, 25,  3,\n",
       "       11, 24,  0,  8,  4,  6,  5,  2, 19, 21, 26])"
      ]
     },
     "execution_count": 4,
     "metadata": {},
     "output_type": "execute_result"
    }
   ],
   "source": [
    "train_labels['label'] = train_labels['label'] - 1\n",
    "train_labels['label'].unique()"
   ]
  },
  {
   "cell_type": "markdown",
   "id": "06b1a306",
   "metadata": {
    "papermill": {
     "duration": 0.0219,
     "end_time": "2021-11-07T11:57:57.233340",
     "exception": false,
     "start_time": "2021-11-07T11:57:57.211440",
     "status": "completed"
    },
    "tags": []
   },
   "source": [
    "## Explore the Data"
   ]
  },
  {
   "cell_type": "code",
   "execution_count": 5,
   "id": "34ec355e",
   "metadata": {
    "execution": {
     "iopub.execute_input": "2021-11-07T11:57:57.290614Z",
     "iopub.status.busy": "2021-11-07T11:57:57.285725Z",
     "iopub.status.idle": "2021-11-07T11:57:58.736521Z",
     "shell.execute_reply": "2021-11-07T11:57:58.737576Z",
     "shell.execute_reply.started": "2021-11-07T11:35:26.930268Z"
    },
    "papermill": {
     "duration": 1.482077,
     "end_time": "2021-11-07T11:57:58.737749",
     "exception": false,
     "start_time": "2021-11-07T11:57:57.255672",
     "status": "completed"
    },
    "tags": []
   },
   "outputs": [
    {
     "data": {
      "image/png": "[encoded data removed]",
      "text/plain": [
       "<Figure size 864x576 with 28 Axes>"
      ]
     },
     "metadata": {
      "needs_background": "light"
     },
     "output_type": "display_data"
    }
   ],
   "source": [
    "img_key_value = {}\n",
    "for value in train_labels['label'].unique():\n",
    "    img_key_value[value] = train_labels[train_labels['label']==value].index[0]\n",
    "    \n",
    "img_index = list(img_key_value.values())\n",
    "img_label = list(img_key_value.keys())\n",
    "\n",
    "fig, ax = plt.subplots(4, 7, figsize=(12, 8))\n",
    "\n",
    "i = 0\n",
    "for row in range(4):\n",
    "    for col in range(7):\n",
    "        plt.sca(ax[row, col])\n",
    "        plt.title(f'label = {img_label[i]}')\n",
    "        img = plt.imread(train_images_paths.iloc[img_index[i]])\n",
    "        plt.imshow(img)\n",
    "        plt.axis('off')\n",
    "        i+=1"
   ]
  },
  {
   "cell_type": "code",
   "execution_count": 6,
   "id": "33ce6e36",
   "metadata": {
    "execution": {
     "iopub.execute_input": "2021-11-07T11:57:58.812795Z",
     "iopub.status.busy": "2021-11-07T11:57:58.811847Z",
     "iopub.status.idle": "2021-11-07T11:57:58.831736Z",
     "shell.execute_reply": "2021-11-07T11:57:58.832983Z",
     "shell.execute_reply.started": "2021-11-07T11:35:28.291374Z"
    },
    "papermill": {
     "duration": 0.070138,
     "end_time": "2021-11-07T11:57:58.833330",
     "exception": false,
     "start_time": "2021-11-07T11:57:58.763192",
     "status": "completed"
    },
    "tags": []
   },
   "outputs": [
    {
     "data": {
      "text/plain": [
       "array([[0.11764706, 0.11764706, 0.11764706, ..., 0.11764706, 0.11764706,\n",
       "        0.11764706],\n",
       "       [0.11764706, 0.11764706, 0.11764706, ..., 0.11764706, 0.11764706,\n",
       "        0.11764706],\n",
       "       [0.11764706, 0.11764706, 0.11764706, ..., 0.11764706, 0.11764706,\n",
       "        0.11764706],\n",
       "       ...,\n",
       "       [0.11764706, 0.11764706, 0.11764706, ..., 0.11764706, 0.11764706,\n",
       "        0.11764706],\n",
       "       [0.11764706, 0.11764706, 0.11764706, ..., 0.11764706, 0.11764706,\n",
       "        0.11764706],\n",
       "       [0.11764706, 0.11764706, 0.11764706, ..., 0.11764706, 0.11764706,\n",
       "        0.11764706]])"
      ]
     },
     "execution_count": 6,
     "metadata": {},
     "output_type": "execute_result"
    }
   ],
   "source": [
    "np.asarray(plt.imread(train_images_paths.iloc[0])).shape\n",
    "\n",
    "from PIL import Image\n",
    "img = Image.open(train_images_paths.iloc[0]).convert('L')\n",
    "np.asarray(img)/255"
   ]
  },
  {
   "cell_type": "code",
   "execution_count": 7,
   "id": "eca55037",
   "metadata": {
    "execution": {
     "iopub.execute_input": "2021-11-07T11:57:58.928326Z",
     "iopub.status.busy": "2021-11-07T11:57:58.927382Z",
     "iopub.status.idle": "2021-11-07T11:57:58.935906Z",
     "shell.execute_reply": "2021-11-07T11:57:58.936561Z",
     "shell.execute_reply.started": "2021-11-07T11:35:28.305353Z"
    },
    "papermill": {
     "duration": 0.058409,
     "end_time": "2021-11-07T11:57:58.936864",
     "exception": false,
     "start_time": "2021-11-07T11:57:58.878455",
     "status": "completed"
    },
    "tags": []
   },
   "outputs": [
    {
     "name": "stdout",
     "output_type": "stream",
     "text": [
      "Number of Instances in train_set => 13440\n",
      "Number of Instances in train_labels => 13440\n",
      "\n",
      "shape of each Image is => (32, 32, 4)\n"
     ]
    },
    {
     "data": {
      "text/plain": [
       "array([[[0.26666668, 0.00392157, 0.32941177, 1.        ],\n",
       "        [0.26666668, 0.00392157, 0.32941177, 1.        ],\n",
       "        [0.26666668, 0.00392157, 0.32941177, 1.        ],\n",
       "        ...,\n",
       "        [0.26666668, 0.00392157, 0.32941177, 1.        ],\n",
       "        [0.26666668, 0.00392157, 0.32941177, 1.        ],\n",
       "        [0.26666668, 0.00392157, 0.32941177, 1.        ]],\n",
       "\n",
       "       [[0.26666668, 0.00392157, 0.32941177, 1.        ],\n",
       "        [0.26666668, 0.00392157, 0.32941177, 1.        ],\n",
       "        [0.26666668, 0.00392157, 0.32941177, 1.        ],\n",
       "        ...,\n",
       "        [0.26666668, 0.00392157, 0.32941177, 1.        ],\n",
       "        [0.26666668, 0.00392157, 0.32941177, 1.        ],\n",
       "        [0.26666668, 0.00392157, 0.32941177, 1.        ]],\n",
       "\n",
       "       [[0.26666668, 0.00392157, 0.32941177, 1.        ],\n",
       "        [0.26666668, 0.00392157, 0.32941177, 1.        ],\n",
       "        [0.26666668, 0.00392157, 0.32941177, 1.        ],\n",
       "        ...,\n",
       "        [0.26666668, 0.00392157, 0.32941177, 1.        ],\n",
       "        [0.26666668, 0.00392157, 0.32941177, 1.        ],\n",
       "        [0.26666668, 0.00392157, 0.32941177, 1.        ]],\n",
       "\n",
       "       ...,\n",
       "\n",
       "       [[0.26666668, 0.00392157, 0.32941177, 1.        ],\n",
       "        [0.26666668, 0.00392157, 0.32941177, 1.        ],\n",
       "        [0.26666668, 0.00392157, 0.32941177, 1.        ],\n",
       "        ...,\n",
       "        [0.26666668, 0.00392157, 0.32941177, 1.        ],\n",
       "        [0.26666668, 0.00392157, 0.32941177, 1.        ],\n",
       "        [0.26666668, 0.00392157, 0.32941177, 1.        ]],\n",
       "\n",
       "       [[0.26666668, 0.00392157, 0.32941177, 1.        ],\n",
       "        [0.26666668, 0.00392157, 0.32941177, 1.        ],\n",
       "        [0.26666668, 0.00392157, 0.32941177, 1.        ],\n",
       "        ...,\n",
       "        [0.26666668, 0.00392157, 0.32941177, 1.        ],\n",
       "        [0.26666668, 0.00392157, 0.32941177, 1.        ],\n",
       "        [0.26666668, 0.00392157, 0.32941177, 1.        ]],\n",
       "\n",
       "       [[0.26666668, 0.00392157, 0.32941177, 1.        ],\n",
       "        [0.26666668, 0.00392157, 0.32941177, 1.        ],\n",
       "        [0.26666668, 0.00392157, 0.32941177, 1.        ],\n",
       "        ...,\n",
       "        [0.26666668, 0.00392157, 0.32941177, 1.        ],\n",
       "        [0.26666668, 0.00392157, 0.32941177, 1.        ],\n",
       "        [0.26666668, 0.00392157, 0.32941177, 1.        ]]], dtype=float32)"
      ]
     },
     "execution_count": 7,
     "metadata": {},
     "output_type": "execute_result"
    }
   ],
   "source": [
    "print('Number of Instances in train_set =>', len(train_images_paths))\n",
    "print('Number of Instances in train_labels =>', len(train_labels))\n",
    "\n",
    "print()\n",
    "\n",
    "img = plt.imread(train_images_paths.iloc[img_index[20]])\n",
    "print('shape of each Image is =>', img.shape)\n",
    "\n",
    "img"
   ]
  },
  {
   "cell_type": "markdown",
   "id": "02fac6ed",
   "metadata": {
    "papermill": {
     "duration": 0.037125,
     "end_time": "2021-11-07T11:57:59.017096",
     "exception": false,
     "start_time": "2021-11-07T11:57:58.979971",
     "status": "completed"
    },
    "tags": []
   },
   "source": [
    "## Data Preprocessing"
   ]
  },
  {
   "cell_type": "code",
   "execution_count": 8,
   "id": "2b5dbde3",
   "metadata": {
    "execution": {
     "iopub.execute_input": "2021-11-07T11:57:59.109075Z",
     "iopub.status.busy": "2021-11-07T11:57:59.108214Z",
     "iopub.status.idle": "2021-11-07T11:58:40.133543Z",
     "shell.execute_reply": "2021-11-07T11:58:40.134177Z",
     "shell.execute_reply.started": "2021-11-07T11:35:28.322739Z"
    },
    "papermill": {
     "duration": 41.076504,
     "end_time": "2021-11-07T11:58:40.134366",
     "exception": false,
     "start_time": "2021-11-07T11:57:59.057862",
     "status": "completed"
    },
    "tags": []
   },
   "outputs": [
    {
     "name": "stdout",
     "output_type": "stream",
     "text": [
      "train_full_set.shape => (13440, 64, 64, 1)\n",
      "train_full_labels.shape => (13440,)\n"
     ]
    }
   ],
   "source": [
    "train_full_labels = train_labels['label'].values\n",
    "train_full_set = np.empty((13440, 64, 64), dtype=np.float32)\n",
    "newsize = (64, 64)\n",
    "\n",
    "for idx, path in enumerate(train_images_paths):\n",
    "    img = Image.open(path).convert('L')\n",
    "    img = img.resize(newsize)\n",
    "    img = np.asarray(img)/255\n",
    "    train_full_set[idx] = img\n",
    "    \n",
    "train_full_set = train_full_set.reshape(train_full_set.shape[0], train_full_set.shape[1],\\\n",
    "                                        train_full_set.shape[2], 1)\n",
    "print('train_full_set.shape =>', train_full_set.shape)\n",
    "print('train_full_labels.shape =>', train_full_labels.shape)"
   ]
  },
  {
   "cell_type": "markdown",
   "id": "be674515",
   "metadata": {
    "papermill": {
     "duration": 0.023697,
     "end_time": "2021-11-07T11:58:40.183103",
     "exception": false,
     "start_time": "2021-11-07T11:58:40.159406",
     "status": "completed"
    },
    "tags": []
   },
   "source": [
    "## Split the Data"
   ]
  },
  {
   "cell_type": "code",
   "execution_count": 9,
   "id": "b3cd8583",
   "metadata": {
    "execution": {
     "iopub.execute_input": "2021-11-07T11:58:40.236440Z",
     "iopub.status.busy": "2021-11-07T11:58:40.232780Z",
     "iopub.status.idle": "2021-11-07T11:58:40.318847Z",
     "shell.execute_reply": "2021-11-07T11:58:40.319307Z",
     "shell.execute_reply.started": "2021-11-07T11:36:26.984785Z"
    },
    "papermill": {
     "duration": 0.112475,
     "end_time": "2021-11-07T11:58:40.319465",
     "exception": false,
     "start_time": "2021-11-07T11:58:40.206990",
     "status": "completed"
    },
    "tags": []
   },
   "outputs": [
    {
     "name": "stdout",
     "output_type": "stream",
     "text": [
      "X_train.shape => (12096, 64, 64, 1)\n",
      "X_valid.shape => (1344, 64, 64, 1)\n",
      "y_train.shape => (12096,)\n",
      "y_valid.shape => (1344,)\n"
     ]
    }
   ],
   "source": [
    "X_train, X_valid, y_train, y_valid = train_test_split(train_full_set, train_full_labels,\\\n",
    "                                        test_size=0.1, stratify=train_full_labels, random_state=42)\n",
    "\n",
    "print('X_train.shape =>', X_train.shape)\n",
    "print('X_valid.shape =>', X_valid.shape)\n",
    "print('y_train.shape =>', y_train.shape)\n",
    "print('y_valid.shape =>', y_valid.shape)"
   ]
  },
  {
   "cell_type": "code",
   "execution_count": 10,
   "id": "1e931dbf",
   "metadata": {
    "execution": {
     "iopub.execute_input": "2021-11-07T11:58:40.373422Z",
     "iopub.status.busy": "2021-11-07T11:58:40.371198Z",
     "iopub.status.idle": "2021-11-07T11:58:40.375573Z",
     "shell.execute_reply": "2021-11-07T11:58:40.376019Z",
     "shell.execute_reply.started": "2021-11-07T11:36:27.077083Z"
    },
    "papermill": {
     "duration": 0.032248,
     "end_time": "2021-11-07T11:58:40.376151",
     "exception": false,
     "start_time": "2021-11-07T11:58:40.343903",
     "status": "completed"
    },
    "tags": []
   },
   "outputs": [
    {
     "data": {
      "text/plain": [
       "(48,)"
      ]
     },
     "execution_count": 10,
     "metadata": {},
     "output_type": "execute_result"
    }
   ],
   "source": [
    "y_valid[y_valid == 1].shape"
   ]
  },
  {
   "cell_type": "code",
   "execution_count": 11,
   "id": "ef4b493e",
   "metadata": {
    "execution": {
     "iopub.execute_input": "2021-11-07T11:58:40.429706Z",
     "iopub.status.busy": "2021-11-07T11:58:40.429198Z",
     "iopub.status.idle": "2021-11-07T11:58:40.432317Z",
     "shell.execute_reply": "2021-11-07T11:58:40.432708Z",
     "shell.execute_reply.started": "2021-11-07T11:36:27.085470Z"
    },
    "papermill": {
     "duration": 0.031696,
     "end_time": "2021-11-07T11:58:40.432875",
     "exception": false,
     "start_time": "2021-11-07T11:58:40.401179",
     "status": "completed"
    },
    "tags": []
   },
   "outputs": [],
   "source": [
    "np.random.seed(10)"
   ]
  },
  {
   "cell_type": "markdown",
   "id": "4e0ef895",
   "metadata": {
    "papermill": {
     "duration": 0.024075,
     "end_time": "2021-11-07T11:58:40.481872",
     "exception": false,
     "start_time": "2021-11-07T11:58:40.457797",
     "status": "completed"
    },
    "tags": []
   },
   "source": [
    "## Model Training"
   ]
  },
  {
   "cell_type": "code",
   "execution_count": 12,
   "id": "de22e92f",
   "metadata": {
    "execution": {
     "iopub.execute_input": "2021-11-07T11:58:40.541408Z",
     "iopub.status.busy": "2021-11-07T11:58:40.540300Z",
     "iopub.status.idle": "2021-11-07T11:58:41.073539Z",
     "shell.execute_reply": "2021-11-07T11:58:41.072902Z",
     "shell.execute_reply.started": "2021-11-07T11:36:27.093994Z"
    },
    "papermill": {
     "duration": 0.567491,
     "end_time": "2021-11-07T11:58:41.073679",
     "exception": false,
     "start_time": "2021-11-07T11:58:40.506188",
     "status": "completed"
    },
    "tags": []
   },
   "outputs": [],
   "source": [
    "from keras.models import Sequential\n",
    "from keras.layers import Conv2D, MaxPooling2D, GlobalAveragePooling2D, BatchNormalization, Dropout, Dense\n",
    "\n",
    "def create_model(optimizer='adam', kernel_initializer='he_normal', activation='relu'):\n",
    "  # create model\n",
    "  model = Sequential()\n",
    "  model.add(Conv2D(filters=16, kernel_size=3, padding='same', input_shape=(64, 64, 1), kernel_initializer=kernel_initializer, activation=activation))\n",
    "  model.add(BatchNormalization())\n",
    "  model.add(MaxPooling2D(pool_size=2))\n",
    "  model.add(Dropout(0.1))\n",
    "\n",
    "  model.add(Conv2D(filters=32, kernel_size=3, padding='same', kernel_initializer=kernel_initializer, activation=activation))\n",
    "  model.add(BatchNormalization())\n",
    "  model.add(MaxPooling2D(pool_size=2))\n",
    "  model.add(Dropout(0.1))\n",
    "\n",
    "  model.add(Conv2D(filters=64, kernel_size=3, padding='same', kernel_initializer=kernel_initializer, activation=activation))\n",
    "  model.add(BatchNormalization())\n",
    "  model.add(MaxPooling2D(pool_size=2))\n",
    "  model.add(Dropout(0.1))\n",
    "\n",
    "  model.add(Conv2D(filters=128, kernel_size=3, padding='same', kernel_initializer=kernel_initializer, activation=activation))\n",
    "  model.add(BatchNormalization())\n",
    "  model.add(MaxPooling2D(pool_size=2))\n",
    "  model.add(Dropout(0.1))\n",
    "  model.add(GlobalAveragePooling2D())\n",
    "  \n",
    "  #Fully connected final layer\n",
    "  model.add(Dense(28, activation='softmax'))\n",
    "    \n",
    "  # Compile model\n",
    "  model.compile(loss='sparse_categorical_crossentropy', metrics=['accuracy'], optimizer=optimizer)\n",
    "  return model"
   ]
  },
  {
   "cell_type": "code",
   "execution_count": 13,
   "id": "6066c1b4",
   "metadata": {
    "execution": {
     "iopub.execute_input": "2021-11-07T11:58:41.128856Z",
     "iopub.status.busy": "2021-11-07T11:58:41.127677Z",
     "iopub.status.idle": "2021-11-07T11:58:43.753132Z",
     "shell.execute_reply": "2021-11-07T11:58:43.753563Z",
     "shell.execute_reply.started": "2021-11-07T11:36:27.639385Z"
    },
    "papermill": {
     "duration": 2.653758,
     "end_time": "2021-11-07T11:58:43.753713",
     "exception": false,
     "start_time": "2021-11-07T11:58:41.099955",
     "status": "completed"
    },
    "tags": []
   },
   "outputs": [
    {
     "name": "stderr",
     "output_type": "stream",
     "text": [
      "2021-11-07 11:58:41.198270: I tensorflow/stream_executor/cuda/cuda_gpu_executor.cc:937] successful NUMA node read from SysFS had negative value (-1), but there must be at least one NUMA node, so returning NUMA node zero\n"
     ]
    },
    {
     "name": "stdout",
     "output_type": "stream",
     "text": [
      "Model: \"sequential\"\n",
      "_________________________________________________________________\n",
      "Layer (type)                 Output Shape              Param #   \n",
      "=================================================================\n",
      "conv2d (Conv2D)              (None, 64, 64, 16)        160       \n",
      "_________________________________________________________________\n",
      "batch_normalization (BatchNo (None, 64, 64, 16)        64        \n",
      "_________________________________________________________________\n",
      "max_pooling2d (MaxPooling2D) (None, 32, 32, 16)        0         \n",
      "_________________________________________________________________\n",
      "dropout (Dropout)            (None, 32, 32, 16)        0         \n",
      "_________________________________________________________________\n",
      "conv2d_1 (Conv2D)            (None, 32, 32, 32)        4640      \n",
      "_________________________________________________________________\n",
      "batch_normalization_1 (Batch (None, 32, 32, 32)        128       \n",
      "_________________________________________________________________\n",
      "max_pooling2d_1 (MaxPooling2 (None, 16, 16, 32)        0         \n",
      "_________________________________________________________________\n",
      "dropout_1 (Dropout)          (None, 16, 16, 32)        0         \n",
      "_________________________________________________________________\n",
      "conv2d_2 (Conv2D)            (None, 16, 16, 64)        18496     \n",
      "_________________________________________________________________\n",
      "batch_normalization_2 (Batch (None, 16, 16, 64)        256       \n",
      "_________________________________________________________________\n",
      "max_pooling2d_2 (MaxPooling2 (None, 8, 8, 64)          0         \n",
      "_________________________________________________________________\n",
      "dropout_2 (Dropout)          (None, 8, 8, 64)          0         \n",
      "_________________________________________________________________\n",
      "conv2d_3 (Conv2D)            (None, 8, 8, 128)         73856     \n",
      "_________________________________________________________________\n",
      "batch_normalization_3 (Batch (None, 8, 8, 128)         512       \n",
      "_________________________________________________________________\n",
      "max_pooling2d_3 (MaxPooling2 (None, 4, 4, 128)         0         \n",
      "_________________________________________________________________\n",
      "dropout_3 (Dropout)          (None, 4, 4, 128)         0         \n",
      "_________________________________________________________________\n",
      "global_average_pooling2d (Gl (None, 128)               0         \n",
      "_________________________________________________________________\n",
      "dense (Dense)                (None, 28)                3612      \n",
      "=================================================================\n",
      "Total params: 101,724\n",
      "Trainable params: 101,244\n",
      "Non-trainable params: 480\n",
      "_________________________________________________________________\n"
     ]
    },
    {
     "name": "stderr",
     "output_type": "stream",
     "text": [
      "2021-11-07 11:58:41.316896: I tensorflow/stream_executor/cuda/cuda_gpu_executor.cc:937] successful NUMA node read from SysFS had negative value (-1), but there must be at least one NUMA node, so returning NUMA node zero\n",
      "2021-11-07 11:58:41.317634: I tensorflow/stream_executor/cuda/cuda_gpu_executor.cc:937] successful NUMA node read from SysFS had negative value (-1), but there must be at least one NUMA node, so returning NUMA node zero\n",
      "2021-11-07 11:58:41.318774: I tensorflow/core/platform/cpu_feature_guard.cc:142] This TensorFlow binary is optimized with oneAPI Deep Neural Network Library (oneDNN) to use the following CPU instructions in performance-critical operations:  AVX2 AVX512F FMA\n",
      "To enable them in other operations, rebuild TensorFlow with the appropriate compiler flags.\n",
      "2021-11-07 11:58:41.319995: I tensorflow/stream_executor/cuda/cuda_gpu_executor.cc:937] successful NUMA node read from SysFS had negative value (-1), but there must be at least one NUMA node, so returning NUMA node zero\n",
      "2021-11-07 11:58:41.320631: I tensorflow/stream_executor/cuda/cuda_gpu_executor.cc:937] successful NUMA node read from SysFS had negative value (-1), but there must be at least one NUMA node, so returning NUMA node zero\n",
      "2021-11-07 11:58:41.321244: I tensorflow/stream_executor/cuda/cuda_gpu_executor.cc:937] successful NUMA node read from SysFS had negative value (-1), but there must be at least one NUMA node, so returning NUMA node zero\n",
      "2021-11-07 11:58:43.292479: I tensorflow/stream_executor/cuda/cuda_gpu_executor.cc:937] successful NUMA node read from SysFS had negative value (-1), but there must be at least one NUMA node, so returning NUMA node zero\n",
      "2021-11-07 11:58:43.293286: I tensorflow/stream_executor/cuda/cuda_gpu_executor.cc:937] successful NUMA node read from SysFS had negative value (-1), but there must be at least one NUMA node, so returning NUMA node zero\n",
      "2021-11-07 11:58:43.293960: I tensorflow/stream_executor/cuda/cuda_gpu_executor.cc:937] successful NUMA node read from SysFS had negative value (-1), but there must be at least one NUMA node, so returning NUMA node zero\n",
      "2021-11-07 11:58:43.294541: I tensorflow/core/common_runtime/gpu/gpu_device.cc:1510] Created device /job:localhost/replica:0/task:0/device:GPU:0 with 15403 MB memory:  -> device: 0, name: Tesla P100-PCIE-16GB, pci bus id: 0000:00:04.0, compute capability: 6.0\n"
     ]
    }
   ],
   "source": [
    "model = create_model(optimizer='Adam', kernel_initializer='uniform', activation='relu')\n",
    "model.summary()"
   ]
  },
  {
   "cell_type": "code",
   "execution_count": 14,
   "id": "4e2a1233",
   "metadata": {
    "execution": {
     "iopub.execute_input": "2021-11-07T11:58:43.811016Z",
     "iopub.status.busy": "2021-11-07T11:58:43.810198Z",
     "iopub.status.idle": "2021-11-07T12:04:16.149756Z",
     "shell.execute_reply": "2021-11-07T12:04:16.150254Z",
     "shell.execute_reply.started": "2021-11-07T11:44:47.842316Z"
    },
    "papermill": {
     "duration": 332.371011,
     "end_time": "2021-11-07T12:04:16.150426",
     "exception": false,
     "start_time": "2021-11-07T11:58:43.779415",
     "status": "completed"
    },
    "tags": []
   },
   "outputs": [
    {
     "name": "stderr",
     "output_type": "stream",
     "text": [
      "2021-11-07 11:58:44.378569: I tensorflow/compiler/mlir/mlir_graph_optimization_pass.cc:185] None of the MLIR Optimization Passes are enabled (registered 2)\n"
     ]
    },
    {
     "name": "stdout",
     "output_type": "stream",
     "text": [
      "Epoch 1/100\n"
     ]
    },
    {
     "name": "stderr",
     "output_type": "stream",
     "text": [
      "2021-11-07 11:58:45.909434: I tensorflow/stream_executor/cuda/cuda_dnn.cc:369] Loaded cuDNN version 8005\n"
     ]
    },
    {
     "name": "stdout",
     "output_type": "stream",
     "text": [
      "605/605 [==============================] - 10s 5ms/step - loss: 1.2532 - accuracy: 0.6726 - val_loss: 2.6396 - val_accuracy: 0.2046\n",
      "Epoch 2/100\n",
      "605/605 [==============================] - 3s 5ms/step - loss: 0.3407 - accuracy: 0.9176 - val_loss: 0.2908 - val_accuracy: 0.9301\n",
      "Epoch 3/100\n",
      "605/605 [==============================] - 3s 5ms/step - loss: 0.2216 - accuracy: 0.9406 - val_loss: 2.5127 - val_accuracy: 0.5171\n",
      "Epoch 4/100\n",
      "605/605 [==============================] - 4s 6ms/step - loss: 0.1709 - accuracy: 0.9554 - val_loss: 0.4515 - val_accuracy: 0.8646\n",
      "Epoch 5/100\n",
      "605/605 [==============================] - 3s 5ms/step - loss: 0.1386 - accuracy: 0.9611 - val_loss: 0.7180 - val_accuracy: 0.8140\n",
      "Epoch 6/100\n",
      "605/605 [==============================] - 3s 5ms/step - loss: 0.1191 - accuracy: 0.9666 - val_loss: 1.2965 - val_accuracy: 0.6674\n",
      "Epoch 7/100\n",
      "605/605 [==============================] - 3s 5ms/step - loss: 0.1054 - accuracy: 0.9700 - val_loss: 1.0701 - val_accuracy: 0.6972\n",
      "Epoch 8/100\n",
      "605/605 [==============================] - 3s 5ms/step - loss: 0.1004 - accuracy: 0.9702 - val_loss: 1.4125 - val_accuracy: 0.5640\n",
      "Epoch 9/100\n",
      "605/605 [==============================] - 3s 5ms/step - loss: 0.0922 - accuracy: 0.9720 - val_loss: 1.7380 - val_accuracy: 0.7232\n",
      "Epoch 10/100\n",
      "605/605 [==============================] - 3s 6ms/step - loss: 0.0772 - accuracy: 0.9777 - val_loss: 1.4082 - val_accuracy: 0.6183\n",
      "Epoch 11/100\n",
      "605/605 [==============================] - 3s 5ms/step - loss: 0.0753 - accuracy: 0.9753 - val_loss: 0.1410 - val_accuracy: 0.9628\n",
      "Epoch 12/100\n",
      "605/605 [==============================] - 3s 5ms/step - loss: 0.0607 - accuracy: 0.9808 - val_loss: 0.2084 - val_accuracy: 0.9435\n",
      "Epoch 13/100\n",
      "605/605 [==============================] - 3s 5ms/step - loss: 0.0548 - accuracy: 0.9837 - val_loss: 0.1573 - val_accuracy: 0.9531\n",
      "Epoch 14/100\n",
      "605/605 [==============================] - 4s 6ms/step - loss: 0.0600 - accuracy: 0.9814 - val_loss: 0.3370 - val_accuracy: 0.9100\n",
      "Epoch 15/100\n",
      "605/605 [==============================] - 3s 5ms/step - loss: 0.0542 - accuracy: 0.9820 - val_loss: 0.1704 - val_accuracy: 0.9561\n",
      "Epoch 16/100\n",
      "605/605 [==============================] - 3s 5ms/step - loss: 0.0441 - accuracy: 0.9858 - val_loss: 0.1377 - val_accuracy: 0.9621\n",
      "Epoch 17/100\n",
      "605/605 [==============================] - 4s 6ms/step - loss: 0.0478 - accuracy: 0.9835 - val_loss: 0.5880 - val_accuracy: 0.8356\n",
      "Epoch 18/100\n",
      "605/605 [==============================] - 3s 5ms/step - loss: 0.0431 - accuracy: 0.9858 - val_loss: 0.3917 - val_accuracy: 0.8795\n",
      "Epoch 19/100\n",
      "605/605 [==============================] - 3s 5ms/step - loss: 0.0442 - accuracy: 0.9850 - val_loss: 1.8713 - val_accuracy: 0.4115\n",
      "Epoch 20/100\n",
      "605/605 [==============================] - 3s 5ms/step - loss: 0.0410 - accuracy: 0.9869 - val_loss: 0.7670 - val_accuracy: 0.7656\n",
      "Epoch 21/100\n",
      "605/605 [==============================] - 3s 5ms/step - loss: 0.0383 - accuracy: 0.9874 - val_loss: 0.6367 - val_accuracy: 0.7954\n",
      "Epoch 22/100\n",
      "605/605 [==============================] - 3s 5ms/step - loss: 0.0366 - accuracy: 0.9881 - val_loss: 0.1421 - val_accuracy: 0.9613\n",
      "Epoch 23/100\n",
      "605/605 [==============================] - 3s 5ms/step - loss: 0.0371 - accuracy: 0.9885 - val_loss: 0.1332 - val_accuracy: 0.9643\n",
      "Epoch 24/100\n",
      "605/605 [==============================] - 4s 6ms/step - loss: 0.0304 - accuracy: 0.9900 - val_loss: 0.1244 - val_accuracy: 0.9747\n",
      "Epoch 25/100\n",
      "605/605 [==============================] - 3s 5ms/step - loss: 0.0342 - accuracy: 0.9893 - val_loss: 0.1420 - val_accuracy: 0.9658\n",
      "Epoch 26/100\n",
      "605/605 [==============================] - 3s 5ms/step - loss: 0.0296 - accuracy: 0.9899 - val_loss: 0.1535 - val_accuracy: 0.9516\n",
      "Epoch 27/100\n",
      "605/605 [==============================] - 4s 6ms/step - loss: 0.0273 - accuracy: 0.9905 - val_loss: 0.1696 - val_accuracy: 0.9613\n",
      "Epoch 28/100\n",
      "605/605 [==============================] - 3s 5ms/step - loss: 0.0301 - accuracy: 0.9902 - val_loss: 0.1406 - val_accuracy: 0.9650\n",
      "Epoch 29/100\n",
      "605/605 [==============================] - 3s 5ms/step - loss: 0.0316 - accuracy: 0.9906 - val_loss: 0.1297 - val_accuracy: 0.9695\n",
      "Epoch 30/100\n",
      "605/605 [==============================] - 3s 5ms/step - loss: 0.0290 - accuracy: 0.9911 - val_loss: 0.3807 - val_accuracy: 0.9152\n",
      "Epoch 31/100\n",
      "605/605 [==============================] - 3s 5ms/step - loss: 0.0346 - accuracy: 0.9880 - val_loss: 0.2902 - val_accuracy: 0.9196\n",
      "Epoch 32/100\n",
      "605/605 [==============================] - 3s 5ms/step - loss: 0.0251 - accuracy: 0.9918 - val_loss: 0.1715 - val_accuracy: 0.9621\n",
      "Epoch 33/100\n",
      "605/605 [==============================] - 3s 5ms/step - loss: 0.0214 - accuracy: 0.9933 - val_loss: 0.7745 - val_accuracy: 0.7299\n",
      "Epoch 34/100\n",
      "605/605 [==============================] - 4s 6ms/step - loss: 0.0269 - accuracy: 0.9898 - val_loss: 0.9026 - val_accuracy: 0.7121\n",
      "Epoch 35/100\n",
      "605/605 [==============================] - 3s 5ms/step - loss: 0.0225 - accuracy: 0.9930 - val_loss: 0.5161 - val_accuracy: 0.8296\n",
      "Epoch 36/100\n",
      "605/605 [==============================] - 3s 5ms/step - loss: 0.0223 - accuracy: 0.9925 - val_loss: 0.1275 - val_accuracy: 0.9725\n",
      "Epoch 37/100\n",
      "605/605 [==============================] - 3s 5ms/step - loss: 0.0226 - accuracy: 0.9928 - val_loss: 0.3660 - val_accuracy: 0.8780\n",
      "Epoch 38/100\n",
      "605/605 [==============================] - 3s 5ms/step - loss: 0.0269 - accuracy: 0.9907 - val_loss: 0.1354 - val_accuracy: 0.9628\n",
      "Epoch 39/100\n",
      "605/605 [==============================] - 3s 5ms/step - loss: 0.0264 - accuracy: 0.9908 - val_loss: 0.1770 - val_accuracy: 0.9665\n",
      "Epoch 40/100\n",
      "605/605 [==============================] - 3s 5ms/step - loss: 0.0180 - accuracy: 0.9939 - val_loss: 0.1247 - val_accuracy: 0.9740\n",
      "Epoch 41/100\n",
      "605/605 [==============================] - 3s 6ms/step - loss: 0.0216 - accuracy: 0.9929 - val_loss: 0.1656 - val_accuracy: 0.9501\n",
      "Epoch 42/100\n",
      "605/605 [==============================] - 3s 5ms/step - loss: 0.0170 - accuracy: 0.9941 - val_loss: 0.1503 - val_accuracy: 0.9710\n",
      "Epoch 43/100\n",
      "605/605 [==============================] - 3s 5ms/step - loss: 0.0201 - accuracy: 0.9941 - val_loss: 0.4231 - val_accuracy: 0.9144\n",
      "Epoch 44/100\n",
      "605/605 [==============================] - 4s 6ms/step - loss: 0.0237 - accuracy: 0.9921 - val_loss: 0.4626 - val_accuracy: 0.8408\n",
      "Epoch 45/100\n",
      "605/605 [==============================] - 3s 5ms/step - loss: 0.0194 - accuracy: 0.9946 - val_loss: 0.2238 - val_accuracy: 0.9308\n",
      "Epoch 46/100\n",
      "605/605 [==============================] - 4s 6ms/step - loss: 0.0214 - accuracy: 0.9914 - val_loss: 0.1317 - val_accuracy: 0.9710\n",
      "Epoch 47/100\n",
      "605/605 [==============================] - 3s 5ms/step - loss: 0.0232 - accuracy: 0.9907 - val_loss: 0.1617 - val_accuracy: 0.9710\n",
      "Epoch 48/100\n",
      "605/605 [==============================] - 3s 6ms/step - loss: 0.0185 - accuracy: 0.9940 - val_loss: 0.1445 - val_accuracy: 0.9650\n",
      "Epoch 49/100\n",
      "605/605 [==============================] - 3s 5ms/step - loss: 0.0198 - accuracy: 0.9933 - val_loss: 0.1146 - val_accuracy: 0.9747\n",
      "Epoch 50/100\n",
      "605/605 [==============================] - 3s 5ms/step - loss: 0.0175 - accuracy: 0.9936 - val_loss: 0.1239 - val_accuracy: 0.9591\n",
      "Epoch 51/100\n",
      "605/605 [==============================] - 3s 6ms/step - loss: 0.0160 - accuracy: 0.9946 - val_loss: 0.1683 - val_accuracy: 0.9658\n",
      "Epoch 52/100\n",
      "605/605 [==============================] - 3s 5ms/step - loss: 0.0151 - accuracy: 0.9951 - val_loss: 1.4471 - val_accuracy: 0.5603\n",
      "Epoch 53/100\n",
      "605/605 [==============================] - 3s 5ms/step - loss: 0.0196 - accuracy: 0.9933 - val_loss: 0.2125 - val_accuracy: 0.9345\n",
      "Epoch 54/100\n",
      "605/605 [==============================] - 4s 6ms/step - loss: 0.0179 - accuracy: 0.9937 - val_loss: 0.1299 - val_accuracy: 0.9740\n",
      "Epoch 55/100\n",
      "605/605 [==============================] - 3s 6ms/step - loss: 0.0142 - accuracy: 0.9955 - val_loss: 0.1329 - val_accuracy: 0.9710\n",
      "Epoch 56/100\n",
      "605/605 [==============================] - 3s 6ms/step - loss: 0.0169 - accuracy: 0.9944 - val_loss: 0.1451 - val_accuracy: 0.9710\n",
      "Epoch 57/100\n",
      "605/605 [==============================] - 3s 5ms/step - loss: 0.0171 - accuracy: 0.9945 - val_loss: 0.1052 - val_accuracy: 0.9799\n",
      "Epoch 58/100\n",
      "605/605 [==============================] - 3s 5ms/step - loss: 0.0199 - accuracy: 0.9930 - val_loss: 0.7652 - val_accuracy: 0.7545\n",
      "Epoch 59/100\n",
      "605/605 [==============================] - 3s 5ms/step - loss: 0.0176 - accuracy: 0.9940 - val_loss: 0.1376 - val_accuracy: 0.9561\n",
      "Epoch 60/100\n",
      "605/605 [==============================] - 3s 5ms/step - loss: 0.0164 - accuracy: 0.9941 - val_loss: 0.1697 - val_accuracy: 0.9635\n",
      "Epoch 61/100\n",
      "605/605 [==============================] - 3s 6ms/step - loss: 0.0118 - accuracy: 0.9960 - val_loss: 0.1246 - val_accuracy: 0.9613\n",
      "Epoch 62/100\n",
      "605/605 [==============================] - 3s 5ms/step - loss: 0.0162 - accuracy: 0.9943 - val_loss: 0.1592 - val_accuracy: 0.9643\n",
      "Epoch 63/100\n",
      "605/605 [==============================] - 3s 5ms/step - loss: 0.0176 - accuracy: 0.9938 - val_loss: 0.1265 - val_accuracy: 0.9628\n",
      "Epoch 64/100\n",
      "605/605 [==============================] - 3s 6ms/step - loss: 0.0189 - accuracy: 0.9937 - val_loss: 0.1963 - val_accuracy: 0.9665\n",
      "Epoch 65/100\n",
      "605/605 [==============================] - 4s 6ms/step - loss: 0.0113 - accuracy: 0.9959 - val_loss: 0.1616 - val_accuracy: 0.9740\n",
      "Epoch 66/100\n",
      "605/605 [==============================] - 3s 5ms/step - loss: 0.0165 - accuracy: 0.9945 - val_loss: 0.1226 - val_accuracy: 0.9710\n",
      "Epoch 67/100\n",
      "605/605 [==============================] - 3s 5ms/step - loss: 0.0152 - accuracy: 0.9956 - val_loss: 0.1645 - val_accuracy: 0.9732\n",
      "Epoch 68/100\n",
      "605/605 [==============================] - 3s 5ms/step - loss: 0.0137 - accuracy: 0.9954 - val_loss: 0.1778 - val_accuracy: 0.9695\n",
      "Epoch 69/100\n",
      "605/605 [==============================] - 3s 5ms/step - loss: 0.0120 - accuracy: 0.9958 - val_loss: 0.3360 - val_accuracy: 0.9323\n",
      "Epoch 70/100\n",
      "605/605 [==============================] - 3s 5ms/step - loss: 0.0144 - accuracy: 0.9959 - val_loss: 0.1383 - val_accuracy: 0.9635\n",
      "Epoch 71/100\n",
      "605/605 [==============================] - 3s 5ms/step - loss: 0.0165 - accuracy: 0.9945 - val_loss: 1.0323 - val_accuracy: 0.6719\n",
      "Epoch 72/100\n",
      "605/605 [==============================] - 3s 5ms/step - loss: 0.0133 - accuracy: 0.9946 - val_loss: 0.8122 - val_accuracy: 0.7388\n",
      "Epoch 73/100\n",
      "605/605 [==============================] - 3s 6ms/step - loss: 0.0113 - accuracy: 0.9959 - val_loss: 0.8345 - val_accuracy: 0.7299\n",
      "Epoch 74/100\n",
      "605/605 [==============================] - 3s 5ms/step - loss: 0.0133 - accuracy: 0.9956 - val_loss: 0.1466 - val_accuracy: 0.9747\n",
      "Epoch 75/100\n",
      "605/605 [==============================] - 4s 7ms/step - loss: 0.0139 - accuracy: 0.9950 - val_loss: 0.9604 - val_accuracy: 0.7098\n",
      "Epoch 76/100\n",
      "605/605 [==============================] - 3s 5ms/step - loss: 0.0146 - accuracy: 0.9946 - val_loss: 0.1811 - val_accuracy: 0.9665\n",
      "Epoch 77/100\n",
      "605/605 [==============================] - 3s 5ms/step - loss: 0.0143 - accuracy: 0.9947 - val_loss: 0.1314 - val_accuracy: 0.9740\n",
      "Epoch 78/100\n",
      "605/605 [==============================] - 4s 6ms/step - loss: 0.0155 - accuracy: 0.9950 - val_loss: 0.1274 - val_accuracy: 0.9598\n",
      "Epoch 79/100\n",
      "605/605 [==============================] - 3s 5ms/step - loss: 0.0136 - accuracy: 0.9957 - val_loss: 0.1109 - val_accuracy: 0.9769\n",
      "Epoch 80/100\n",
      "605/605 [==============================] - 3s 5ms/step - loss: 0.0128 - accuracy: 0.9957 - val_loss: 1.2044 - val_accuracy: 0.6280\n",
      "Epoch 81/100\n",
      "605/605 [==============================] - 3s 5ms/step - loss: 0.0150 - accuracy: 0.9953 - val_loss: 0.1303 - val_accuracy: 0.9747\n",
      "Epoch 82/100\n",
      "605/605 [==============================] - 3s 5ms/step - loss: 0.0131 - accuracy: 0.9959 - val_loss: 0.8565 - val_accuracy: 0.7284\n",
      "Epoch 83/100\n",
      "605/605 [==============================] - 3s 6ms/step - loss: 0.0124 - accuracy: 0.9959 - val_loss: 0.6038 - val_accuracy: 0.8006\n",
      "Epoch 84/100\n",
      "605/605 [==============================] - 3s 5ms/step - loss: 0.0171 - accuracy: 0.9941 - val_loss: 0.1436 - val_accuracy: 0.9665\n",
      "Epoch 85/100\n",
      "605/605 [==============================] - 4s 7ms/step - loss: 0.0140 - accuracy: 0.9957 - val_loss: 0.2308 - val_accuracy: 0.9568\n",
      "Epoch 86/100\n",
      "605/605 [==============================] - 3s 5ms/step - loss: 0.0110 - accuracy: 0.9959 - val_loss: 0.1288 - val_accuracy: 0.9695\n",
      "Epoch 87/100\n",
      "605/605 [==============================] - 3s 5ms/step - loss: 0.0128 - accuracy: 0.9957 - val_loss: 0.1613 - val_accuracy: 0.9710\n",
      "Epoch 88/100\n",
      "605/605 [==============================] - 3s 6ms/step - loss: 0.0158 - accuracy: 0.9945 - val_loss: 0.3113 - val_accuracy: 0.9077\n",
      "Epoch 89/100\n",
      "605/605 [==============================] - 3s 5ms/step - loss: 0.0100 - accuracy: 0.9964 - val_loss: 0.1769 - val_accuracy: 0.9702\n",
      "Epoch 90/100\n",
      "605/605 [==============================] - 3s 5ms/step - loss: 0.0123 - accuracy: 0.9962 - val_loss: 1.1400 - val_accuracy: 0.6600\n",
      "Epoch 91/100\n",
      "605/605 [==============================] - 3s 5ms/step - loss: 0.0137 - accuracy: 0.9951 - val_loss: 0.1938 - val_accuracy: 0.9680\n",
      "Epoch 92/100\n",
      "605/605 [==============================] - 3s 5ms/step - loss: 0.0116 - accuracy: 0.9962 - val_loss: 0.8823 - val_accuracy: 0.7269\n",
      "Epoch 93/100\n",
      "605/605 [==============================] - 3s 6ms/step - loss: 0.0096 - accuracy: 0.9966 - val_loss: 0.1780 - val_accuracy: 0.9420\n",
      "Epoch 94/100\n",
      "605/605 [==============================] - 3s 5ms/step - loss: 0.0102 - accuracy: 0.9963 - val_loss: 0.4373 - val_accuracy: 0.8586\n",
      "Epoch 95/100\n",
      "605/605 [==============================] - 4s 7ms/step - loss: 0.0089 - accuracy: 0.9970 - val_loss: 0.1578 - val_accuracy: 0.9725\n",
      "Epoch 96/100\n",
      "605/605 [==============================] - 3s 5ms/step - loss: 0.0107 - accuracy: 0.9965 - val_loss: 0.1603 - val_accuracy: 0.9762\n",
      "Epoch 97/100\n",
      "605/605 [==============================] - 3s 5ms/step - loss: 0.0124 - accuracy: 0.9955 - val_loss: 0.2723 - val_accuracy: 0.9524\n",
      "Epoch 98/100\n",
      "605/605 [==============================] - 3s 5ms/step - loss: 0.0117 - accuracy: 0.9959 - val_loss: 0.9987 - val_accuracy: 0.7016\n",
      "Epoch 99/100\n",
      "605/605 [==============================] - 3s 5ms/step - loss: 0.0106 - accuracy: 0.9962 - val_loss: 0.1439 - val_accuracy: 0.9747\n",
      "Epoch 100/100\n",
      "605/605 [==============================] - 3s 5ms/step - loss: 0.0095 - accuracy: 0.9965 - val_loss: 0.1241 - val_accuracy: 0.9628\n"
     ]
    }
   ],
   "source": [
    "from keras.callbacks import ModelCheckpoint, EarlyStopping\n",
    "\n",
    "# using checkpoints to save model weights to be used later instead of training again on the same epochs.\n",
    "checkpointer = ModelCheckpoint(filepath='weights6.hdf5', verbose=1, save_best_only=True)\n",
    "early_stopp = EarlyStopping(patience=10, restore_best_weights=True)\n",
    "history = model.fit(X_train, y_train, \n",
    "                    validation_data=(X_valid, y_valid),\n",
    "                    epochs=100, batch_size=20, verbose=1)\n",
    "# history = model.fit(X_train, y_train, \n",
    "#                     validation_data=(X_valid, y_valid),\n",
    "#                     epochs=100, batch_size=20, verbose=1, callbacks=[checkpointer, early_stopp])"
   ]
  },
  {
   "cell_type": "code",
   "execution_count": 15,
   "id": "9201d662",
   "metadata": {
    "execution": {
     "iopub.execute_input": "2021-11-07T12:04:19.343953Z",
     "iopub.status.busy": "2021-11-07T12:04:19.343075Z",
     "iopub.status.idle": "2021-11-07T12:04:19.726796Z",
     "shell.execute_reply": "2021-11-07T12:04:19.727792Z",
     "shell.execute_reply.started": "2021-11-07T11:57:03.295574Z"
    },
    "papermill": {
     "duration": 2.018956,
     "end_time": "2021-11-07T12:04:19.728018",
     "exception": false,
     "start_time": "2021-11-07T12:04:17.709062",
     "status": "completed"
    },
    "tags": []
   },
   "outputs": [
    {
     "data": {
      "image/png": "[encoded data removed]",
      "text/plain": [
       "<Figure size 720x432 with 1 Axes>"
      ]
     },
     "metadata": {
      "needs_background": "light"
     },
     "output_type": "display_data"
    }
   ],
   "source": [
    "pd.DataFrame(history.history).plot(figsize=(10, 6));"
   ]
  },
  {
   "cell_type": "code",
   "execution_count": 16,
   "id": "6ab387ec",
   "metadata": {
    "execution": {
     "iopub.execute_input": "2021-11-07T12:04:22.942703Z",
     "iopub.status.busy": "2021-11-07T12:04:22.941707Z",
     "iopub.status.idle": "2021-11-07T12:04:24.741258Z",
     "shell.execute_reply": "2021-11-07T12:04:24.742115Z",
     "shell.execute_reply.started": "2021-11-07T11:37:53.512363Z"
    },
    "papermill": {
     "duration": 3.399513,
     "end_time": "2021-11-07T12:04:24.742359",
     "exception": false,
     "start_time": "2021-11-07T12:04:21.342846",
     "status": "completed"
    },
    "tags": []
   },
   "outputs": [
    {
     "name": "stdout",
     "output_type": "stream",
     "text": [
      "loss_all_data => 0.02040156163275242\n",
      "acc_all_data => 0.9944940209388733\n"
     ]
    }
   ],
   "source": [
    "loss_all_data, acc_all_data = model.evaluate(train_full_set, train_full_labels, verbose=0)\n",
    "print('loss_all_data =>', loss_all_data)\n",
    "print('acc_all_data =>', acc_all_data)"
   ]
  },
  {
   "cell_type": "markdown",
   "id": "cb84d647",
   "metadata": {
    "papermill": {
     "duration": 1.596575,
     "end_time": "2021-11-07T12:04:28.425301",
     "exception": false,
     "start_time": "2021-11-07T12:04:26.828726",
     "status": "completed"
    },
    "tags": []
   },
   "source": [
    "## Evaluation on Testing DataSet"
   ]
  },
  {
   "cell_type": "code",
   "execution_count": 17,
   "id": "1ecd6287",
   "metadata": {
    "execution": {
     "iopub.execute_input": "2021-11-07T12:04:31.884917Z",
     "iopub.status.busy": "2021-11-07T12:04:31.884240Z",
     "iopub.status.idle": "2021-11-07T12:04:32.082320Z",
     "shell.execute_reply": "2021-11-07T12:04:32.081509Z",
     "shell.execute_reply.started": "2021-11-07T11:37:55.309931Z"
    },
    "papermill": {
     "duration": 2.066276,
     "end_time": "2021-11-07T12:04:32.082452",
     "exception": false,
     "start_time": "2021-11-07T12:04:30.016176",
     "status": "completed"
    },
    "tags": []
   },
   "outputs": [
    {
     "data": {
      "text/plain": [
       "0    ../input/arabic-hwr-ai-pro-intake1/test/00000.png\n",
       "1    ../input/arabic-hwr-ai-pro-intake1/test/00001.png\n",
       "2    ../input/arabic-hwr-ai-pro-intake1/test/00002.png\n",
       "3    ../input/arabic-hwr-ai-pro-intake1/test/00003.png\n",
       "4    ../input/arabic-hwr-ai-pro-intake1/test/00004.png\n",
       "Name: Filepath, dtype: object"
      ]
     },
     "execution_count": 17,
     "metadata": {},
     "output_type": "execute_result"
    }
   ],
   "source": [
    "test_labels = pd.read_csv('../input/arabic-hwr-ai-pro-intake1/test.csv')\n",
    "test_images = Path(r'../input/arabic-hwr-ai-pro-intake1/test')\n",
    "\n",
    "## read these all training images paths as Series\n",
    "test_images_paths = pd.Series(sorted(list(test_images.glob(r'*.png'))), name='Filepath').astype(str)\n",
    "\n",
    "test_images_paths.head()"
   ]
  },
  {
   "cell_type": "code",
   "execution_count": 18,
   "id": "90f6c6fb",
   "metadata": {
    "execution": {
     "iopub.execute_input": "2021-11-07T12:04:35.287914Z",
     "iopub.status.busy": "2021-11-07T12:04:35.286253Z",
     "iopub.status.idle": "2021-11-07T12:04:35.290363Z",
     "shell.execute_reply": "2021-11-07T12:04:35.289714Z",
     "shell.execute_reply.started": "2021-11-07T11:37:55.457645Z"
    },
    "papermill": {
     "duration": 1.586113,
     "end_time": "2021-11-07T12:04:35.290516",
     "exception": false,
     "start_time": "2021-11-07T12:04:33.704403",
     "status": "completed"
    },
    "tags": []
   },
   "outputs": [
    {
     "name": "stdout",
     "output_type": "stream",
     "text": [
      "Number of Instances in test_set is 3360\n"
     ]
    }
   ],
   "source": [
    "print('Number of Instances in test_set is', len(test_images_paths))"
   ]
  },
  {
   "cell_type": "code",
   "execution_count": 19,
   "id": "214ffa02",
   "metadata": {
    "execution": {
     "iopub.execute_input": "2021-11-07T12:04:38.431659Z",
     "iopub.status.busy": "2021-11-07T12:04:38.431124Z",
     "iopub.status.idle": "2021-11-07T12:04:48.787245Z",
     "shell.execute_reply": "2021-11-07T12:04:48.787859Z",
     "shell.execute_reply.started": "2021-11-07T11:37:55.464557Z"
    },
    "papermill": {
     "duration": 11.930236,
     "end_time": "2021-11-07T12:04:48.788022",
     "exception": false,
     "start_time": "2021-11-07T12:04:36.857786",
     "status": "completed"
    },
    "tags": []
   },
   "outputs": [
    {
     "name": "stdout",
     "output_type": "stream",
     "text": [
      "test_full_set.shape => (3360, 64, 64, 1)\n"
     ]
    }
   ],
   "source": [
    "test_full_set = np.empty((3360, 64, 64), dtype=np.float32)\n",
    "newsize = (64, 64)\n",
    "\n",
    "for idx, path in enumerate(test_images_paths):\n",
    "    img = Image.open(path).convert('L')\n",
    "    img = img.resize(newsize)\n",
    "    img = np.asarray(img)/255\n",
    "    test_full_set[idx] = img\n",
    "    \n",
    "test_full_set = test_full_set.reshape(test_full_set.shape[0], test_full_set.shape[1],\\\n",
    "                                        test_full_set.shape[2], 1)\n",
    "print('test_full_set.shape =>', test_full_set.shape)"
   ]
  },
  {
   "cell_type": "code",
   "execution_count": 20,
   "id": "96e039d5",
   "metadata": {
    "execution": {
     "iopub.execute_input": "2021-11-07T12:04:51.989338Z",
     "iopub.status.busy": "2021-11-07T12:04:51.988387Z",
     "iopub.status.idle": "2021-11-07T12:04:52.490946Z",
     "shell.execute_reply": "2021-11-07T12:04:52.489678Z",
     "shell.execute_reply.started": "2021-11-07T11:38:10.460049Z"
    },
    "papermill": {
     "duration": 2.098947,
     "end_time": "2021-11-07T12:04:52.491140",
     "exception": false,
     "start_time": "2021-11-07T12:04:50.392193",
     "status": "completed"
    },
    "tags": []
   },
   "outputs": [],
   "source": [
    "y_preds_classes = np.argmax(model.predict(test_full_set) , axis=-1)"
   ]
  },
  {
   "cell_type": "code",
   "execution_count": 21,
   "id": "33778517",
   "metadata": {
    "execution": {
     "iopub.execute_input": "2021-11-07T12:04:55.776314Z",
     "iopub.status.busy": "2021-11-07T12:04:55.775475Z",
     "iopub.status.idle": "2021-11-07T12:04:55.778631Z",
     "shell.execute_reply": "2021-11-07T12:04:55.779144Z",
     "shell.execute_reply.started": "2021-11-07T11:38:11.003593Z"
    },
    "papermill": {
     "duration": 1.578409,
     "end_time": "2021-11-07T12:04:55.779291",
     "exception": false,
     "start_time": "2021-11-07T12:04:54.200882",
     "status": "completed"
    },
    "tags": []
   },
   "outputs": [
    {
     "data": {
      "text/plain": [
       "(3360,)"
      ]
     },
     "execution_count": 21,
     "metadata": {},
     "output_type": "execute_result"
    }
   ],
   "source": [
    "y_preds_classes = y_preds_classes + 1\n",
    "y_preds_classes.shape"
   ]
  },
  {
   "cell_type": "code",
   "execution_count": 22,
   "id": "757587e2",
   "metadata": {
    "execution": {
     "iopub.execute_input": "2021-11-07T12:04:59.416657Z",
     "iopub.status.busy": "2021-11-07T12:04:59.415139Z",
     "iopub.status.idle": "2021-11-07T12:04:59.417269Z",
     "shell.execute_reply": "2021-11-07T12:04:59.417666Z",
     "shell.execute_reply.started": "2021-11-07T11:38:11.018624Z"
    },
    "papermill": {
     "duration": 2.031745,
     "end_time": "2021-11-07T12:04:59.417797",
     "exception": false,
     "start_time": "2021-11-07T12:04:57.386052",
     "status": "completed"
    },
    "tags": []
   },
   "outputs": [],
   "source": [
    "test_labels['label'] = y_preds_classes"
   ]
  },
  {
   "cell_type": "code",
   "execution_count": 23,
   "id": "ee1f48bd",
   "metadata": {
    "execution": {
     "iopub.execute_input": "2021-11-07T12:05:02.612180Z",
     "iopub.status.busy": "2021-11-07T12:05:02.608171Z",
     "iopub.status.idle": "2021-11-07T12:05:02.917645Z",
     "shell.execute_reply": "2021-11-07T12:05:02.917202Z",
     "shell.execute_reply.started": "2021-11-07T11:38:11.030339Z"
    },
    "papermill": {
     "duration": 1.934101,
     "end_time": "2021-11-07T12:05:02.917769",
     "exception": false,
     "start_time": "2021-11-07T12:05:00.983668",
     "status": "completed"
    },
    "tags": []
   },
   "outputs": [
    {
     "data": {
      "text/plain": [
       "<AxesSubplot:>"
      ]
     },
     "execution_count": 23,
     "metadata": {},
     "output_type": "execute_result"
    },
    {
     "data": {
      "image/png": "[encoded data removed]",
      "text/plain": [
       "<Figure size 432x288 with 1 Axes>"
      ]
     },
     "metadata": {
      "needs_background": "light"
     },
     "output_type": "display_data"
    }
   ],
   "source": [
    "test_labels['label'].value_counts().plot(kind='bar')"
   ]
  },
  {
   "cell_type": "code",
   "execution_count": 24,
   "id": "bd6004fa",
   "metadata": {
    "execution": {
     "iopub.execute_input": "2021-11-07T12:05:06.358587Z",
     "iopub.status.busy": "2021-11-07T12:05:06.357692Z",
     "iopub.status.idle": "2021-11-07T12:05:06.367772Z",
     "shell.execute_reply": "2021-11-07T12:05:06.367337Z",
     "shell.execute_reply.started": "2021-11-07T11:38:11.423780Z"
    },
    "papermill": {
     "duration": 1.59412,
     "end_time": "2021-11-07T12:05:06.367918",
     "exception": false,
     "start_time": "2021-11-07T12:05:04.773798",
     "status": "completed"
    },
    "tags": []
   },
   "outputs": [],
   "source": [
    "test_labels[['id', 'label']].to_csv('/kaggle/working/submission.csv', index=False)"
   ]
  },
  {
   "cell_type": "markdown",
   "id": "571132a4",
   "metadata": {
    "papermill": {
     "duration": 1.569635,
     "end_time": "2021-11-07T12:05:09.514395",
     "exception": false,
     "start_time": "2021-11-07T12:05:07.944760",
     "status": "completed"
    },
    "tags": []
   },
   "source": [
    "## Done :D"
   ]
  }
 ],
 "metadata": {
  "kernelspec": {
   "display_name": "Python 3",
   "language": "python",
   "name": "python3"
  },
  "language_info": {
   "codemirror_mode": {
    "name": "ipython",
    "version": 3
   },
   "file_extension": ".py",
   "mimetype": "text/x-python",
   "name": "python",
   "nbconvert_exporter": "python",
   "pygments_lexer": "ipython3",
   "version": "3.7.10"
  },
  "papermill": {
   "default_parameters": {},
   "duration": 450.191671,
   "end_time": "2021-11-07T12:05:14.244122",
   "environment_variables": {},
   "exception": null,
   "input_path": "__notebook__.ipynb",
   "output_path": "__notebook__.ipynb",
   "parameters": {},
   "start_time": "2021-11-07T11:57:44.052451",
   "version": "2.3.3"
  }
 },
 "nbformat": 4,
 "nbformat_minor": 5
}
