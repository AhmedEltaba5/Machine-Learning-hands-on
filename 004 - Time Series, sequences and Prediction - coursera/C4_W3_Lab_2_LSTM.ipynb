{
  "nbformat": 4,
  "nbformat_minor": 0,
  "metadata": {
    "colab": {
      "name": "C4_W3_Lab_2_LSTM.ipynb",
      "provenance": [],
      "collapsed_sections": []
    },
    "kernelspec": {
      "name": "python3",
      "display_name": "Python 3"
    },
    "language_info": {
      "name": "python"
    },
    "accelerator": "GPU"
  },
  "cells": [
    {
      "cell_type": "code",
      "metadata": {
        "id": "zX4Kg8DUTKWO"
      },
      "source": [
        "#@title Licensed under the Apache License, Version 2.0 (the \"License\");\n",
        "# you may not use this file except in compliance with the License.\n",
        "# You may obtain a copy of the License at\n",
        "#\n",
        "# https://www.apache.org/licenses/LICENSE-2.0\n",
        "#\n",
        "# Unless required by applicable law or agreed to in writing, software\n",
        "# distributed under the License is distributed on an \"AS IS\" BASIS,\n",
        "# WITHOUT WARRANTIES OR CONDITIONS OF ANY KIND, either express or implied.\n",
        "# See the License for the specific language governing permissions and\n",
        "# limitations under the License."
      ],
      "execution_count": 1,
      "outputs": []
    },
    {
      "cell_type": "markdown",
      "metadata": {
        "id": "L-U2ulrvAH-3"
      },
      "source": [
        "**Note:** This notebook can run using TensorFlow 2.5.0"
      ]
    },
    {
      "cell_type": "code",
      "metadata": {
        "id": "D1J15Vh_1Jih"
      },
      "source": [
        "#!pip install tensorflow==2.5.0"
      ],
      "execution_count": 2,
      "outputs": []
    },
    {
      "cell_type": "code",
      "metadata": {
        "id": "BOjujz601HcS",
        "colab": {
          "base_uri": "https://localhost:8080/"
        },
        "outputId": "01f50c52-f570-4065-f48c-13ed4219c009"
      },
      "source": [
        "import tensorflow as tf\n",
        "import numpy as np\n",
        "import matplotlib.pyplot as plt\n",
        "print(tf.__version__)"
      ],
      "execution_count": 3,
      "outputs": [
        {
          "output_type": "stream",
          "name": "stdout",
          "text": [
            "2.7.0\n"
          ]
        }
      ]
    },
    {
      "cell_type": "code",
      "metadata": {
        "id": "Zswl7jRtGzkk"
      },
      "source": [
        "def plot_series(time, series, format=\"-\", start=0, end=None):\n",
        "    plt.plot(time[start:end], series[start:end], format)\n",
        "    plt.xlabel(\"Time\")\n",
        "    plt.ylabel(\"Value\")\n",
        "    plt.grid(True)\n",
        "\n",
        "def trend(time, slope=0):\n",
        "    return slope * time\n",
        "\n",
        "def seasonal_pattern(season_time):\n",
        "    \"\"\"Just an arbitrary pattern, you can change it if you wish\"\"\"\n",
        "    return np.where(season_time < 0.4,\n",
        "                    np.cos(season_time * 2 * np.pi),\n",
        "                    1 / np.exp(3 * season_time))\n",
        "\n",
        "def seasonality(time, period, amplitude=1, phase=0):\n",
        "    \"\"\"Repeats the same pattern at each period\"\"\"\n",
        "    season_time = ((time + phase) % period) / period\n",
        "    return amplitude * seasonal_pattern(season_time)\n",
        "\n",
        "def noise(time, noise_level=1, seed=None):\n",
        "    rnd = np.random.RandomState(seed)\n",
        "    return rnd.randn(len(time)) * noise_level\n",
        "\n",
        "time = np.arange(4 * 365 + 1, dtype=\"float32\")\n",
        "baseline = 10\n",
        "series = trend(time, 0.1)  \n",
        "baseline = 10\n",
        "amplitude = 40\n",
        "slope = 0.05\n",
        "noise_level = 5\n",
        "\n",
        "# Create the series\n",
        "series = baseline + trend(time, slope) + seasonality(time, period=365, amplitude=amplitude)\n",
        "# Update with noise\n",
        "series += noise(time, noise_level, seed=42)\n",
        "\n",
        "split_time = 1000\n",
        "time_train = time[:split_time]\n",
        "x_train = series[:split_time]\n",
        "time_valid = time[split_time:]\n",
        "x_valid = series[split_time:]\n",
        "\n",
        "window_size = 20\n",
        "batch_size = 32\n",
        "shuffle_buffer_size = 1000"
      ],
      "execution_count": 4,
      "outputs": []
    },
    {
      "cell_type": "code",
      "metadata": {
        "id": "4sTTIOCbyShY"
      },
      "source": [
        "def windowed_dataset(series, window_size, batch_size, shuffle_buffer):\n",
        "  dataset = tf.data.Dataset.from_tensor_slices(series)\n",
        "  dataset = dataset.window(window_size + 1, shift=1, drop_remainder=True)\n",
        "  dataset = dataset.flat_map(lambda window: window.batch(window_size + 1))\n",
        "  dataset = dataset.shuffle(shuffle_buffer).map(lambda window: (window[:-1], window[-1]))\n",
        "  dataset = dataset.batch(batch_size).prefetch(1)\n",
        "  return dataset"
      ],
      "execution_count": 5,
      "outputs": []
    },
    {
      "cell_type": "code",
      "metadata": {
        "id": "A1Hl39rklkLm",
        "colab": {
          "base_uri": "https://localhost:8080/"
        },
        "outputId": "b813854c-42c3-493e-94f9-98eac735ece6"
      },
      "source": [
        "tf.keras.backend.clear_session()\n",
        "tf.random.set_seed(51)\n",
        "np.random.seed(51)\n",
        "\n",
        "tf.keras.backend.clear_session()\n",
        "dataset = windowed_dataset(x_train, window_size, batch_size, shuffle_buffer_size)\n",
        "\n",
        "model = tf.keras.models.Sequential([\n",
        "  tf.keras.layers.Lambda(lambda x: tf.expand_dims(x, axis=-1),\n",
        "                      input_shape=[None]),\n",
        "    tf.keras.layers.Bidirectional(tf.keras.layers.LSTM(32, return_sequences=True)),\n",
        "  tf.keras.layers.Bidirectional(tf.keras.layers.LSTM(32)),\n",
        "  tf.keras.layers.Dense(1),\n",
        "  tf.keras.layers.Lambda(lambda x: x * 100.0)\n",
        "])\n",
        "\n",
        "lr_schedule = tf.keras.callbacks.LearningRateScheduler(\n",
        "    lambda epoch: 1e-8 * 10**(epoch / 20))\n",
        "optimizer = tf.keras.optimizers.SGD(learning_rate=1e-8, momentum=0.9)\n",
        "model.compile(loss=tf.keras.losses.Huber(),\n",
        "              optimizer=optimizer,\n",
        "              metrics=[\"mae\"])\n",
        "history = model.fit(dataset, epochs=100, callbacks=[lr_schedule])"
      ],
      "execution_count": 6,
      "outputs": [
        {
          "output_type": "stream",
          "name": "stdout",
          "text": [
            "Epoch 1/100\n",
            "31/31 [==============================] - 13s 34ms/step - loss: 21.5167 - mae: 22.0115 - lr: 1.0000e-08\n",
            "Epoch 2/100\n",
            "31/31 [==============================] - 1s 23ms/step - loss: 21.1522 - mae: 21.6444 - lr: 1.1220e-08\n",
            "Epoch 3/100\n",
            "31/31 [==============================] - 1s 23ms/step - loss: 20.7302 - mae: 21.2236 - lr: 1.2589e-08\n",
            "Epoch 4/100\n",
            "31/31 [==============================] - 1s 23ms/step - loss: 20.2834 - mae: 20.7757 - lr: 1.4125e-08\n",
            "Epoch 5/100\n",
            "31/31 [==============================] - 1s 23ms/step - loss: 19.7897 - mae: 20.2855 - lr: 1.5849e-08\n",
            "Epoch 6/100\n",
            "31/31 [==============================] - 1s 24ms/step - loss: 19.1782 - mae: 19.6696 - lr: 1.7783e-08\n",
            "Epoch 7/100\n",
            "31/31 [==============================] - 1s 23ms/step - loss: 18.2410 - mae: 18.7333 - lr: 1.9953e-08\n",
            "Epoch 8/100\n",
            "31/31 [==============================] - 1s 23ms/step - loss: 17.4825 - mae: 17.9748 - lr: 2.2387e-08\n",
            "Epoch 9/100\n",
            "31/31 [==============================] - 1s 23ms/step - loss: 17.1597 - mae: 17.6529 - lr: 2.5119e-08\n",
            "Epoch 10/100\n",
            "31/31 [==============================] - 1s 23ms/step - loss: 16.8547 - mae: 17.3463 - lr: 2.8184e-08\n",
            "Epoch 11/100\n",
            "31/31 [==============================] - 1s 22ms/step - loss: 16.5533 - mae: 17.0471 - lr: 3.1623e-08\n",
            "Epoch 12/100\n",
            "31/31 [==============================] - 1s 23ms/step - loss: 16.2565 - mae: 16.7524 - lr: 3.5481e-08\n",
            "Epoch 13/100\n",
            "31/31 [==============================] - 1s 23ms/step - loss: 15.9629 - mae: 16.4598 - lr: 3.9811e-08\n",
            "Epoch 14/100\n",
            "31/31 [==============================] - 1s 24ms/step - loss: 15.6593 - mae: 16.1548 - lr: 4.4668e-08\n",
            "Epoch 15/100\n",
            "31/31 [==============================] - 1s 22ms/step - loss: 15.3713 - mae: 15.8652 - lr: 5.0119e-08\n",
            "Epoch 16/100\n",
            "31/31 [==============================] - 1s 22ms/step - loss: 15.0752 - mae: 15.5697 - lr: 5.6234e-08\n",
            "Epoch 17/100\n",
            "31/31 [==============================] - 1s 22ms/step - loss: 14.7905 - mae: 15.2869 - lr: 6.3096e-08\n",
            "Epoch 18/100\n",
            "31/31 [==============================] - 1s 23ms/step - loss: 14.5229 - mae: 15.0178 - lr: 7.0795e-08\n",
            "Epoch 19/100\n",
            "31/31 [==============================] - 1s 24ms/step - loss: 14.2707 - mae: 14.7636 - lr: 7.9433e-08\n",
            "Epoch 20/100\n",
            "31/31 [==============================] - 1s 23ms/step - loss: 14.0293 - mae: 14.5217 - lr: 8.9125e-08\n",
            "Epoch 21/100\n",
            "31/31 [==============================] - 1s 23ms/step - loss: 13.8191 - mae: 14.3135 - lr: 1.0000e-07\n",
            "Epoch 22/100\n",
            "31/31 [==============================] - 1s 23ms/step - loss: 13.6084 - mae: 14.1032 - lr: 1.1220e-07\n",
            "Epoch 23/100\n",
            "31/31 [==============================] - 1s 22ms/step - loss: 13.4096 - mae: 13.9038 - lr: 1.2589e-07\n",
            "Epoch 24/100\n",
            "31/31 [==============================] - 1s 23ms/step - loss: 13.1859 - mae: 13.6794 - lr: 1.4125e-07\n",
            "Epoch 25/100\n",
            "31/31 [==============================] - 1s 23ms/step - loss: 12.9819 - mae: 13.4747 - lr: 1.5849e-07\n",
            "Epoch 26/100\n",
            "31/31 [==============================] - 1s 23ms/step - loss: 12.7278 - mae: 13.2184 - lr: 1.7783e-07\n",
            "Epoch 27/100\n",
            "31/31 [==============================] - 1s 23ms/step - loss: 12.4886 - mae: 12.9799 - lr: 1.9953e-07\n",
            "Epoch 28/100\n",
            "31/31 [==============================] - 1s 23ms/step - loss: 12.3459 - mae: 12.8362 - lr: 2.2387e-07\n",
            "Epoch 29/100\n",
            "31/31 [==============================] - 1s 24ms/step - loss: 11.9127 - mae: 12.4017 - lr: 2.5119e-07\n",
            "Epoch 30/100\n",
            "31/31 [==============================] - 1s 23ms/step - loss: 11.5934 - mae: 12.0835 - lr: 2.8184e-07\n",
            "Epoch 31/100\n",
            "31/31 [==============================] - 1s 22ms/step - loss: 11.2859 - mae: 11.7771 - lr: 3.1623e-07\n",
            "Epoch 32/100\n",
            "31/31 [==============================] - 1s 24ms/step - loss: 11.3520 - mae: 11.8418 - lr: 3.5481e-07\n",
            "Epoch 33/100\n",
            "31/31 [==============================] - 1s 23ms/step - loss: 10.5232 - mae: 11.0139 - lr: 3.9811e-07\n",
            "Epoch 34/100\n",
            "31/31 [==============================] - 1s 22ms/step - loss: 10.5497 - mae: 11.0379 - lr: 4.4668e-07\n",
            "Epoch 35/100\n",
            "31/31 [==============================] - 1s 23ms/step - loss: 10.0667 - mae: 10.5519 - lr: 5.0119e-07\n",
            "Epoch 36/100\n",
            "31/31 [==============================] - 1s 24ms/step - loss: 10.6445 - mae: 11.1369 - lr: 5.6234e-07\n",
            "Epoch 37/100\n",
            "31/31 [==============================] - 1s 23ms/step - loss: 10.2624 - mae: 10.7533 - lr: 6.3096e-07\n",
            "Epoch 38/100\n",
            "31/31 [==============================] - 1s 24ms/step - loss: 9.6822 - mae: 10.1703 - lr: 7.0795e-07\n",
            "Epoch 39/100\n",
            "31/31 [==============================] - 1s 23ms/step - loss: 9.1576 - mae: 9.6420 - lr: 7.9433e-07\n",
            "Epoch 40/100\n",
            "31/31 [==============================] - 1s 23ms/step - loss: 8.7008 - mae: 9.1866 - lr: 8.9125e-07\n",
            "Epoch 41/100\n",
            "31/31 [==============================] - 1s 23ms/step - loss: 8.2782 - mae: 8.7635 - lr: 1.0000e-06\n",
            "Epoch 42/100\n",
            "31/31 [==============================] - 1s 23ms/step - loss: 7.9342 - mae: 8.4188 - lr: 1.1220e-06\n",
            "Epoch 43/100\n",
            "31/31 [==============================] - 1s 23ms/step - loss: 7.6089 - mae: 8.0929 - lr: 1.2589e-06\n",
            "Epoch 44/100\n",
            "31/31 [==============================] - 1s 23ms/step - loss: 7.3643 - mae: 7.8504 - lr: 1.4125e-06\n",
            "Epoch 45/100\n",
            "31/31 [==============================] - 1s 22ms/step - loss: 7.2039 - mae: 7.6874 - lr: 1.5849e-06\n",
            "Epoch 46/100\n",
            "31/31 [==============================] - 1s 23ms/step - loss: 6.8901 - mae: 7.3726 - lr: 1.7783e-06\n",
            "Epoch 47/100\n",
            "31/31 [==============================] - 1s 24ms/step - loss: 6.6798 - mae: 7.1633 - lr: 1.9953e-06\n",
            "Epoch 48/100\n",
            "31/31 [==============================] - 1s 23ms/step - loss: 6.5776 - mae: 7.0597 - lr: 2.2387e-06\n",
            "Epoch 49/100\n",
            "31/31 [==============================] - 1s 23ms/step - loss: 6.2079 - mae: 6.6839 - lr: 2.5119e-06\n",
            "Epoch 50/100\n",
            "31/31 [==============================] - 1s 22ms/step - loss: 6.0391 - mae: 6.5180 - lr: 2.8184e-06\n",
            "Epoch 51/100\n",
            "31/31 [==============================] - 1s 22ms/step - loss: 5.9102 - mae: 6.3880 - lr: 3.1623e-06\n",
            "Epoch 52/100\n",
            "31/31 [==============================] - 1s 23ms/step - loss: 5.7769 - mae: 6.2585 - lr: 3.5481e-06\n",
            "Epoch 53/100\n",
            "31/31 [==============================] - 1s 24ms/step - loss: 5.6296 - mae: 6.1098 - lr: 3.9811e-06\n",
            "Epoch 54/100\n",
            "31/31 [==============================] - 1s 24ms/step - loss: 5.5201 - mae: 5.9943 - lr: 4.4668e-06\n",
            "Epoch 55/100\n",
            "31/31 [==============================] - 1s 23ms/step - loss: 5.3906 - mae: 5.8627 - lr: 5.0119e-06\n",
            "Epoch 56/100\n",
            "31/31 [==============================] - 1s 23ms/step - loss: 5.5555 - mae: 6.0293 - lr: 5.6234e-06\n",
            "Epoch 57/100\n",
            "31/31 [==============================] - 1s 23ms/step - loss: 5.2783 - mae: 5.7561 - lr: 6.3096e-06\n",
            "Epoch 58/100\n",
            "31/31 [==============================] - 1s 23ms/step - loss: 5.2566 - mae: 5.7348 - lr: 7.0795e-06\n",
            "Epoch 59/100\n",
            "31/31 [==============================] - 1s 23ms/step - loss: 5.1177 - mae: 5.5963 - lr: 7.9433e-06\n",
            "Epoch 60/100\n",
            "31/31 [==============================] - 1s 24ms/step - loss: 5.0499 - mae: 5.5242 - lr: 8.9125e-06\n",
            "Epoch 61/100\n",
            "31/31 [==============================] - 1s 24ms/step - loss: 5.3116 - mae: 5.7906 - lr: 1.0000e-05\n",
            "Epoch 62/100\n",
            "31/31 [==============================] - 1s 23ms/step - loss: 5.2180 - mae: 5.6976 - lr: 1.1220e-05\n",
            "Epoch 63/100\n",
            "31/31 [==============================] - 1s 23ms/step - loss: 5.0244 - mae: 5.4991 - lr: 1.2589e-05\n",
            "Epoch 64/100\n",
            "31/31 [==============================] - 1s 23ms/step - loss: 4.8398 - mae: 5.3145 - lr: 1.4125e-05\n",
            "Epoch 65/100\n",
            "31/31 [==============================] - 1s 24ms/step - loss: 5.2841 - mae: 5.7640 - lr: 1.5849e-05\n",
            "Epoch 66/100\n",
            "31/31 [==============================] - 1s 23ms/step - loss: 5.3670 - mae: 5.8503 - lr: 1.7783e-05\n",
            "Epoch 67/100\n",
            "31/31 [==============================] - 1s 23ms/step - loss: 6.1163 - mae: 6.5990 - lr: 1.9953e-05\n",
            "Epoch 68/100\n",
            "31/31 [==============================] - 1s 23ms/step - loss: 5.2426 - mae: 5.7265 - lr: 2.2387e-05\n",
            "Epoch 69/100\n",
            "31/31 [==============================] - 1s 23ms/step - loss: 5.4560 - mae: 5.9366 - lr: 2.5119e-05\n",
            "Epoch 70/100\n",
            "31/31 [==============================] - 1s 23ms/step - loss: 4.8432 - mae: 5.3157 - lr: 2.8184e-05\n",
            "Epoch 71/100\n",
            "31/31 [==============================] - 1s 24ms/step - loss: 5.7848 - mae: 6.2670 - lr: 3.1623e-05\n",
            "Epoch 72/100\n",
            "31/31 [==============================] - 1s 23ms/step - loss: 5.3587 - mae: 5.8369 - lr: 3.5481e-05\n",
            "Epoch 73/100\n",
            "31/31 [==============================] - 1s 24ms/step - loss: 6.8126 - mae: 7.2994 - lr: 3.9811e-05\n",
            "Epoch 74/100\n",
            "31/31 [==============================] - 1s 23ms/step - loss: 5.4282 - mae: 5.9097 - lr: 4.4668e-05\n",
            "Epoch 75/100\n",
            "31/31 [==============================] - 1s 24ms/step - loss: 5.3076 - mae: 5.7933 - lr: 5.0119e-05\n",
            "Epoch 76/100\n",
            "31/31 [==============================] - 1s 23ms/step - loss: 5.5871 - mae: 6.0675 - lr: 5.6234e-05\n",
            "Epoch 77/100\n",
            "31/31 [==============================] - 1s 23ms/step - loss: 6.6171 - mae: 7.1029 - lr: 6.3096e-05\n",
            "Epoch 78/100\n",
            "31/31 [==============================] - 1s 24ms/step - loss: 5.2884 - mae: 5.7677 - lr: 7.0795e-05\n",
            "Epoch 79/100\n",
            "31/31 [==============================] - 1s 23ms/step - loss: 5.5982 - mae: 6.0806 - lr: 7.9433e-05\n",
            "Epoch 80/100\n",
            "31/31 [==============================] - 1s 23ms/step - loss: 6.1222 - mae: 6.6106 - lr: 8.9125e-05\n",
            "Epoch 81/100\n",
            "31/31 [==============================] - 1s 24ms/step - loss: 5.7228 - mae: 6.2040 - lr: 1.0000e-04\n",
            "Epoch 82/100\n",
            "31/31 [==============================] - 1s 24ms/step - loss: 5.7146 - mae: 6.1948 - lr: 1.1220e-04\n",
            "Epoch 83/100\n",
            "31/31 [==============================] - 1s 23ms/step - loss: 8.3990 - mae: 8.8878 - lr: 1.2589e-04\n",
            "Epoch 84/100\n",
            "31/31 [==============================] - 1s 24ms/step - loss: 6.5331 - mae: 7.0151 - lr: 1.4125e-04\n",
            "Epoch 85/100\n",
            "31/31 [==============================] - 1s 23ms/step - loss: 6.4149 - mae: 6.8989 - lr: 1.5849e-04\n",
            "Epoch 86/100\n",
            "31/31 [==============================] - 1s 23ms/step - loss: 5.9365 - mae: 6.4169 - lr: 1.7783e-04\n",
            "Epoch 87/100\n",
            "31/31 [==============================] - 1s 24ms/step - loss: 7.6298 - mae: 8.1147 - lr: 1.9953e-04\n",
            "Epoch 88/100\n",
            "31/31 [==============================] - 1s 23ms/step - loss: 6.9368 - mae: 7.4228 - lr: 2.2387e-04\n",
            "Epoch 89/100\n",
            "31/31 [==============================] - 1s 24ms/step - loss: 5.3648 - mae: 5.8442 - lr: 2.5119e-04\n",
            "Epoch 90/100\n",
            "31/31 [==============================] - 1s 22ms/step - loss: 5.9020 - mae: 6.3853 - lr: 2.8184e-04\n",
            "Epoch 91/100\n",
            "31/31 [==============================] - 1s 24ms/step - loss: 7.4075 - mae: 7.8951 - lr: 3.1623e-04\n",
            "Epoch 92/100\n",
            "31/31 [==============================] - 1s 23ms/step - loss: 7.4241 - mae: 7.9097 - lr: 3.5481e-04\n",
            "Epoch 93/100\n",
            "31/31 [==============================] - 1s 23ms/step - loss: 9.9269 - mae: 10.4144 - lr: 3.9811e-04\n",
            "Epoch 94/100\n",
            "31/31 [==============================] - 1s 22ms/step - loss: 8.5425 - mae: 9.0275 - lr: 4.4668e-04\n",
            "Epoch 95/100\n",
            "31/31 [==============================] - 1s 24ms/step - loss: 8.7684 - mae: 9.2591 - lr: 5.0119e-04\n",
            "Epoch 96/100\n",
            "31/31 [==============================] - 1s 22ms/step - loss: 11.1982 - mae: 11.6925 - lr: 5.6234e-04\n",
            "Epoch 97/100\n",
            "31/31 [==============================] - 1s 22ms/step - loss: 11.1069 - mae: 11.5968 - lr: 6.3096e-04\n",
            "Epoch 98/100\n",
            "31/31 [==============================] - 1s 24ms/step - loss: 9.1623 - mae: 9.6537 - lr: 7.0795e-04\n",
            "Epoch 99/100\n",
            "31/31 [==============================] - 1s 22ms/step - loss: 12.4224 - mae: 12.9161 - lr: 7.9433e-04\n",
            "Epoch 100/100\n",
            "31/31 [==============================] - 1s 22ms/step - loss: 11.5809 - mae: 12.0707 - lr: 8.9125e-04\n"
          ]
        }
      ]
    },
    {
      "cell_type": "code",
      "metadata": {
        "id": "AkBsrsXMzoWR",
        "colab": {
          "base_uri": "https://localhost:8080/",
          "height": 290
        },
        "outputId": "1ae1e718-d167-4462-d4fc-0c06a6344111"
      },
      "source": [
        "plt.semilogx(history.history[\"lr\"], history.history[\"loss\"])\n",
        "plt.axis([1e-8, 1e-4, 0, 30])"
      ],
      "execution_count": 7,
      "outputs": [
        {
          "output_type": "execute_result",
          "data": {
            "text/plain": [
              "(1e-08, 0.0001, 0.0, 30.0)"
            ]
          },
          "metadata": {},
          "execution_count": 7
        },
        {
          "output_type": "display_data",
          "data": {
            "image/png": "[encoded data removed]",
            "text/plain": [
              "<Figure size 432x288 with 1 Axes>"
            ]
          },
          "metadata": {
            "needs_background": "light"
          }
        }
      ]
    },
    {
      "cell_type": "code",
      "metadata": {
        "id": "4uh-97bpLZCA"
      },
      "source": [
        "# This code block will take some time to run.\n",
        "# But it will run in the background, without displaying/printing \n",
        "# the information about the number of epochs.\n",
        "\n",
        "\n",
        "tf.keras.backend.clear_session()\n",
        "tf.random.set_seed(51)\n",
        "np.random.seed(51)\n",
        "\n",
        "tf.keras.backend.clear_session()\n",
        "dataset = windowed_dataset(x_train, window_size, batch_size, shuffle_buffer_size)\n",
        "\n",
        "model = tf.keras.models.Sequential([\n",
        "  tf.keras.layers.Lambda(lambda x: tf.expand_dims(x, axis=-1),\n",
        "                      input_shape=[None]),\n",
        "   tf.keras.layers.Bidirectional(tf.keras.layers.LSTM(32, return_sequences=True)),\n",
        "  tf.keras.layers.Bidirectional(tf.keras.layers.LSTM(32)),\n",
        "  tf.keras.layers.Dense(1),\n",
        "  tf.keras.layers.Lambda(lambda x: x * 100.0)\n",
        "])\n",
        "\n",
        "\n",
        "model.compile(loss=\"mse\", optimizer=tf.keras.optimizers.SGD(learning_rate=1e-5, momentum=0.9),metrics=[\"mae\"])\n",
        "history = model.fit(dataset,epochs=500,verbose=0)"
      ],
      "execution_count": 8,
      "outputs": []
    },
    {
      "cell_type": "code",
      "metadata": {
        "id": "icGDaND7z0ne",
        "colab": {
          "base_uri": "https://localhost:8080/",
          "height": 388
        },
        "outputId": "f7b88637-ea2e-4637-e324-56573d0ca3bb"
      },
      "source": [
        "forecast = []\n",
        "results = []\n",
        "for time in range(len(series) - window_size):\n",
        "  forecast.append(model.predict(series[time:time + window_size][np.newaxis]))\n",
        "\n",
        "forecast = forecast[split_time-window_size:]\n",
        "results = np.array(forecast)[:, 0, 0]\n",
        "\n",
        "\n",
        "plt.figure(figsize=(10, 6))\n",
        "\n",
        "plot_series(time_valid, x_valid)\n",
        "plot_series(time_valid, results)"
      ],
      "execution_count": 9,
      "outputs": [
        {
          "output_type": "display_data",
          "data": {
            "image/png": "[encoded data removed]",
            "text/plain": [
              "<Figure size 720x432 with 1 Axes>"
            ]
          },
          "metadata": {
            "needs_background": "light"
          }
        }
      ]
    },
    {
      "cell_type": "code",
      "metadata": {
        "id": "KfPeqI7rz4LD",
        "colab": {
          "base_uri": "https://localhost:8080/"
        },
        "outputId": "b3d691bc-716e-47bc-e7e0-3d5e6c20fecb"
      },
      "source": [
        "tf.keras.metrics.mean_absolute_error(x_valid, results).numpy()"
      ],
      "execution_count": 10,
      "outputs": [
        {
          "output_type": "execute_result",
          "data": {
            "text/plain": [
              "5.5512533"
            ]
          },
          "metadata": {},
          "execution_count": 10
        }
      ]
    },
    {
      "cell_type": "code",
      "metadata": {
        "id": "JUsdZB_tzDLe",
        "colab": {
          "base_uri": "https://localhost:8080/",
          "height": 607
        },
        "outputId": "b2b732dc-3931-4e6e-a03b-08ed86010f55"
      },
      "source": [
        "import matplotlib.image  as mpimg\n",
        "import matplotlib.pyplot as plt\n",
        "\n",
        "#-----------------------------------------------------------\n",
        "# Retrieve a list of list results on training and test data\n",
        "# sets for each training epoch\n",
        "#-----------------------------------------------------------\n",
        "mae=history.history['mae']\n",
        "loss=history.history['loss']\n",
        "\n",
        "epochs=range(len(loss)) # Get number of epochs\n",
        "\n",
        "#------------------------------------------------\n",
        "# Plot MAE and Loss\n",
        "#------------------------------------------------\n",
        "plt.plot(epochs, mae, 'r')\n",
        "plt.plot(epochs, loss, 'b')\n",
        "plt.title('MAE and Loss')\n",
        "plt.xlabel(\"Epochs\")\n",
        "plt.ylabel(\"Accuracy\")\n",
        "plt.legend([\"MAE\", \"Loss\"])\n",
        "\n",
        "plt.figure()\n",
        "\n",
        "epochs_zoom = epochs[200:]\n",
        "mae_zoom = mae[200:]\n",
        "loss_zoom = loss[200:]\n",
        "\n",
        "#------------------------------------------------\n",
        "# Plot Zoomed MAE and Loss\n",
        "#------------------------------------------------\n",
        "plt.plot(epochs_zoom, mae_zoom, 'r')\n",
        "plt.plot(epochs_zoom, loss_zoom, 'b')\n",
        "plt.title('MAE and Loss')\n",
        "plt.xlabel(\"Epochs\")\n",
        "plt.ylabel(\"Accuracy\")\n",
        "plt.legend([\"MAE\", \"Loss\"])\n",
        "\n",
        "plt.figure()"
      ],
      "execution_count": 11,
      "outputs": [
        {
          "output_type": "execute_result",
          "data": {
            "text/plain": [
              "<Figure size 432x288 with 0 Axes>"
            ]
          },
          "metadata": {},
          "execution_count": 11
        },
        {
          "output_type": "display_data",
          "data": {
            "image/png": "[encoded data removed]",
            "text/plain": [
              "<Figure size 432x288 with 1 Axes>"
            ]
          },
          "metadata": {
            "needs_background": "light"
          }
        },
        {
          "output_type": "display_data",
          "data": {
            "image/png": "[encoded data removed]",
            "text/plain": [
              "<Figure size 432x288 with 1 Axes>"
            ]
          },
          "metadata": {
            "needs_background": "light"
          }
        },
        {
          "output_type": "display_data",
          "data": {
            "text/plain": [
              "<Figure size 432x288 with 0 Axes>"
            ]
          },
          "metadata": {}
        }
      ]
    },
    {
      "cell_type": "code",
      "metadata": {
        "id": "3CGaYFxXNEAK",
        "colab": {
          "base_uri": "https://localhost:8080/"
        },
        "outputId": "ff96f8b2-fc13-49b4-a277-120a59b2dce8"
      },
      "source": [
        "# This code block will take some time to run.\n",
        "# But it will run in the background, without displaying/printing \n",
        "# the information about the number of epochs.\n",
        "\n",
        "tf.keras.backend.clear_session()\n",
        "dataset = windowed_dataset(x_train, window_size, batch_size, shuffle_buffer_size)\n",
        "\n",
        "model = tf.keras.models.Sequential([\n",
        "  tf.keras.layers.Lambda(lambda x: tf.expand_dims(x, axis=-1),\n",
        "                      input_shape=[None]),\n",
        "  tf.keras.layers.Bidirectional(tf.keras.layers.LSTM(32, return_sequences=True)),\n",
        "  tf.keras.layers.Bidirectional(tf.keras.layers.LSTM(32)),\n",
        "  tf.keras.layers.Dense(1),\n",
        "  tf.keras.layers.Lambda(lambda x: x * 100.0)\n",
        "])\n",
        "\n",
        "\n",
        "model.compile(loss=\"mse\", optimizer=tf.keras.optimizers.SGD(learning_rate=1e-6, momentum=0.9))\n",
        "model.fit(dataset,epochs=100, verbose=0)"
      ],
      "execution_count": 12,
      "outputs": [
        {
          "output_type": "execute_result",
          "data": {
            "text/plain": [
              "<keras.callbacks.History at 0x7f6338e88050>"
            ]
          },
          "metadata": {},
          "execution_count": 12
        }
      ]
    },
    {
      "cell_type": "code",
      "metadata": {
        "id": "FJ3R8ysauz9e",
        "colab": {
          "base_uri": "https://localhost:8080/"
        },
        "outputId": "d7c88070-488c-41b0-a4dc-2f130ec96802"
      },
      "source": [
        "tf.keras.backend.clear_session()\n",
        "dataset = windowed_dataset(x_train, window_size, batch_size, shuffle_buffer_size)\n",
        "\n",
        "model = tf.keras.models.Sequential([\n",
        "  tf.keras.layers.Lambda(lambda x: tf.expand_dims(x, axis=-1),\n",
        "                      input_shape=[None]),\n",
        "  tf.keras.layers.Bidirectional(tf.keras.layers.LSTM(32, return_sequences=True)),\n",
        "  tf.keras.layers.Bidirectional(tf.keras.layers.LSTM(32, return_sequences=True)),\n",
        "  tf.keras.layers.Bidirectional(tf.keras.layers.LSTM(32)),\n",
        "  tf.keras.layers.Dense(1),\n",
        "  tf.keras.layers.Lambda(lambda x: x * 100.0)\n",
        "])\n",
        "\n",
        "\n",
        "model.compile(loss=\"mse\", optimizer=tf.keras.optimizers.SGD(learning_rate=1e-6, momentum=0.9))\n",
        "model.fit(dataset,epochs=100)"
      ],
      "execution_count": 13,
      "outputs": [
        {
          "output_type": "stream",
          "name": "stdout",
          "text": [
            "Epoch 1/100\n",
            "31/31 [==============================] - 11s 34ms/step - loss: 755.7014\n",
            "Epoch 2/100\n",
            "31/31 [==============================] - 1s 33ms/step - loss: 152.7784\n",
            "Epoch 3/100\n",
            "31/31 [==============================] - 1s 33ms/step - loss: 97.9761\n",
            "Epoch 4/100\n",
            "31/31 [==============================] - 1s 33ms/step - loss: 83.2915\n",
            "Epoch 5/100\n",
            "31/31 [==============================] - 1s 34ms/step - loss: 78.2600\n",
            "Epoch 6/100\n",
            "31/31 [==============================] - 1s 33ms/step - loss: 73.4347\n",
            "Epoch 7/100\n",
            "31/31 [==============================] - 1s 33ms/step - loss: 67.8632\n",
            "Epoch 8/100\n",
            "31/31 [==============================] - 1s 33ms/step - loss: 74.5354\n",
            "Epoch 9/100\n",
            "31/31 [==============================] - 1s 34ms/step - loss: 73.1458\n",
            "Epoch 10/100\n",
            "31/31 [==============================] - 1s 34ms/step - loss: 63.4809\n",
            "Epoch 11/100\n",
            "31/31 [==============================] - 1s 33ms/step - loss: 60.9757\n",
            "Epoch 12/100\n",
            "31/31 [==============================] - 1s 32ms/step - loss: 57.7044\n",
            "Epoch 13/100\n",
            "31/31 [==============================] - 1s 33ms/step - loss: 62.4454\n",
            "Epoch 14/100\n",
            "31/31 [==============================] - 1s 33ms/step - loss: 56.6497\n",
            "Epoch 15/100\n",
            "31/31 [==============================] - 1s 33ms/step - loss: 53.2329\n",
            "Epoch 16/100\n",
            "31/31 [==============================] - 1s 34ms/step - loss: 65.0537\n",
            "Epoch 17/100\n",
            "31/31 [==============================] - 1s 33ms/step - loss: 58.6710\n",
            "Epoch 18/100\n",
            "31/31 [==============================] - 1s 34ms/step - loss: 60.0726\n",
            "Epoch 19/100\n",
            "31/31 [==============================] - 1s 33ms/step - loss: 56.1999\n",
            "Epoch 20/100\n",
            "31/31 [==============================] - 1s 33ms/step - loss: 55.7785\n",
            "Epoch 21/100\n",
            "31/31 [==============================] - 1s 33ms/step - loss: 51.2687\n",
            "Epoch 22/100\n",
            "31/31 [==============================] - 1s 33ms/step - loss: 54.9552\n",
            "Epoch 23/100\n",
            "31/31 [==============================] - 1s 33ms/step - loss: 51.5538\n",
            "Epoch 24/100\n",
            "31/31 [==============================] - 1s 33ms/step - loss: 55.4753\n",
            "Epoch 25/100\n",
            "31/31 [==============================] - 1s 34ms/step - loss: 48.4559\n",
            "Epoch 26/100\n",
            "31/31 [==============================] - 1s 33ms/step - loss: 54.2121\n",
            "Epoch 27/100\n",
            "31/31 [==============================] - 1s 34ms/step - loss: 54.4619\n",
            "Epoch 28/100\n",
            "31/31 [==============================] - 1s 34ms/step - loss: 54.1912\n",
            "Epoch 29/100\n",
            "31/31 [==============================] - 1s 33ms/step - loss: 48.2903\n",
            "Epoch 30/100\n",
            "31/31 [==============================] - 1s 34ms/step - loss: 49.6825\n",
            "Epoch 31/100\n",
            "31/31 [==============================] - 1s 34ms/step - loss: 53.0422\n",
            "Epoch 32/100\n",
            "31/31 [==============================] - 1s 34ms/step - loss: 56.4042\n",
            "Epoch 33/100\n",
            "31/31 [==============================] - 1s 33ms/step - loss: 47.9185\n",
            "Epoch 34/100\n",
            "31/31 [==============================] - 1s 33ms/step - loss: 50.2060\n",
            "Epoch 35/100\n",
            "31/31 [==============================] - 1s 33ms/step - loss: 48.2373\n",
            "Epoch 36/100\n",
            "31/31 [==============================] - 1s 34ms/step - loss: 47.5874\n",
            "Epoch 37/100\n",
            "31/31 [==============================] - 1s 33ms/step - loss: 53.0302\n",
            "Epoch 38/100\n",
            "31/31 [==============================] - 1s 34ms/step - loss: 47.7121\n",
            "Epoch 39/100\n",
            "31/31 [==============================] - 1s 33ms/step - loss: 47.2859\n",
            "Epoch 40/100\n",
            "31/31 [==============================] - 1s 32ms/step - loss: 48.6493\n",
            "Epoch 41/100\n",
            "31/31 [==============================] - 1s 33ms/step - loss: 46.0403\n",
            "Epoch 42/100\n",
            "31/31 [==============================] - 1s 33ms/step - loss: 49.4847\n",
            "Epoch 43/100\n",
            "31/31 [==============================] - 1s 33ms/step - loss: 48.2804\n",
            "Epoch 44/100\n",
            "31/31 [==============================] - 1s 33ms/step - loss: 51.2779\n",
            "Epoch 45/100\n",
            "31/31 [==============================] - 1s 33ms/step - loss: 48.2863\n",
            "Epoch 46/100\n",
            "31/31 [==============================] - 1s 33ms/step - loss: 51.8344\n",
            "Epoch 47/100\n",
            "31/31 [==============================] - 1s 33ms/step - loss: 49.9795\n",
            "Epoch 48/100\n",
            "31/31 [==============================] - 1s 33ms/step - loss: 45.3264\n",
            "Epoch 49/100\n",
            "31/31 [==============================] - 1s 33ms/step - loss: 45.0664\n",
            "Epoch 50/100\n",
            "31/31 [==============================] - 1s 34ms/step - loss: 45.8870\n",
            "Epoch 51/100\n",
            "31/31 [==============================] - 1s 33ms/step - loss: 49.2073\n",
            "Epoch 52/100\n",
            "31/31 [==============================] - 1s 34ms/step - loss: 50.4170\n",
            "Epoch 53/100\n",
            "31/31 [==============================] - 1s 33ms/step - loss: 50.7224\n",
            "Epoch 54/100\n",
            "31/31 [==============================] - 1s 34ms/step - loss: 44.6063\n",
            "Epoch 55/100\n",
            "31/31 [==============================] - 1s 33ms/step - loss: 47.2966\n",
            "Epoch 56/100\n",
            "31/31 [==============================] - 1s 33ms/step - loss: 46.8540\n",
            "Epoch 57/100\n",
            "31/31 [==============================] - 1s 34ms/step - loss: 46.1015\n",
            "Epoch 58/100\n",
            "31/31 [==============================] - 1s 33ms/step - loss: 45.2351\n",
            "Epoch 59/100\n",
            "31/31 [==============================] - 1s 33ms/step - loss: 45.4370\n",
            "Epoch 60/100\n",
            "31/31 [==============================] - 1s 34ms/step - loss: 46.3429\n",
            "Epoch 61/100\n",
            "31/31 [==============================] - 1s 33ms/step - loss: 46.9665\n",
            "Epoch 62/100\n",
            "31/31 [==============================] - 1s 33ms/step - loss: 46.5664\n",
            "Epoch 63/100\n",
            "31/31 [==============================] - 1s 33ms/step - loss: 45.2381\n",
            "Epoch 64/100\n",
            "31/31 [==============================] - 1s 33ms/step - loss: 45.0082\n",
            "Epoch 65/100\n",
            "31/31 [==============================] - 1s 33ms/step - loss: 44.2408\n",
            "Epoch 66/100\n",
            "31/31 [==============================] - 1s 34ms/step - loss: 43.7104\n",
            "Epoch 67/100\n",
            "31/31 [==============================] - 1s 33ms/step - loss: 44.6086\n",
            "Epoch 68/100\n",
            "31/31 [==============================] - 1s 33ms/step - loss: 48.9862\n",
            "Epoch 69/100\n",
            "31/31 [==============================] - 1s 33ms/step - loss: 49.3742\n",
            "Epoch 70/100\n",
            "31/31 [==============================] - 1s 33ms/step - loss: 48.0163\n",
            "Epoch 71/100\n",
            "31/31 [==============================] - 1s 33ms/step - loss: 43.7251\n",
            "Epoch 72/100\n",
            "31/31 [==============================] - 1s 34ms/step - loss: 46.3182\n",
            "Epoch 73/100\n",
            "31/31 [==============================] - 1s 33ms/step - loss: 45.2350\n",
            "Epoch 74/100\n",
            "31/31 [==============================] - 1s 34ms/step - loss: 43.9390\n",
            "Epoch 75/100\n",
            "31/31 [==============================] - 1s 34ms/step - loss: 45.4765\n",
            "Epoch 76/100\n",
            "31/31 [==============================] - 1s 34ms/step - loss: 46.1003\n",
            "Epoch 77/100\n",
            "31/31 [==============================] - 1s 34ms/step - loss: 45.5499\n",
            "Epoch 78/100\n",
            "31/31 [==============================] - 1s 33ms/step - loss: 44.7749\n",
            "Epoch 79/100\n",
            "31/31 [==============================] - 1s 34ms/step - loss: 44.7592\n",
            "Epoch 80/100\n",
            "31/31 [==============================] - 1s 33ms/step - loss: 51.3417\n",
            "Epoch 81/100\n",
            "31/31 [==============================] - 1s 33ms/step - loss: 53.4107\n",
            "Epoch 82/100\n",
            "31/31 [==============================] - 1s 33ms/step - loss: 45.4838\n",
            "Epoch 83/100\n",
            "31/31 [==============================] - 1s 33ms/step - loss: 45.8837\n",
            "Epoch 84/100\n",
            "31/31 [==============================] - 1s 33ms/step - loss: 46.3762\n",
            "Epoch 85/100\n",
            "31/31 [==============================] - 1s 33ms/step - loss: 44.9510\n",
            "Epoch 86/100\n",
            "31/31 [==============================] - 1s 33ms/step - loss: 43.7665\n",
            "Epoch 87/100\n",
            "31/31 [==============================] - 1s 33ms/step - loss: 51.7506\n",
            "Epoch 88/100\n",
            "31/31 [==============================] - 1s 33ms/step - loss: 46.2335\n",
            "Epoch 89/100\n",
            "31/31 [==============================] - 1s 33ms/step - loss: 48.7304\n",
            "Epoch 90/100\n",
            "31/31 [==============================] - 1s 33ms/step - loss: 45.3579\n",
            "Epoch 91/100\n",
            "31/31 [==============================] - 1s 33ms/step - loss: 53.3695\n",
            "Epoch 92/100\n",
            "31/31 [==============================] - 1s 33ms/step - loss: 44.1400\n",
            "Epoch 93/100\n",
            "31/31 [==============================] - 1s 34ms/step - loss: 43.6139\n",
            "Epoch 94/100\n",
            "31/31 [==============================] - 1s 35ms/step - loss: 46.2337\n",
            "Epoch 95/100\n",
            "31/31 [==============================] - 1s 33ms/step - loss: 44.8032\n",
            "Epoch 96/100\n",
            "31/31 [==============================] - 1s 33ms/step - loss: 44.4877\n",
            "Epoch 97/100\n",
            "31/31 [==============================] - 1s 34ms/step - loss: 44.1544\n",
            "Epoch 98/100\n",
            "31/31 [==============================] - 1s 33ms/step - loss: 44.8083\n",
            "Epoch 99/100\n",
            "31/31 [==============================] - 1s 34ms/step - loss: 45.3499\n",
            "Epoch 100/100\n",
            "31/31 [==============================] - 1s 34ms/step - loss: 46.9555\n"
          ]
        },
        {
          "output_type": "execute_result",
          "data": {
            "text/plain": [
              "<keras.callbacks.History at 0x7f6338e5af50>"
            ]
          },
          "metadata": {},
          "execution_count": 13
        }
      ]
    }
  ]
}